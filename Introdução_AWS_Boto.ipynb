{
  "nbformat": 4,
  "nbformat_minor": 0,
  "metadata": {
    "colab": {
      "name": "Introdução AWS Boto.ipynb",
      "version": "0.3.2",
      "provenance": [],
      "include_colab_link": true
    },
    "kernelspec": {
      "name": "python3",
      "display_name": "Python 3"
    }
  },
  "cells": [
    {
      "cell_type": "markdown",
      "metadata": {
        "id": "view-in-github",
        "colab_type": "text"
      },
      "source": [
        "<a href=\"https://colab.research.google.com/github/MarcelaMonteiroMontenegroGallo/Python/blob/master/Introdu%C3%A7%C3%A3o_AWS_Boto.ipynb\" target=\"_parent\"><img src=\"https://colab.research.google.com/assets/colab-badge.svg\" alt=\"Open In Colab\"/></a>"
      ]
    },
    {
      "cell_type": "markdown",
      "metadata": {
        "id": "PYyO-a_sIePP",
        "colab_type": "text"
      },
      "source": [
        "\n",
        "**Boto AWS**\n",
        "\n"
      ]
    },
    {
      "cell_type": "code",
      "metadata": {
        "id": "hi1DagQuIyce",
        "colab_type": "code",
        "colab": {}
      },
      "source": [
        "import boto3"
      ],
      "execution_count": 0,
      "outputs": []
    },
    {
      "cell_type": "markdown",
      "metadata": {
        "id": "EZuOBvT8I7Kk",
        "colab_type": "text"
      },
      "source": [
        "Initialize  Client\n"
      ]
    },
    {
      "cell_type": "code",
      "metadata": {
        "id": "pAprE3jVIa4i",
        "colab_type": "code",
        "colab": {}
      },
      "source": [
        "s3 = boto3.client('s3' ,\n",
        "                 region_name= 'us- east- 1' ,\n",
        "                 aws_access_key_id = '',\n",
        "                 aws_secret_access_key = '')"
      ],
      "execution_count": 0,
      "outputs": []
    },
    {
      "cell_type": "markdown",
      "metadata": {
        "id": "4r7WFr41JZ44",
        "colab_type": "text"
      },
      "source": [
        "Listar buckets\n"
      ]
    },
    {
      "cell_type": "code",
      "metadata": {
        "id": "RgC986iTHt0F",
        "colab_type": "code",
        "colab": {}
      },
      "source": [
        "response = s3.list_buckets()"
      ],
      "execution_count": 0,
      "outputs": []
    },
    {
      "cell_type": "markdown",
      "metadata": {
        "id": "DUUCucS3zjdx",
        "colab_type": "text"
      },
      "source": [
        ""
      ]
    },
    {
      "cell_type": "code",
      "metadata": {
        "id": "o0S-D4iczjF8",
        "colab_type": "code",
        "colab": {}
      },
      "source": [
        ""
      ],
      "execution_count": 0,
      "outputs": []
    }
  ]
}