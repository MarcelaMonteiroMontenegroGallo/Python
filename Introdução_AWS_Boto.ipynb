{
  "nbformat": 4,
  "nbformat_minor": 0,
  "metadata": {
    "colab": {
      "name": "Introdução AWS Boto.ipynb",
      "version": "0.3.2",
      "provenance": [],
      "collapsed_sections": [],
      "include_colab_link": true
    },
    "kernelspec": {
      "name": "python3",
      "display_name": "Python 3"
    }
  },
  "cells": [
    {
      "cell_type": "markdown",
      "metadata": {
        "id": "view-in-github",
        "colab_type": "text"
      },
      "source": [
        "<a href=\"https://colab.research.google.com/github/MarcelaMonteiroMontenegroGallo/Python/blob/master/Introdu%C3%A7%C3%A3o_AWS_Boto.ipynb\" target=\"_parent\"><img src=\"https://colab.research.google.com/assets/colab-badge.svg\" alt=\"Open In Colab\"/></a>"
      ]
    },
    {
      "cell_type": "markdown",
      "metadata": {
        "id": "PYyO-a_sIePP",
        "colab_type": "text"
      },
      "source": [
        "\n",
        "**Boto AWS**\n",
        "\n"
      ]
    },
    {
      "cell_type": "code",
      "metadata": {
        "id": "hi1DagQuIyce",
        "colab_type": "code",
        "colab": {}
      },
      "source": [
        "import boto3"
      ],
      "execution_count": 0,
      "outputs": []
    },
    {
      "cell_type": "markdown",
      "metadata": {
        "id": "EZuOBvT8I7Kk",
        "colab_type": "text"
      },
      "source": [
        "Initialize  Client\n"
      ]
    },
    {
      "cell_type": "code",
      "metadata": {
        "id": "pAprE3jVIa4i",
        "colab_type": "code",
        "colab": {}
      },
      "source": [
        "s3 = boto3.client('s3' ,\n",
        "                 region_name= 'us- east- 1' ,\n",
        "                 aws_access_key_id = '',\n",
        "                 aws_secret_access_key = '')"
      ],
      "execution_count": 0,
      "outputs": []
    },
    {
      "cell_type": "markdown",
      "metadata": {
        "id": "4r7WFr41JZ44",
        "colab_type": "text"
      },
      "source": [
        "Listar buckets\n"
      ]
    },
    {
      "cell_type": "code",
      "metadata": {
        "id": "RgC986iTHt0F",
        "colab_type": "code",
        "colab": {}
      },
      "source": [
        "response = s3.list_buckets()"
      ],
      "execution_count": 0,
      "outputs": []
    },
    {
      "cell_type": "markdown",
      "metadata": {
        "id": "DUUCucS3zjdx",
        "colab_type": "text"
      },
      "source": [
        "\n",
        "\n",
        "> Criar buckets \n",
        "\n"
      ]
    },
    {
      "cell_type": "code",
      "metadata": {
        "id": "o0S-D4iczjF8",
        "colab_type": "code",
        "colab": {}
      },
      "source": [
        "response_test = s3.create_bucket(Bucket='gim-test')"
      ],
      "execution_count": 0,
      "outputs": []
    },
    {
      "cell_type": "markdown",
      "metadata": {
        "id": "2eHCcsjTP3Yp",
        "colab_type": "text"
      },
      "source": [
        "Imprimir "
      ]
    },
    {
      "cell_type": "code",
      "metadata": {
        "id": "HYDi98IeP7Jo",
        "colab_type": "code",
        "colab": {}
      },
      "source": [
        "print(response_staging)"
      ],
      "execution_count": 0,
      "outputs": []
    },
    {
      "cell_type": "markdown",
      "metadata": {
        "id": "VyRRw4ryRN5l",
        "colab_type": "text"
      },
      "source": [
        "lista  cada nome dos buckets\n"
      ]
    },
    {
      "cell_type": "code",
      "metadata": {
        "id": "OreRI-XIRD13",
        "colab_type": "code",
        "colab": {}
      },
      "source": [
        "for bucket in response['Buckets']:\n",
        "     print(bucket['Name'])\n",
        " "
      ],
      "execution_count": 0,
      "outputs": []
    },
    {
      "cell_type": "markdown",
      "metadata": {
        "id": "pQixfi47RU9e",
        "colab_type": "text"
      },
      "source": [
        "Deletar Buckets"
      ]
    },
    {
      "cell_type": "code",
      "metadata": {
        "id": "DJewVqlMRG8M",
        "colab_type": "code",
        "colab": {}
      },
      "source": [
        "s3.delete_bucket(Bucket ='gim-test')"
      ],
      "execution_count": 0,
      "outputs": []
    },
    {
      "cell_type": "code",
      "metadata": {
        "id": "FovFbFYNRwQx",
        "colab_type": "code",
        "colab": {}
      },
      "source": [
        "for bucket in response['Buckets']:\n",
        "  if 'gim' in bucket['Name']:\n",
        "      s3.delete_bucket(Bucket=bucket['Name'])"
      ],
      "execution_count": 0,
      "outputs": []
    },
    {
      "cell_type": "code",
      "metadata": {
        "id": "TfbrerE5irNx",
        "colab_type": "code",
        "colab": {}
      },
      "source": [
        "# List only objects that start with '2018/final_'\n",
        "response = s3.list_objects(Bucket='gid-staging', \n",
        "                           Prefix='2018/final_')\n",
        "\n",
        "# Iterate over the objects\n",
        "if 'Contents' in response:\n",
        "  for obj in response['Contents']:\n",
        "      # Delete the object\n",
        "      s3.delete_object(Bucket='gid-staging', Key=obj['Key'])\n",
        "\n",
        "# Print the keys of remaining objects in the bucket\n",
        "response = s3.list_objects(Bucket ='gid-staging')\n",
        "\n",
        "for obj in response['Contents']:\n",
        "  \tprint(obj['Key'])"
      ],
      "execution_count": 0,
      "outputs": []
    },
    {
      "cell_type": "markdown",
      "metadata": {
        "id": "LT5tJtf4TTaB",
        "colab_type": "text"
      },
      "source": [
        "Uploading Files "
      ]
    },
    {
      "cell_type": "code",
      "metadata": {
        "id": "8m0umMuJTtJH",
        "colab_type": "code",
        "colab": {}
      },
      "source": [
        "S3.ipload_file(\n",
        "Filename='git_request_2019_01_01.csv'\n",
        "Bucket = 'git-requests',\n",
        "Key= ''git_requests-2019_01_01.csv')"
      ],
      "execution_count": 0,
      "outputs": []
    },
    {
      "cell_type": "markdown",
      "metadata": {
        "id": "WnHJkovLUcXO",
        "colab_type": "text"
      },
      "source": [
        "Listing Objects in a Bucket"
      ]
    },
    {
      "cell_type": "code",
      "metadata": {
        "id": "3YrBStmMUk9x",
        "colab_type": "code",
        "colab": {}
      },
      "source": [
        "response =s3.list_objects( \n",
        "Bucket ='git-request'),\n",
        "MaxKeys= 2,\n",
        "Prefix = 'git_request_2019_')\n",
        "print reponse \n"
      ],
      "execution_count": 0,
      "outputs": []
    },
    {
      "cell_type": "markdown",
      "metadata": {
        "id": "5D9SdARCVImD",
        "colab_type": "text"
      },
      "source": [
        "Listar os Metadados\n"
      ]
    },
    {
      "cell_type": "code",
      "metadata": {
        "id": "lo5GVoEAVv0Y",
        "colab_type": "code",
        "colab": {}
      },
      "source": [
        "s3.download_file(\n",
        "Filename='gid_request_downed.csv' ,\n",
        "Bucket='gid-requests',\n",
        "Key= 'gid_requests-2018_12_30.csv')"
      ],
      "execution_count": 0,
      "outputs": []
    },
    {
      "cell_type": "markdown",
      "metadata": {
        "id": "m3MtIVsZVqDB",
        "colab_type": "text"
      },
      "source": [
        "Download Files "
      ]
    },
    {
      "cell_type": "code",
      "metadata": {
        "id": "-KYPmhdDVOCk",
        "colab_type": "code",
        "colab": {}
      },
      "source": [
        "reponse = s3.head_object(\n",
        "Bucket ='gid-request',\n",
        "Key ='gid_request_2018_12_30.csv')\n",
        "\n",
        "print response \n"
      ],
      "execution_count": 0,
      "outputs": []
    },
    {
      "cell_type": "markdown",
      "metadata": {
        "id": "rAW5ADAoWXnY",
        "colab_type": "text"
      },
      "source": [
        "Summary"
      ]
    },
    {
      "cell_type": "code",
      "metadata": {
        "id": "GG6_Wk65Wd0s",
        "colab_type": "code",
        "colab": {}
      },
      "source": [
        "boto3.client()\n",
        "s3.upload_file()\n",
        "s3.list_objetcs()\n",
        "s3.head_object()\n",
        "s3.download_file()\n",
        "s3_delete_object()\n"
      ],
      "execution_count": 0,
      "outputs": []
    },
    {
      "cell_type": "markdown",
      "metadata": {
        "id": "m1VuHmMhiyGF",
        "colab_type": "text"
      },
      "source": [
        ""
      ]
    },
    {
      "cell_type": "markdown",
      "metadata": {
        "id": "aop1wf2mgnqD",
        "colab_type": "text"
      },
      "source": [
        "Imprima o tamanho do arquivo\n"
      ]
    },
    {
      "cell_type": "code",
      "metadata": {
        "id": "yv67mknzgsQJ",
        "colab_type": "code",
        "colab": {}
      },
      "source": [
        "print(response['ContentLength'])"
      ],
      "execution_count": 0,
      "outputs": []
    },
    {
      "cell_type": "code",
      "metadata": {
        "id": "j_zyZ_W1zAHb",
        "colab_type": "code",
        "colab": {}
      },
      "source": [
        "# Upload the final_report.csv to gid-staging bucket\n",
        "s3.upload_file(\n",
        "  # Complete the filename\n",
        "  Filename='./final_report.csv', \n",
        "  # Set the key and bucket\n",
        "  Key='2019/final_report_2019_02_20.csv', \n",
        "  Bucket='gid-staging',\n",
        "  # During upload, set ACL to public-read\n",
        " ExtraArgs = {\n",
        "    'ACL': 'public-read'})"
      ],
      "execution_count": 0,
      "outputs": []
    },
    {
      "cell_type": "code",
      "metadata": {
        "id": "7iJdvrXA2g1f",
        "colab_type": "code",
        "colab": {}
      },
      "source": [
        "# List only objects that start with '2019/final_'\n",
        "response = s3.list_objects(\n",
        "    Bucket='gid-staging', Prefix ='2019/final_')\n",
        "\n",
        "# Iterate over the objects\n",
        "for obj in response['Contents']:\n",
        "\n",
        "    # Give each object ACL of public-read\n",
        "    s3.put_object_acl(Bucket='gid-staging', \n",
        "                      Key=obj['Key'], \n",
        "                      ACL='public-read')\n",
        "    \n",
        "    # Print the Public Object URL for each object\n",
        "    print(\"https://{}.s3.amazonaws.com/{}\".format( 'public-read', obj['Key']))"
      ],
      "execution_count": 0,
      "outputs": []
    },
    {
      "cell_type": "code",
      "metadata": {
        "id": "TFTmDreu3Dff",
        "colab_type": "code",
        "colab": {}
      },
      "source": [
        "# List only objects that start with '2019/final_'\n",
        "response = s3.list_objects(\n",
        "    Bucket='gid-staging', Prefix ='2019/final_')\n",
        "\n",
        "# Iterate over the objects\n",
        "for obj in response['Contents']:\n",
        "\n",
        "    # Give each object ACL of public-read\n",
        "    s3.put_object_acl(Bucket='gid-staging', \n",
        "                      Key=obj['Key'], \n",
        "                      ACL='public-read')\n",
        "    \n",
        "    # Print the Public Object URL for each object\n",
        "    print(\"https://{}.s3.amazonaws.com/{}\".format( 'gid-staging', obj['Key']))"
      ],
      "execution_count": 0,
      "outputs": []
    }
  ]
}