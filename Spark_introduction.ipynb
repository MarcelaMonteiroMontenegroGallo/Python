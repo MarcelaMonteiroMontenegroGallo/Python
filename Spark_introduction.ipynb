{
  "nbformat": 4,
  "nbformat_minor": 0,
  "metadata": {
    "colab": {
      "name": "Untitled0.ipynb",
      "version": "0.3.2",
      "provenance": [],
      "include_colab_link": true
    },
    "kernelspec": {
      "name": "python3",
      "display_name": "Python 3"
    }
  },
  "cells": [
    {
      "cell_type": "markdown",
      "metadata": {
        "id": "view-in-github",
        "colab_type": "text"
      },
      "source": [
        "<a href=\"https://colab.research.google.com/github/MarcelaMonteiroMontenegroGallo/Python/blob/master/Spark_introduction.ipynb\" target=\"_parent\"><img src=\"https://colab.research.google.com/assets/colab-badge.svg\" alt=\"Open In Colab\"/></a>"
      ]
    },
    {
      "cell_type": "markdown",
      "metadata": {
        "id": "PYyO-a_sIePP",
        "colab_type": "text"
      },
      "source": [
        "**Introductio  Spark **\n",
        "\n",
        "Load a dataframe from file \n"
      ]
    },
    {
      "cell_type": "code",
      "metadata": {
        "id": "hi1DagQuIyce",
        "colab_type": "code",
        "colab": {}
      },
      "source": [
        "df= spark.read.csv(filename , header = TRUE)"
      ],
      "execution_count": 0,
      "outputs": []
    },
    {
      "cell_type": "markdown",
      "metadata": {
        "id": "EZuOBvT8I7Kk",
        "colab_type": "text"
      },
      "source": [
        "Create SQL table and query it "
      ]
    },
    {
      "cell_type": "code",
      "metadata": {
        "id": "pAprE3jVIa4i",
        "colab_type": "code",
        "colab": {}
      },
      "source": [
        "df.createOrReoplaceTempView(\"schedule\")\n",
        "spark.sql(\"Select * from schedule where station  = 'San Jose' \")\n",
        ".show()\n",
        "result = spark.sql (\"Show Columns From tablename\")"
      ],
      "execution_count": 0,
      "outputs": []
    },
    {
      "cell_type": "markdown",
      "metadata": {
        "id": "4r7WFr41JZ44",
        "colab_type": "text"
      },
      "source": [
        ""
      ]
    }
  ]
}