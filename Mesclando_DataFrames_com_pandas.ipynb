{
  "nbformat": 4,
  "nbformat_minor": 0,
  "metadata": {
    "colab": {
      "name": "Mesclando DataFrames com pandas.ipynb",
      "provenance": [],
      "include_colab_link": true
    },
    "kernelspec": {
      "name": "python3",
      "display_name": "Python 3"
    }
  },
  "cells": [
    {
      "cell_type": "markdown",
      "metadata": {
        "id": "view-in-github",
        "colab_type": "text"
      },
      "source": [
        "<a href=\"https://colab.research.google.com/github/MarcelaMonteiroMontenegroGallo/Python/blob/master/Mesclando_DataFrames_com_pandas.ipynb\" target=\"_parent\"><img src=\"https://colab.research.google.com/assets/colab-badge.svg\" alt=\"Open In Colab\"/></a>"
      ]
    },
    {
      "cell_type": "markdown",
      "metadata": {
        "id": "yfcznrzx4i1_",
        "colab_type": "text"
      },
      "source": [
        "\n",
        "**Preparando dados**\n",
        "\n"
      ]
    },
    {
      "cell_type": "markdown",
      "metadata": {
        "id": "jnq3S3Vq5CVM",
        "colab_type": "text"
      },
      "source": [
        "Lendo vários arquivos de dados\n",
        "\n"
      ]
    },
    {
      "cell_type": "code",
      "metadata": {
        "id": "JDLDhZ114D-g",
        "colab_type": "code",
        "colab": {}
      },
      "source": [
        "dataframe = pd.read_csv(filepath) "
      ],
      "execution_count": 0,
      "outputs": []
    },
    {
      "cell_type": "code",
      "metadata": {
        "id": "eLJ8cATm5hXn",
        "colab_type": "code",
        "colab": {}
      },
      "source": [
        "import pandas as pd \n",
        "\n",
        "dataframe0= pd.read.csv('sales-jan-2015.csv')\n",
        "dataframe1= pd.read.csv('sales-fev-2015.csv')"
      ],
      "execution_count": 0,
      "outputs": []
    },
    {
      "cell_type": "code",
      "metadata": {
        "id": "yea9ciuS513p",
        "colab_type": "code",
        "colab": {}
      },
      "source": [
        "filenames =['sales-jan-2015.csv' ,'sales-fev-2015.csv']\n",
        "dataframes =[]\n",
        "for f in filenames:\n",
        "    dataframes.append(pd.read_csv(f))"
      ],
      "execution_count": 0,
      "outputs": []
    },
    {
      "cell_type": "code",
      "metadata": {
        "id": "rz6DB5fE6aX5",
        "colab_type": "code",
        "colab": {}
      },
      "source": [
        "filenames =['sales-jan-2015.csv' ,'sales-fev-2015.csv'] \n",
        "dataframes =[pd.read_csv(f) for in filenames]"
      ],
      "execution_count": 0,
      "outputs": []
    },
    {
      "cell_type": "code",
      "metadata": {
        "id": "sjAsFsGW6pW1",
        "colab_type": "code",
        "colab": {}
      },
      "source": [
        "from glob import glob \n",
        "filenames =glob('sales*.csv')\n",
        "dataframes =[pd.read_csv(f) for in filenames]"
      ],
      "execution_count": 0,
      "outputs": []
    },
    {
      "cell_type": "code",
      "metadata": {
        "id": "KIkscAe18Aou",
        "colab_type": "code",
        "colab": {}
      },
      "source": [
        "# Import pandas\n",
        "import pandas as pd\n",
        "\n",
        "# Create the list of file names: filenames\n",
        "filenames = ['Gold.csv', 'Silver.csv', 'Bronze.csv']\n",
        "\n",
        "# Create the list of three DataFrames: dataframes\n",
        "dataframes = []\n",
        "for filename in filenames:\n",
        "    dataframes.append(pd.read_csv(filename))\n",
        "\n",
        "# Print top 5 rows of 1st DataFrame in dataframes\n",
        "print(dataframes[0].head())"
      ],
      "execution_count": 0,
      "outputs": []
    },
    {
      "cell_type": "code",
      "metadata": {
        "id": "T_DSci-H-EbV",
        "colab_type": "code",
        "colab": {}
      },
      "source": [
        "# Import pandas\n",
        "import pandas as pd\n",
        "\n",
        "# Make a copy of gold: medals\n",
        "medals = gold.copy()\n",
        "\n",
        "# Create list of new column labels: new_labels\n",
        "new_labels = ['NOC', 'Country', 'Gold']\n",
        "\n",
        "# Rename the columns of medals using new_labels\n",
        "medals.columns = new_labels\n",
        "\n",
        "# Add columns 'Silver' & 'Bronze' to medals\n",
        "medals['Silver'] = silver['Total']\n",
        "medals['Bronze'] = bronze['Total']\n",
        "\n",
        "# Print the head of medals\n",
        "print(medals.head())"
      ],
      "execution_count": 0,
      "outputs": []
    }
  ]
}