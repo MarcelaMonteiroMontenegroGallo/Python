{
  "nbformat": 4,
  "nbformat_minor": 0,
  "metadata": {
    "colab": {
      "name": "pandas Foundations.ipynb",
      "version": "0.3.2",
      "provenance": [],
      "collapsed_sections": [],
      "include_colab_link": true
    },
    "kernelspec": {
      "name": "python3",
      "display_name": "Python 3"
    }
  },
  "cells": [
    {
      "cell_type": "markdown",
      "metadata": {
        "id": "view-in-github",
        "colab_type": "text"
      },
      "source": [
        "<a href=\"https://colab.research.google.com/github/MarcelaMonteiroMontenegroGallo/Python/blob/master/pandas_Foundations.ipynb\" target=\"_parent\"><img src=\"https://colab.research.google.com/assets/colab-badge.svg\" alt=\"Open In Colab\"/></a>"
      ]
    },
    {
      "cell_type": "code",
      "metadata": {
        "id": "YnCwAdX_bAHO",
        "colab_type": "code",
        "colab": {}
      },
      "source": [
        "import io\n"
      ],
      "execution_count": 0,
      "outputs": []
    },
    {
      "cell_type": "code",
      "metadata": {
        "id": "-mjnmsXIcteW",
        "colab_type": "code",
        "outputId": "460fefa0-7ab9-4e3e-c50d-a59e2d522d3e",
        "colab": {
          "resources": {
            "http://localhost:8080/nbextensions/google.colab/files.js": {
              "data": "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",
              "ok": true,
              "headers": [
                [
                  "content-type",
                  "application/javascript"
                ]
              ],
              "status": 200,
              "status_text": ""
            }
          },
          "base_uri": "https://localhost:8080/",
          "height": 74
        }
      },
      "source": [
        "\n",
        "from google.colab import files\n",
        "uploaded = files.upload()"
      ],
      "execution_count": 0,
      "outputs": [
        {
          "output_type": "display_data",
          "data": {
            "text/html": [
              "\n",
              "     <input type=\"file\" id=\"files-8b278634-bfb8-427e-aec7-c719df034e80\" name=\"files[]\" multiple disabled />\n",
              "     <output id=\"result-8b278634-bfb8-427e-aec7-c719df034e80\">\n",
              "      Upload widget is only available when the cell has been executed in the\n",
              "      current browser session. Please rerun this cell to enable.\n",
              "      </output>\n",
              "      <script src=\"/nbextensions/google.colab/files.js\"></script> "
            ],
            "text/plain": [
              "<IPython.core.display.HTML object>"
            ]
          },
          "metadata": {
            "tags": []
          }
        },
        {
          "output_type": "stream",
          "text": [
            "Saving iris.csv to iris.csv\n"
          ],
          "name": "stdout"
        }
      ]
    },
    {
      "cell_type": "markdown",
      "metadata": {
        "id": "c835GerwdXp_",
        "colab_type": "text"
      },
      "source": [
        "**Data ingestion & inspection**\n"
      ]
    },
    {
      "cell_type": "markdown",
      "metadata": {
        "id": "xW1CYPRLhR-l",
        "colab_type": "text"
      },
      "source": [
        "O NumPy é uma poderosa biblioteca Python que é usada principalmente para realizar cálculos em Arrays Multidimensionais."
      ]
    },
    {
      "cell_type": "code",
      "metadata": {
        "id": "UCbYEj2odyeo",
        "colab_type": "code",
        "colab": {}
      },
      "source": [
        "import pandas as pd \n",
        "\n",
        "import numpy as np"
      ],
      "execution_count": 0,
      "outputs": []
    },
    {
      "cell_type": "code",
      "metadata": {
        "id": "o7dSVqpaiH6D",
        "colab_type": "code",
        "colab": {}
      },
      "source": [
        "# Import numpy\n",
        "import numpy as np\n",
        "\n",
        "# Create array of DataFrame values: np_vals\n",
        "np_vals =df.values\n",
        "\n",
        "# Create new array of base 10 logarithm values: np_vals_log10\n",
        "np_vals_log10 =np.log10(np_vals)\n",
        "\n",
        "# Create array of new DataFrame by passing df to np.log10(): df_log10\n",
        "df_log10 =  np.log10(df)\n",
        "\n",
        "# Print original and new data containers\n",
        "[print(x, 'has type', type(eval(x))) for x in ['np_vals', 'np_vals_log10', 'df', 'df_log10']]"
      ],
      "execution_count": 0,
      "outputs": []
    },
    {
      "cell_type": "code",
      "metadata": {
        "id": "1i9ZwRdngxLD",
        "colab_type": "code",
        "colab": {}
      },
      "source": [
        "df.info()\n"
      ],
      "execution_count": 0,
      "outputs": []
    },
    {
      "cell_type": "code",
      "metadata": {
        "id": "bFxhCt9NjFDl",
        "colab_type": "code",
        "outputId": "a41955ea-b5c2-4b78-861f-0003ecf99320",
        "colab": {
          "base_uri": "https://localhost:8080/",
          "height": 136
        }
      },
      "source": [
        "heights= [50.9 , 65.2, 62.9, 65.4 , 62.7, 64.1]\n",
        "data ={'height': heights, 'sex' :'M'}\n",
        "results = pd.DataFrame(data)\n",
        "print(results)"
      ],
      "execution_count": 0,
      "outputs": [
        {
          "output_type": "stream",
          "text": [
            "   height sex\n",
            "0    50.9   M\n",
            "1    65.2   M\n",
            "2    62.9   M\n",
            "3    65.4   M\n",
            "4    62.7   M\n",
            "5    64.1   M\n"
          ],
          "name": "stdout"
        }
      ]
    },
    {
      "cell_type": "code",
      "metadata": {
        "id": "1zpUVEC9xuns",
        "colab_type": "code",
        "outputId": "66d99864-735c-42aa-dad8-46fa51f6787f",
        "colab": {
          "base_uri": "https://localhost:8080/",
          "height": 34
        }
      },
      "source": [
        "cities =['Austin', 'Dallas', 'Autin', 'Dallas']\n",
        "signups =[7,12,3,5]\n",
        "visitors = [139, 237,326, 456]\n",
        "weekdays =['Sun' , 'Sun', 'Mon','Mon']\n",
        "list_labels =['city', 'signups', 'visitors' , 'weekday' ]\n",
        "list_cols=[cities , signups, visitors, weekdays]\n",
        "zipped = list(zip(list_labels , list_cols))\n",
        "print(zipped)\n"
      ],
      "execution_count": 0,
      "outputs": [
        {
          "output_type": "stream",
          "text": [
            "[('city', ['Austin', 'Dallas', 'Autin', 'Dallas']), ('signups', [7, 12, 3, 5]), ('visitors', [139, 237, 326, 456]), ('weekday', ['Sun', 'Sun', 'Mon', 'Mon'])]\n"
          ],
          "name": "stdout"
        }
      ]
    },
    {
      "cell_type": "code",
      "metadata": {
        "id": "yQ-j7lcwzsBR",
        "colab_type": "code",
        "outputId": "423a650e-e14f-4ac8-896f-f4e53ef6001f",
        "colab": {
          "base_uri": "https://localhost:8080/",
          "height": 102
        }
      },
      "source": [
        "data = dict(zipped)\n",
        "users = pd.DataFrame(data)\n",
        "print(users)"
      ],
      "execution_count": 0,
      "outputs": [
        {
          "output_type": "stream",
          "text": [
            "     city  signups  visitors weekday\n",
            "0  Austin        7       139     Sun\n",
            "1  Dallas       12       237     Sun\n",
            "2   Autin        3       326     Mon\n",
            "3  Dallas        5       456     Mon\n"
          ],
          "name": "stdout"
        }
      ]
    },
    {
      "cell_type": "code",
      "metadata": {
        "id": "DSNBP8OM0L_a",
        "colab_type": "code",
        "outputId": "f8b379d4-02d1-4373-929c-4005e5726f52",
        "colab": {
          "base_uri": "https://localhost:8080/",
          "height": 102
        }
      },
      "source": [
        "users['fees'] =0\n",
        "print(users)"
      ],
      "execution_count": 0,
      "outputs": [
        {
          "output_type": "stream",
          "text": [
            "     city  signups  visitors weekday  fees\n",
            "0  Austin        7       139     Sun     0\n",
            "1  Dallas       12       237     Sun     0\n",
            "2   Autin        3       326     Mon     0\n",
            "3  Dallas        5       456     Mon     0\n"
          ],
          "name": "stdout"
        }
      ]
    },
    {
      "cell_type": "code",
      "metadata": {
        "colab_type": "code",
        "outputId": "de89dd78-c70d-48ff-dbc9-d020689eaff1",
        "id": "E9zIqaVO0aJ3",
        "colab": {
          "base_uri": "https://localhost:8080/",
          "height": 102
        }
      },
      "source": [
        "users['id'] = 'NH' \n",
        "print(users)"
      ],
      "execution_count": 0,
      "outputs": [
        {
          "output_type": "stream",
          "text": [
            "     city  signups  visitors weekday  fees  id\n",
            "0  Austin        7       139     Sun     0  NH\n",
            "1  Dallas       12       237     Sun     0  NH\n",
            "2   Autin        3       326     Mon     0  NH\n",
            "3  Dallas        5       456     Mon     0  NH\n"
          ],
          "name": "stdout"
        }
      ]
    },
    {
      "cell_type": "code",
      "metadata": {
        "id": "wU65Kkj10ZuE",
        "colab_type": "code",
        "outputId": "afd10b99-9aff-4c34-8a90-2a247f40e6cc",
        "colab": {
          "base_uri": "https://localhost:8080/",
          "height": 136
        }
      },
      "source": [
        "results.columns =['height(in)', 'sex']\n",
        "results.index = ['A', 'B', 'C' , 'D' , 'E', 'F' ]\n",
        "print(results)"
      ],
      "execution_count": 0,
      "outputs": [
        {
          "output_type": "stream",
          "text": [
            "   height(in) sex\n",
            "A        50.9   M\n",
            "B        65.2   M\n",
            "C        62.9   M\n",
            "D        65.4   M\n",
            "E        62.7   M\n",
            "F        64.1   M\n"
          ],
          "name": "stdout"
        }
      ]
    },
    {
      "cell_type": "code",
      "metadata": {
        "id": "S0iJCjj0492g",
        "colab_type": "code",
        "outputId": "0ad05c3f-3f2d-4da5-d56e-413b76541d22",
        "colab": {
          "base_uri": "https://localhost:8080/",
          "height": 1000
        }
      },
      "source": [
        "filepath ='ISSN_D_tot.csv'\n",
        "sunspots = pd.read_csv(filepath , header = None)\n",
        "sunspots.info"
      ],
      "execution_count": 0,
      "outputs": [
        {
          "output_type": "execute_result",
          "data": {
            "text/plain": [
              "<bound method DataFrame.info of           0  1   2         3    4  5\n",
              "0      1818  1   1  1818.004   -1  1\n",
              "1      1818  1   2  1818.007   -1  1\n",
              "2      1818  1   3  1818.010   -1  1\n",
              "3      1818  1   4  1818.012   -1  1\n",
              "4      1818  1   5  1818.015   -1  1\n",
              "5      1818  1   6  1818.018   -1  1\n",
              "6      1818  1   7  1818.021   -1  1\n",
              "7      1818  1   8  1818.023   39  1\n",
              "8      1818  1   9  1818.026   -1  1\n",
              "9      1818  1  10  1818.029   -1  1\n",
              "10     1818  1  11  1818.031   -1  1\n",
              "11     1818  1  12  1818.034   -1  1\n",
              "12     1818  1  13  1818.037   22  1\n",
              "13     1818  1  14  1818.040   -1  1\n",
              "14     1818  1  15  1818.042   -1  1\n",
              "15     1818  1  16  1818.045   -1  1\n",
              "16     1818  1  17  1818.048   46  1\n",
              "17     1818  1  18  1818.051   59  1\n",
              "18     1818  1  19  1818.053   63  1\n",
              "19     1818  1  20  1818.056   -1  1\n",
              "20     1818  1  21  1818.059   -1  1\n",
              "21     1818  1  22  1818.062   -1  1\n",
              "22     1818  1  23  1818.064   -1  1\n",
              "23     1818  1  24  1818.067   -1  1\n",
              "24     1818  1  25  1818.070   15  1\n",
              "25     1818  1  26  1818.073   -1  1\n",
              "26     1818  1  27  1818.075   -1  1\n",
              "27     1818  1  28  1818.078   23  1\n",
              "28     1818  1  29  1818.081   12  1\n",
              "29     1818  1  30  1818.083   -1  1\n",
              "...     ... ..  ..       ...  ... ..\n",
              "72074  2015  5   2  2015.332   24  0\n",
              "72075  2015  5   3  2015.335   28  0\n",
              "72076  2015  5   4  2015.337   68  0\n",
              "72077  2015  5   5  2015.340   68  0\n",
              "72078  2015  5   6  2015.343   82  0\n",
              "72079  2015  5   7  2015.346   95  0\n",
              "72080  2015  5   8  2015.348  101  0\n",
              "72081  2015  5   9  2015.351   92  0\n",
              "72082  2015  5  10  2015.354  107  0\n",
              "72083  2015  5  11  2015.357  109  0\n",
              "72084  2015  5  12  2015.359  112  0\n",
              "72085  2015  5  13  2015.362  113  0\n",
              "72086  2015  5  14  2015.365  109  0\n",
              "72087  2015  5  15  2015.368   83  0\n",
              "72088  2015  5  16  2015.370   69  0\n",
              "72089  2015  5  17  2015.373   59  0\n",
              "72090  2015  5  18  2015.376   66  0\n",
              "72091  2015  5  19  2015.379   51  0\n",
              "72092  2015  5  20  2015.381   39  0\n",
              "72093  2015  5  21  2015.384   33  0\n",
              "72094  2015  5  22  2015.387   48  0\n",
              "72095  2015  5  23  2015.389   48  0\n",
              "72096  2015  5  24  2015.392   52  0\n",
              "72097  2015  5  25  2015.395   45  0\n",
              "72098  2015  5  26  2015.398   35  0\n",
              "72099  2015  5  27  2015.400    9  0\n",
              "72100  2015  5  28  2015.403    8  0\n",
              "72101  2015  5  29  2015.406   22  0\n",
              "72102  2015  5  30  2015.409   19  0\n",
              "72103  2015  5  31  2015.411   17  0\n",
              "\n",
              "[72104 rows x 6 columns]>"
            ]
          },
          "metadata": {
            "tags": []
          },
          "execution_count": 23
        }
      ]
    },
    {
      "cell_type": "code",
      "metadata": {
        "id": "13EPgPZU5ene",
        "colab_type": "code",
        "outputId": "644cf3b5-3ed6-424d-bb1a-aaa889dfe510",
        "colab": {
          "base_uri": "https://localhost:8080/",
          "height": 359
        }
      },
      "source": [
        "sunspots.iloc[10:20, :]"
      ],
      "execution_count": 0,
      "outputs": [
        {
          "output_type": "execute_result",
          "data": {
            "text/html": [
              "<div>\n",
              "<style scoped>\n",
              "    .dataframe tbody tr th:only-of-type {\n",
              "        vertical-align: middle;\n",
              "    }\n",
              "\n",
              "    .dataframe tbody tr th {\n",
              "        vertical-align: top;\n",
              "    }\n",
              "\n",
              "    .dataframe thead th {\n",
              "        text-align: right;\n",
              "    }\n",
              "</style>\n",
              "<table border=\"1\" class=\"dataframe\">\n",
              "  <thead>\n",
              "    <tr style=\"text-align: right;\">\n",
              "      <th></th>\n",
              "      <th>0</th>\n",
              "      <th>1</th>\n",
              "      <th>2</th>\n",
              "      <th>3</th>\n",
              "      <th>4</th>\n",
              "      <th>5</th>\n",
              "    </tr>\n",
              "  </thead>\n",
              "  <tbody>\n",
              "    <tr>\n",
              "      <th>10</th>\n",
              "      <td>1818</td>\n",
              "      <td>1</td>\n",
              "      <td>11</td>\n",
              "      <td>1818.031</td>\n",
              "      <td>-1</td>\n",
              "      <td>1</td>\n",
              "    </tr>\n",
              "    <tr>\n",
              "      <th>11</th>\n",
              "      <td>1818</td>\n",
              "      <td>1</td>\n",
              "      <td>12</td>\n",
              "      <td>1818.034</td>\n",
              "      <td>-1</td>\n",
              "      <td>1</td>\n",
              "    </tr>\n",
              "    <tr>\n",
              "      <th>12</th>\n",
              "      <td>1818</td>\n",
              "      <td>1</td>\n",
              "      <td>13</td>\n",
              "      <td>1818.037</td>\n",
              "      <td>22</td>\n",
              "      <td>1</td>\n",
              "    </tr>\n",
              "    <tr>\n",
              "      <th>13</th>\n",
              "      <td>1818</td>\n",
              "      <td>1</td>\n",
              "      <td>14</td>\n",
              "      <td>1818.040</td>\n",
              "      <td>-1</td>\n",
              "      <td>1</td>\n",
              "    </tr>\n",
              "    <tr>\n",
              "      <th>14</th>\n",
              "      <td>1818</td>\n",
              "      <td>1</td>\n",
              "      <td>15</td>\n",
              "      <td>1818.042</td>\n",
              "      <td>-1</td>\n",
              "      <td>1</td>\n",
              "    </tr>\n",
              "    <tr>\n",
              "      <th>15</th>\n",
              "      <td>1818</td>\n",
              "      <td>1</td>\n",
              "      <td>16</td>\n",
              "      <td>1818.045</td>\n",
              "      <td>-1</td>\n",
              "      <td>1</td>\n",
              "    </tr>\n",
              "    <tr>\n",
              "      <th>16</th>\n",
              "      <td>1818</td>\n",
              "      <td>1</td>\n",
              "      <td>17</td>\n",
              "      <td>1818.048</td>\n",
              "      <td>46</td>\n",
              "      <td>1</td>\n",
              "    </tr>\n",
              "    <tr>\n",
              "      <th>17</th>\n",
              "      <td>1818</td>\n",
              "      <td>1</td>\n",
              "      <td>18</td>\n",
              "      <td>1818.051</td>\n",
              "      <td>59</td>\n",
              "      <td>1</td>\n",
              "    </tr>\n",
              "    <tr>\n",
              "      <th>18</th>\n",
              "      <td>1818</td>\n",
              "      <td>1</td>\n",
              "      <td>19</td>\n",
              "      <td>1818.053</td>\n",
              "      <td>63</td>\n",
              "      <td>1</td>\n",
              "    </tr>\n",
              "    <tr>\n",
              "      <th>19</th>\n",
              "      <td>1818</td>\n",
              "      <td>1</td>\n",
              "      <td>20</td>\n",
              "      <td>1818.056</td>\n",
              "      <td>-1</td>\n",
              "      <td>1</td>\n",
              "    </tr>\n",
              "  </tbody>\n",
              "</table>\n",
              "</div>"
            ],
            "text/plain": [
              "       0  1   2         3   4  5\n",
              "10  1818  1  11  1818.031  -1  1\n",
              "11  1818  1  12  1818.034  -1  1\n",
              "12  1818  1  13  1818.037  22  1\n",
              "13  1818  1  14  1818.040  -1  1\n",
              "14  1818  1  15  1818.042  -1  1\n",
              "15  1818  1  16  1818.045  -1  1\n",
              "16  1818  1  17  1818.048  46  1\n",
              "17  1818  1  18  1818.051  59  1\n",
              "18  1818  1  19  1818.053  63  1\n",
              "19  1818  1  20  1818.056  -1  1"
            ]
          },
          "metadata": {
            "tags": []
          },
          "execution_count": 24
        }
      ]
    },
    {
      "cell_type": "code",
      "metadata": {
        "id": "yU4eK07O6I0e",
        "colab_type": "code",
        "outputId": "a2006704-a8dc-4619-8b20-ff665f3488d0",
        "colab": {
          "base_uri": "https://localhost:8080/",
          "height": 359
        }
      },
      "source": [
        "col_names= ['year', 'month' , 'day', 'dec_date', 'sunspots', 'definete']\n",
        "sunspots =pd.read_csv(filepath, header =None , names= col_names )\n",
        "sunspots.iloc[10:20, :]\n"
      ],
      "execution_count": 0,
      "outputs": [
        {
          "output_type": "execute_result",
          "data": {
            "text/html": [
              "<div>\n",
              "<style scoped>\n",
              "    .dataframe tbody tr th:only-of-type {\n",
              "        vertical-align: middle;\n",
              "    }\n",
              "\n",
              "    .dataframe tbody tr th {\n",
              "        vertical-align: top;\n",
              "    }\n",
              "\n",
              "    .dataframe thead th {\n",
              "        text-align: right;\n",
              "    }\n",
              "</style>\n",
              "<table border=\"1\" class=\"dataframe\">\n",
              "  <thead>\n",
              "    <tr style=\"text-align: right;\">\n",
              "      <th></th>\n",
              "      <th>year</th>\n",
              "      <th>month</th>\n",
              "      <th>day</th>\n",
              "      <th>dec_date</th>\n",
              "      <th>sunspots</th>\n",
              "      <th>definete</th>\n",
              "    </tr>\n",
              "  </thead>\n",
              "  <tbody>\n",
              "    <tr>\n",
              "      <th>10</th>\n",
              "      <td>1818</td>\n",
              "      <td>1</td>\n",
              "      <td>11</td>\n",
              "      <td>1818.031</td>\n",
              "      <td>-1</td>\n",
              "      <td>1</td>\n",
              "    </tr>\n",
              "    <tr>\n",
              "      <th>11</th>\n",
              "      <td>1818</td>\n",
              "      <td>1</td>\n",
              "      <td>12</td>\n",
              "      <td>1818.034</td>\n",
              "      <td>-1</td>\n",
              "      <td>1</td>\n",
              "    </tr>\n",
              "    <tr>\n",
              "      <th>12</th>\n",
              "      <td>1818</td>\n",
              "      <td>1</td>\n",
              "      <td>13</td>\n",
              "      <td>1818.037</td>\n",
              "      <td>22</td>\n",
              "      <td>1</td>\n",
              "    </tr>\n",
              "    <tr>\n",
              "      <th>13</th>\n",
              "      <td>1818</td>\n",
              "      <td>1</td>\n",
              "      <td>14</td>\n",
              "      <td>1818.040</td>\n",
              "      <td>-1</td>\n",
              "      <td>1</td>\n",
              "    </tr>\n",
              "    <tr>\n",
              "      <th>14</th>\n",
              "      <td>1818</td>\n",
              "      <td>1</td>\n",
              "      <td>15</td>\n",
              "      <td>1818.042</td>\n",
              "      <td>-1</td>\n",
              "      <td>1</td>\n",
              "    </tr>\n",
              "    <tr>\n",
              "      <th>15</th>\n",
              "      <td>1818</td>\n",
              "      <td>1</td>\n",
              "      <td>16</td>\n",
              "      <td>1818.045</td>\n",
              "      <td>-1</td>\n",
              "      <td>1</td>\n",
              "    </tr>\n",
              "    <tr>\n",
              "      <th>16</th>\n",
              "      <td>1818</td>\n",
              "      <td>1</td>\n",
              "      <td>17</td>\n",
              "      <td>1818.048</td>\n",
              "      <td>46</td>\n",
              "      <td>1</td>\n",
              "    </tr>\n",
              "    <tr>\n",
              "      <th>17</th>\n",
              "      <td>1818</td>\n",
              "      <td>1</td>\n",
              "      <td>18</td>\n",
              "      <td>1818.051</td>\n",
              "      <td>59</td>\n",
              "      <td>1</td>\n",
              "    </tr>\n",
              "    <tr>\n",
              "      <th>18</th>\n",
              "      <td>1818</td>\n",
              "      <td>1</td>\n",
              "      <td>19</td>\n",
              "      <td>1818.053</td>\n",
              "      <td>63</td>\n",
              "      <td>1</td>\n",
              "    </tr>\n",
              "    <tr>\n",
              "      <th>19</th>\n",
              "      <td>1818</td>\n",
              "      <td>1</td>\n",
              "      <td>20</td>\n",
              "      <td>1818.056</td>\n",
              "      <td>-1</td>\n",
              "      <td>1</td>\n",
              "    </tr>\n",
              "  </tbody>\n",
              "</table>\n",
              "</div>"
            ],
            "text/plain": [
              "    year  month  day  dec_date  sunspots  definete\n",
              "10  1818      1   11  1818.031        -1         1\n",
              "11  1818      1   12  1818.034        -1         1\n",
              "12  1818      1   13  1818.037        22         1\n",
              "13  1818      1   14  1818.040        -1         1\n",
              "14  1818      1   15  1818.042        -1         1\n",
              "15  1818      1   16  1818.045        -1         1\n",
              "16  1818      1   17  1818.048        46         1\n",
              "17  1818      1   18  1818.051        59         1\n",
              "18  1818      1   19  1818.053        63         1\n",
              "19  1818      1   20  1818.056        -1         1"
            ]
          },
          "metadata": {
            "tags": []
          },
          "execution_count": 34
        }
      ]
    },
    {
      "cell_type": "code",
      "metadata": {
        "id": "-qh32fG57Bhd",
        "colab_type": "code",
        "outputId": "0acf56b9-face-4c23-ec55-d9d052cebce6",
        "colab": {
          "base_uri": "https://localhost:8080/",
          "height": 359
        }
      },
      "source": [
        "sunspots =pd.read_csv(filepath, header =None , names= col_names  , na_values =' -1')\n",
        "sunspots.iloc[10:20, :]"
      ],
      "execution_count": 0,
      "outputs": [
        {
          "output_type": "execute_result",
          "data": {
            "text/html": [
              "<div>\n",
              "<style scoped>\n",
              "    .dataframe tbody tr th:only-of-type {\n",
              "        vertical-align: middle;\n",
              "    }\n",
              "\n",
              "    .dataframe tbody tr th {\n",
              "        vertical-align: top;\n",
              "    }\n",
              "\n",
              "    .dataframe thead th {\n",
              "        text-align: right;\n",
              "    }\n",
              "</style>\n",
              "<table border=\"1\" class=\"dataframe\">\n",
              "  <thead>\n",
              "    <tr style=\"text-align: right;\">\n",
              "      <th></th>\n",
              "      <th>year</th>\n",
              "      <th>month</th>\n",
              "      <th>day</th>\n",
              "      <th>dec_date</th>\n",
              "      <th>sunspots</th>\n",
              "      <th>definete</th>\n",
              "    </tr>\n",
              "  </thead>\n",
              "  <tbody>\n",
              "    <tr>\n",
              "      <th>10</th>\n",
              "      <td>1818</td>\n",
              "      <td>1</td>\n",
              "      <td>11</td>\n",
              "      <td>1818.031</td>\n",
              "      <td>NaN</td>\n",
              "      <td>1</td>\n",
              "    </tr>\n",
              "    <tr>\n",
              "      <th>11</th>\n",
              "      <td>1818</td>\n",
              "      <td>1</td>\n",
              "      <td>12</td>\n",
              "      <td>1818.034</td>\n",
              "      <td>NaN</td>\n",
              "      <td>1</td>\n",
              "    </tr>\n",
              "    <tr>\n",
              "      <th>12</th>\n",
              "      <td>1818</td>\n",
              "      <td>1</td>\n",
              "      <td>13</td>\n",
              "      <td>1818.037</td>\n",
              "      <td>22.0</td>\n",
              "      <td>1</td>\n",
              "    </tr>\n",
              "    <tr>\n",
              "      <th>13</th>\n",
              "      <td>1818</td>\n",
              "      <td>1</td>\n",
              "      <td>14</td>\n",
              "      <td>1818.040</td>\n",
              "      <td>NaN</td>\n",
              "      <td>1</td>\n",
              "    </tr>\n",
              "    <tr>\n",
              "      <th>14</th>\n",
              "      <td>1818</td>\n",
              "      <td>1</td>\n",
              "      <td>15</td>\n",
              "      <td>1818.042</td>\n",
              "      <td>NaN</td>\n",
              "      <td>1</td>\n",
              "    </tr>\n",
              "    <tr>\n",
              "      <th>15</th>\n",
              "      <td>1818</td>\n",
              "      <td>1</td>\n",
              "      <td>16</td>\n",
              "      <td>1818.045</td>\n",
              "      <td>NaN</td>\n",
              "      <td>1</td>\n",
              "    </tr>\n",
              "    <tr>\n",
              "      <th>16</th>\n",
              "      <td>1818</td>\n",
              "      <td>1</td>\n",
              "      <td>17</td>\n",
              "      <td>1818.048</td>\n",
              "      <td>46.0</td>\n",
              "      <td>1</td>\n",
              "    </tr>\n",
              "    <tr>\n",
              "      <th>17</th>\n",
              "      <td>1818</td>\n",
              "      <td>1</td>\n",
              "      <td>18</td>\n",
              "      <td>1818.051</td>\n",
              "      <td>59.0</td>\n",
              "      <td>1</td>\n",
              "    </tr>\n",
              "    <tr>\n",
              "      <th>18</th>\n",
              "      <td>1818</td>\n",
              "      <td>1</td>\n",
              "      <td>19</td>\n",
              "      <td>1818.053</td>\n",
              "      <td>63.0</td>\n",
              "      <td>1</td>\n",
              "    </tr>\n",
              "    <tr>\n",
              "      <th>19</th>\n",
              "      <td>1818</td>\n",
              "      <td>1</td>\n",
              "      <td>20</td>\n",
              "      <td>1818.056</td>\n",
              "      <td>NaN</td>\n",
              "      <td>1</td>\n",
              "    </tr>\n",
              "  </tbody>\n",
              "</table>\n",
              "</div>"
            ],
            "text/plain": [
              "    year  month  day  dec_date  sunspots  definete\n",
              "10  1818      1   11  1818.031       NaN         1\n",
              "11  1818      1   12  1818.034       NaN         1\n",
              "12  1818      1   13  1818.037      22.0         1\n",
              "13  1818      1   14  1818.040       NaN         1\n",
              "14  1818      1   15  1818.042       NaN         1\n",
              "15  1818      1   16  1818.045       NaN         1\n",
              "16  1818      1   17  1818.048      46.0         1\n",
              "17  1818      1   18  1818.051      59.0         1\n",
              "18  1818      1   19  1818.053      63.0         1\n",
              "19  1818      1   20  1818.056       NaN         1"
            ]
          },
          "metadata": {
            "tags": []
          },
          "execution_count": 35
        }
      ]
    },
    {
      "cell_type": "code",
      "metadata": {
        "id": "wMPxStgk7Vaw",
        "colab_type": "code",
        "outputId": "2e2c2151-4666-434c-fa88-0ac83bf93aec",
        "colab": {
          "base_uri": "https://localhost:8080/",
          "height": 359
        }
      },
      "source": [
        "sunspots =pd.read_csv(filepath, header =None , names= col_names  , na_values ={'sunspots':['-1']})\n",
        "sunspots.iloc[10:20, :]"
      ],
      "execution_count": 0,
      "outputs": [
        {
          "output_type": "execute_result",
          "data": {
            "text/html": [
              "<div>\n",
              "<style scoped>\n",
              "    .dataframe tbody tr th:only-of-type {\n",
              "        vertical-align: middle;\n",
              "    }\n",
              "\n",
              "    .dataframe tbody tr th {\n",
              "        vertical-align: top;\n",
              "    }\n",
              "\n",
              "    .dataframe thead th {\n",
              "        text-align: right;\n",
              "    }\n",
              "</style>\n",
              "<table border=\"1\" class=\"dataframe\">\n",
              "  <thead>\n",
              "    <tr style=\"text-align: right;\">\n",
              "      <th></th>\n",
              "      <th>year</th>\n",
              "      <th>month</th>\n",
              "      <th>day</th>\n",
              "      <th>dec_date</th>\n",
              "      <th>sunspots</th>\n",
              "      <th>definete</th>\n",
              "    </tr>\n",
              "  </thead>\n",
              "  <tbody>\n",
              "    <tr>\n",
              "      <th>10</th>\n",
              "      <td>1818</td>\n",
              "      <td>1</td>\n",
              "      <td>11</td>\n",
              "      <td>1818.031</td>\n",
              "      <td>-1</td>\n",
              "      <td>1</td>\n",
              "    </tr>\n",
              "    <tr>\n",
              "      <th>11</th>\n",
              "      <td>1818</td>\n",
              "      <td>1</td>\n",
              "      <td>12</td>\n",
              "      <td>1818.034</td>\n",
              "      <td>-1</td>\n",
              "      <td>1</td>\n",
              "    </tr>\n",
              "    <tr>\n",
              "      <th>12</th>\n",
              "      <td>1818</td>\n",
              "      <td>1</td>\n",
              "      <td>13</td>\n",
              "      <td>1818.037</td>\n",
              "      <td>22</td>\n",
              "      <td>1</td>\n",
              "    </tr>\n",
              "    <tr>\n",
              "      <th>13</th>\n",
              "      <td>1818</td>\n",
              "      <td>1</td>\n",
              "      <td>14</td>\n",
              "      <td>1818.040</td>\n",
              "      <td>-1</td>\n",
              "      <td>1</td>\n",
              "    </tr>\n",
              "    <tr>\n",
              "      <th>14</th>\n",
              "      <td>1818</td>\n",
              "      <td>1</td>\n",
              "      <td>15</td>\n",
              "      <td>1818.042</td>\n",
              "      <td>-1</td>\n",
              "      <td>1</td>\n",
              "    </tr>\n",
              "    <tr>\n",
              "      <th>15</th>\n",
              "      <td>1818</td>\n",
              "      <td>1</td>\n",
              "      <td>16</td>\n",
              "      <td>1818.045</td>\n",
              "      <td>-1</td>\n",
              "      <td>1</td>\n",
              "    </tr>\n",
              "    <tr>\n",
              "      <th>16</th>\n",
              "      <td>1818</td>\n",
              "      <td>1</td>\n",
              "      <td>17</td>\n",
              "      <td>1818.048</td>\n",
              "      <td>46</td>\n",
              "      <td>1</td>\n",
              "    </tr>\n",
              "    <tr>\n",
              "      <th>17</th>\n",
              "      <td>1818</td>\n",
              "      <td>1</td>\n",
              "      <td>18</td>\n",
              "      <td>1818.051</td>\n",
              "      <td>59</td>\n",
              "      <td>1</td>\n",
              "    </tr>\n",
              "    <tr>\n",
              "      <th>18</th>\n",
              "      <td>1818</td>\n",
              "      <td>1</td>\n",
              "      <td>19</td>\n",
              "      <td>1818.053</td>\n",
              "      <td>63</td>\n",
              "      <td>1</td>\n",
              "    </tr>\n",
              "    <tr>\n",
              "      <th>19</th>\n",
              "      <td>1818</td>\n",
              "      <td>1</td>\n",
              "      <td>20</td>\n",
              "      <td>1818.056</td>\n",
              "      <td>-1</td>\n",
              "      <td>1</td>\n",
              "    </tr>\n",
              "  </tbody>\n",
              "</table>\n",
              "</div>"
            ],
            "text/plain": [
              "    year  month  day  dec_date  sunspots  definete\n",
              "10  1818      1   11  1818.031        -1         1\n",
              "11  1818      1   12  1818.034        -1         1\n",
              "12  1818      1   13  1818.037        22         1\n",
              "13  1818      1   14  1818.040        -1         1\n",
              "14  1818      1   15  1818.042        -1         1\n",
              "15  1818      1   16  1818.045        -1         1\n",
              "16  1818      1   17  1818.048        46         1\n",
              "17  1818      1   18  1818.051        59         1\n",
              "18  1818      1   19  1818.053        63         1\n",
              "19  1818      1   20  1818.056        -1         1"
            ]
          },
          "metadata": {
            "tags": []
          },
          "execution_count": 36
        }
      ]
    },
    {
      "cell_type": "code",
      "metadata": {
        "id": "wYzdKIXv7qdR",
        "colab_type": "code",
        "outputId": "73fe64b9-80b6-49db-9eb8-2c069fc8dcd8",
        "colab": {
          "base_uri": "https://localhost:8080/",
          "height": 359
        }
      },
      "source": [
        "sunspots =pd.read_csv(filepath, header =None , names= col_names  , na_values ={'sunspots':['-1']}, \n",
        "                     parse_dates=[[0,1,2]])\n",
        "sunspots.iloc[10:20, :]"
      ],
      "execution_count": 0,
      "outputs": [
        {
          "output_type": "execute_result",
          "data": {
            "text/html": [
              "<div>\n",
              "<style scoped>\n",
              "    .dataframe tbody tr th:only-of-type {\n",
              "        vertical-align: middle;\n",
              "    }\n",
              "\n",
              "    .dataframe tbody tr th {\n",
              "        vertical-align: top;\n",
              "    }\n",
              "\n",
              "    .dataframe thead th {\n",
              "        text-align: right;\n",
              "    }\n",
              "</style>\n",
              "<table border=\"1\" class=\"dataframe\">\n",
              "  <thead>\n",
              "    <tr style=\"text-align: right;\">\n",
              "      <th></th>\n",
              "      <th>year_month_day</th>\n",
              "      <th>dec_date</th>\n",
              "      <th>sunspots</th>\n",
              "      <th>definete</th>\n",
              "    </tr>\n",
              "  </thead>\n",
              "  <tbody>\n",
              "    <tr>\n",
              "      <th>10</th>\n",
              "      <td>1818-01-11</td>\n",
              "      <td>1818.031</td>\n",
              "      <td>-1</td>\n",
              "      <td>1</td>\n",
              "    </tr>\n",
              "    <tr>\n",
              "      <th>11</th>\n",
              "      <td>1818-01-12</td>\n",
              "      <td>1818.034</td>\n",
              "      <td>-1</td>\n",
              "      <td>1</td>\n",
              "    </tr>\n",
              "    <tr>\n",
              "      <th>12</th>\n",
              "      <td>1818-01-13</td>\n",
              "      <td>1818.037</td>\n",
              "      <td>22</td>\n",
              "      <td>1</td>\n",
              "    </tr>\n",
              "    <tr>\n",
              "      <th>13</th>\n",
              "      <td>1818-01-14</td>\n",
              "      <td>1818.040</td>\n",
              "      <td>-1</td>\n",
              "      <td>1</td>\n",
              "    </tr>\n",
              "    <tr>\n",
              "      <th>14</th>\n",
              "      <td>1818-01-15</td>\n",
              "      <td>1818.042</td>\n",
              "      <td>-1</td>\n",
              "      <td>1</td>\n",
              "    </tr>\n",
              "    <tr>\n",
              "      <th>15</th>\n",
              "      <td>1818-01-16</td>\n",
              "      <td>1818.045</td>\n",
              "      <td>-1</td>\n",
              "      <td>1</td>\n",
              "    </tr>\n",
              "    <tr>\n",
              "      <th>16</th>\n",
              "      <td>1818-01-17</td>\n",
              "      <td>1818.048</td>\n",
              "      <td>46</td>\n",
              "      <td>1</td>\n",
              "    </tr>\n",
              "    <tr>\n",
              "      <th>17</th>\n",
              "      <td>1818-01-18</td>\n",
              "      <td>1818.051</td>\n",
              "      <td>59</td>\n",
              "      <td>1</td>\n",
              "    </tr>\n",
              "    <tr>\n",
              "      <th>18</th>\n",
              "      <td>1818-01-19</td>\n",
              "      <td>1818.053</td>\n",
              "      <td>63</td>\n",
              "      <td>1</td>\n",
              "    </tr>\n",
              "    <tr>\n",
              "      <th>19</th>\n",
              "      <td>1818-01-20</td>\n",
              "      <td>1818.056</td>\n",
              "      <td>-1</td>\n",
              "      <td>1</td>\n",
              "    </tr>\n",
              "  </tbody>\n",
              "</table>\n",
              "</div>"
            ],
            "text/plain": [
              "   year_month_day  dec_date  sunspots  definete\n",
              "10     1818-01-11  1818.031        -1         1\n",
              "11     1818-01-12  1818.034        -1         1\n",
              "12     1818-01-13  1818.037        22         1\n",
              "13     1818-01-14  1818.040        -1         1\n",
              "14     1818-01-15  1818.042        -1         1\n",
              "15     1818-01-16  1818.045        -1         1\n",
              "16     1818-01-17  1818.048        46         1\n",
              "17     1818-01-18  1818.051        59         1\n",
              "18     1818-01-19  1818.053        63         1\n",
              "19     1818-01-20  1818.056        -1         1"
            ]
          },
          "metadata": {
            "tags": []
          },
          "execution_count": 37
        }
      ]
    },
    {
      "cell_type": "code",
      "metadata": {
        "id": "6HoNNECA8HVx",
        "colab_type": "code",
        "outputId": "f57fa26d-31ae-4e66-a964-27517e4e95d3",
        "colab": {
          "base_uri": "https://localhost:8080/",
          "height": 170
        }
      },
      "source": [
        "sunspots.index =sunspots['year_month_day']\n",
        "sunspots.index.name = 'date'\n",
        "sunspots.info()"
      ],
      "execution_count": 0,
      "outputs": [
        {
          "output_type": "stream",
          "text": [
            "<class 'pandas.core.frame.DataFrame'>\n",
            "DatetimeIndex: 72104 entries, 1818-01-01 to 2015-05-31\n",
            "Data columns (total 4 columns):\n",
            "year_month_day    72104 non-null datetime64[ns]\n",
            "dec_date          72104 non-null float64\n",
            "sunspots          72104 non-null int64\n",
            "definete          72104 non-null int64\n",
            "dtypes: datetime64[ns](1), float64(1), int64(2)\n",
            "memory usage: 2.8 MB\n"
          ],
          "name": "stdout"
        }
      ]
    },
    {
      "cell_type": "code",
      "metadata": {
        "id": "XDAu6yUzBwiR",
        "colab_type": "code",
        "outputId": "4dfba48d-eaf3-437b-c661-ac3c32b2db73",
        "colab": {
          "base_uri": "https://localhost:8080/",
          "height": 390
        }
      },
      "source": [
        "cols = ['sunspots', 'definete']\n",
        "sunspots = sunspots[cols]\n",
        "sunspots.iloc[10:20, :]"
      ],
      "execution_count": 0,
      "outputs": [
        {
          "output_type": "execute_result",
          "data": {
            "text/html": [
              "<div>\n",
              "<style scoped>\n",
              "    .dataframe tbody tr th:only-of-type {\n",
              "        vertical-align: middle;\n",
              "    }\n",
              "\n",
              "    .dataframe tbody tr th {\n",
              "        vertical-align: top;\n",
              "    }\n",
              "\n",
              "    .dataframe thead th {\n",
              "        text-align: right;\n",
              "    }\n",
              "</style>\n",
              "<table border=\"1\" class=\"dataframe\">\n",
              "  <thead>\n",
              "    <tr style=\"text-align: right;\">\n",
              "      <th></th>\n",
              "      <th>sunspots</th>\n",
              "      <th>definete</th>\n",
              "    </tr>\n",
              "    <tr>\n",
              "      <th>date</th>\n",
              "      <th></th>\n",
              "      <th></th>\n",
              "    </tr>\n",
              "  </thead>\n",
              "  <tbody>\n",
              "    <tr>\n",
              "      <th>1818-01-11</th>\n",
              "      <td>-1</td>\n",
              "      <td>1</td>\n",
              "    </tr>\n",
              "    <tr>\n",
              "      <th>1818-01-12</th>\n",
              "      <td>-1</td>\n",
              "      <td>1</td>\n",
              "    </tr>\n",
              "    <tr>\n",
              "      <th>1818-01-13</th>\n",
              "      <td>22</td>\n",
              "      <td>1</td>\n",
              "    </tr>\n",
              "    <tr>\n",
              "      <th>1818-01-14</th>\n",
              "      <td>-1</td>\n",
              "      <td>1</td>\n",
              "    </tr>\n",
              "    <tr>\n",
              "      <th>1818-01-15</th>\n",
              "      <td>-1</td>\n",
              "      <td>1</td>\n",
              "    </tr>\n",
              "    <tr>\n",
              "      <th>1818-01-16</th>\n",
              "      <td>-1</td>\n",
              "      <td>1</td>\n",
              "    </tr>\n",
              "    <tr>\n",
              "      <th>1818-01-17</th>\n",
              "      <td>46</td>\n",
              "      <td>1</td>\n",
              "    </tr>\n",
              "    <tr>\n",
              "      <th>1818-01-18</th>\n",
              "      <td>59</td>\n",
              "      <td>1</td>\n",
              "    </tr>\n",
              "    <tr>\n",
              "      <th>1818-01-19</th>\n",
              "      <td>63</td>\n",
              "      <td>1</td>\n",
              "    </tr>\n",
              "    <tr>\n",
              "      <th>1818-01-20</th>\n",
              "      <td>-1</td>\n",
              "      <td>1</td>\n",
              "    </tr>\n",
              "  </tbody>\n",
              "</table>\n",
              "</div>"
            ],
            "text/plain": [
              "            sunspots  definete\n",
              "date                          \n",
              "1818-01-11        -1         1\n",
              "1818-01-12        -1         1\n",
              "1818-01-13        22         1\n",
              "1818-01-14        -1         1\n",
              "1818-01-15        -1         1\n",
              "1818-01-16        -1         1\n",
              "1818-01-17        46         1\n",
              "1818-01-18        59         1\n",
              "1818-01-19        63         1\n",
              "1818-01-20        -1         1"
            ]
          },
          "metadata": {
            "tags": []
          },
          "execution_count": 41
        }
      ]
    },
    {
      "cell_type": "markdown",
      "metadata": {
        "id": "DBTlgtA6Ccr7",
        "colab_type": "text"
      },
      "source": [
        "**Writing files**\n",
        "\n",
        "\n"
      ]
    },
    {
      "cell_type": "code",
      "metadata": {
        "id": "gN0wZfCsDR44",
        "colab_type": "code",
        "colab": {}
      },
      "source": [
        "out_csv ='sunspots.csv'\n",
        "sunspots.to_csv(out_csv)\n",
        "                \n",
        "out_tsv ='sunspots.tsv'\n",
        "sunspots.to_csv(out_tsv , sep='/t')\n",
        "                \n",
        "out_xlsx ='sunspots.xlsx'\n",
        "sunspots.to_excel(out_xlsx)\n",
        "                \n",
        "       \n",
        "                \n",
        "                \n",
        "                \n",
        "                "
      ],
      "execution_count": 0,
      "outputs": []
    },
    {
      "cell_type": "markdown",
      "metadata": {
        "id": "ZgpTceOgHRBj",
        "colab_type": "text"
      },
      "source": [
        "**Plotting with pandas**"
      ]
    },
    {
      "cell_type": "code",
      "metadata": {
        "id": "TNPB-dA0IaJl",
        "colab_type": "code",
        "outputId": "5d6460f9-2f37-4a42-a98e-66f82ef4071a",
        "colab": {
          "base_uri": "https://localhost:8080/",
          "height": 130
        }
      },
      "source": [
        " import matplotlib as ptl\n",
        "  \n",
        "  database['open'].plot(color ='b' , style= '.-', legend= True)\n",
        "  database['close'].plot(color ='r' , style= '.', legend= True)\n",
        "  plt.ax(('2001','2002', 0, 100))\n",
        "  plt.show()\n",
        "  aapl.loc['2001':'2004' , ['open', 'close' , 'high', 'low']].plot()\n",
        "  plt.savefig('aapl.png')\n",
        "  plt.savefig('aapl.jpg')\n",
        "  plt.savefig('aapl.pdf')\n",
        "  plt.show()\n",
        "  \n",
        "  \n",
        "  "
      ],
      "execution_count": 0,
      "outputs": [
        {
          "output_type": "error",
          "ename": "IndentationError",
          "evalue": "ignored",
          "traceback": [
            "\u001b[0;36m  File \u001b[0;32m\"<ipython-input-43-58e3bd74e77f>\"\u001b[0;36m, line \u001b[0;32m3\u001b[0m\n\u001b[0;31m    database['open'].plot(color ='b' , style= '.-', legend= True)\u001b[0m\n\u001b[0m    ^\u001b[0m\n\u001b[0;31mIndentationError\u001b[0m\u001b[0;31m:\u001b[0m unexpected indent\n"
          ]
        }
      ]
    },
    {
      "cell_type": "code",
      "metadata": {
        "id": "IWs3JDVyLJxu",
        "colab_type": "code",
        "colab": {}
      },
      "source": [
        "# Create a plot with color='red'\n",
        "df.plot(color='red')\n",
        "\n",
        "# Add a title\n",
        "plt.title('Temperature in Austin')\n",
        "\n",
        "# Specify the x-axis label\n",
        "plt.xlabel('Hours since midnight August 1, 2010')\n",
        "\n",
        "# Specify the y-axis label\n",
        "plt.ylabel('Temperature (degrees F)')\n",
        "\n",
        "\n",
        "# Display the plot\n",
        "plt.show()"
      ],
      "execution_count": 0,
      "outputs": []
    },
    {
      "cell_type": "code",
      "metadata": {
        "id": "Ute323uIS6_z",
        "colab_type": "code",
        "colab": {}
      },
      "source": [
        "# Plot all columns (default)\n",
        "df.plot()\n",
        "plt.show()\n",
        "\n",
        "# Plot all columns as subplots\n",
        "df.plot(subplots=True)\n",
        "plt.show()\n",
        "\n",
        "# Plot just the Dew Point data\n",
        "column_list1 = ['Dew Point (deg F)']\n",
        "df[column_list1].plot()\n",
        "plt.show()\n",
        "\n",
        "# Plot the Dew Point and Temperature data, but not the Pressure data\n",
        "column_list2 = ['Temperature (deg F)','Dew Point (deg F)']\n",
        "df[column_list2].plot()\n",
        "plt.show()"
      ],
      "execution_count": 0,
      "outputs": []
    },
    {
      "cell_type": "markdown",
      "metadata": {
        "id": "nrzr111pTFM4",
        "colab_type": "text"
      },
      "source": [
        "**Visual exploratory data analysis**\n",
        "\n"
      ]
    },
    {
      "cell_type": "code",
      "metadata": {
        "id": "SdrBlXnVTUUh",
        "colab_type": "code",
        "outputId": "129d4947-3769-4d3b-d8c1-805d8c1c0012",
        "colab": {
          "base_uri": "https://localhost:8080/",
          "height": 34
        }
      },
      "source": [
        "import matplotlib.pyplot as plt\n",
        "iris = pd.read_csv('iris.csv', index_col =0)\n",
        "print(iris.shape)"
      ],
      "execution_count": 0,
      "outputs": [
        {
          "output_type": "stream",
          "text": [
            "(149, 4)\n"
          ],
          "name": "stdout"
        }
      ]
    },
    {
      "cell_type": "code",
      "metadata": {
        "id": "GKD5mPNVUijg",
        "colab_type": "code",
        "outputId": "fa5f94c2-8d4a-4104-a0d7-87b15a284800",
        "colab": {
          "base_uri": "https://localhost:8080/",
          "height": 34
        }
      },
      "source": [
        "col_names= ['sepal_length', 'sepal_width' , 'petal_length', 'petal_width', 'species']\n",
        "iris= pd.read_csv('iris.csv', header =None , names= col_names)\n",
        "print(iris.shape)"
      ],
      "execution_count": 0,
      "outputs": [
        {
          "output_type": "stream",
          "text": [
            "(150, 5)\n"
          ],
          "name": "stdout"
        }
      ]
    },
    {
      "cell_type": "code",
      "metadata": {
        "id": "LaiuNcZStC4a",
        "colab_type": "code",
        "colab": {
          "base_uri": "https://localhost:8080/",
          "height": 284
        },
        "outputId": "49cfe834-5f1f-4ab5-fc3a-ee78e02409fc"
      },
      "source": [
        "iris.plot(x='sepal_length', y='sepal_width')\n",
        "plt.show()"
      ],
      "execution_count": 52,
      "outputs": [
        {
          "output_type": "display_data",
          "data": {
            "image/png": "[encoded data removed]",
            "text/plain": [
              "<Figure size 432x288 with 1 Axes>"
            ]
          },
          "metadata": {
            "tags": []
          }
        }
      ]
    },
    {
      "cell_type": "code",
      "metadata": {
        "id": "f5EvSdUGtqMn",
        "colab_type": "code",
        "colab": {}
      },
      "source": [
        ""
      ],
      "execution_count": 0,
      "outputs": []
    },
    {
      "cell_type": "code",
      "metadata": {
        "id": "XTHy8CcEtp5E",
        "colab_type": "code",
        "colab": {
          "base_uri": "https://localhost:8080/",
          "height": 283
        },
        "outputId": "7b4a20d5-702c-49d3-da5d-a8dee81a7872"
      },
      "source": [
        "iris.plot(x='sepal_length'  , y='sepal_width', kind ='scatter')\n",
        "plt.xlabel('sepal length (cm)')\n",
        "plt.xlabel('sepal width (cm)')\n",
        "plt.show()"
      ],
      "execution_count": 53,
      "outputs": [
        {
          "output_type": "display_data",
          "data": {
            "image/png": "[encoded data removed]",
            "text/plain": [
              "<Figure size 432x288 with 1 Axes>"
            ]
          },
          "metadata": {
            "tags": []
          }
        }
      ]
    },
    {
      "cell_type": "code",
      "metadata": {
        "id": "g1Avo-gLuLCP",
        "colab_type": "code",
        "colab": {
          "base_uri": "https://localhost:8080/",
          "height": 284
        },
        "outputId": "09f5848b-f6d4-4a0a-d1a0-d177929e21f3"
      },
      "source": [
        "iris.plot(x='sepal_length'  , y='sepal_width', kind ='box')\n",
        "plt.xlabel('sepal width (cm)')\n",
        "plt.show()"
      ],
      "execution_count": 54,
      "outputs": [
        {
          "output_type": "display_data",
          "data": {
            "image/png": "[encoded data removed]",
            "text/plain": [
              "<Figure size 432x288 with 1 Axes>"
            ]
          },
          "metadata": {
            "tags": []
          }
        }
      ]
    },
    {
      "cell_type": "code",
      "metadata": {
        "id": "oENU-wyAuevz",
        "colab_type": "code",
        "colab": {
          "base_uri": "https://localhost:8080/",
          "height": 283
        },
        "outputId": "81ee9184-7d2b-46eb-f156-cf00d67c41b8"
      },
      "source": [
        "iris.plot(x='sepal_length'  , y='sepal_width', kind ='hist')\n",
        "plt.xlabel('sepal width (cm)')\n",
        "plt.show()"
      ],
      "execution_count": 55,
      "outputs": [
        {
          "output_type": "display_data",
          "data": {
            "image/png": "[encoded data removed]",
            "text/plain": [
              "<Figure size 432x288 with 1 Axes>"
            ]
          },
          "metadata": {
            "tags": []
          }
        }
      ]
    },
    {
      "cell_type": "code",
      "metadata": {
        "id": "GCiAniP0vkI5",
        "colab_type": "code",
        "colab": {}
      },
      "source": [
        ""
      ],
      "execution_count": 0,
      "outputs": []
    },
    {
      "cell_type": "markdown",
      "metadata": {
        "id": "AERiOXX8uxkJ",
        "colab_type": "text"
      },
      "source": [
        "**Histogram options**\n",
        "\n",
        "\n",
        "bins (integer): number of intervals\n",
        "\n",
        "range(tuple): extrema of bins \n",
        "\n",
        "normed(booled): whether to normalize to one\n",
        "\n",
        "cumulative(booled): compute Cumulative Distribution Function\n",
        "\n"
      ]
    },
    {
      "cell_type": "code",
      "metadata": {
        "id": "27O1PbB5vyuG",
        "colab_type": "code",
        "colab": {
          "base_uri": "https://localhost:8080/",
          "height": 334
        },
        "outputId": "cc585850-cc01-49a6-a313-bd590aa5f361"
      },
      "source": [
        "iris.plot (y ='sepal_width', kind ='hist',\n",
        "         bins=30, range=(4,8), normed =True)\n",
        "plt.xlabel('sepal width (cm)')\n",
        "plt.show()"
      ],
      "execution_count": 60,
      "outputs": [
        {
          "output_type": "stream",
          "text": [
            "/usr/local/lib/python3.6/dist-packages/matplotlib/axes/_axes.py:6521: MatplotlibDeprecationWarning: \n",
            "The 'normed' kwarg was deprecated in Matplotlib 2.1 and will be removed in 3.1. Use 'density' instead.\n",
            "  alternative=\"'density'\", removal=\"3.1\")\n"
          ],
          "name": "stderr"
        },
        {
          "output_type": "display_data",
          "data": {
            "image/png": "[encoded data removed]",
            "text/plain": [
              "<Figure size 432x288 with 1 Axes>"
            ]
          },
          "metadata": {
            "tags": []
          }
        }
      ]
    },
    {
      "cell_type": "code",
      "metadata": {
        "id": "The1yDT84sfF",
        "colab_type": "code",
        "colab": {}
      },
      "source": [
        "# This formats the plots such that they appear on separate rows\n",
        "fig, axes = plt.subplots(nrows=2, ncols=1)\n",
        "\n",
        "# Plot the PDF\n",
        "df.fraction.plot(ax=axes[0], kind='hist', bins=30, normed =True, range=(0,.3))\n",
        "plt.show()\n",
        "\n",
        "# Plot the CDF\n",
        "df.fraction.plot(ax=axes[1], kind='hist', bins=30, normed =True, range=(0,.3))\n",
        "plt.show()"
      ],
      "execution_count": 0,
      "outputs": []
    },
    {
      "cell_type": "markdown",
      "metadata": {
        "id": "h-buHYx94yh3",
        "colab_type": "text"
      },
      "source": [
        "**Statistical exploratory data analysis**\n",
        "\n"
      ]
    },
    {
      "cell_type": "code",
      "metadata": {
        "id": "S7CJuENP4xqD",
        "colab_type": "code",
        "colab": {
          "base_uri": "https://localhost:8080/",
          "height": 297
        },
        "outputId": "7e7be771-4c5e-4744-f268-b430a315df35"
      },
      "source": [
        "iris.describe()"
      ],
      "execution_count": 64,
      "outputs": [
        {
          "output_type": "execute_result",
          "data": {
            "text/html": [
              "<div>\n",
              "<style scoped>\n",
              "    .dataframe tbody tr th:only-of-type {\n",
              "        vertical-align: middle;\n",
              "    }\n",
              "\n",
              "    .dataframe tbody tr th {\n",
              "        vertical-align: top;\n",
              "    }\n",
              "\n",
              "    .dataframe thead th {\n",
              "        text-align: right;\n",
              "    }\n",
              "</style>\n",
              "<table border=\"1\" class=\"dataframe\">\n",
              "  <thead>\n",
              "    <tr style=\"text-align: right;\">\n",
              "      <th></th>\n",
              "      <th>sepal_length</th>\n",
              "      <th>sepal_width</th>\n",
              "      <th>petal_length</th>\n",
              "      <th>petal_width</th>\n",
              "    </tr>\n",
              "  </thead>\n",
              "  <tbody>\n",
              "    <tr>\n",
              "      <th>count</th>\n",
              "      <td>150.000000</td>\n",
              "      <td>150.000000</td>\n",
              "      <td>150.000000</td>\n",
              "      <td>150.000000</td>\n",
              "    </tr>\n",
              "    <tr>\n",
              "      <th>mean</th>\n",
              "      <td>5.843333</td>\n",
              "      <td>3.054000</td>\n",
              "      <td>3.758667</td>\n",
              "      <td>1.198667</td>\n",
              "    </tr>\n",
              "    <tr>\n",
              "      <th>std</th>\n",
              "      <td>0.828066</td>\n",
              "      <td>0.433594</td>\n",
              "      <td>1.764420</td>\n",
              "      <td>0.763161</td>\n",
              "    </tr>\n",
              "    <tr>\n",
              "      <th>min</th>\n",
              "      <td>4.300000</td>\n",
              "      <td>2.000000</td>\n",
              "      <td>1.000000</td>\n",
              "      <td>0.100000</td>\n",
              "    </tr>\n",
              "    <tr>\n",
              "      <th>25%</th>\n",
              "      <td>5.100000</td>\n",
              "      <td>2.800000</td>\n",
              "      <td>1.600000</td>\n",
              "      <td>0.300000</td>\n",
              "    </tr>\n",
              "    <tr>\n",
              "      <th>50%</th>\n",
              "      <td>5.800000</td>\n",
              "      <td>3.000000</td>\n",
              "      <td>4.350000</td>\n",
              "      <td>1.300000</td>\n",
              "    </tr>\n",
              "    <tr>\n",
              "      <th>75%</th>\n",
              "      <td>6.400000</td>\n",
              "      <td>3.300000</td>\n",
              "      <td>5.100000</td>\n",
              "      <td>1.800000</td>\n",
              "    </tr>\n",
              "    <tr>\n",
              "      <th>max</th>\n",
              "      <td>7.900000</td>\n",
              "      <td>4.400000</td>\n",
              "      <td>6.900000</td>\n",
              "      <td>2.500000</td>\n",
              "    </tr>\n",
              "  </tbody>\n",
              "</table>\n",
              "</div>"
            ],
            "text/plain": [
              "       sepal_length  sepal_width  petal_length  petal_width\n",
              "count    150.000000   150.000000    150.000000   150.000000\n",
              "mean       5.843333     3.054000      3.758667     1.198667\n",
              "std        0.828066     0.433594      1.764420     0.763161\n",
              "min        4.300000     2.000000      1.000000     0.100000\n",
              "25%        5.100000     2.800000      1.600000     0.300000\n",
              "50%        5.800000     3.000000      4.350000     1.300000\n",
              "75%        6.400000     3.300000      5.100000     1.800000\n",
              "max        7.900000     4.400000      6.900000     2.500000"
            ]
          },
          "metadata": {
            "tags": []
          },
          "execution_count": 64
        }
      ]
    },
    {
      "cell_type": "code",
      "metadata": {
        "id": "Pp_zoh8H68-n",
        "colab_type": "code",
        "colab": {
          "base_uri": "https://localhost:8080/",
          "height": 34
        },
        "outputId": "2d6749ff-a491-4355-99a1-f0d9c373b561"
      },
      "source": [
        "print(min(iris['sepal_length']))"
      ],
      "execution_count": 66,
      "outputs": [
        {
          "output_type": "stream",
          "text": [
            "4.3\n"
          ],
          "name": "stdout"
        }
      ]
    },
    {
      "cell_type": "code",
      "metadata": {
        "id": "lCr1Gap9--1D",
        "colab_type": "code",
        "colab": {}
      },
      "source": [
        "# Print the minimum value of the Engineering column\n",
        "print(df['Engineering'].min())\n",
        "\n",
        "# Print the maximum value of the Engineering column\n",
        "print(df['Engineering'].max())\n",
        "\n",
        "# Construct the mean percentage per year: mean\n",
        "mean = df.mean(axis='columns')\n",
        "\n",
        "# Plot the average percentage per year\n",
        "mean.plot()\n",
        "\n",
        "# Display the plot\n",
        "plt.show()"
      ],
      "execution_count": 0,
      "outputs": []
    },
    {
      "cell_type": "code",
      "metadata": {
        "id": "JXC_jf8PBevE",
        "colab_type": "code",
        "colab": {}
      },
      "source": [
        "# Print summary statistics of the fare column with .describe()\n",
        "print(df['fare'].describe())\n",
        "\n",
        "# Generate a box plot of the fare column\n",
        "df.fare.plot(x= 'fare' , kind= 'box')\n",
        "\n",
        "# Show the plot\n",
        "plt.show()"
      ],
      "execution_count": 0,
      "outputs": []
    },
    {
      "cell_type": "code",
      "metadata": {
        "id": "qYwdoQZuCLmX",
        "colab_type": "code",
        "colab": {}
      },
      "source": [
        "# Print the number of countries reported in 2015\n",
        "print(df['2015'].count())\n",
        "\n",
        "# Print the 5th and 95th percentiles\n",
        "print(df.quantile([0.05, 0.95]))\n",
        "\n",
        "# Generate a box plot\n",
        "years = ['1800','1850','1900','1950','2000']\n",
        "df[years].plot(kind='box')\n",
        "plt.show()"
      ],
      "execution_count": 0,
      "outputs": []
    },
    {
      "cell_type": "markdown",
      "metadata": {
        "id": "VvQ4e_aSBehC",
        "colab_type": "text"
      },
      "source": [
        ""
      ]
    },
    {
      "cell_type": "markdown",
      "metadata": {
        "id": "n5PDfuA1CMYP",
        "colab_type": "text"
      },
      "source": [
        ""
      ]
    }
  ]
}