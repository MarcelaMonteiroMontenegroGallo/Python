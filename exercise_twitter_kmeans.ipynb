{
  "nbformat": 4,
  "nbformat_minor": 0,
  "metadata": {
    "colab": {
      "name": "exercise_twitter_kmeans.ipynb",
      "provenance": [],
      "collapsed_sections": [],
      "include_colab_link": true
    },
    "kernelspec": {
      "name": "python3",
      "display_name": "Python 3"
    }
  },
  "cells": [
    {
      "cell_type": "markdown",
      "metadata": {
        "id": "view-in-github",
        "colab_type": "text"
      },
      "source": [
        "<a href=\"https://colab.research.google.com/github/MarcelaMonteiroMontenegroGallo/Python/blob/master/exercise_twitter_kmeans.ipynb\" target=\"_parent\"><img src=\"https://colab.research.google.com/assets/colab-badge.svg\" alt=\"Open In Colab\"/></a>"
      ]
    },
    {
      "cell_type": "code",
      "metadata": {
        "id": "mrcygyxjakoq",
        "colab_type": "code",
        "colab": {}
      },
      "source": [
        "!pip3 install -q numpy scipy pandas matplotlib twython"
      ],
      "execution_count": 0,
      "outputs": []
    },
    {
      "cell_type": "code",
      "metadata": {
        "id": "WeMhTv06SuLi",
        "colab_type": "code",
        "colab": {}
      },
      "source": [
        "# Import dependencies\n",
        "import pandas as pd\n",
        "import matplotlib.pyplot as plt\n",
        "from twython import Twython\n",
        "from sklearn.feature_extraction.text import CountVectorizer, TfidfTransformer"
      ],
      "execution_count": 0,
      "outputs": []
    },
    {
      "cell_type": "code",
      "metadata": {
        "id": "ebwA197tSSps",
        "colab_type": "code",
        "colab": {}
      },
      "source": [
        "# Credentials\n",
        "APP_KEY = 'B6cZTTHoeMr96AFfOsbVM2lGG'\n",
        "APP_SECRET = 'QhGt5p4TsGVK8tOds1fWc7hEDIFfrgnTW94fenpl1WneWLWqfz'\n",
        "OAUTH_TOKEN = '167813147-tP4vOpAZFlcfRLlqXWMfRqcBW3yvjNpzRAborOUu'\n",
        "OAUTH_TOKEN_SECRET = '8UshaZNMspgdN2kRuSlkPbBJfYdu3UDzOzZt0R1F8JoU7'"
      ],
      "execution_count": 0,
      "outputs": []
    },
    {
      "cell_type": "code",
      "metadata": {
        "id": "KXclSfDMSm9M",
        "colab_type": "code",
        "colab": {}
      },
      "source": [
        "# Conn on twitter\n",
        "twitter = Twython(APP_KEY, APP_SECRET, OAUTH_TOKEN, OAUTH_TOKEN_SECRET)\n",
        "\n",
        "twitter.verify_credentials()\n",
        "twitter.get_home_timeline()"
      ],
      "execution_count": 0,
      "outputs": []
    },
    {
      "cell_type": "code",
      "metadata": {
        "id": "gpflI08QhlUY",
        "colab_type": "code",
        "colab": {}
      },
      "source": [
        "# Query on twitter\n",
        "query = {\n",
        "          'q': '#trump',\n",
        "          'count': 100,\n",
        "          'lang': 'en',\n",
        "          'result_type': 'mixed'\n",
        "        }\n",
        "\n",
        "result = twitter.search(**query)\n",
        "print(result)"
      ],
      "execution_count": 0,
      "outputs": []
    },
    {
      "cell_type": "code",
      "metadata": {
        "id": "qsJjYZpK95kE",
        "colab_type": "code",
        "colab": {}
      },
      "source": [
        "dict_ = {'user': [], 'date': [], 'text': [], 'favorite_count': []}  \n",
        "for status in result['statuses']:  \n",
        "    dict_['user'].append(status['user']['screen_name'])\n",
        "    dict_['date'].append(status['created_at'])\n",
        "    dict_['text'].append(status['text'])\n",
        "    dict_['favorite_count'].append(status['favorite_count'])\n",
        "\n",
        "# Structure data in a pandas DataFrame for easier manipulation\n",
        "df = pd.DataFrame(dict_)  \n",
        "\n",
        "print(df.shape)\n",
        "\n",
        "df.sort_values(by='favorite_count')"
      ],
      "execution_count": 0,
      "outputs": []
    },
    {
      "cell_type": "code",
      "metadata": {
        "id": "nNhwNAHYSZSL",
        "colab_type": "code",
        "colab": {}
      },
      "source": [
        "# Creating TDIDF Matrix\n",
        "count_vect = CountVectorizer()\n",
        "\n",
        "X_TF = count_vect.fit_transform(df['text'])\n",
        "\n",
        "tfidf_transformer = TfidfTransformer()\n",
        "X = tfidf_transformer.fit_transform(X_TF)\n",
        "print(type(X))\n",
        "print(X.shape)\n",
        "print(X)\n"
      ],
      "execution_count": 0,
      "outputs": []
    },
    {
      "cell_type": "code",
      "metadata": {
        "id": "0TWzlNbFUnUA",
        "colab_type": "code",
        "colab": {}
      },
      "source": [
        "# Trainning cluster \n",
        "from sklearn.cluster import KMeans\n",
        "\n",
        "kmeans = KMeans(n_clusters=2, random_state=0).fit(X)"
      ],
      "execution_count": 0,
      "outputs": []
    },
    {
      "cell_type": "code",
      "metadata": {
        "id": "xCSeMSzKWbj7",
        "colab_type": "code",
        "colab": {}
      },
      "source": [
        "# Verify results old fashion way\n",
        "print(df.iloc[2]['text'])\n",
        "\n",
        "for index, row in df.iterrows():\n",
        "   print(str(index) + ':' + row['text'])\n",
        "    \n",
        "labels = kmeans.labels_\n",
        "centers = kmeans.cluster_centers_\n",
        "\n",
        "print(labels)\n",
        "print(centers)"
      ],
      "execution_count": 0,
      "outputs": []
    },
    {
      "cell_type": "code",
      "metadata": {
        "id": "--AwoKaFXUy9",
        "colab_type": "code",
        "outputId": "4f4ba20d-8419-49b1-b0e1-bad0a4874e03",
        "colab": {
          "base_uri": "https://localhost:8080/",
          "height": 365
        }
      },
      "source": [
        "import matplotlib.pyplot as plt\n",
        "\n",
        "X_array = X.toarray()\n",
        "Y = kmeans.predict(X)\n",
        "\n",
        "print(len(X_array[:,0]))\n",
        "\n",
        "plt.scatter(X_array[:, 0], X_array[:, 1], c=Y, s=50, cmap='viridis')\n",
        "centers = kmeans.cluster_centers_\n",
        "plt.scatter(centers[:, 0], centers[:, 1], c='black', s=200, alpha=0.5);\n"
      ],
      "execution_count": 0,
      "outputs": [
        {
          "output_type": "stream",
          "text": [
            "100\n"
          ],
          "name": "stdout"
        },
        {
          "output_type": "display_data",
          "data": {
            "image/png": "[encoded data removed]",
            "text/plain": [
              "<matplotlib.figure.Figure at 0x7f3b1305e550>"
            ]
          },
          "metadata": {
            "tags": []
          }
        }
      ]
    }
  ]
}