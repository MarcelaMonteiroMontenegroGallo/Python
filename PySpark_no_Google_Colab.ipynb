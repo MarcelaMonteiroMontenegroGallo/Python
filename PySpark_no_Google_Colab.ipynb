{
  "nbformat": 4,
  "nbformat_minor": 0,
  "metadata": {
    "colab": {
      "name": "PySpark no Google Colab.ipynb",
      "provenance": [],
      "include_colab_link": true
    },
    "kernelspec": {
      "name": "python3",
      "display_name": "Python 3"
    }
  },
  "cells": [
    {
      "cell_type": "markdown",
      "metadata": {
        "id": "view-in-github",
        "colab_type": "text"
      },
      "source": [
        "<a href=\"https://colab.research.google.com/github/MarcelaMonteiroMontenegroGallo/Python/blob/master/PySpark_no_Google_Colab.ipynb\" target=\"_parent\"><img src=\"https://colab.research.google.com/assets/colab-badge.svg\" alt=\"Open In Colab\"/></a>"
      ]
    },
    {
      "cell_type": "code",
      "metadata": {
        "id": "Oz_8sWI7PKEl"
      },
      "source": [
        "# instalar as dependências\n",
        "!apt-get install openjdk-8-jdk-headless -qq > /dev/null\n",
        "!wget -q https://archive.apache.org/dist/spark/spark-2.4.4/spark-2.4.4-bin-hadoop2.7.tgz\n",
        "!tar xf spark-2.4.4-bin-hadoop2.7.tgz\n",
        "!pip install -q findspark"
      ],
      "execution_count": 1,
      "outputs": []
    },
    {
      "cell_type": "code",
      "metadata": {
        "id": "RkpG11RQPbRf"
      },
      "source": [
        "# configurar as variáveis de ambiente\n",
        "import os\n",
        "os.environ[\"JAVA_HOME\"] = \"/usr/lib/jvm/java-8-openjdk-amd64\"\n",
        "os.environ[\"SPARK_HOME\"] = \"/content/spark-2.4.4-bin-hadoop2.7\"\n",
        "\n",
        "# tornar o pyspark \"importável\"\n",
        "import findspark\n",
        "findspark.init('spark-2.4.4-bin-hadoop2.7')"
      ],
      "execution_count": 32,
      "outputs": []
    },
    {
      "cell_type": "code",
      "metadata": {
        "id": "gpJqWggpPKXO"
      },
      "source": [
        "from os.path import abspath\n",
        "from pyspark.sql import SparkSession\n",
        "from pyspark import SparkConf\n"
      ],
      "execution_count": 62,
      "outputs": []
    },
    {
      "cell_type": "code",
      "metadata": {
        "id": "xCBQyAszMFdn"
      },
      "source": [
        "# set default location for \n",
        "warehouse_location = abspath('spark-warehouse')"
      ],
      "execution_count": 63,
      "outputs": []
    },
    {
      "cell_type": "code",
      "metadata": {
        "id": "czjItj0xNp50"
      },
      "source": [
        "warehouse_location = abspath('spark-warehouse')"
      ],
      "execution_count": 68,
      "outputs": []
    },
    {
      "cell_type": "markdown",
      "metadata": {
        "id": "sYWY_9I5NhDA"
      },
      "source": [
        "\n",
        "**init session**"
      ]
    },
    {
      "cell_type": "code",
      "metadata": {
        "id": "X-szAnFgNKpQ"
      },
      "source": [
        "    spark = SparkSession \\\n",
        "            .builder.master(\"local\") \\\n",
        "            .appName(\"etl-yelp-py\") \\\n",
        "            .config(\"spark.sql.warehouse.dir\", abspath('spark-warehouse')) \\\n",
        "            .enableHiveSupport() \\\n",
        "            .getOrCreate()\n"
      ],
      "execution_count": 69,
      "outputs": []
    },
    {
      "cell_type": "markdown",
      "metadata": {
        "id": "icZPvzV0NzF-"
      },
      "source": [
        "**show configured parameters**\n",
        "\n"
      ]
    },
    {
      "cell_type": "code",
      "metadata": {
        "colab": {
          "base_uri": "https://localhost:8080/"
        },
        "id": "-OKK-N7bN8Kk",
        "outputId": "95397375-1d8e-4f8f-8da2-67eea98d7b7f"
      },
      "source": [
        "print(SparkConf().getAll())"
      ],
      "execution_count": 70,
      "outputs": [
        {
          "output_type": "stream",
          "text": [
            "[('spark.master', 'local[*]'), ('spark.submit.deployMode', 'client'), ('spark.ui.showConsoleProgress', 'true'), ('spark.app.name', 'pyspark-shell')]\n"
          ],
          "name": "stdout"
        }
      ]
    },
    {
      "cell_type": "markdown",
      "metadata": {
        "id": "3Y9DZZaQOX2g"
      },
      "source": [
        "**set log level**"
      ]
    },
    {
      "cell_type": "code",
      "metadata": {
        "id": "O1rloB1mOAEf"
      },
      "source": [
        "spark.sparkContext.setLogLevel(\"INFO\")"
      ],
      "execution_count": 71,
      "outputs": []
    },
    {
      "cell_type": "markdown",
      "metadata": {
        "id": "TEu8mwXPOnlH"
      },
      "source": [
        "set dynamic input file [hard-coded]\n",
        "\n",
        "can be changed for input parameters [spark-submit]"
      ]
    },
    {
      "cell_type": "code",
      "metadata": {
        "id": "AqISRzcEO02V"
      },
      "source": [
        "get_users_file = \"/home/user.json\""
      ],
      "execution_count": 73,
      "outputs": []
    },
    {
      "cell_type": "code",
      "metadata": {
        "id": "5Oqzyb8IOuGT"
      },
      "source": [
        "df_user = spark.read \\\n",
        "        .format(\"json\") \\\n",
        "        .option(\"inferSchema\", \"true\") \\\n",
        "        .option(\"header\", \"true\") \\\n",
        "        .json(get_users_file)"
      ],
      "execution_count": 74,
      "outputs": []
    },
    {
      "cell_type": "code",
      "metadata": {
        "colab": {
          "base_uri": "https://localhost:8080/"
        },
        "id": "vVEr_QGmQD-M",
        "outputId": "a39ff78a-54a9-468e-bfa3-e3997e5d9ebd"
      },
      "source": [
        "  print(df_user.rdd.getNumPartitions())"
      ],
      "execution_count": 75,
      "outputs": [
        {
          "output_type": "stream",
          "text": [
            "1\n"
          ],
          "name": "stdout"
        }
      ]
    },
    {
      "cell_type": "code",
      "metadata": {
        "colab": {
          "base_uri": "https://localhost:8080/"
        },
        "id": "4PkZYRC8QHVa",
        "outputId": "3c027353-2183-4878-b9e3-de478629cfdc"
      },
      "source": [
        " df_user.printSchema()"
      ],
      "execution_count": 76,
      "outputs": [
        {
          "output_type": "stream",
          "text": [
            "root\n",
            " |-- address: struct (nullable = true)\n",
            " |    |-- city: string (nullable = true)\n",
            " |    |-- coordinates: struct (nullable = true)\n",
            " |    |    |-- lat: double (nullable = true)\n",
            " |    |    |-- lng: double (nullable = true)\n",
            " |    |-- country: string (nullable = true)\n",
            " |    |-- state: string (nullable = true)\n",
            " |    |-- street_address: string (nullable = true)\n",
            " |    |-- street_name: string (nullable = true)\n",
            " |    |-- zip_code: string (nullable = true)\n",
            " |-- avatar: string (nullable = true)\n",
            " |-- credit_card: struct (nullable = true)\n",
            " |    |-- cc_number: string (nullable = true)\n",
            " |-- date_of_birth: string (nullable = true)\n",
            " |-- dt_current_timestamp: long (nullable = true)\n",
            " |-- email: string (nullable = true)\n",
            " |-- employment: struct (nullable = true)\n",
            " |    |-- key_skill: string (nullable = true)\n",
            " |    |-- title: string (nullable = true)\n",
            " |-- first_name: string (nullable = true)\n",
            " |-- gender: string (nullable = true)\n",
            " |-- id: long (nullable = true)\n",
            " |-- last_name: string (nullable = true)\n",
            " |-- password: string (nullable = true)\n",
            " |-- phone_number: string (nullable = true)\n",
            " |-- social_insurance_number: string (nullable = true)\n",
            " |-- subscription: struct (nullable = true)\n",
            " |    |-- payment_method: string (nullable = true)\n",
            " |    |-- plan: string (nullable = true)\n",
            " |    |-- status: string (nullable = true)\n",
            " |    |-- term: string (nullable = true)\n",
            " |-- uid: string (nullable = true)\n",
            " |-- user_id: long (nullable = true)\n",
            " |-- username: string (nullable = true)\n",
            "\n"
          ],
          "name": "stdout"
        }
      ]
    },
    {
      "cell_type": "code",
      "metadata": {
        "colab": {
          "base_uri": "https://localhost:8080/"
        },
        "id": "o2xUFmI8QNN7",
        "outputId": "9322c763-40f7-4ce3-e93b-4968145b79bb"
      },
      "source": [
        " df_user.show()"
      ],
      "execution_count": 77,
      "outputs": [
        {
          "output_type": "stream",
          "text": [
            "+--------------------+--------------------+--------------------+-------------+--------------------+--------------------+--------------------+----------+-----------+----+----------+----------+--------------------+-----------------------+--------------------+--------------------+-------+-----------------+\n",
            "|             address|              avatar|         credit_card|date_of_birth|dt_current_timestamp|               email|          employment|first_name|     gender|  id| last_name|  password|        phone_number|social_insurance_number|        subscription|                 uid|user_id|         username|\n",
            "+--------------------+--------------------+--------------------+-------------+--------------------+--------------------+--------------------+----------+-----------+----+----------+----------+--------------------+-----------------------+--------------------+--------------------+-------+-----------------+\n",
            "|[East Horaciobury...|https://robohash....|[6771-8988-9684-6...|   1983-03-24|       1619454335884|marcos.collier@em...|[Networking skill...|    Marcos|   Bigender|3407|   Collier|ufIzjlhi0K|    +84 471-131-8345|              245507645|[Visa checkout, S...|2e054a22-0104-4ef...|   3395|   marcos.collier|\n",
            "|[Kleintown, [-6.9...|https://robohash....|     [4832673613438]|   1986-05-21|       1619454335884|elina.hills@email...|[Organisation, Le...|     Elina| Non-binary|7864|     Hills|NQqJ9upwbU|+850 780.248.8694...|              978917185|[Credit card, Fre...|f6ca0411-e6f8-452...|   1556|      elina.hills|\n",
            "|[Jonathonmouth, [...|https://robohash....|[6771-8926-3004-5...|   1959-05-26|       1619454335884|enedina.schroeder...|[Networking skill...|   Enedina|     Female|6212| Schroeder|jxTmGRCfZ9|+49 (357) 871-287...|              495887457|[Alipay, Free Tri...|e2b640e9-0389-460...|   1879|enedina.schroeder|\n",
            "|[Warrenport, [49....|https://robohash....|[4491-7034-8120-8...|   1994-01-21|       1619454335884|colin.ryan@email.com|[Organisation, In...|     Colin|       Male| 701|      Ryan|h0AuYD4rpG|+597 (964) 450-26...|              782251607|[Money transfer, ...|62f9e9b7-9ee3-4a5...|   7805|       colin.ryan|\n",
            "|[West Adalberto, ...|https://robohash....|[5469-7988-5658-5...|   1987-12-25|       1619454335884|dallas.boyle@emai...|[Technical savvy,...|    Dallas| Polygender|9458|     Boyle|4M9yV3WE8F|+51 1-961-851-603...|              923927008|[Bitcoins, Standa...|ccc41f59-cbce-4c5...|   3982|     dallas.boyle|\n",
            "|[Cristshire, [65....|https://robohash....|[5444-6773-5083-6...|   1988-12-04|       1619454335884|grover.towne@emai...|[Proactive, Inves...|    Grover|    Agender|2342|     Towne|Z2UVnSJtBo|+976 (783) 329-97...|              460966344|[Cash, Premium, B...|0a2a8856-9b79-4ae...|   7274|     grover.towne|\n",
            "|[Albafort, [-13.6...|https://robohash....|[5157-7137-7045-6...|   2000-04-24|       1619454335884|dexter.schmitt@em...|[Leadership, Dyna...|    Dexter|Genderfluid| 669|   Schmitt|lZLChf37zD|+245 514-976-1757...|              290769637|[Google Pay, Plat...|3dcba882-69ba-4ba...|   3184|   dexter.schmitt|\n",
            "|[Lavernburgh, [85...|https://robohash....|[5358-5780-0339-5...|   1960-05-21|       1619454335884|novella.weber@ema...|[Problem solving,...|   Novella|Genderqueer| 501|     Weber|zNcjIeDa38|   +291 468-081-9493|              946655081|[Paypal, Standard...|8832153c-b347-457...|    550|    novella.weber|\n",
            "|[South Francieton...|https://robohash....|     [4449227505729]|   1986-01-21|       1619454335884|lesley.mccullough...|[Leadership, Nati...|    Lesley|       Male|5029|McCullough|hIZvu1Lq4B|+1-264 (798) 347-...|              545823551|[Apple Pay, Basic...|b544eeea-6036-484...|   8365|lesley.mccullough|\n",
            "|[Youngborough, [-...|https://robohash....|     [4495007916032]|   1958-11-16|       1619454335884|marti.marks@email...|[Networking skill...|     Marti|   Bigender|4943|     Marks|JNWtYDeXx0|+994 960-290-2894...|              260447800|[Debit card, Esse...|8289f71e-3c1e-4f0...|   4942|      marti.marks|\n",
            "|[Rolandoland, [19...|https://robohash....|[5537-1356-8962-3...|   1995-06-07|       1619454335884|shawnna.keebler@e...|[Work under press...|   Shawnna|Genderfluid|5873|   Keebler|defOCVrK0Q|+65 809.932.3072 ...|              183268424|[Apple Pay, Bronz...|6958e47b-34ae-49e...|   8327|  shawnna.keebler|\n",
            "|[East Brentonboro...|https://robohash....|[4762-7636-6178-4...|   1968-10-07|       1619454335884|guillermo.beahan@...|[Self-motivated, ...| Guillermo|   Bigender|3047|    Beahan|OZw3TgLsJc|+7-7 471-769-9675...|              551484405|[Money transfer, ...|256a763d-f2ba-42c...|   9464| guillermo.beahan|\n",
            "|[Shauntafort, [47...|https://robohash....|     [4114413506473]|   1964-06-22|       1619454335884|sid.bechtelar@ema...|[Networking skill...|       Sid| Non-binary| 985| Bechtelar|Cr9lMzIhT2|+973 (434) 728-90...|              559005574|[Bitcoins, Silver...|4c83a3e2-ea35-4be...|   4123|    sid.bechtelar|\n",
            "|[South Velvafort,...|https://robohash....|[6771-8962-5549-9...|   2001-11-08|       1619454335884|merrill.upton@ema...|[Networking skill...|   Merrill|     Female| 450|     Upton|1rTzSG6R4K|+386 1-766-394-51...|              101176634|[Debit card, Gold...|871e5086-2a09-4cd...|   2281|    merrill.upton|\n",
            "|[Jannatown, [75.5...|https://robohash....|[5116-3331-2229-4...|   1999-12-08|       1619454335884|felipe.ward@email...|[Proactive, Distr...|    Felipe|    Agender|7952|      Ward|1dR58oZQUS| +508 (834) 497-5782|              549473841|[Cheque, Diamond,...|9e3c0abe-d5be-4c0...|   6998|      felipe.ward|\n",
            "|[Jeanettshire, [-...|https://robohash....|[5359-6100-8339-3...|   1990-08-26|       1619454335884|willie.walsh@emai...|[Self-motivated, ...|    Willie|       Male| 627|     Walsh|kwRomz7eWt| +298 (489) 731-0047|              609639943|[Paypal, Basic, A...|d3a2e496-2ef7-4c4...|   7440|     willie.walsh|\n",
            "|[New Brandon, [66...|https://robohash....|[6771-8976-2169-5...|   1976-07-25|       1619454335884|jae.krajcik@email...|[Proactive, Forwa...|       Jae| Polygender| 183|   Krajcik|XVpE8sGHLA|+265 856-653-2818...|              476266705|[WeChat Pay, Plat...|ab738202-17ad-4b8...|   8397|      jae.krajcik|\n",
            "|[East Issac, [16....|https://robohash....|     [4218730980731]|   1979-08-06|       1619454335884|wilfredo.bailey@e...|[Technical savvy,...|  Wilfredo| Polygender|2952|    Bailey|aGJUelHT4B|+509 280.827.2408...|              386043608|[Paypal, Student,...|2c5a2e3a-0948-413...|   9437|  wilfredo.bailey|\n",
            "|[Lake Briannefurt...|https://robohash....|[4942-3922-5870-2...|   2001-09-19|       1619454335884|josefa.marvin@ema...|[Technical savvy,...|    Josefa|     Female|2707|    Marvin|jk8vq2UJD5|+598 467-462-8025...|              792980278|[Credit card, Sta...|be8df221-c2a8-4c9...|   3148|    josefa.marvin|\n",
            "|[North Lucila, [5...|https://robohash....|[5347-1485-1536-1...|   1995-04-25|       1619454335884|loyd.hintz@email.com|[Work under press...|      Loyd| Polygender|7379|     Hintz|bqUAxmHw1u|+44 155-823-8878 ...|              217526789|[Visa checkout, P...|275bacf0-95bb-4fb...|   2535|       loyd.hintz|\n",
            "+--------------------+--------------------+--------------------+-------------+--------------------+--------------------+--------------------+----------+-----------+----+----------+----------+--------------------+-----------------------+--------------------+--------------------+-------+-----------------+\n",
            "only showing top 20 rows\n",
            "\n"
          ],
          "name": "stdout"
        }
      ]
    },
    {
      "cell_type": "code",
      "metadata": {
        "colab": {
          "base_uri": "https://localhost:8080/"
        },
        "id": "LmKQfByUQRlX",
        "outputId": "d28bd659-273a-49f7-82ec-5d2d398f88b9"
      },
      "source": [
        "df_user.count()"
      ],
      "execution_count": 78,
      "outputs": [
        {
          "output_type": "execute_result",
          "data": {
            "text/plain": [
              "100"
            ]
          },
          "metadata": {
            "tags": []
          },
          "execution_count": 78
        }
      ]
    },
    {
      "cell_type": "code",
      "metadata": {
        "id": "YeVyHUwXQVJ5"
      },
      "source": [
        "df_user.createOrReplaceTempView(\"user\")"
      ],
      "execution_count": 79,
      "outputs": []
    },
    {
      "cell_type": "code",
      "metadata": {
        "id": "pWJsoM4SQcEy"
      },
      "source": [
        "df_join = spark.sql(\"\"\"\n",
        "        SELECT username ,email\n",
        "        FROM user AS u\n",
        "      \n",
        "    \"\"\")\n"
      ],
      "execution_count": 86,
      "outputs": []
    },
    {
      "cell_type": "code",
      "metadata": {
        "colab": {
          "base_uri": "https://localhost:8080/"
        },
        "id": "AJ3GRkA-Q9QJ",
        "outputId": "d39af5c6-ab68-48b0-f3c6-4862df789c50"
      },
      "source": [
        "df_join.explain()"
      ],
      "execution_count": 87,
      "outputs": [
        {
          "output_type": "stream",
          "text": [
            "== Physical Plan ==\n",
            "*(1) Project [username#48, email#36]\n",
            "+- *(1) FileScan json [email#36,username#48] Batched: false, Format: JSON, Location: InMemoryFileIndex[file:/home/user.json], PartitionFilters: [], PushedFilters: [], ReadSchema: struct<email:string,username:string>\n"
          ],
          "name": "stdout"
        }
      ]
    },
    {
      "cell_type": "code",
      "metadata": {
        "colab": {
          "base_uri": "https://localhost:8080/"
        },
        "id": "ReczQpQRRCzc",
        "outputId": "024a6d60-f8e4-4845-d4f9-4f4adf9e2e6f"
      },
      "source": [
        "df_join.count()\n"
      ],
      "execution_count": 88,
      "outputs": [
        {
          "output_type": "execute_result",
          "data": {
            "text/plain": [
              "100"
            ]
          },
          "metadata": {
            "tags": []
          },
          "execution_count": 88
        }
      ]
    },
    {
      "cell_type": "code",
      "metadata": {
        "colab": {
          "base_uri": "https://localhost:8080/"
        },
        "id": "v-YmNfdtRFyK",
        "outputId": "99f7e6f8-de89-4665-e585-eede3b19a65a"
      },
      "source": [
        "df_join.show()"
      ],
      "execution_count": 89,
      "outputs": [
        {
          "output_type": "stream",
          "text": [
            "+-----------------+--------------------+\n",
            "|         username|               email|\n",
            "+-----------------+--------------------+\n",
            "|   marcos.collier|marcos.collier@em...|\n",
            "|      elina.hills|elina.hills@email...|\n",
            "|enedina.schroeder|enedina.schroeder...|\n",
            "|       colin.ryan|colin.ryan@email.com|\n",
            "|     dallas.boyle|dallas.boyle@emai...|\n",
            "|     grover.towne|grover.towne@emai...|\n",
            "|   dexter.schmitt|dexter.schmitt@em...|\n",
            "|    novella.weber|novella.weber@ema...|\n",
            "|lesley.mccullough|lesley.mccullough...|\n",
            "|      marti.marks|marti.marks@email...|\n",
            "|  shawnna.keebler|shawnna.keebler@e...|\n",
            "| guillermo.beahan|guillermo.beahan@...|\n",
            "|    sid.bechtelar|sid.bechtelar@ema...|\n",
            "|    merrill.upton|merrill.upton@ema...|\n",
            "|      felipe.ward|felipe.ward@email...|\n",
            "|     willie.walsh|willie.walsh@emai...|\n",
            "|      jae.krajcik|jae.krajcik@email...|\n",
            "|  wilfredo.bailey|wilfredo.bailey@e...|\n",
            "|    josefa.marvin|josefa.marvin@ema...|\n",
            "|       loyd.hintz|loyd.hintz@email.com|\n",
            "+-----------------+--------------------+\n",
            "only showing top 20 rows\n",
            "\n"
          ],
          "name": "stdout"
        }
      ]
    },
    {
      "cell_type": "code",
      "metadata": {
        "id": "WXy5HlGGwVdV"
      },
      "source": [
        "spark.stop()"
      ],
      "execution_count": 90,
      "outputs": []
    }
  ]
}