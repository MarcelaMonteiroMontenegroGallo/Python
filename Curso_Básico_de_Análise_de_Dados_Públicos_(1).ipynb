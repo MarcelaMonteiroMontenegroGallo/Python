{
  "nbformat": 4,
  "nbformat_minor": 0,
  "metadata": {
    "kernelspec": {
      "display_name": "Python 3",
      "language": "python",
      "name": "python3"
    },
    "language_info": {
      "codemirror_mode": {
        "name": "ipython",
        "version": 3
      },
      "file_extension": ".py",
      "mimetype": "text/x-python",
      "name": "python",
      "nbconvert_exporter": "python",
      "pygments_lexer": "ipython3",
      "version": "3.7.3"
    },
    "colab": {
      "name": "Curso Básico de Análise de Dados Públicos (1).ipynb",
      "provenance": [],
      "include_colab_link": true
    }
  },
  "cells": [
    {
      "cell_type": "markdown",
      "metadata": {
        "id": "view-in-github",
        "colab_type": "text"
      },
      "source": [
        "<a href=\"https://colab.research.google.com/github/MarcelaMonteiroMontenegroGallo/Python/blob/master/Curso_B%C3%A1sico_de_An%C3%A1lise_de_Dados_P%C3%BAblicos_(1).ipynb\" target=\"_parent\"><img src=\"https://colab.research.google.com/assets/colab-badge.svg\" alt=\"Open In Colab\"/></a>"
      ]
    },
    {
      "cell_type": "markdown",
      "metadata": {
        "id": "znw2CKf71Yes",
        "colab_type": "text"
      },
      "source": [
        "**Introdução**\n",
        "--------------------\n",
        "\n",
        "Créditos: Curso de Jornalismo Computacional, de Columbia, dado neste ano.\n",
        "\n",
        "Para instalação do Python e de todas as bibliotecas, siga [estes passos](bit.ly/pybrpandas)\n",
        "\n",
        "Estamos num ambiente chamado Jupyter Notebook, nele você pode trabalhar suas Análises. Podemos inserir textos em um formato chamado Markdown, ou também códigos, que são instruções para o computador, em alguma linguagem, como Python, R ou Julia. No help você poderá visualizar todas as teclas de atalho. Iremos usar Shift-Enter para executar códigos numa célula e Alt-Enter para criar uma nova embaixo"
      ]
    },
    {
      "cell_type": "code",
      "metadata": {
        "id": "oshbin541Yet",
        "colab_type": "code",
        "colab": {}
      },
      "source": [
        "12 + 30"
      ],
      "execution_count": 0,
      "outputs": []
    },
    {
      "cell_type": "code",
      "metadata": {
        "id": "LIs_6QBn1Yew",
        "colab_type": "code",
        "colab": {}
      },
      "source": [
        "resp = 42\n",
        "print (f'A resposta para tudo é {resp}')"
      ],
      "execution_count": 0,
      "outputs": []
    },
    {
      "cell_type": "markdown",
      "metadata": {
        "id": "9eC8tTwT1Yez",
        "colab_type": "text"
      },
      "source": [
        "Podemos associar um nome para um valor, colocando o nome à esquerda"
      ]
    },
    {
      "cell_type": "code",
      "metadata": {
        "id": "luz7axKF1Ye0",
        "colab_type": "code",
        "colab": {}
      },
      "source": [
        "type(42)"
      ],
      "execution_count": 0,
      "outputs": []
    },
    {
      "cell_type": "markdown",
      "metadata": {
        "id": "oDqA6Dz21Ye4",
        "colab_type": "text"
      },
      "source": [
        "O tipo mais básico de Dado é um número inteiro, como usamos para contar"
      ]
    },
    {
      "cell_type": "code",
      "metadata": {
        "id": "sTEnDjdj1Ye5",
        "colab_type": "code",
        "colab": {}
      },
      "source": [
        "type(1/2)"
      ],
      "execution_count": 0,
      "outputs": []
    },
    {
      "cell_type": "markdown",
      "metadata": {
        "id": "K99CjrYU1Ye8",
        "colab_type": "text"
      },
      "source": [
        "O que significa **float**? O computador armazena e trabalha de forma diferente números inteiros e números que possuem casas decimais. Gastos da Câmara costumam ser números com casas decimais. O número de emendas votadas não. No notebook podemos inserir vídeos do YouTube. Abaixo uma explicação detalhada sobre o tipo float."
      ]
    },
    {
      "cell_type": "code",
      "metadata": {
        "id": "kjtrCY5N1Ye9",
        "colab_type": "code",
        "colab": {}
      },
      "source": [
        "from IPython.display import YouTubeVideo\n",
        "YouTubeVideo('PZRI1IfStY0')"
      ],
      "execution_count": 0,
      "outputs": []
    },
    {
      "cell_type": "markdown",
      "metadata": {
        "id": "Fi8a__LY1YfA",
        "colab_type": "text"
      },
      "source": [
        "Números são usados nestas duas formas de Dados, outra forma são textos, como nome dos parlamentares, seus partidos."
      ]
    },
    {
      "cell_type": "code",
      "metadata": {
        "id": "HxLygDxt1YfB",
        "colab_type": "code",
        "colab": {}
      },
      "source": [
        "type ('Podemos ler os Tweets do nosso atual presidente?')"
      ],
      "execution_count": 0,
      "outputs": []
    },
    {
      "cell_type": "code",
      "metadata": {
        "id": "LpiX1HC11YfD",
        "colab_type": "code",
        "colab": {}
      },
      "source": [
        "frase = 'Podemos ler os Tweets do nosso atual presidente?'\n",
        "frase + ' Sim, vamos fazer isso no curso, com ajuda do Python.'"
      ],
      "execution_count": 0,
      "outputs": []
    },
    {
      "cell_type": "markdown",
      "metadata": {
        "id": "bfANA4Kz1YfI",
        "colab_type": "text"
      },
      "source": [
        "Vemos aqui como a natureza de um Dado muda a operação. O operador adição soma dois números, porém concatena duas strings. E o que será de uma multiplicação?"
      ]
    },
    {
      "cell_type": "code",
      "metadata": {
        "id": "yTsYPgLA1YfJ",
        "colab_type": "code",
        "colab": {}
      },
      "source": [
        "'Tweet ' * 3"
      ],
      "execution_count": 0,
      "outputs": []
    },
    {
      "cell_type": "markdown",
      "metadata": {
        "id": "ynQmWpEe1YfN",
        "colab_type": "text"
      },
      "source": [
        "Note que o espaço conta como um caracter na string, como qualquer outro."
      ]
    },
    {
      "cell_type": "markdown",
      "metadata": {
        "id": "Bb_a5Vle1YfO",
        "colab_type": "text"
      },
      "source": [
        "Cada tipo de Dado é como se fosse uma determinada criatura, que possui poderes mágicos próprios, chamados métodos. Nós acessamos esses 'poderes' usando o ponto, depois do dado. Que poderes você acha que uma string deveria ter? \n",
        "\n",
        "Observe que até agora, o notebook mostra o último resultado calculado, se quisermos mostrar mais de um, usamos o comando print."
      ]
    },
    {
      "cell_type": "code",
      "metadata": {
        "id": "INEoMhbx1YfO",
        "colab_type": "code",
        "colab": {}
      },
      "source": [
        "frase = 'Há décadas a esquerda se infiltrou em nossas instituições e passou a promover sua ideologia travestida de posicionamentos técnicos. O decreto que assinei hoje extingue vagas para órgãos aparelhados no Conselho Nacional sobre Drogas e acaba com o viés ideológico nas discussões.'\n",
        "print (frase.lower())\n",
        "print (frase.upper())\n",
        "print (frase.count('ideologia'))\n",
        "print (frase.replace('esquerda', 'direita'))"
      ],
      "execution_count": 0,
      "outputs": []
    },
    {
      "cell_type": "markdown",
      "metadata": {
        "id": "B782xEcC1YfT",
        "colab_type": "text"
      },
      "source": [
        "Os métodos são muito semelhantes às funções que conhecemos, algumas possuem parâmetros, outras não. Quando não vou passar nenhum parâmetro coloco ()"
      ]
    },
    {
      "cell_type": "markdown",
      "metadata": {
        "id": "tTVq-RhB1YfT",
        "colab_type": "text"
      },
      "source": [
        "Existem funções gerais, não associadas a nenhum tipo específico de dado. Por exemplo, quero saber todos os super poderes de uma string, como devo fazer?"
      ]
    },
    {
      "cell_type": "code",
      "metadata": {
        "id": "EdFL65Eo1YfV",
        "colab_type": "code",
        "colab": {}
      },
      "source": [
        "dir(str)"
      ],
      "execution_count": 0,
      "outputs": []
    },
    {
      "cell_type": "markdown",
      "metadata": {
        "id": "9h33OJiU1YfX",
        "colab_type": "text"
      },
      "source": [
        "Poderes que começam com underline são reservados, o Python usa duplo sublinhado add, por exemplo quando você faz uso do '+'. Os outros você pode usar logo depois do objeto string, no caso. Quero saber o que faz upper, como tenho alguma ajuda?"
      ]
    },
    {
      "cell_type": "code",
      "metadata": {
        "id": "3BSL8Pee1YfY",
        "colab_type": "code",
        "colab": {}
      },
      "source": [
        "help(str.upper)"
      ],
      "execution_count": 0,
      "outputs": []
    },
    {
      "cell_type": "markdown",
      "metadata": {
        "id": "Xf2kSu3Z1Yfd",
        "colab_type": "text"
      },
      "source": [
        "Temos muitas bibliotecas dentro do Python. Chamamos de 'baterias inclusas', e existem milhares de outras bibliotecas que podemos acrescentar, via comando \"pip install nome_bib\", naquela tela preta, da linha de comando. Daqui a pouco iremos pegar os últimos Tweets do atual presidente. No momento existe um arquivo local, chamado 'bolsonaro.txt', com alguns Tweets na ocasião em que preparei o curso."
      ]
    },
    {
      "cell_type": "code",
      "metadata": {
        "id": "Jy5Up7Fc1Yfe",
        "colab_type": "code",
        "colab": {}
      },
      "source": [
        "arquivo = open('bolsonaro.txt', encoding = 'utf-8')\n",
        "tweets = arquivo.read()\n",
        "\n",
        "tweets"
      ],
      "execution_count": 0,
      "outputs": []
    },
    {
      "cell_type": "markdown",
      "metadata": {
        "id": "rCxeetGS1Yfh",
        "colab_type": "text"
      },
      "source": [
        "Nós usamos uma função `open()` para abrir o arquivo texto. Como temos caracteres especiais `encoding = 'utf-8'`, faz o tratamento. O método `read()` executa a leitura e atribui para a variável tweets. Apareceu um caracter especial `\\n`. Ele faz pular de linha, como quando você tecla \"enter\". Se eu utilizar print(tweets) irei ver os tweets separados. Está aí uma diferença ao usar o print."
      ]
    },
    {
      "cell_type": "code",
      "metadata": {
        "id": "YZ5Nz_hS1Yfi",
        "colab_type": "code",
        "colab": {}
      },
      "source": [
        "print (tweets)"
      ],
      "execution_count": 0,
      "outputs": []
    },
    {
      "cell_type": "markdown",
      "metadata": {
        "id": "8aIvU_vq1Yfl",
        "colab_type": "text"
      },
      "source": [
        "Existem várias informações adicionais, não apenas o texto do Tweet, como se foi um RT, se é uma figura apenas, uma citação, etc. Iremos ver adiante como verificar esses Dados. \n",
        "\n",
        "**Exercício**\n",
        "\n",
        "Sabendo que `tweets` é uma string (type `str`), escreva um código abaixo, mostrando quantas vezes Bolsonaro mencionou determinada palavra, por exemplo esquerda e educação. Se tiver dúvida existem monitoras para auxílio..."
      ]
    },
    {
      "cell_type": "code",
      "metadata": {
        "id": "EZuwl1by1Yfm",
        "colab_type": "code",
        "colab": {}
      },
      "source": [
        ""
      ],
      "execution_count": 0,
      "outputs": []
    },
    {
      "cell_type": "markdown",
      "metadata": {
        "id": "WbxDFvf51Yfo",
        "colab_type": "text"
      },
      "source": [
        "Como percebeu, existe uma diferença entre minúsculas e maiúsculas na busca.\n",
        "\n",
        "**Tente fazer outras contagens nos últimos tweets do presidente, preencha abaixo o código**"
      ]
    },
    {
      "cell_type": "code",
      "metadata": {
        "id": "JvZmywYt1Yfp",
        "colab_type": "code",
        "colab": {}
      },
      "source": [
        ""
      ],
      "execution_count": 0,
      "outputs": []
    },
    {
      "cell_type": "markdown",
      "metadata": {
        "id": "I1wKLiw61Yfs",
        "colab_type": "text"
      },
      "source": [
        "**Faça a sugestão de alguma outra análise, em cima da Base de Tweets recentes do presidente. Quais dificuldades você encontrou para entrevistar estes dados?**"
      ]
    },
    {
      "cell_type": "code",
      "metadata": {
        "id": "bsG0Hu_-1Yft",
        "colab_type": "code",
        "colab": {}
      },
      "source": [
        ""
      ],
      "execution_count": 0,
      "outputs": []
    },
    {
      "cell_type": "markdown",
      "metadata": {
        "id": "9mouiWX51Yfw",
        "colab_type": "text"
      },
      "source": [
        "Temos neste diretório um arquivo com os últimos Tweets da deputada Joice Hasselmann, chamado joice.txt\n",
        "\n",
        "**Execute uma Análise comparativa, entre os tweets do presidente e o da deputada. Não se esqueça de usar outra variável para guardar os tweets da deputada**"
      ]
    },
    {
      "cell_type": "code",
      "metadata": {
        "id": "yS7xRx0G1Yf1",
        "colab_type": "code",
        "colab": {}
      },
      "source": [
        ""
      ],
      "execution_count": 0,
      "outputs": []
    },
    {
      "cell_type": "markdown",
      "metadata": {
        "id": "B-ubPoPH1Yf9",
        "colab_type": "text"
      },
      "source": [
        "**Jupyter Notebook e programação com Python**\n",
        "-------------\n",
        "Escolhemos Python para enviar instruções ao computador, por ser uma linguagem **legível e com uma grande comunidade de apoio**. Python é uma linguagem de uso amplo, usado para construir o Instagram, filmes da Disney ou áudios, em empresas como Ableton. ou de tecnologia como SpaceX. Hoje também muito usado em Ciências de Dados. A maioria das grandes universidades americanas utiliza Python para ensinar programação. Isso não significa que Python é melhor ou pior que outras linguagens. A linguagem de programação é um **meio** para resolver um problema, algumas pessoas podem se sentir melhor com outra linguagem. Nosso material base, do Curso de Jornalismo Computacional de Columbia, usa Python, esse é outro motivo da nossa escolha. "
      ]
    },
    {
      "cell_type": "markdown",
      "metadata": {
        "id": "wqL7oK1k1Yf_",
        "colab_type": "text"
      },
      "source": [
        "Como você percebeu, temos textos no Jupyter notebook, escritos em um formato chamado Markdown, [aqui uma referência para o formato Markdown](http://daringfireball.net/projects/markdown/) ou [aqui um Tutorial Markdown](http://markdowntutorial.com). Muitos veículos procuram fazer uma dupla publicação, no site oficial e também em formato markdown, num Jupyter Notebook:\n",
        "\n",
        "> [\"Peeling back the curtain -- How the Economist is opening the data behind our reporting.\"](https://medium.economist.com/peeling-back-the-curtain-487bd3be0c47) \"We published these calculations in a Jupyter notebook, a tidy format for breaking scripts into small blocks and annotating them.\"\n",
        "\n",
        ">[BuzzFeedNews/everything -- An index of all our open-source data, analysis, libraries, tools, and guides.](https://github.com/BuzzFeedNews/everything#data-and-analyses) Data and code for many of their major stories includeing [\"Shoot Someone In A Major US City, And Odds Are You’ll Get Away With It\"](https://www.buzzfeednews.com/article/sarahryley/police-unsolved-shootings?bftw=&utm_term=4ldqpfp#4ldqpfp) and [\"How Russia’s Online Trolls Engaged Unsuspecting American Voters — And Sometimes Duped The Media\"](https://www.buzzfeednews.com/article/peteraldhous/russia-online-trolls-viral-strategy).\n",
        "\n",
        ">[\"The Need for Openness in Data Journalism\"](http://nbviewer.jupyter.org/github/brianckeegan/Bechdel/blob/master/Bechdel_test.ipynb) by Brian Keegan. Little old, but Keegan makes good points about the benefits of working with a notebook.\n",
        "\n",
        ">[\"Why Jupyter is data scientists’ computational notebook of choice,\"](https://www.nature.com/articles/d41586-018-07196-1) a recent overview piece in Nature that marks the rise of notebooks this way -- \"One analysis of the code-sharing site GitHub counted more than 2.5 million public Jupyter notebooks in September 2018, up from 200,000 or so in 2015.\"  \n",
        "\n",
        ">[\"The Architecture of Jupyter -- Interactive by design.\"](http://scisoftdays.org/pdf/2016_slides/perez.pdf) Starting on page 23 of this PDF, Fernando Perez, one of the designers of the Jupyter describes how notebooks have been published alongside papers in journals like Nature and Science and Scientific American, to name a few."
      ]
    },
    {
      "cell_type": "markdown",
      "metadata": {
        "id": "CsJcDByx1YgA",
        "colab_type": "text"
      },
      "source": [
        "**Mais código em Python**\n",
        "--------------------------\n",
        "Vale a pena lembrar: maiúsculas são diferentes de minúsculas aqui, com na busca dos termos, no exercício. O interpretador Python também não entenderá Print, com P maiúsculo. Além dos tipos básicos, int, float e str, temos outros tipos. Vamos usar os tweets lidos, do presidente, se você saiu do Notebook, basta executar a célula que lê os tweets novamente. Cada vez que você executa uma célula, o conteúdo ficará na memória. Ao sair do notebook, para continuar o trabalho, e chegar no mesmo ponto, podemos executar Kernel > Restart & Run All"
      ]
    },
    {
      "cell_type": "code",
      "metadata": {
        "id": "M3ejN6Kt1YgB",
        "colab_type": "code",
        "colab": {}
      },
      "source": [
        "print ('palmeiras' in tweets.lower())\n",
        "print ('x' not in 'aeiou')"
      ],
      "execution_count": 0,
      "outputs": []
    },
    {
      "cell_type": "markdown",
      "metadata": {
        "id": "ACaHbqmu1YgD",
        "colab_type": "text"
      },
      "source": [
        "O operador **in** verifica se palmeiras pertence aos tweets e **not in** é uma negação, algumas vezes útil, como ver se uma letra é consoante, se não é vogal. Outras operações mais comuns, são as matemáticas."
      ]
    },
    {
      "cell_type": "code",
      "metadata": {
        "id": "VDH3tJFQ1YgE",
        "colab_type": "code",
        "colab": {}
      },
      "source": [
        "42 > 10"
      ],
      "execution_count": 0,
      "outputs": []
    },
    {
      "cell_type": "markdown",
      "metadata": {
        "id": "F3DWx28J1YgG",
        "colab_type": "text"
      },
      "source": [
        "**Exercício**\n",
        "\n",
        "Execute algumas expressões na célula abaixo, se tiver dúvida chame alguma monitora..."
      ]
    },
    {
      "cell_type": "code",
      "metadata": {
        "id": "RZd2h6sO1YgH",
        "colab_type": "code",
        "colab": {}
      },
      "source": [
        ""
      ],
      "execution_count": 0,
      "outputs": []
    },
    {
      "cell_type": "markdown",
      "metadata": {
        "id": "XUCidaWS1YgJ",
        "colab_type": "text"
      },
      "source": [
        "Na vida real não existe um único Dado, mas uma coleção deles. Nas linguagens de programação podemos usar uma variável para referenciar vários Dados de uma única vez. Para o nosso curso, os tipos mais importantes, que referenciam vários Dados, são as Listas, os Dicionários e os Dataframes.\n",
        "\n",
        "Uma lista é uma coleção de itens, onde referenciamos cada item entre colchetes. O primeiro item, por razões de conveniência é **zero**. "
      ]
    },
    {
      "cell_type": "code",
      "metadata": {
        "id": "Of3ngNr_1YgK",
        "colab_type": "code",
        "colab": {}
      },
      "source": [
        "deputados = ['abílio santana', 'abou anni', 'acácio favacho', 'adolfo viana', 'adriana ventura', 'adriano do baldy', 'aécio neves', 'afonso florence', 'afonso hamm', 'afonso motta', 'aguinaldo ribeiro', 'airton faleiro', 'aj albuquerque', 'alan rick', 'alceu moreira', 'alcides rodrigues', 'alê silva', 'alencar santana braga', 'alessandro molon', 'alex manente', 'alex santana', 'alexandre frota', 'alexandre leite', 'alexandre padilha', 'alexandre serfiotis', 'alexis fonteyne', 'alice portugal', 'aliel machado', 'aline gurgel', 'aline sleutjes', 'altineu côrtes', 'aluisio mendes', 'amaro neto', 'andré abdon', 'andré de paula', 'andré ferreira', 'andré figueiredo', 'andré fufuca', 'andré janones', 'angela amin', 'aníbal gomes', 'antonio brito', 'arlindo chinaglia', 'arnaldo jardim', 'aroldo martins', 'arthur lira', 'arthur oliveira maia', 'assis carvalho', 'átila lins', 'átila lira', 'augusto coutinho', 'áurea carolina', 'aureo ribeiro', 'bacelar', 'baleia rossi', 'benedita da silva', 'benes leocádio', 'beto faro', 'beto pereira', 'beto rosado', 'bia cavassa', 'bia kicis', 'bibo nunes', 'bilac pinto', 'bira do pindaré', 'boca aberta', 'bohn gass', 'bosco costa', 'bosco saraiva', 'bruna furlan', 'cabo junio amaral', 'cacá leão', 'camilo capiberibe', 'capitão alberto neto', 'capitão augusto', 'capitão wagner', 'carla zambelli', 'carlos bezerra', 'carlos chiodini', 'carlos gomes', 'carlos henrique gaguim', 'carlos jordy', 'carlos sampaio', 'carlos veras', 'carlos zarattini', 'carmen zanotto', 'caroline de toni', 'cássio andrade', 'celina leão', 'célio moura', 'célio silveira', 'célio studart', 'celso maldaner', 'celso russomanno', 'celso sabino', 'cezinha de madureira', 'charles fernandes', 'charlles evangelista', \"chico d'angelo\", 'chiquinho brazão', 'chris tonietto', 'christiane de souza yared', 'christino aureo', 'clarissa garotinho', 'claudio cajado', 'cleber verde', 'coronel armando', 'coronel chrisóstomo', 'coronel tadeu', 'cristiano vale', 'da vitoria', 'dagoberto nogueira', 'damião feliciano', 'daniel almeida', 'daniel coelho', 'daniel freitas', 'daniel silveira', 'daniel trzeciak', 'daniela do waguinho', 'danilo cabral', 'danrlei de deus hinterholz', 'darci de matos', 'darcísio perondi', 'david miranda', 'david soares', 'delegado antônio furtado', 'delegado éder mauro', 'delegado marcelo freitas', 'delegado pablo', 'delegado waldir', 'denis bezerra', 'diego andrade', 'diego garcia', 'dimas fabiano', 'domingos neto', 'domingos sávio', 'dr. frederico', 'dr. jaziel', 'dr. leonardo', 'dr. luiz antonio teixeira jr.', 'dr. luiz ovando', 'dr. zacharias calil', 'dra. soraya manato', 'dra. vanda milani', 'dulce miranda', 'edilázio júnior', 'edio lopes', 'edmilson rodrigues', 'edna henrique', 'eduardo barbosa', 'eduardo bismarck', 'eduardo bolsonaro', 'eduardo braide', 'eduardo costa', 'eduardo cury', 'eduardo da fonte', 'efraim filho', 'elcione barbalho', 'eli borges', 'eli corrêa filho', 'elias vaz', 'elmar nascimento', 'emanuel pinheiro neto', 'emidinho madeira', 'enéias reis', 'enio verri', 'enrico misasi', 'erika kokay', 'eros biondini', 'euclydes pettersen', 'evair vieira de melo', 'evandro roman', 'expedito netto', 'fábio faria', 'fábio henrique', 'fábio mitidieri', 'fábio ramalho', 'fabio reis', 'fabio schiochet', 'fábio trad', 'fausto pinato', 'felício laterça', 'felipe carreras', 'felipe francischini', 'felipe rigoni', 'félix mendonça júnior', 'fernanda melchionna', 'fernando coelho filho', 'fernando monteiro', 'fernando rodolfo', 'filipe barros', 'flávia arruda', 'flávia morais', 'flaviano melo', 'flavio nogueira', 'flordelis', 'francisco jr.', 'franco cartafina', 'fred costa', 'frei anastacio ribeiro', 'gastão vieira', 'gelson azevedo', 'genecias noronha', 'general girão', 'general peternelli', 'geninho zuliani', 'geovania de sá', 'gervásio maia', 'giacobo', 'gil cutrim', 'gilberto abramo', 'gilberto nascimento', 'gilson marques', 'giovani cherini', 'giovani feltes', 'glauber braga', 'glaustin fokus', 'gleisi hoffmann', 'gonzaga patriota', 'greyce elias', 'guiga peixoto', 'guilherme derrite', 'guilherme mussi', 'gurgel', 'gustavo fruet', 'gustinho ribeiro', 'gutemberg reis', 'haroldo cathedral', 'heitor freire', 'heitor schuch', 'helder salomão', 'hélio costa', 'hélio leite', 'helio lopes', 'henrique fontana', 'hercílio coelho diniz', 'herculano passos', 'hermes parcianello', 'hildo rocha', 'hiran gonçalves', 'hugo leal', 'hugo motta', 'idilvan alencar', 'igor kannário', 'igor timo', 'iracema portella', 'isnaldo bulhões jr.', 'ivan valente', 'jandira feghali', 'jaqueline cassol', 'jefferson campos', 'jerônimo goergen', 'jéssica sales', 'jesus sérgio', 'jhc', 'jhonatan de jesus', 'joão campos', 'joão carlos bacelar', 'joão daniel', 'joão h. campos', 'joão maia', 'joão marcelo souza', 'joão roma', 'joaquim passarinho', 'joenia wapichana', 'joice hasselmann', 'jorge braz', 'jorge solla', 'josé airton félix cirilo', 'josé guimarães', 'jose mario schreiner', 'josé medeiros', 'josé nelto', 'josé nunes', 'josé priante', 'josé ricardo', 'josé rocha', 'joseildo ramos', 'josimar maranhãozinho', 'juarez costa', 'julian lemos', 'júlio cesar', 'julio cesar ribeiro', 'júlio delgado', 'juninho do pneu', 'júnior bozzella', 'júnior ferrari', 'junior lourenço', 'júnior mano', 'juscelino filho', 'kim kataguiri', 'laercio oliveira', 'lafayette de andrada', 'lauriete', 'leandre', 'leda sadala', 'léo moraes', 'léo motta', 'leonardo monteiro', 'leônidas cristino', 'leur lomanto júnior', 'lídice da mata', 'lincoln portela', 'liziane bayer', 'loester trutis', 'lourival gomes', 'lucas gonzalez', 'lucas redecker', 'lucas vergilio', 'luciano bivar', 'luciano ducci', 'lucio mosquini', 'luis miranda', 'luis tibé', 'luisa canziani', 'luiz antônio corrêa', 'luiz carlos', 'luiz carlos motta', 'luiz flávio gomes', 'luiz lima', 'luiz nishimori', 'luiz philippe de orleans e bragança', 'luiza erundina', 'luizão goulart', 'luizianne lins', 'magda mofatto', 'major fabiana', 'major vitor hugo', 'manuel marcos', 'mara rocha', 'marcel van hattem', 'marcelo aro', 'marcelo brum', 'marcelo calero', 'marcelo freixo', 'marcelo moraes', 'marcelo nilo', 'marcelo ramos', 'marcio alvino', 'márcio biolchi', 'márcio jerry', 'márcio labre', 'márcio marinho', 'marco bertaiolli', 'marcon', 'marcos aurélio sampaio', 'marcos pereira', 'margarete coelho', 'margarida salomão', 'maria do rosário', 'maria rosas', 'mariana carvalho', 'marília arraes', 'marina santos', 'mário heringer', 'mário negromonte jr.', 'marlon santos', 'marreca filho', 'marx beltrão', 'maurício dziedricki', 'mauro lopes', 'mauro nazif', 'miguel lombardi', 'milton vieira', 'misael varella', 'moses rodrigues', 'natália bonavides', 'nelson barbudo', 'nelson pellegrino', 'nereu crispim', 'neri geller', 'newton cardoso jr', 'nicoletti', 'nilson pinto', 'nilto tatto', 'nivaldo albuquerque', 'norma ayub', 'odair cunha', 'olival marques', 'orlando silva', 'osires damaso', 'ossesio silva', 'otaci nascimento', 'otoni de paula', 'otto alencar filho', 'padre joão', 'paes landim', 'pastor eurico', 'pastor gildenemyr', 'pastor sargento isidório', 'patrus ananias', 'paula belmonte', 'paulão', 'paulo abi-ackel', 'paulo azi', 'paulo bengtson', 'paulo eduardo martins', 'paulo freire costa', 'paulo ganime', 'paulo guedes', 'paulo magalhães', 'paulo pereira da silva', 'paulo pimenta', 'paulo ramos', 'paulo teixeira', 'pedro augusto bezerra', 'pedro cunha lima', 'pedro lucas fernandes', 'pedro lupion', 'pedro paulo', 'pedro uczai', 'pedro westphalen', 'perpétua almeida', 'pinheirinho', 'policial katia sastre', 'pompeo de mattos', 'pr. marco feliciano', 'professor alcides', 'professor israel batista', 'professor joziel', 'professora dayane pimentel', 'professora dorinha seabra rezende', 'professora marcivania', 'professora rosa neide', 'rafael motta', 'raimundo costa', 'raul henry', 'reginaldo lopes', 'reinhold stephanes junior', 'rejane dias', 'renata abreu', 'renildo calheiros', 'ricardo barros', 'ricardo guidi', 'ricardo izar', 'ricardo teobaldo', 'robério monteiro', 'roberto alves', 'roberto de lucena', 'roberto pessoa', 'rodrigo agostinho', 'rodrigo coelho', 'rodrigo de castro', 'rodrigo maia', 'rogério correia', 'rogério peninha mendonça', 'ronaldo carletto', 'rosana valle', 'rosangela gomes', 'rose modesto', 'rubens bueno', 'rubens otoni', 'rui falcão', 'ruy carneiro', 'sâmia bomfim', 'samuel moreira', 'sanderson', 'santini', 'sargento fahur', 'schiavinato', 'sebastião oliveira', 'sergio souza', 'sergio toledo', 'sergio vidigal', 'severino pessoa', 'shéridan', 'sidney leite', 'silas câmara', 'silvia cristina', 'silvio costa filho', 'soraya santos', 'sóstenes cavalcante', 'stefano aguiar', 'subtenente gonzaga', 'tabata amaral', 'tadeu alencar', 'talíria petrone', 'ted conti', 'tereza nelma', 'tiago dimas', 'tiago mitraud', 'tiririca', 'tito', 'toninho wandscheer', 'túlio gadêlha', 'uldurico junior', 'vaidon oliveira', 'valdevan noventa', 'valmir assunção', 'vander loubet', 'vanderlei macris', 'vavá martins', 'vermelho', 'vicentinho', 'vicentinho júnior', 'vilson da fetaemg', 'vinicius carvalho', 'vinicius farah', 'vinicius gurgel', 'vinicius poit', 'vitor lippi', 'waldenor pereira', 'walter alves', 'weliton prado', 'wellington roberto', 'wilson santiago', 'wladimir garotinho', 'wolney queiroz', 'zé carlos', 'zé neto', 'zé silva', 'zé vitor', 'zeca dirceu']\n",
        "print (deputados)"
      ],
      "execution_count": 0,
      "outputs": []
    },
    {
      "cell_type": "code",
      "metadata": {
        "id": "DF1L7oTS1YgN",
        "colab_type": "code",
        "colab": {}
      },
      "source": [
        "'tabata amaral' in deputados"
      ],
      "execution_count": 0,
      "outputs": []
    },
    {
      "cell_type": "code",
      "metadata": {
        "id": "H-gL5lxj1YgP",
        "colab_type": "code",
        "colab": {}
      },
      "source": [
        "print (len(deputados))"
      ],
      "execution_count": 0,
      "outputs": []
    },
    {
      "cell_type": "markdown",
      "metadata": {
        "id": "KZ_iU5371YgS",
        "colab_type": "text"
      },
      "source": [
        "Caso queira imprimir linha a linha cada deputado, posso usar um comando de repetição, chamado **for**"
      ]
    },
    {
      "cell_type": "code",
      "metadata": {
        "id": "kuHDRYUv1YgT",
        "colab_type": "code",
        "colab": {}
      },
      "source": [
        "for d in deputados:\n",
        "    print (d)"
      ],
      "execution_count": 0,
      "outputs": []
    },
    {
      "cell_type": "markdown",
      "metadata": {
        "id": "7S4f5KXc1YgX",
        "colab_type": "text"
      },
      "source": [
        "Existem mais informações de cada deputado: identificador, legislatura(s), UF, partido, sexo, etc. Daqui a pouco iremos acessá-las. \n",
        "\n",
        "Uma outra estrutura, muito utilizada, é o dicionário, onde temos vários Dados, acessíveis através de uma chave. Como no exemplo abaixo:"
      ]
    },
    {
      "cell_type": "code",
      "metadata": {
        "id": "HZ1eP5zm1YgY",
        "colab_type": "code",
        "colab": {}
      },
      "source": [
        "dados = {'nome':'fernando', 'redes sociais':'@fmasanori', 'e-mails':['a', 'b', 'c']}\n",
        "print (dados['redes sociais'])\n",
        "print (dados['e-mails'])"
      ],
      "execution_count": 0,
      "outputs": []
    },
    {
      "cell_type": "code",
      "metadata": {
        "id": "FcDJp2e81Ygc",
        "colab_type": "code",
        "colab": {}
      },
      "source": [
        "dados['fruta'] = 'abacate'\n",
        "dados"
      ],
      "execution_count": 0,
      "outputs": []
    },
    {
      "cell_type": "markdown",
      "metadata": {
        "id": "5rINBJYv1Ygf",
        "colab_type": "text"
      },
      "source": [
        "**Exercício**\n",
        "\n",
        "Monte uma Lista com o nome de 3 pessoas próximas de você\n",
        "\n",
        "Com o comando **for**, imprima estes mesmos nomes\n",
        "\n",
        "Monte um Dicionário, com o nome, partido e estado de algum Deputado Federal\n",
        "\n",
        "Imprima logo depois apenas o nome e o partido"
      ]
    },
    {
      "cell_type": "code",
      "metadata": {
        "id": "lh72ujIb1Ygg",
        "colab_type": "code",
        "colab": {}
      },
      "source": [
        ""
      ],
      "execution_count": 0,
      "outputs": []
    },
    {
      "cell_type": "markdown",
      "metadata": {
        "id": "sBlBguej1Ygi",
        "colab_type": "text"
      },
      "source": [
        "Podemos também executar um bloco de instruções apenas quando ocorre uma determinada condição"
      ]
    },
    {
      "cell_type": "code",
      "metadata": {
        "id": "1h5e5G-b1Ygj",
        "colab_type": "code",
        "colab": {}
      },
      "source": [
        "deputado = {'nome':'fulano', 'partido':'xyz', 'valor_gasto': 128000}\n",
        "if deputado['partido'] == 'xyz':\n",
        "    print (deputado['valor_gasto'])"
      ],
      "execution_count": 0,
      "outputs": []
    },
    {
      "cell_type": "code",
      "metadata": {
        "id": "8nvqBkvq1Ygn",
        "colab_type": "code",
        "colab": {}
      },
      "source": [
        "if deputado['partido'] == 'xyz':\n",
        "    print (deputado['valor_gasto'])\n",
        "else:\n",
        "    print ('Não irei contabilizar o', deputado['nome'])"
      ],
      "execution_count": 0,
      "outputs": []
    },
    {
      "cell_type": "markdown",
      "metadata": {
        "id": "0jV_hBYe1Ygq",
        "colab_type": "text"
      },
      "source": [
        "**Observações**\n",
        "--------------\n",
        "Em Python espaços em branco à esquerda são importantes, marcam um bloco de instruções\n",
        "\n",
        "Dois pontos são o caracter que mais um iniciante esquece\n",
        "\n",
        "**if** pergunta por alguma condição\n",
        "\n",
        "**else** executa um bloco, caso a condição seja falsa"
      ]
    },
    {
      "cell_type": "markdown",
      "metadata": {
        "id": "hFK1jhwT1Ygs",
        "colab_type": "text"
      },
      "source": [
        "**Acessando Dados**\n",
        "--------------------------\n",
        "Existem várias formas de acessar Dados, orgãos públicos costumam disponibilizar, em vários formatos, estes Dados, para Download. Outras vezes é necessário fazer um programa, para acessar estes Dados. Existem várias formas de fazer isso. A mais fácil é utilizando uma API, Interface de Programação de Aplicações, que podemos entender como um balcão de padaria, onde alguém atende aos nossos pedidos."
      ]
    },
    {
      "cell_type": "code",
      "metadata": {
        "id": "XzU9esU61Ygs",
        "colab_type": "code",
        "colab": {}
      },
      "source": [
        "import requests\n",
        "url = 'http://educacao.dadosabertosbr.com/api/escolas/buscaavancada?situacaoFuncionamento=1'\n",
        "situação = '&energiaInexistente=on&aguaInexistente=on&esgotoInexistente=on'\n",
        "resp = requests.get(url+situação).json()\n",
        "print ('Número de Escolas em funcionamento sem energia, água e esgoto:', resp[0])\n",
        "for x in resp[1]:\n",
        "  print (x['nome'], x['cod'])\n",
        "  print (x['cidade'], x['estado'], x['regiao'])\n",
        "  print ()\n"
      ],
      "execution_count": 0,
      "outputs": []
    },
    {
      "cell_type": "markdown",
      "metadata": {
        "id": "OcSechw71Ygu",
        "colab_type": "text"
      },
      "source": [
        "Um portal, com dados antigos, fornece estas informações. Como conseguimos acessá-las? Usando a API descrita em [http://educacao.dadosabertosbr.com/api]. O endereço que acessamos é [http://educacao.dadosabertosbr.com/api/escolas/buscaavancada?situacaoFuncionamento=1&energiaInexistente=on&aguaInexistente=on&esgotoInexistente=on]. Talvez suas informações apareçam embaralhadas. Neste caso instale uma extensão no seu navegador, JSONView, e tente novamente. Peça ajuda para instalar a extensão à monitora. Nosso acesso retorna um JSON, formato muitíssimo utilizado para retorno de APIs atualmente. Conseguimos traduzir o JSON para um dicionário. O resultado é uma Lista, onde a posição zero dá o número de escolas, e na posição seguinte cada uma das escolas, com suas informações. Este site é meio instável, então, caso não consiga acessar vamos ao próximo passo. Algumas vezes não é trivial usar uma API, como no caso dos Tweets, por exemplo. Para acessar a API do Twitter é necessário registrar chaves de acesso, etc. Podemos fazer raspagem de dados, neste caso, scraping, em inglês."
      ]
    },
    {
      "cell_type": "code",
      "metadata": {
        "id": "4EkYD9FR1Ygv",
        "colab_type": "code",
        "colab": {}
      },
      "source": [
        "from twitter_scraper import get_tweets\n",
        "for t in  get_tweets('jairbolsonaro'):\n",
        "    print (t)"
      ],
      "execution_count": 0,
      "outputs": []
    },
    {
      "cell_type": "markdown",
      "metadata": {
        "id": "1vYhCHN11Ygy",
        "colab_type": "text"
      },
      "source": [
        "**Exercício**\n",
        "\n",
        "Faça um código que imprima apenas o texto, likes e retweets, das últimas mensagens do nosso presidente."
      ]
    },
    {
      "cell_type": "code",
      "metadata": {
        "id": "3oIIxX961Ygy",
        "colab_type": "code",
        "colab": {}
      },
      "source": [
        ""
      ],
      "execution_count": 0,
      "outputs": []
    },
    {
      "cell_type": "markdown",
      "metadata": {
        "id": "seh8f6kt1Yg0",
        "colab_type": "text"
      },
      "source": [
        "Ao invés de apenas imprimir, podemos guardar numa lista algumas informações. Começamos uma lista vazia atribuindo colchetes sem nada dentro. O comando append inclui no final da lista a informação desejada. Depois podemos colocar estes tweets em ordem descrescente, segundo algum critério. Por exemplo, quero os últimos tweets que tiveram mais likes. Até agora você usou funções do Python ou de suas bibliotecas, vamos criar uma função nossa."
      ]
    },
    {
      "cell_type": "code",
      "metadata": {
        "id": "pcfFYw631Yg0",
        "colab_type": "code",
        "colab": {}
      },
      "source": [
        "from twitter_scraper import get_tweets\n",
        "tweets = []\n",
        "for t in  get_tweets('jairbolsonaro'):\n",
        "    d = {'text':t['text'], 'likes':t['likes']}\n",
        "    tweets.append(d)\n",
        "    \n",
        "def criterio(tweet): return tweet['likes']\n",
        "tweets_ordenados = sorted(tweets, key=criterio, reverse=True)\n",
        "for t in tweets_ordenados:\n",
        "    print (t['text'], t['likes'])"
      ],
      "execution_count": 0,
      "outputs": []
    },
    {
      "cell_type": "markdown",
      "metadata": {
        "id": "ZnlucSK11Yg3",
        "colab_type": "text"
      },
      "source": [
        "**Exercício**\n",
        "\n",
        "Faça um código que mostre os últimos textos, dos tweets do presidente, segundo o critério de **retweets** dados"
      ]
    },
    {
      "cell_type": "code",
      "metadata": {
        "id": "Ka__AYrc1Yg4",
        "colab_type": "code",
        "colab": {}
      },
      "source": [
        ""
      ],
      "execution_count": 0,
      "outputs": []
    },
    {
      "cell_type": "markdown",
      "metadata": {
        "id": "KV1cEuHV1Yg9",
        "colab_type": "text"
      },
      "source": [
        "São inúmeras as análises possíveis, de Tweets. A título de curiosidade, podemos usar cadeias de Markov, para prever um futuro tweet do nosso presidente, baseado em Tweets passados. Para isso precisamos de uma lista de frases já ditas pelo presidente. Note que é necessário uma base grande de tweets, para melhorarmos a probabilidade. Fazendo Raspagem com o twitter_scraper não conseguimos grandes volumes, seria necessário usar a API oficial."
      ]
    },
    {
      "cell_type": "code",
      "metadata": {
        "id": "dcu04_1L1Yg-",
        "colab_type": "code",
        "colab": {}
      },
      "source": [
        "from twitter_scraper import get_tweets\n",
        "import markovify\n",
        "textos = []\n",
        "for t in get_tweets('jairbolsonaro'):\n",
        "    textos.append(t['text'])\n",
        "text_model = markovify.Text(textos)\n",
        "print(text_model.make_short_sentence(140))"
      ],
      "execution_count": 0,
      "outputs": []
    },
    {
      "cell_type": "markdown",
      "metadata": {
        "id": "6fcOIJeY1YhB",
        "colab_type": "text"
      },
      "source": [
        "**Usando a nova API da Câmara dos Deputados**\n",
        "---------------------------\n",
        "\n",
        "Toda a documentação se encontra em [https://dadosabertos.camara.leg.br/swagger/api.html]\n",
        "\n",
        "Vamos inicialmente mostrar o nome e identificador de cada deputado"
      ]
    },
    {
      "cell_type": "code",
      "metadata": {
        "id": "g1UdKjyK1YhB",
        "colab_type": "code",
        "colab": {}
      },
      "source": [
        "import requests\n",
        "url = 'https://dadosabertos.camara.leg.br/api/v2/deputados'\n",
        "resp = requests.get(url).json()\n",
        "for d in resp['dados']:\n",
        "  print (d['nome'], d['id'])"
      ],
      "execution_count": 0,
      "outputs": []
    },
    {
      "cell_type": "markdown",
      "metadata": {
        "id": "0mgmmEhF1YhE",
        "colab_type": "text"
      },
      "source": [
        "**Exercício**\n",
        "\n",
        "Além do nome e identificador, mostre também o partido e UF de cada Deputado"
      ]
    },
    {
      "cell_type": "code",
      "metadata": {
        "id": "xstWJjFJ1YhF",
        "colab_type": "code",
        "colab": {}
      },
      "source": [
        ""
      ],
      "execution_count": 0,
      "outputs": []
    },
    {
      "cell_type": "markdown",
      "metadata": {
        "id": "ba-g4GVf1YhJ",
        "colab_type": "text"
      },
      "source": [
        "Na url da Câmara, no bloco dos Deputados, coloque **aplication/json** no Response Content Type. Você irá notar que existem mais informações que as descritas inicialmente. Por exemplo, vamos baixar todas as fotos, no diretório onde você iniciou o jupyter notebook, dos deputados de São Paulo. Aqui começamos a suar uma condição **if** sendo que o bloco de instruções será executado apenas quando aquela condição resultar True"
      ]
    },
    {
      "cell_type": "code",
      "metadata": {
        "id": "yIBRQuYx1YhL",
        "colab_type": "code",
        "outputId": "d21ae4c0-d524-49fc-bb20-97728a81142a",
        "colab": {
          "base_uri": "https://localhost:8080/",
          "height": 1000
        }
      },
      "source": [
        "import requests\n",
        "url = 'https://dadosabertos.camara.leg.br/api/v2/deputados'\n",
        "resp = requests.get(url).json()\n",
        "for d in resp['dados']:\n",
        "  if d['siglaUf'] == 'SP':\n",
        "    nome = d['nome'].lower()\n",
        "    print (f'Gravando: {nome}')\n",
        "    f = open(nome + '.jpg', 'wb')\n",
        "    foto = requests.get(d['urlFoto']).content\n",
        "    f.write(foto)\n",
        "    f.close()"
      ],
      "execution_count": 0,
      "outputs": [
        {
          "output_type": "stream",
          "text": [
            "Gravando: abou anni\n",
            "Gravando: adriana ventura\n",
            "Gravando: alencar santana braga\n",
            "Gravando: alex manente\n",
            "Gravando: alexandre frota\n",
            "Gravando: alexandre leite\n",
            "Gravando: alexandre padilha\n",
            "Gravando: alexis fonteyne\n",
            "Gravando: arlindo chinaglia\n",
            "Gravando: arnaldo jardim\n",
            "Gravando: baleia rossi\n",
            "Gravando: bruna furlan\n",
            "Gravando: capitão augusto\n",
            "Gravando: carla zambelli\n",
            "Gravando: carlos sampaio\n",
            "Gravando: carlos zarattini\n",
            "Gravando: celso russomanno\n",
            "Gravando: cezinha de madureira\n",
            "Gravando: coronel tadeu\n",
            "Gravando: david soares\n",
            "Gravando: eduardo bolsonaro\n",
            "Gravando: eduardo cury\n",
            "Gravando: eli corrêa filho\n",
            "Gravando: enrico misasi\n",
            "Gravando: fausto pinato\n",
            "Gravando: general peternelli\n",
            "Gravando: geninho zuliani\n",
            "Gravando: gilberto nascimento\n",
            "Gravando: guiga peixoto\n",
            "Gravando: guilherme derrite\n",
            "Gravando: herculano passos\n",
            "Gravando: ivan valente\n",
            "Gravando: jefferson campos\n",
            "Gravando: joice hasselmann\n",
            "Gravando: júnior bozzella\n",
            "Gravando: kim kataguiri\n",
            "Gravando: luiz carlos motta\n",
            "Gravando: luiz flávio gomes\n",
            "Gravando: luiz philippe de orleans e bragança\n",
            "Gravando: luiza erundina\n",
            "Gravando: marcio alvino\n",
            "Gravando: marco bertaiolli\n",
            "Gravando: marcos pereira\n",
            "Gravando: maria rosas\n",
            "Gravando: miguel haddad\n",
            "Gravando: miguel lombardi\n",
            "Gravando: milton vieira\n",
            "Gravando: nilto tatto\n",
            "Gravando: orlando silva\n",
            "Gravando: paulo freire costa\n",
            "Gravando: paulo pereira da silva\n",
            "Gravando: paulo teixeira\n",
            "Gravando: policial katia sastre\n",
            "Gravando: pr. marco feliciano\n",
            "Gravando: renata abreu\n",
            "Gravando: ricardo izar\n",
            "Gravando: roberto alves\n",
            "Gravando: roberto de lucena\n",
            "Gravando: rodrigo agostinho\n",
            "Gravando: rosana valle\n",
            "Gravando: rui falcão\n",
            "Gravando: sâmia bomfim\n",
            "Gravando: samuel moreira\n",
            "Gravando: tabata amaral\n",
            "Gravando: tiririca\n",
            "Gravando: vanderlei macris\n",
            "Gravando: vicentinho\n",
            "Gravando: vinicius carvalho\n",
            "Gravando: vinicius poit\n",
            "Gravando: vitor lippi\n"
          ],
          "name": "stdout"
        }
      ]
    },
    {
      "cell_type": "markdown",
      "metadata": {
        "id": "ilU-0NuC1YhR",
        "colab_type": "text"
      },
      "source": [
        "Note que o print tem uma string que começa com f. Quando fazemos isso, dentro da string, tudo o que aparece em chaves, é substituído pelo valor calculado"
      ]
    },
    {
      "cell_type": "markdown",
      "metadata": {
        "id": "I0E5kPVj1YhS",
        "colab_type": "text"
      },
      "source": [
        "Vamos acessar o valor total gasto por um Deputado Federal, com sua quota parlamentar, registrado na API da Câmara. A Deputada Tábata Amaral tem identificador 204534. Usando o link de descrição da API, podemos observar que são 26 páginas, de despesas comprovadas, onde cada página tem até no máximo 15 itens. Cada página tem uma URL de acesso, para seus itens. Existe um operador em Python, chamado range, que vai de um número até uma unidade a menos do segundo. Desta forma range(1, 27) nos gera o intervado de 1 até 26. No campo valorLiquido temos o gasto efetuado. Observe que a API nos retorna uma string, para poder somar, devemos converter o valor para float, antes de somar a uma variável total. Para imprimir com somente duas casas decimais, irei usar .2f "
      ]
    },
    {
      "cell_type": "code",
      "metadata": {
        "id": "TdZynZ7e1YhT",
        "colab_type": "code",
        "colab": {}
      },
      "source": [
        "import requests\n",
        "url = 'https://dadosabertos.camara.leg.br/api/v2/deputados/204534/despesas?ano=2019&ordem=ASC&ordenarPor=ano'\n",
        "resp = requests.get(url).json()\n",
        "total = 0\n",
        "for pag in range(1, 27):\n",
        "  u = f'https://dadosabertos.camara.leg.br/api/v2/deputados/204534/despesas?ano=2019&ordem=ASC&ordenarPor=ano&pagina={pag}&itens=15'\n",
        "  r = requests.get(u).json()\n",
        "  for gasto in r['dados']:\n",
        "    total = total + float(gasto['valorLiquido'])\n",
        "\n",
        "print (f'R$ {total:.2f}')"
      ],
      "execution_count": 0,
      "outputs": []
    },
    {
      "cell_type": "markdown",
      "metadata": {
        "id": "aZQjLV3r1YhV",
        "colab_type": "text"
      },
      "source": [
        "**Exercício**\n",
        "\n",
        "Calcule o valor gasto por outros Deputados Federais, substituindo o identificador\n"
      ]
    },
    {
      "cell_type": "code",
      "metadata": {
        "id": "QTnKkZmM1YhY",
        "colab_type": "code",
        "colab": {}
      },
      "source": [
        ""
      ],
      "execution_count": 0,
      "outputs": []
    },
    {
      "cell_type": "markdown",
      "metadata": {
        "id": "YDNJOVFK1Yha",
        "colab_type": "text"
      },
      "source": [
        "Outra análise interessante é saber quem são os fornecedores que mais receberam desta quota. Usamos um dicionário para guardar estes dados, se o fornecedor não está ainda na base, crio e inicializo com aquele valor, caso já exista somo com o total acumulado. Cada item de um dicionário é um par, quero colocar em ordem do segundo elemento, que referencio por um entre colchetes, lembre que o primeiro é zero. Abaixo os fornecedores da deputada Tábata Amaral em ordem descrescente de valor recebido acumulado, até o momento."
      ]
    },
    {
      "cell_type": "code",
      "metadata": {
        "id": "-cNZ8mYA1Yhb",
        "colab_type": "code",
        "colab": {}
      },
      "source": [
        "import requests\n",
        "url = 'https://dadosabertos.camara.leg.br/api/v2/deputados/204534/despesas?ano=2019&ordem=ASC&ordenarPor=ano'\n",
        "resp = requests.get(url).json()\n",
        "total = 0\n",
        "fornecedores = {}\n",
        "for pag in range(1, 27):\n",
        "  u = f'https://dadosabertos.camara.leg.br/api/v2/deputados/204534/despesas?ano=2019&ordem=ASC&ordenarPor=ano&pagina={pag}&itens=15'\n",
        "  r = requests.get(u).json()\n",
        "  for gasto in r['dados']:\n",
        "    valor = float(gasto['valorLiquido'])\n",
        "    total = total + valor\n",
        "    nome = gasto['nomeFornecedor']\n",
        "    if nome not in fornecedores:\n",
        "      fornecedores[nome] = valor\n",
        "    else:\n",
        "      fornecedores[nome] = fornecedores[nome] + valor\n",
        "\n",
        "print (f'R$ {total:.2f}')\n",
        "def chave(f): return f[1]\n",
        "print (sorted(fornecedores.items(), key=chave, reverse=True))\n"
      ],
      "execution_count": 0,
      "outputs": []
    },
    {
      "cell_type": "markdown",
      "metadata": {
        "id": "aoAj4chv1Yhe",
        "colab_type": "text"
      },
      "source": [
        "Observe que para totalizar corretamente temos que agrupar razões sociais. \n",
        "\n",
        "**Exercício**\n",
        "\n",
        "Verifique os maiores fornecedores de outros Deputados Federais"
      ]
    },
    {
      "cell_type": "code",
      "metadata": {
        "id": "tsiogNCK1Yhe",
        "colab_type": "code",
        "colab": {}
      },
      "source": [
        ""
      ],
      "execution_count": 0,
      "outputs": []
    },
    {
      "cell_type": "markdown",
      "metadata": {
        "id": "yNQAmQUU1Yhj",
        "colab_type": "text"
      },
      "source": [
        "Como podemos descobrir Dados de Deputados nas Legislaturas passadas? Por exemplo, do Deputado Jair Bolsonaro? Encontrando a Biografia do Deputado (https://www.camara.leg.br/deputados/74847/biografia), após pesquisar no Google, obtemos na URL o seu identificador. Como saber as Legislaturas? Pela biografia, sabemos as Datas de Início de sua atividade politica na Câmara, na API da Câmara chegamos que isso engloba as Legislaturas de 49 a 55. Na API podemos colocar como datas de início e final: 1990-01-01 e 2019-12-31. Podemos tentar trazer o máximo de itens por página, porém você irá descobrir, numa tentativa e erro, que o máximo é de 100 itens. No final do JSON de retorno, outra informação importante é de que temos páginas de 1 até 16, o que implica usar range(1, 17), pois range termina no número anterior ao segundo parâmetro fornecido. Pelo final do JSON retornado, você sabe como construir a requisição de cada página."
      ]
    },
    {
      "cell_type": "code",
      "metadata": {
        "id": "qwB4n_yI1Yhl",
        "colab_type": "code",
        "colab": {}
      },
      "source": [
        "import requests\n",
        "keywords = []\n",
        "sumarios = []\n",
        "for pag in range (1,17):\n",
        "  url = f'https://dadosabertos.camara.leg.br/api/v2/deputados/74847/discursos?idLegislatura=49&idLegislatura=50&idLegislatura=51&idLegislatura=52&idLegislatura=53&idLegislatura=54&idLegislatura=55&dataInicio=1990-01-01&dataFim=2019-12-31&ordenarPor=dataHoraInicio&ordem=ASC&pagina={pag}&itens=100'\n",
        "  resp = requests.get(url).json()\n",
        "  for d in resp['dados']:\n",
        "    s = d['sumario'].lower().replace('.', '').split()\n",
        "    s = [txt.strip() for txt in s]\n",
        "    sumarios.extend(s)\n",
        "    if not d['keywords']: continue\n",
        "    kws = d['keywords'].lower()\n",
        "    kws = kws.replace('\\r', '').replace('\\n', '').replace('.', '')\n",
        "    kws = kws.split(',')\n",
        "    kws = [txt.strip() for txt in kws]\n",
        "  \n",
        "    keywords.extend(kws)\n",
        "\n",
        "from collections import Counter\n",
        "keywords = Counter(keywords)\n",
        "sumarios = Counter(sumarios)\n",
        "\n",
        "def cont(k): return k[1]\n",
        "freq_keys = sorted(keywords.items(), key=cont, reverse=True)\n",
        "print (freq_keys[:50])\n",
        "\n",
        "freq_sum = sorted(sumarios.items(), key=cont, reverse=True)\n",
        "print (freq_sum[:50])"
      ],
      "execution_count": 0,
      "outputs": []
    },
    {
      "cell_type": "markdown",
      "metadata": {
        "id": "NWiAkhju1Yho",
        "colab_type": "text"
      },
      "source": [
        "Explicações: estamos removendo sinais especiais, de pulo de linha ou '.', a função strip() remove espaços antes ou depois da palavra ou keyword, split() quebra a string pelo espaço ou sinal de pular linha, split(',') separa por vírgula, a função extend faz algo parecido com append, enquanto append inclui um único elemento no final da lista, extend inclui vários. A função Counter vai contabilizar o número de vezes em que aparece um elemento na lista, criando um dicionário. No final vamos mostrar os 50 termos que mais aparecem nas Keywords do nosso presidente e também nos sumários."
      ]
    },
    {
      "cell_type": "code",
      "metadata": {
        "id": "irHPDUc81Yhp",
        "colab_type": "code",
        "colab": {}
      },
      "source": [
        "texto = 'batatinha, quando, nasce, esparrama, pelo, chão'\n",
        "texto = texto.split(',')\n",
        "texto"
      ],
      "execution_count": 0,
      "outputs": []
    },
    {
      "cell_type": "code",
      "metadata": {
        "id": "1FADnPAV1Yhs",
        "colab_type": "code",
        "colab": {}
      },
      "source": [
        "texto = [x.strip() for x in texto]\n",
        "texto"
      ],
      "execution_count": 0,
      "outputs": []
    },
    {
      "cell_type": "markdown",
      "metadata": {
        "id": "7e-2gYD_1Yhy",
        "colab_type": "text"
      },
      "source": [
        "Expressões entre colchetes criam novas listas segundo o critério que está dentro, no caso acima, vamos fazer x.strip() para todo x dentro da lista texto"
      ]
    },
    {
      "cell_type": "markdown",
      "metadata": {
        "id": "i61p3Ft51Yh0",
        "colab_type": "text"
      },
      "source": [
        "**Exercício**\n",
        "\n",
        "Repita o processo acima para outro Deputado Federal"
      ]
    },
    {
      "cell_type": "code",
      "metadata": {
        "id": "TlU-3rNT1Yh1",
        "colab_type": "code",
        "colab": {}
      },
      "source": [
        ""
      ],
      "execution_count": 0,
      "outputs": []
    },
    {
      "cell_type": "markdown",
      "metadata": {
        "id": "yQoH-BZR1Yh3",
        "colab_type": "text"
      },
      "source": [
        "Existem inúmeras APIs, podemos ver o que o Google completaria, dada uma expressão inicial"
      ]
    },
    {
      "cell_type": "code",
      "metadata": {
        "id": "Owm1LjwY1Yh4",
        "colab_type": "code",
        "colab": {}
      },
      "source": [
        "from requests import get\n",
        "url = \"http://suggestqueries.google.com/complete/search?client=firefox&q=Jair Bolsonaro é\"\n",
        "resp = get(url).json()\n",
        "resp"
      ],
      "execution_count": 0,
      "outputs": []
    },
    {
      "cell_type": "markdown",
      "metadata": {
        "id": "tPas9g7B1Yh6",
        "colab_type": "text"
      },
      "source": [
        "**Exercício**\n",
        "\n",
        "Coloque outras frases a serem completadas para testar"
      ]
    },
    {
      "cell_type": "code",
      "metadata": {
        "id": "mF2Doh9N1Yh7",
        "colab_type": "code",
        "colab": {}
      },
      "source": [
        ""
      ],
      "execution_count": 0,
      "outputs": []
    },
    {
      "cell_type": "markdown",
      "metadata": {
        "id": "9qMPcpQ91Yh-",
        "colab_type": "text"
      },
      "source": [
        "**Pandas Dataframe**\n",
        "---------------\n",
        "Uma biblioteca muito utilizada em Ciência de Dados é o pandas. E a estrutura de dados mais útil é o dataframe. Vamos fazer uma Análise real, com Dados Públicos do SUS de Santa Catarina, créditos para a Larissa Lautert, do PyLadies Florianópolis, que me forneceu este notebook. O problema analisado é a excessiva demora na Fila do SUS, naquele dataset concreto de dados."
      ]
    },
    {
      "cell_type": "code",
      "metadata": {
        "id": "nzugFNxG1Yh-",
        "colab_type": "code",
        "colab": {}
      },
      "source": [
        "import pandas as pd\n",
        "low_memory=False\n",
        "%matplotlib inline\n",
        "pd.options.display.max_columns = 80\n",
        "pd.options.display.max_rows = 90"
      ],
      "execution_count": 0,
      "outputs": []
    },
    {
      "cell_type": "code",
      "metadata": {
        "id": "UX3lQMwh1qa0",
        "colab_type": "code",
        "outputId": "75275ba4-e967-4bc0-8b8f-aa6350229abd",
        "colab": {
          "resources": {
            "http://localhost:8080/nbextensions/google.colab/files.js": {
              "data": "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",
              "ok": true,
              "headers": [
                [
                  "content-type",
                  "application/javascript"
                ]
              ],
              "status": 200,
              "status_text": ""
            }
          },
          "base_uri": "https://localhost:8080/",
          "height": 72
        }
      },
      "source": [
        "from google.colab import files\n",
        "uploaded = files.upload()\n"
      ],
      "execution_count": 0,
      "outputs": [
        {
          "output_type": "display_data",
          "data": {
            "text/html": [
              "\n",
              "     <input type=\"file\" id=\"files-bdeca88a-326e-4460-904e-8d57e71f5ad8\" name=\"files[]\" multiple disabled />\n",
              "     <output id=\"result-bdeca88a-326e-4460-904e-8d57e71f5ad8\">\n",
              "      Upload widget is only available when the cell has been executed in the\n",
              "      current browser session. Please rerun this cell to enable.\n",
              "      </output>\n",
              "      <script src=\"/nbextensions/google.colab/files.js\"></script> "
            ],
            "text/plain": [
              "<IPython.core.display.HTML object>"
            ]
          },
          "metadata": {
            "tags": []
          }
        },
        {
          "output_type": "stream",
          "text": [
            "Saving fila-publica-2017-11-30.csv to fila-publica-2017-11-30.csv\n"
          ],
          "name": "stdout"
        }
      ]
    },
    {
      "cell_type": "markdown",
      "metadata": {
        "id": "H_Wvad461YiC",
        "colab_type": "text"
      },
      "source": [
        "Pandas é a biblioteca que carrego na memória com um apelido pd, low_memory normalmente é True, porém, para acelerar nossa carga colocaremos False, matplotlib permite visualizações básicas e faremos os gráficos diretamente nos dataframes, max_columns e max_rows apenas para diminuir a apresentação de conjuntos muito extensos de dados."
      ]
    },
    {
      "cell_type": "code",
      "metadata": {
        "id": "BX1l1ozf1YiD",
        "colab_type": "code",
        "outputId": "0e080894-f847-4c7f-86df-efaf49228923",
        "colab": {
          "base_uri": "https://localhost:8080/",
          "height": 50
        }
      },
      "source": [
        "filename = 'fila-publica-2017-11-30.csv'\n",
        "df = pd.read_csv(filename)"
      ],
      "execution_count": 0,
      "outputs": [
        {
          "output_type": "stream",
          "text": [
            "/usr/local/lib/python3.6/dist-packages/IPython/core/interactiveshell.py:2718: DtypeWarning: Columns (7,12,13,16) have mixed types. Specify dtype option on import or set low_memory=False.\n",
            "  interactivity=interactivity, compiler=compiler, result=result)\n"
          ],
          "name": "stderr"
        }
      ]
    },
    {
      "cell_type": "markdown",
      "metadata": {
        "id": "dAxVscgZ1YiG",
        "colab_type": "text"
      },
      "source": [
        "Este arquivo deve estar na mesma pasta do seu notebook. Tivemos alguns avisos, que não irão afetar nossa Análise."
      ]
    },
    {
      "cell_type": "code",
      "metadata": {
        "id": "DInbxKyY1YiI",
        "colab_type": "code",
        "outputId": "03626f1a-17e4-46be-fa8d-27a09800c7cd",
        "colab": {
          "base_uri": "https://localhost:8080/",
          "height": 34
        }
      },
      "source": [
        "df.shape"
      ],
      "execution_count": 0,
      "outputs": [
        {
          "output_type": "execute_result",
          "data": {
            "text/plain": [
              "(1306967, 17)"
            ]
          },
          "metadata": {
            "tags": []
          },
          "execution_count": 35
        }
      ]
    },
    {
      "cell_type": "code",
      "metadata": {
        "id": "nsWgVItY1YiM",
        "colab_type": "code",
        "outputId": "75ee9027-4362-4800-bc4c-4ee26de32a13",
        "colab": {
          "base_uri": "https://localhost:8080/",
          "height": 272
        }
      },
      "source": [
        "df.describe()"
      ],
      "execution_count": 0,
      "outputs": [
        {
          "output_type": "execute_result",
          "data": {
            "text/html": [
              "<div>\n",
              "<style scoped>\n",
              "    .dataframe tbody tr th:only-of-type {\n",
              "        vertical-align: middle;\n",
              "    }\n",
              "\n",
              "    .dataframe tbody tr th {\n",
              "        vertical-align: top;\n",
              "    }\n",
              "\n",
              "    .dataframe thead th {\n",
              "        text-align: right;\n",
              "    }\n",
              "</style>\n",
              "<table border=\"1\" class=\"dataframe\">\n",
              "  <thead>\n",
              "    <tr style=\"text-align: right;\">\n",
              "      <th></th>\n",
              "      <th>POSIÇÃO</th>\n",
              "      <th>TEMPO MÉDIO DE ESPERA(DIAS)</th>\n",
              "      <th>NASCIMENTO</th>\n",
              "      <th>CNES DA UNIDADE SOLICITANTE</th>\n",
              "      <th>CÓDIGO SIGTAP DO PROCEDIMENTO</th>\n",
              "    </tr>\n",
              "  </thead>\n",
              "  <tbody>\n",
              "    <tr>\n",
              "      <th>count</th>\n",
              "      <td>1.306967e+06</td>\n",
              "      <td>1.288724e+06</td>\n",
              "      <td>0.0</td>\n",
              "      <td>1.306967e+06</td>\n",
              "      <td>1.305728e+06</td>\n",
              "    </tr>\n",
              "    <tr>\n",
              "      <th>mean</th>\n",
              "      <td>2.502004e+03</td>\n",
              "      <td>1.942741e+02</td>\n",
              "      <td>NaN</td>\n",
              "      <td>3.539747e+06</td>\n",
              "      <td>2.414849e+08</td>\n",
              "    </tr>\n",
              "    <tr>\n",
              "      <th>std</th>\n",
              "      <td>3.291319e+03</td>\n",
              "      <td>3.145126e+02</td>\n",
              "      <td>NaN</td>\n",
              "      <td>1.972460e+06</td>\n",
              "      <td>5.118480e+07</td>\n",
              "    </tr>\n",
              "    <tr>\n",
              "      <th>min</th>\n",
              "      <td>1.000000e+00</td>\n",
              "      <td>0.000000e+00</td>\n",
              "      <td>NaN</td>\n",
              "      <td>1.925900e+04</td>\n",
              "      <td>2.040601e+07</td>\n",
              "    </tr>\n",
              "    <tr>\n",
              "      <th>25%</th>\n",
              "      <td>2.490000e+02</td>\n",
              "      <td>3.100000e+01</td>\n",
              "      <td>NaN</td>\n",
              "      <td>2.418916e+06</td>\n",
              "      <td>2.020602e+08</td>\n",
              "    </tr>\n",
              "    <tr>\n",
              "      <th>50%</th>\n",
              "      <td>1.011000e+03</td>\n",
              "      <td>9.900000e+01</td>\n",
              "      <td>NaN</td>\n",
              "      <td>2.660792e+06</td>\n",
              "      <td>2.060101e+08</td>\n",
              "    </tr>\n",
              "    <tr>\n",
              "      <th>75%</th>\n",
              "      <td>3.351000e+03</td>\n",
              "      <td>1.590000e+02</td>\n",
              "      <td>NaN</td>\n",
              "      <td>5.465893e+06</td>\n",
              "      <td>3.010101e+08</td>\n",
              "    </tr>\n",
              "    <tr>\n",
              "      <th>max</th>\n",
              "      <td>1.874000e+04</td>\n",
              "      <td>2.019000e+03</td>\n",
              "      <td>NaN</td>\n",
              "      <td>9.362223e+06</td>\n",
              "      <td>7.010701e+08</td>\n",
              "    </tr>\n",
              "  </tbody>\n",
              "</table>\n",
              "</div>"
            ],
            "text/plain": [
              "            POSIÇÃO  TEMPO MÉDIO DE ESPERA(DIAS)  NASCIMENTO  \\\n",
              "count  1.306967e+06                 1.288724e+06         0.0   \n",
              "mean   2.502004e+03                 1.942741e+02         NaN   \n",
              "std    3.291319e+03                 3.145126e+02         NaN   \n",
              "min    1.000000e+00                 0.000000e+00         NaN   \n",
              "25%    2.490000e+02                 3.100000e+01         NaN   \n",
              "50%    1.011000e+03                 9.900000e+01         NaN   \n",
              "75%    3.351000e+03                 1.590000e+02         NaN   \n",
              "max    1.874000e+04                 2.019000e+03         NaN   \n",
              "\n",
              "       CNES DA UNIDADE SOLICITANTE  CÓDIGO SIGTAP DO PROCEDIMENTO  \n",
              "count                 1.306967e+06                   1.305728e+06  \n",
              "mean                  3.539747e+06                   2.414849e+08  \n",
              "std                   1.972460e+06                   5.118480e+07  \n",
              "min                   1.925900e+04                   2.040601e+07  \n",
              "25%                   2.418916e+06                   2.020602e+08  \n",
              "50%                   2.660792e+06                   2.060101e+08  \n",
              "75%                   5.465893e+06                   3.010101e+08  \n",
              "max                   9.362223e+06                   7.010701e+08  "
            ]
          },
          "metadata": {
            "tags": []
          },
          "execution_count": 36
        }
      ]
    },
    {
      "cell_type": "markdown",
      "metadata": {
        "id": "9pZaxBEQ1YiR",
        "colab_type": "text"
      },
      "source": [
        "Visualizamos dados estatísticos das colunas que temos. Estamos entrevistando esta base focando o Tempo Médio de Espera, podemos ver que, na média, o tempo é de 194 dias. "
      ]
    },
    {
      "cell_type": "code",
      "metadata": {
        "id": "GyPO0pV11YiS",
        "colab_type": "code",
        "outputId": "8135cfc3-0027-400a-d917-43587437a9e9",
        "colab": {
          "base_uri": "https://localhost:8080/",
          "height": 370
        }
      },
      "source": [
        "df.info()"
      ],
      "execution_count": 0,
      "outputs": [
        {
          "output_type": "stream",
          "text": [
            "<class 'pandas.core.frame.DataFrame'>\n",
            "RangeIndex: 1306967 entries, 0 to 1306966\n",
            "Data columns (total 17 columns):\n",
            "SERVIÇO                               1306967 non-null object\n",
            "CENTRAL DE REGULAÇÃO/RESPONSÁVEL      1306967 non-null object\n",
            "MUNICÍPIO DE RESIDÊNCIA               1306967 non-null object\n",
            "POSIÇÃO                               1306967 non-null int64\n",
            "TEMPO MÉDIO DE ESPERA(DIAS)           1288724 non-null float64\n",
            "CLASSIFICAÇÃO                         1306967 non-null object\n",
            "TIPO DA LISTA                         1306967 non-null object\n",
            "DOCUMENTO                             1306967 non-null object\n",
            "DATA DA SOLICITAÇÃO                   1306273 non-null object\n",
            "CIDADÃO                               1306967 non-null object\n",
            "NASCIMENTO                            0 non-null float64\n",
            "DESCRIÇÃO DO PROCEDIMENTO             1306967 non-null object\n",
            "CNES DA CENTRAL SOLICITANTE           1306967 non-null object\n",
            "CNES DA CENTRAL EXECUTANTE            1306966 non-null object\n",
            "CNES DA UNIDADE SOLICITANTE           1306967 non-null int64\n",
            "CÓDIGO SIGTAP DO PROCEDIMENTO         1305728 non-null float64\n",
            "DESCRIÇÃO DO GRUPO DO PROCEDIMENTO    724444 non-null object\n",
            "dtypes: float64(3), int64(2), object(12)\n",
            "memory usage: 169.5+ MB\n"
          ],
          "name": "stdout"
        }
      ]
    },
    {
      "cell_type": "markdown",
      "metadata": {
        "id": "uRS9HdDj1YiV",
        "colab_type": "text"
      },
      "source": [
        "Por uma razão de conveniência iremos remover os espaços das colunas"
      ]
    },
    {
      "cell_type": "code",
      "metadata": {
        "id": "MgCI0d_c1YiW",
        "colab_type": "code",
        "colab": {}
      },
      "source": [
        "df.rename(columns={'MUNICÍPIO DE RESIDÊNCIA': 'MUNICÍPIODERESIDÊNCIA',\n",
        "                   'CENTRAL DE REGULAÇÃO/RESPONSÁVEL': 'CENTRALDEREGULAÇÃO/RESPONSÁVEL',\n",
        "                   'TEMPO MÉDIO DE ESPERA(DIAS)': 'TEMPOMÉDIODEESPERA(DIAS)',\n",
        "                   'DATA DA SOLICITAÇÃO': 'DATADASOLICITAÇÃO',\n",
        "                   'DESCRIÇÃO DO PROCEDIMENTO': 'DESCRIÇÃODOPROCEDIMENTO',\n",
        "                   'CNES DA CENTRAL EXECUTANTE': 'CNESDACENTRALEXECUTANTE',\n",
        "                   'CNES DA UNIDADE SOLICITANTE': 'CNESDAUNIDADESOLICITANTE'\n",
        "                  }, inplace=True)"
      ],
      "execution_count": 0,
      "outputs": []
    },
    {
      "cell_type": "code",
      "metadata": {
        "id": "nAM_Y01N1YiZ",
        "colab_type": "code",
        "outputId": "84ac4072-7f5c-4f4f-ddb8-ee12349c2681",
        "colab": {
          "base_uri": "https://localhost:8080/",
          "height": 456
        }
      },
      "source": [
        "df.sample(10)"
      ],
      "execution_count": 0,
      "outputs": [
        {
          "output_type": "execute_result",
          "data": {
            "text/html": [
              "<div>\n",
              "<style scoped>\n",
              "    .dataframe tbody tr th:only-of-type {\n",
              "        vertical-align: middle;\n",
              "    }\n",
              "\n",
              "    .dataframe tbody tr th {\n",
              "        vertical-align: top;\n",
              "    }\n",
              "\n",
              "    .dataframe thead th {\n",
              "        text-align: right;\n",
              "    }\n",
              "</style>\n",
              "<table border=\"1\" class=\"dataframe\">\n",
              "  <thead>\n",
              "    <tr style=\"text-align: right;\">\n",
              "      <th></th>\n",
              "      <th>SERVIÇO</th>\n",
              "      <th>CENTRALDEREGULAÇÃO/RESPONSÁVEL</th>\n",
              "      <th>MUNICÍPIODERESIDÊNCIA</th>\n",
              "      <th>POSIÇÃO</th>\n",
              "      <th>TEMPOMÉDIODEESPERA(DIAS)</th>\n",
              "      <th>CLASSIFICAÇÃO</th>\n",
              "      <th>TIPO DA LISTA</th>\n",
              "      <th>DOCUMENTO</th>\n",
              "      <th>DATADASOLICITAÇÃO</th>\n",
              "      <th>CIDADÃO</th>\n",
              "      <th>NASCIMENTO</th>\n",
              "      <th>DESCRIÇÃODOPROCEDIMENTO</th>\n",
              "      <th>CNES DA CENTRAL SOLICITANTE</th>\n",
              "      <th>CNESDACENTRALEXECUTANTE</th>\n",
              "      <th>CNESDAUNIDADESOLICITANTE</th>\n",
              "      <th>CÓDIGO SIGTAP DO PROCEDIMENTO</th>\n",
              "      <th>DESCRIÇÃO DO GRUPO DO PROCEDIMENTO</th>\n",
              "    </tr>\n",
              "  </thead>\n",
              "  <tbody>\n",
              "    <tr>\n",
              "      <th>942281</th>\n",
              "      <td>Consulta</td>\n",
              "      <td>CS INGLESES</td>\n",
              "      <td>FLORIANOPOLIS</td>\n",
              "      <td>13443</td>\n",
              "      <td>395.0</td>\n",
              "      <td>4 - Azul</td>\n",
              "      <td>Fila única</td>\n",
              "      <td>705203401697378</td>\n",
              "      <td>25/09/2017 10:53:34</td>\n",
              "      <td>C F R M</td>\n",
              "      <td>NaN</td>\n",
              "      <td>CONSULTA EM OFTALMOLOGIA - GERAL</td>\n",
              "      <td>6939392</td>\n",
              "      <td>6939392</td>\n",
              "      <td>2692538</td>\n",
              "      <td>301010072.0</td>\n",
              "      <td>NaN</td>\n",
              "    </tr>\n",
              "    <tr>\n",
              "      <th>419977</th>\n",
              "      <td>Exame</td>\n",
              "      <td>CENTRO DE SAUDE COHAB PONTE DO IMARUI</td>\n",
              "      <td>PALHOCA</td>\n",
              "      <td>471</td>\n",
              "      <td>150.0</td>\n",
              "      <td>2 - Amarelo</td>\n",
              "      <td>Regulada</td>\n",
              "      <td>706407105382481</td>\n",
              "      <td>09/11/2017 10:25:44</td>\n",
              "      <td>K P D S</td>\n",
              "      <td>NaN</td>\n",
              "      <td>FERRO SERICO</td>\n",
              "      <td>6082351</td>\n",
              "      <td>6082351</td>\n",
              "      <td>2418428</td>\n",
              "      <td>202010392.0</td>\n",
              "      <td>GRUPO - PATOLOGIA CLINICA (EXAMES DE LABORATORIO)</td>\n",
              "    </tr>\n",
              "    <tr>\n",
              "      <th>922037</th>\n",
              "      <td>Exame</td>\n",
              "      <td>SECRETARIA MUNICIPAL DE SAUDE DE LAGUNA</td>\n",
              "      <td>LAGUNA</td>\n",
              "      <td>1814</td>\n",
              "      <td>35.0</td>\n",
              "      <td>4 - Azul</td>\n",
              "      <td>Regulada</td>\n",
              "      <td>701402648541135</td>\n",
              "      <td>15/08/2017 09:20:15</td>\n",
              "      <td>C C D S</td>\n",
              "      <td>NaN</td>\n",
              "      <td>RESSONANCIA MAGNETICA DE SELA TURCICA</td>\n",
              "      <td>420940</td>\n",
              "      <td>6490212</td>\n",
              "      <td>6362303</td>\n",
              "      <td>207010072.0</td>\n",
              "      <td>GRUPO - RESSONANCIA MAGNETICA</td>\n",
              "    </tr>\n",
              "    <tr>\n",
              "      <th>1234227</th>\n",
              "      <td>Exame</td>\n",
              "      <td>CENTRO DE SAUDE PINHEIRA</td>\n",
              "      <td>PALHOCA</td>\n",
              "      <td>9431</td>\n",
              "      <td>53.0</td>\n",
              "      <td>4 - Azul</td>\n",
              "      <td>Fila única</td>\n",
              "      <td>705003608276152</td>\n",
              "      <td>12/10/2017 11:09:40</td>\n",
              "      <td>D N S</td>\n",
              "      <td>NaN</td>\n",
              "      <td>CULTURA DE URINA C/ CONTAGEM DE COLONIAS</td>\n",
              "      <td>6082351</td>\n",
              "      <td>6939392</td>\n",
              "      <td>2418355</td>\n",
              "      <td>202080080.0</td>\n",
              "      <td>GRUPO - PATOLOGIA CLINICA (EXAMES DE LABORATORIO)</td>\n",
              "    </tr>\n",
              "    <tr>\n",
              "      <th>565612</th>\n",
              "      <td>Consulta</td>\n",
              "      <td>CENTRO DE SAUDE DA FAMILIA VILA REAL</td>\n",
              "      <td>CHAPECO</td>\n",
              "      <td>1469</td>\n",
              "      <td>40.0</td>\n",
              "      <td>4 - Azul</td>\n",
              "      <td>Regulada</td>\n",
              "      <td>702807676826962</td>\n",
              "      <td>16/11/2017 09:22:25</td>\n",
              "      <td>I P M</td>\n",
              "      <td>NaN</td>\n",
              "      <td>CONSULTA EM ORTOPEDIA - GERAL</td>\n",
              "      <td>7974671</td>\n",
              "      <td>7974671</td>\n",
              "      <td>6303404</td>\n",
              "      <td>301010072.0</td>\n",
              "      <td>NaN</td>\n",
              "    </tr>\n",
              "    <tr>\n",
              "      <th>233827</th>\n",
              "      <td>Exame</td>\n",
              "      <td>CENTRO DE SAUDE COHAB PONTE DO IMARUI</td>\n",
              "      <td>PALHOCA</td>\n",
              "      <td>3610</td>\n",
              "      <td>134.0</td>\n",
              "      <td>4 - Azul</td>\n",
              "      <td>Fila única</td>\n",
              "      <td>700705994918170</td>\n",
              "      <td>21/07/2017 13:43:48</td>\n",
              "      <td>D T M L</td>\n",
              "      <td>NaN</td>\n",
              "      <td>TIROXINA LIVRE (T4 LIVRE)</td>\n",
              "      <td>421190</td>\n",
              "      <td>6082351</td>\n",
              "      <td>2418428</td>\n",
              "      <td>202060381.0</td>\n",
              "      <td>GRUPO - PATOLOGIA CLINICA (EXAMES DE LABORATORIO)</td>\n",
              "    </tr>\n",
              "    <tr>\n",
              "      <th>1005847</th>\n",
              "      <td>Exame</td>\n",
              "      <td>CS INGLESES</td>\n",
              "      <td>FLORIANOPOLIS</td>\n",
              "      <td>276</td>\n",
              "      <td>20.0</td>\n",
              "      <td>4 - Azul</td>\n",
              "      <td>Regulada</td>\n",
              "      <td>700503398535658</td>\n",
              "      <td>06/11/2017 08:29:20</td>\n",
              "      <td>J S D S</td>\n",
              "      <td>NaN</td>\n",
              "      <td>HEMOGRAMA COMPLETO</td>\n",
              "      <td>6939392</td>\n",
              "      <td>6939392</td>\n",
              "      <td>2692538</td>\n",
              "      <td>202020380.0</td>\n",
              "      <td>GRUPO - PATOLOGIA CLINICA (EXAMES DE LABORATORIO)</td>\n",
              "    </tr>\n",
              "    <tr>\n",
              "      <th>1161209</th>\n",
              "      <td>Exame</td>\n",
              "      <td>CENTRO DE SAUDE COHAB PONTE DO IMARUI</td>\n",
              "      <td>PALHOCA</td>\n",
              "      <td>2428</td>\n",
              "      <td>127.0</td>\n",
              "      <td>4 - Azul</td>\n",
              "      <td>Fila única</td>\n",
              "      <td>700406413275341</td>\n",
              "      <td>18/07/2017 10:35:36</td>\n",
              "      <td>S N P</td>\n",
              "      <td>NaN</td>\n",
              "      <td>TGP</td>\n",
              "      <td>6082351</td>\n",
              "      <td>6939392</td>\n",
              "      <td>2418428</td>\n",
              "      <td>202010651.0</td>\n",
              "      <td>GRUPO - PATOLOGIA CLINICA (EXAMES DE LABORATORIO)</td>\n",
              "    </tr>\n",
              "    <tr>\n",
              "      <th>724093</th>\n",
              "      <td>Exame</td>\n",
              "      <td>CENTRO DE SAUDE AREIAS</td>\n",
              "      <td>SAO JOSE</td>\n",
              "      <td>16208</td>\n",
              "      <td>1106.0</td>\n",
              "      <td>4 - Azul</td>\n",
              "      <td>Fila única</td>\n",
              "      <td>706708518252617</td>\n",
              "      <td>03/12/2015 15:45:08</td>\n",
              "      <td>M C R</td>\n",
              "      <td>NaN</td>\n",
              "      <td>ULTRA-SONOGRAFIA DE MAMAS (BILATERAL)</td>\n",
              "      <td>5908418</td>\n",
              "      <td>5908418</td>\n",
              "      <td>2663783</td>\n",
              "      <td>205020097.0</td>\n",
              "      <td>GRUPO - EXAMES ULTRA-SONOGRAFICOS</td>\n",
              "    </tr>\n",
              "    <tr>\n",
              "      <th>1041930</th>\n",
              "      <td>Consulta</td>\n",
              "      <td>ESF VALERIO JOSE STEIL II</td>\n",
              "      <td>BLUMENAU</td>\n",
              "      <td>298</td>\n",
              "      <td>56.0</td>\n",
              "      <td>3 - Verde</td>\n",
              "      <td>Fila única</td>\n",
              "      <td>700505349449656</td>\n",
              "      <td>11/10/2017 13:44:23</td>\n",
              "      <td>I Z N</td>\n",
              "      <td>NaN</td>\n",
              "      <td>CONSULTA EM OTORRINOLARINGOLOGIA - GERAL</td>\n",
              "      <td>2353654</td>\n",
              "      <td>2353654</td>\n",
              "      <td>6634370</td>\n",
              "      <td>301010072.0</td>\n",
              "      <td>NaN</td>\n",
              "    </tr>\n",
              "  </tbody>\n",
              "</table>\n",
              "</div>"
            ],
            "text/plain": [
              "          SERVIÇO           CENTRALDEREGULAÇÃO/RESPONSÁVEL  \\\n",
              "942281   Consulta                              CS INGLESES   \n",
              "419977      Exame    CENTRO DE SAUDE COHAB PONTE DO IMARUI   \n",
              "922037      Exame  SECRETARIA MUNICIPAL DE SAUDE DE LAGUNA   \n",
              "1234227     Exame                 CENTRO DE SAUDE PINHEIRA   \n",
              "565612   Consulta     CENTRO DE SAUDE DA FAMILIA VILA REAL   \n",
              "233827      Exame    CENTRO DE SAUDE COHAB PONTE DO IMARUI   \n",
              "1005847     Exame                              CS INGLESES   \n",
              "1161209     Exame    CENTRO DE SAUDE COHAB PONTE DO IMARUI   \n",
              "724093      Exame                   CENTRO DE SAUDE AREIAS   \n",
              "1041930  Consulta                ESF VALERIO JOSE STEIL II   \n",
              "\n",
              "        MUNICÍPIODERESIDÊNCIA  POSIÇÃO  TEMPOMÉDIODEESPERA(DIAS)  \\\n",
              "942281          FLORIANOPOLIS    13443                     395.0   \n",
              "419977                PALHOCA      471                     150.0   \n",
              "922037                 LAGUNA     1814                      35.0   \n",
              "1234227               PALHOCA     9431                      53.0   \n",
              "565612                CHAPECO     1469                      40.0   \n",
              "233827                PALHOCA     3610                     134.0   \n",
              "1005847         FLORIANOPOLIS      276                      20.0   \n",
              "1161209               PALHOCA     2428                     127.0   \n",
              "724093               SAO JOSE    16208                    1106.0   \n",
              "1041930              BLUMENAU      298                      56.0   \n",
              "\n",
              "        CLASSIFICAÇÃO TIPO DA LISTA        DOCUMENTO    DATADASOLICITAÇÃO  \\\n",
              "942281       4 - Azul    Fila única  705203401697378  25/09/2017 10:53:34   \n",
              "419977    2 - Amarelo      Regulada  706407105382481  09/11/2017 10:25:44   \n",
              "922037       4 - Azul      Regulada  701402648541135  15/08/2017 09:20:15   \n",
              "1234227      4 - Azul    Fila única  705003608276152  12/10/2017 11:09:40   \n",
              "565612       4 - Azul      Regulada  702807676826962  16/11/2017 09:22:25   \n",
              "233827       4 - Azul    Fila única  700705994918170  21/07/2017 13:43:48   \n",
              "1005847      4 - Azul      Regulada  700503398535658  06/11/2017 08:29:20   \n",
              "1161209      4 - Azul    Fila única  700406413275341  18/07/2017 10:35:36   \n",
              "724093       4 - Azul    Fila única  706708518252617  03/12/2015 15:45:08   \n",
              "1041930     3 - Verde    Fila única  700505349449656  11/10/2017 13:44:23   \n",
              "\n",
              "         CIDADÃO  NASCIMENTO                   DESCRIÇÃODOPROCEDIMENTO  \\\n",
              "942281   C F R M         NaN          CONSULTA EM OFTALMOLOGIA - GERAL   \n",
              "419977   K P D S         NaN                              FERRO SERICO   \n",
              "922037   C C D S         NaN     RESSONANCIA MAGNETICA DE SELA TURCICA   \n",
              "1234227    D N S         NaN  CULTURA DE URINA C/ CONTAGEM DE COLONIAS   \n",
              "565612     I P M         NaN             CONSULTA EM ORTOPEDIA - GERAL   \n",
              "233827   D T M L         NaN                 TIROXINA LIVRE (T4 LIVRE)   \n",
              "1005847  J S D S         NaN                        HEMOGRAMA COMPLETO   \n",
              "1161209    S N P         NaN                                       TGP   \n",
              "724093     M C R         NaN     ULTRA-SONOGRAFIA DE MAMAS (BILATERAL)   \n",
              "1041930    I Z N         NaN  CONSULTA EM OTORRINOLARINGOLOGIA - GERAL   \n",
              "\n",
              "        CNES DA CENTRAL SOLICITANTE CNESDACENTRALEXECUTANTE  \\\n",
              "942281                      6939392                 6939392   \n",
              "419977                      6082351                 6082351   \n",
              "922037                       420940                 6490212   \n",
              "1234227                     6082351                 6939392   \n",
              "565612                      7974671                 7974671   \n",
              "233827                       421190                 6082351   \n",
              "1005847                     6939392                 6939392   \n",
              "1161209                     6082351                 6939392   \n",
              "724093                      5908418                 5908418   \n",
              "1041930                     2353654                 2353654   \n",
              "\n",
              "         CNESDAUNIDADESOLICITANTE  CÓDIGO SIGTAP DO PROCEDIMENTO  \\\n",
              "942281                    2692538                    301010072.0   \n",
              "419977                    2418428                    202010392.0   \n",
              "922037                    6362303                    207010072.0   \n",
              "1234227                   2418355                    202080080.0   \n",
              "565612                    6303404                    301010072.0   \n",
              "233827                    2418428                    202060381.0   \n",
              "1005847                   2692538                    202020380.0   \n",
              "1161209                   2418428                    202010651.0   \n",
              "724093                    2663783                    205020097.0   \n",
              "1041930                   6634370                    301010072.0   \n",
              "\n",
              "                        DESCRIÇÃO DO GRUPO DO PROCEDIMENTO  \n",
              "942281                                                 NaN  \n",
              "419977   GRUPO - PATOLOGIA CLINICA (EXAMES DE LABORATORIO)  \n",
              "922037                       GRUPO - RESSONANCIA MAGNETICA  \n",
              "1234227  GRUPO - PATOLOGIA CLINICA (EXAMES DE LABORATORIO)  \n",
              "565612                                                 NaN  \n",
              "233827   GRUPO - PATOLOGIA CLINICA (EXAMES DE LABORATORIO)  \n",
              "1005847  GRUPO - PATOLOGIA CLINICA (EXAMES DE LABORATORIO)  \n",
              "1161209  GRUPO - PATOLOGIA CLINICA (EXAMES DE LABORATORIO)  \n",
              "724093                   GRUPO - EXAMES ULTRA-SONOGRAFICOS  \n",
              "1041930                                                NaN  "
            ]
          },
          "metadata": {
            "tags": []
          },
          "execution_count": 39
        }
      ]
    },
    {
      "cell_type": "markdown",
      "metadata": {
        "id": "OUkC1eqF1Yib",
        "colab_type": "text"
      },
      "source": [
        "Amostra de 10 itens do nosso dataset. \n",
        "\n",
        "**Exercício**\n",
        "\n",
        "Clique na célula e tecle shift enter"
      ]
    },
    {
      "cell_type": "code",
      "metadata": {
        "id": "4cl_5hg_1Yic",
        "colab_type": "code",
        "outputId": "f0ca111e-ab95-45ac-bcbf-e293aef44c3f",
        "colab": {
          "base_uri": "https://localhost:8080/",
          "height": 286
        }
      },
      "source": [
        "df.groupby('SERVIÇO').size().sort_values().plot(kind='barh')"
      ],
      "execution_count": 0,
      "outputs": [
        {
          "output_type": "execute_result",
          "data": {
            "text/plain": [
              "<matplotlib.axes._subplots.AxesSubplot at 0x7f165b246be0>"
            ]
          },
          "metadata": {
            "tags": []
          },
          "execution_count": 40
        },
        {
          "output_type": "display_data",
          "data": {
            "image/png": "[encoded data removed]",
            "text/plain": [
              "<Figure size 432x288 with 1 Axes>"
            ]
          },
          "metadata": {
            "tags": []
          }
        }
      ]
    },
    {
      "cell_type": "markdown",
      "metadata": {
        "id": "PcFz6QGH1Yif",
        "colab_type": "text"
      },
      "source": [
        "Fizemos um agrupamento da base, em relação à coluna SERVIÇO, pegamos o tamanho do agrupamento, colocamos em ordem, e plotamos um gráfico do tipo barra horizontal"
      ]
    },
    {
      "cell_type": "code",
      "metadata": {
        "id": "bOfAQfHn1Yif",
        "colab_type": "code",
        "outputId": "ee8cc158-beda-469c-b2d5-25abc71ecc06",
        "colab": {
          "base_uri": "https://localhost:8080/",
          "height": 612
        }
      },
      "source": [
        "df.groupby('MUNICÍPIODERESIDÊNCIA').size().sort_values().tail(20).plot(kind='barh', figsize=(10,10))"
      ],
      "execution_count": 0,
      "outputs": [
        {
          "output_type": "execute_result",
          "data": {
            "text/plain": [
              "<matplotlib.axes._subplots.AxesSubplot at 0x7f165b21cac8>"
            ]
          },
          "metadata": {
            "tags": []
          },
          "execution_count": 41
        },
        {
          "output_type": "display_data",
          "data": {
            "image/png": "[encoded data removed]",
            "text/plain": [
              "<Figure size 720x720 with 1 Axes>"
            ]
          },
          "metadata": {
            "tags": []
          }
        }
      ]
    },
    {
      "cell_type": "markdown",
      "metadata": {
        "id": "8X0WrpLq1Yih",
        "colab_type": "text"
      },
      "source": [
        "Fizemos algo semelhante em relação aos municípios, como são muitos, pegamos os últimos 20, que são os maiores\n",
        "\n",
        "**Exercício**\n",
        "\n",
        "O que você percebe de errado neste gráfico?"
      ]
    },
    {
      "cell_type": "code",
      "metadata": {
        "id": "2gnpVTQL1Yij",
        "colab_type": "code",
        "outputId": "f12079f8-74ee-4ee2-e10f-c22c198b0d4b",
        "colab": {
          "base_uri": "https://localhost:8080/",
          "height": 286
        }
      },
      "source": [
        "df.query('SERVIÇO == \"Exame\"')['MUNICÍPIODERESIDÊNCIA'].value_counts().head().plot(kind='barh')"
      ],
      "execution_count": 0,
      "outputs": [
        {
          "output_type": "execute_result",
          "data": {
            "text/plain": [
              "<matplotlib.axes._subplots.AxesSubplot at 0x7f16588cd978>"
            ]
          },
          "metadata": {
            "tags": []
          },
          "execution_count": 42
        },
        {
          "output_type": "display_data",
          "data": {
            "image/png": "[encoded data removed]",
            "text/plain": [
              "<Figure size 432x288 with 1 Axes>"
            ]
          },
          "metadata": {
            "tags": []
          }
        }
      ]
    },
    {
      "cell_type": "markdown",
      "metadata": {
        "id": "sfgP_CMA1Yim",
        "colab_type": "text"
      },
      "source": [
        "Vamos entrevistar um subconjunto de dados relativos à Exames, quando fizemos groupby, estamos ainda com a base inteira, agrupada segundo um critério. Query cria um recorte, no caso de Exames. Aqui estamos usando value_counts, para o resultado da query, note que antes usamos size, que é mais geral."
      ]
    },
    {
      "cell_type": "code",
      "metadata": {
        "id": "bCYnJPYo1Yin",
        "colab_type": "code",
        "outputId": "0dfa6fb4-cbb0-4813-c92b-7baedb1da1c2",
        "colab": {
          "base_uri": "https://localhost:8080/",
          "height": 114
        }
      },
      "source": [
        "df.query('SERVIÇO == \"Exame\"')['MUNICÍPIODERESIDÊNCIA'].value_counts().head()"
      ],
      "execution_count": 0,
      "outputs": [
        {
          "output_type": "execute_result",
          "data": {
            "text/plain": [
              "PALHOCA          347913\n",
              "SAO JOSE         102497\n",
              "BLUMENAU          57577\n",
              "BIGUACU           55737\n",
              "FLORIANOPOLIS     45871\n",
              "Name: MUNICÍPIODERESIDÊNCIA, dtype: int64"
            ]
          },
          "metadata": {
            "tags": []
          },
          "execution_count": 43
        }
      ]
    },
    {
      "cell_type": "markdown",
      "metadata": {
        "id": "GdnsX8HW1Yip",
        "colab_type": "text"
      },
      "source": [
        "Muitas vezes precisamos ver os dados, não apenas em gráficos\n",
        "\n",
        "Como são as Estatísticas em relação às pessoas que usam o SUS? Quantos exames cada uma realizou naquele mês de novembro, na média, qual o máximo de exames, etc"
      ]
    },
    {
      "cell_type": "code",
      "metadata": {
        "id": "fARYLY5N1Yiq",
        "colab_type": "code",
        "outputId": "d5eacfd3-ef07-4244-b6d2-3afda59edf71",
        "colab": {
          "base_uri": "https://localhost:8080/",
          "height": 162
        }
      },
      "source": [
        "df.query('SERVIÇO == \"Exame\" and MUNICÍPIODERESIDÊNCIA == \"PALHOCA\"').DOCUMENTO.value_counts().describe()"
      ],
      "execution_count": 0,
      "outputs": [
        {
          "output_type": "execute_result",
          "data": {
            "text/plain": [
              "count    31797.000000\n",
              "mean        10.941693\n",
              "std         12.505739\n",
              "min          1.000000\n",
              "25%          2.000000\n",
              "50%          4.000000\n",
              "75%         18.000000\n",
              "max         90.000000\n",
              "Name: DOCUMENTO, dtype: float64"
            ]
          },
          "metadata": {
            "tags": []
          },
          "execution_count": 44
        }
      ]
    },
    {
      "cell_type": "markdown",
      "metadata": {
        "id": "CkrWVWJa1Yix",
        "colab_type": "text"
      },
      "source": [
        "**Exercício**\n",
        "\n",
        "O que você acha de muito diferente em relação aos dados acima"
      ]
    },
    {
      "cell_type": "code",
      "metadata": {
        "id": "Zf7u9j1q1Yix",
        "colab_type": "code",
        "outputId": "5a3530a2-4bd7-487e-ad0c-3c6a6e306589",
        "colab": {
          "base_uri": "https://localhost:8080/",
          "height": 114
        }
      },
      "source": [
        "df.query('SERVIÇO == \"Exame\" and MUNICÍPIODERESIDÊNCIA == \"PALHOCA\"').DOCUMENTO.value_counts().head()"
      ],
      "execution_count": 0,
      "outputs": [
        {
          "output_type": "execute_result",
          "data": {
            "text/plain": [
              "704207709501384    90\n",
              "700603418445267    80\n",
              "700000291920300    80\n",
              "700505394201153    78\n",
              "702005327186289    77\n",
              "Name: DOCUMENTO, dtype: int64"
            ]
          },
          "metadata": {
            "tags": []
          },
          "execution_count": 45
        }
      ]
    },
    {
      "cell_type": "markdown",
      "metadata": {
        "id": "CFkdTXU41Yiz",
        "colab_type": "text"
      },
      "source": [
        "Quais são os exames concretos, associados a esses identificadores"
      ]
    },
    {
      "cell_type": "code",
      "metadata": {
        "id": "uGg1X4ap1Yi0",
        "colab_type": "code",
        "outputId": "6715a0c4-deed-455e-9b07-dcedf8a94bd9",
        "colab": {
          "base_uri": "https://localhost:8080/",
          "height": 328
        }
      },
      "source": [
        "df.query('DOCUMENTO == 704207709501384')[['DESCRIÇÃODOPROCEDIMENTO','DATADASOLICITAÇÃO', 'CENTRALDEREGULAÇÃO/RESPONSÁVEL', 'POSIÇÃO', 'CNESDACENTRALEXECUTANTE', 'CNESDAUNIDADESOLICITANTE']].sort_values(by='DESCRIÇÃODOPROCEDIMENTO').head(10)"
      ],
      "execution_count": 0,
      "outputs": [
        {
          "output_type": "execute_result",
          "data": {
            "text/html": [
              "<div>\n",
              "<style scoped>\n",
              "    .dataframe tbody tr th:only-of-type {\n",
              "        vertical-align: middle;\n",
              "    }\n",
              "\n",
              "    .dataframe tbody tr th {\n",
              "        vertical-align: top;\n",
              "    }\n",
              "\n",
              "    .dataframe thead th {\n",
              "        text-align: right;\n",
              "    }\n",
              "</style>\n",
              "<table border=\"1\" class=\"dataframe\">\n",
              "  <thead>\n",
              "    <tr style=\"text-align: right;\">\n",
              "      <th></th>\n",
              "      <th>DESCRIÇÃODOPROCEDIMENTO</th>\n",
              "      <th>DATADASOLICITAÇÃO</th>\n",
              "      <th>CENTRALDEREGULAÇÃO/RESPONSÁVEL</th>\n",
              "      <th>POSIÇÃO</th>\n",
              "      <th>CNESDACENTRALEXECUTANTE</th>\n",
              "      <th>CNESDAUNIDADESOLICITANTE</th>\n",
              "    </tr>\n",
              "  </thead>\n",
              "  <tbody>\n",
              "    <tr>\n",
              "      <th>264552</th>\n",
              "      <td>25 HIDROXIVITAMINA D (25 OHD)</td>\n",
              "      <td>23/08/2017 11:07:41</td>\n",
              "      <td>CENTRO DE SAUDE VILA NOVA</td>\n",
              "      <td>6519</td>\n",
              "      <td>6082351</td>\n",
              "      <td>7124619</td>\n",
              "    </tr>\n",
              "    <tr>\n",
              "      <th>1189115</th>\n",
              "      <td>25 HIDROXIVITAMINA D (25 OHD)</td>\n",
              "      <td>23/08/2017 11:07:41</td>\n",
              "      <td>CENTRO DE SAUDE VILA NOVA</td>\n",
              "      <td>4990</td>\n",
              "      <td>6939392</td>\n",
              "      <td>7124619</td>\n",
              "    </tr>\n",
              "    <tr>\n",
              "      <th>300253</th>\n",
              "      <td>ACIDO FOLICO</td>\n",
              "      <td>29/09/2017 13:13:39</td>\n",
              "      <td>CENTRO DE SAUDE VILA NOVA</td>\n",
              "      <td>10017</td>\n",
              "      <td>6082351</td>\n",
              "      <td>7124619</td>\n",
              "    </tr>\n",
              "    <tr>\n",
              "      <th>1224544</th>\n",
              "      <td>ACIDO FOLICO</td>\n",
              "      <td>29/09/2017 13:13:39</td>\n",
              "      <td>CENTRO DE SAUDE VILA NOVA</td>\n",
              "      <td>8466</td>\n",
              "      <td>6939392</td>\n",
              "      <td>7124619</td>\n",
              "    </tr>\n",
              "    <tr>\n",
              "      <th>264515</th>\n",
              "      <td>ACIDO URICO</td>\n",
              "      <td>23/08/2017 11:06:38</td>\n",
              "      <td>CENTRO DE SAUDE VILA NOVA</td>\n",
              "      <td>6515</td>\n",
              "      <td>6082351</td>\n",
              "      <td>7124619</td>\n",
              "    </tr>\n",
              "    <tr>\n",
              "      <th>1189078</th>\n",
              "      <td>ACIDO URICO</td>\n",
              "      <td>23/08/2017 11:06:38</td>\n",
              "      <td>CENTRO DE SAUDE VILA NOVA</td>\n",
              "      <td>4986</td>\n",
              "      <td>6939392</td>\n",
              "      <td>7124619</td>\n",
              "    </tr>\n",
              "    <tr>\n",
              "      <th>1189079</th>\n",
              "      <td>ANTIBIOGRAMA</td>\n",
              "      <td>23/08/2017 11:06:38</td>\n",
              "      <td>CENTRO DE SAUDE VILA NOVA</td>\n",
              "      <td>4986</td>\n",
              "      <td>6939392</td>\n",
              "      <td>7124619</td>\n",
              "    </tr>\n",
              "    <tr>\n",
              "      <th>264516</th>\n",
              "      <td>ANTIBIOGRAMA</td>\n",
              "      <td>23/08/2017 11:06:38</td>\n",
              "      <td>CENTRO DE SAUDE VILA NOVA</td>\n",
              "      <td>6515</td>\n",
              "      <td>6082351</td>\n",
              "      <td>7124619</td>\n",
              "    </tr>\n",
              "    <tr>\n",
              "      <th>300254</th>\n",
              "      <td>ANTIPEROXIDASE /ANTI TPO</td>\n",
              "      <td>29/09/2017 13:13:39</td>\n",
              "      <td>CENTRO DE SAUDE VILA NOVA</td>\n",
              "      <td>10017</td>\n",
              "      <td>6082351</td>\n",
              "      <td>7124619</td>\n",
              "    </tr>\n",
              "    <tr>\n",
              "      <th>1224545</th>\n",
              "      <td>ANTIPEROXIDASE /ANTI TPO</td>\n",
              "      <td>29/09/2017 13:13:39</td>\n",
              "      <td>CENTRO DE SAUDE VILA NOVA</td>\n",
              "      <td>8466</td>\n",
              "      <td>6939392</td>\n",
              "      <td>7124619</td>\n",
              "    </tr>\n",
              "  </tbody>\n",
              "</table>\n",
              "</div>"
            ],
            "text/plain": [
              "               DESCRIÇÃODOPROCEDIMENTO    DATADASOLICITAÇÃO  \\\n",
              "264552   25 HIDROXIVITAMINA D (25 OHD)  23/08/2017 11:07:41   \n",
              "1189115  25 HIDROXIVITAMINA D (25 OHD)  23/08/2017 11:07:41   \n",
              "300253                    ACIDO FOLICO  29/09/2017 13:13:39   \n",
              "1224544                   ACIDO FOLICO  29/09/2017 13:13:39   \n",
              "264515                     ACIDO URICO  23/08/2017 11:06:38   \n",
              "1189078                    ACIDO URICO  23/08/2017 11:06:38   \n",
              "1189079                   ANTIBIOGRAMA  23/08/2017 11:06:38   \n",
              "264516                    ANTIBIOGRAMA  23/08/2017 11:06:38   \n",
              "300254        ANTIPEROXIDASE /ANTI TPO  29/09/2017 13:13:39   \n",
              "1224545       ANTIPEROXIDASE /ANTI TPO  29/09/2017 13:13:39   \n",
              "\n",
              "        CENTRALDEREGULAÇÃO/RESPONSÁVEL  POSIÇÃO CNESDACENTRALEXECUTANTE  \\\n",
              "264552       CENTRO DE SAUDE VILA NOVA     6519                 6082351   \n",
              "1189115      CENTRO DE SAUDE VILA NOVA     4990                 6939392   \n",
              "300253       CENTRO DE SAUDE VILA NOVA    10017                 6082351   \n",
              "1224544      CENTRO DE SAUDE VILA NOVA     8466                 6939392   \n",
              "264515       CENTRO DE SAUDE VILA NOVA     6515                 6082351   \n",
              "1189078      CENTRO DE SAUDE VILA NOVA     4986                 6939392   \n",
              "1189079      CENTRO DE SAUDE VILA NOVA     4986                 6939392   \n",
              "264516       CENTRO DE SAUDE VILA NOVA     6515                 6082351   \n",
              "300254       CENTRO DE SAUDE VILA NOVA    10017                 6082351   \n",
              "1224545      CENTRO DE SAUDE VILA NOVA     8466                 6939392   \n",
              "\n",
              "         CNESDAUNIDADESOLICITANTE  \n",
              "264552                    7124619  \n",
              "1189115                   7124619  \n",
              "300253                    7124619  \n",
              "1224544                   7124619  \n",
              "264515                    7124619  \n",
              "1189078                   7124619  \n",
              "1189079                   7124619  \n",
              "264516                    7124619  \n",
              "300254                    7124619  \n",
              "1224545                   7124619  "
            ]
          },
          "metadata": {
            "tags": []
          },
          "execution_count": 46
        }
      ]
    },
    {
      "cell_type": "markdown",
      "metadata": {
        "id": "YEP0UeEv1Yi2",
        "colab_type": "text"
      },
      "source": [
        "**Exercício**\n",
        "\n",
        "Verifique os dados acima e elabore uma hipótese para o problema de Santa Catarina"
      ]
    },
    {
      "cell_type": "code",
      "metadata": {
        "id": "Z8aMP0rp1Yi3",
        "colab_type": "code",
        "outputId": "e72e4364-91d8-42f3-e662-79ed7ea573fa",
        "colab": {
          "base_uri": "https://localhost:8080/",
          "height": 328
        }
      },
      "source": [
        "df.query('DOCUMENTO == 700603418445267')[['DESCRIÇÃODOPROCEDIMENTO','DATADASOLICITAÇÃO', 'CENTRALDEREGULAÇÃO/RESPONSÁVEL', 'POSIÇÃO', 'CNESDACENTRALEXECUTANTE', 'CNESDAUNIDADESOLICITANTE']].sort_values(by='DESCRIÇÃODOPROCEDIMENTO').head(10)"
      ],
      "execution_count": 0,
      "outputs": [
        {
          "output_type": "execute_result",
          "data": {
            "text/html": [
              "<div>\n",
              "<style scoped>\n",
              "    .dataframe tbody tr th:only-of-type {\n",
              "        vertical-align: middle;\n",
              "    }\n",
              "\n",
              "    .dataframe tbody tr th {\n",
              "        vertical-align: top;\n",
              "    }\n",
              "\n",
              "    .dataframe thead th {\n",
              "        text-align: right;\n",
              "    }\n",
              "</style>\n",
              "<table border=\"1\" class=\"dataframe\">\n",
              "  <thead>\n",
              "    <tr style=\"text-align: right;\">\n",
              "      <th></th>\n",
              "      <th>DESCRIÇÃODOPROCEDIMENTO</th>\n",
              "      <th>DATADASOLICITAÇÃO</th>\n",
              "      <th>CENTRALDEREGULAÇÃO/RESPONSÁVEL</th>\n",
              "      <th>POSIÇÃO</th>\n",
              "      <th>CNESDACENTRALEXECUTANTE</th>\n",
              "      <th>CNESDAUNIDADESOLICITANTE</th>\n",
              "    </tr>\n",
              "  </thead>\n",
              "  <tbody>\n",
              "    <tr>\n",
              "      <th>194548</th>\n",
              "      <td>25 HIDROXIVITAMINA D (25 OHD)</td>\n",
              "      <td>18/04/2017 17:04:52</td>\n",
              "      <td>CEAP CENTRO ESPECIALIZADO EM ACONSELHAMENTO E ...</td>\n",
              "      <td>339</td>\n",
              "      <td>6082351</td>\n",
              "      <td>5969018</td>\n",
              "    </tr>\n",
              "    <tr>\n",
              "      <th>1134084</th>\n",
              "      <td>25 HIDROXIVITAMINA D (25 OHD)</td>\n",
              "      <td>18/04/2017 17:04:52</td>\n",
              "      <td>CEAP CENTRO ESPECIALIZADO EM ACONSELHAMENTO E ...</td>\n",
              "      <td>295</td>\n",
              "      <td>6939392</td>\n",
              "      <td>5969018</td>\n",
              "    </tr>\n",
              "    <tr>\n",
              "      <th>194549</th>\n",
              "      <td>ACIDO URICO</td>\n",
              "      <td>18/04/2017 17:04:52</td>\n",
              "      <td>CEAP CENTRO ESPECIALIZADO EM ACONSELHAMENTO E ...</td>\n",
              "      <td>339</td>\n",
              "      <td>6082351</td>\n",
              "      <td>5969018</td>\n",
              "    </tr>\n",
              "    <tr>\n",
              "      <th>1134085</th>\n",
              "      <td>ACIDO URICO</td>\n",
              "      <td>18/04/2017 17:04:52</td>\n",
              "      <td>CEAP CENTRO ESPECIALIZADO EM ACONSELHAMENTO E ...</td>\n",
              "      <td>295</td>\n",
              "      <td>6939392</td>\n",
              "      <td>5969018</td>\n",
              "    </tr>\n",
              "    <tr>\n",
              "      <th>194550</th>\n",
              "      <td>AMILASE</td>\n",
              "      <td>18/04/2017 17:04:52</td>\n",
              "      <td>CEAP CENTRO ESPECIALIZADO EM ACONSELHAMENTO E ...</td>\n",
              "      <td>339</td>\n",
              "      <td>6082351</td>\n",
              "      <td>5969018</td>\n",
              "    </tr>\n",
              "    <tr>\n",
              "      <th>1134086</th>\n",
              "      <td>AMILASE</td>\n",
              "      <td>18/04/2017 17:04:52</td>\n",
              "      <td>CEAP CENTRO ESPECIALIZADO EM ACONSELHAMENTO E ...</td>\n",
              "      <td>295</td>\n",
              "      <td>6939392</td>\n",
              "      <td>5969018</td>\n",
              "    </tr>\n",
              "    <tr>\n",
              "      <th>1134105</th>\n",
              "      <td>ANTI HBC - IGG ANTICORPOS IGG CONTRA ANTIGENO ...</td>\n",
              "      <td>18/04/2017 17:27:57</td>\n",
              "      <td>CEAP CENTRO ESPECIALIZADO EM ACONSELHAMENTO E ...</td>\n",
              "      <td>296</td>\n",
              "      <td>6939392</td>\n",
              "      <td>5969018</td>\n",
              "    </tr>\n",
              "    <tr>\n",
              "      <th>194569</th>\n",
              "      <td>ANTI HBC - IGG ANTICORPOS IGG CONTRA ANTIGENO ...</td>\n",
              "      <td>18/04/2017 17:27:57</td>\n",
              "      <td>CEAP CENTRO ESPECIALIZADO EM ACONSELHAMENTO E ...</td>\n",
              "      <td>340</td>\n",
              "      <td>6082351</td>\n",
              "      <td>5969018</td>\n",
              "    </tr>\n",
              "    <tr>\n",
              "      <th>1134106</th>\n",
              "      <td>ANTI HBC - IGM ANTICORPOS IGM CONTRA ANTIGENO ...</td>\n",
              "      <td>18/04/2017 17:27:57</td>\n",
              "      <td>CEAP CENTRO ESPECIALIZADO EM ACONSELHAMENTO E ...</td>\n",
              "      <td>296</td>\n",
              "      <td>6939392</td>\n",
              "      <td>5969018</td>\n",
              "    </tr>\n",
              "    <tr>\n",
              "      <th>194570</th>\n",
              "      <td>ANTI HBC - IGM ANTICORPOS IGM CONTRA ANTIGENO ...</td>\n",
              "      <td>18/04/2017 17:27:57</td>\n",
              "      <td>CEAP CENTRO ESPECIALIZADO EM ACONSELHAMENTO E ...</td>\n",
              "      <td>340</td>\n",
              "      <td>6082351</td>\n",
              "      <td>5969018</td>\n",
              "    </tr>\n",
              "  </tbody>\n",
              "</table>\n",
              "</div>"
            ],
            "text/plain": [
              "                                   DESCRIÇÃODOPROCEDIMENTO  \\\n",
              "194548                       25 HIDROXIVITAMINA D (25 OHD)   \n",
              "1134084                      25 HIDROXIVITAMINA D (25 OHD)   \n",
              "194549                                         ACIDO URICO   \n",
              "1134085                                        ACIDO URICO   \n",
              "194550                                             AMILASE   \n",
              "1134086                                            AMILASE   \n",
              "1134105  ANTI HBC - IGG ANTICORPOS IGG CONTRA ANTIGENO ...   \n",
              "194569   ANTI HBC - IGG ANTICORPOS IGG CONTRA ANTIGENO ...   \n",
              "1134106  ANTI HBC - IGM ANTICORPOS IGM CONTRA ANTIGENO ...   \n",
              "194570   ANTI HBC - IGM ANTICORPOS IGM CONTRA ANTIGENO ...   \n",
              "\n",
              "           DATADASOLICITAÇÃO  \\\n",
              "194548   18/04/2017 17:04:52   \n",
              "1134084  18/04/2017 17:04:52   \n",
              "194549   18/04/2017 17:04:52   \n",
              "1134085  18/04/2017 17:04:52   \n",
              "194550   18/04/2017 17:04:52   \n",
              "1134086  18/04/2017 17:04:52   \n",
              "1134105  18/04/2017 17:27:57   \n",
              "194569   18/04/2017 17:27:57   \n",
              "1134106  18/04/2017 17:27:57   \n",
              "194570   18/04/2017 17:27:57   \n",
              "\n",
              "                            CENTRALDEREGULAÇÃO/RESPONSÁVEL  POSIÇÃO  \\\n",
              "194548   CEAP CENTRO ESPECIALIZADO EM ACONSELHAMENTO E ...      339   \n",
              "1134084  CEAP CENTRO ESPECIALIZADO EM ACONSELHAMENTO E ...      295   \n",
              "194549   CEAP CENTRO ESPECIALIZADO EM ACONSELHAMENTO E ...      339   \n",
              "1134085  CEAP CENTRO ESPECIALIZADO EM ACONSELHAMENTO E ...      295   \n",
              "194550   CEAP CENTRO ESPECIALIZADO EM ACONSELHAMENTO E ...      339   \n",
              "1134086  CEAP CENTRO ESPECIALIZADO EM ACONSELHAMENTO E ...      295   \n",
              "1134105  CEAP CENTRO ESPECIALIZADO EM ACONSELHAMENTO E ...      296   \n",
              "194569   CEAP CENTRO ESPECIALIZADO EM ACONSELHAMENTO E ...      340   \n",
              "1134106  CEAP CENTRO ESPECIALIZADO EM ACONSELHAMENTO E ...      296   \n",
              "194570   CEAP CENTRO ESPECIALIZADO EM ACONSELHAMENTO E ...      340   \n",
              "\n",
              "        CNESDACENTRALEXECUTANTE  CNESDAUNIDADESOLICITANTE  \n",
              "194548                  6082351                   5969018  \n",
              "1134084                 6939392                   5969018  \n",
              "194549                  6082351                   5969018  \n",
              "1134085                 6939392                   5969018  \n",
              "194550                  6082351                   5969018  \n",
              "1134086                 6939392                   5969018  \n",
              "1134105                 6939392                   5969018  \n",
              "194569                  6082351                   5969018  \n",
              "1134106                 6939392                   5969018  \n",
              "194570                  6082351                   5969018  "
            ]
          },
          "metadata": {
            "tags": []
          },
          "execution_count": 47
        }
      ]
    },
    {
      "cell_type": "markdown",
      "metadata": {
        "id": "NXGCfS6o1Yi7",
        "colab_type": "text"
      },
      "source": [
        "Observamos que nossa hipótese é comprovada nas maiores contagens, precisamos validar a hipótese analisado o dataset inteiro"
      ]
    },
    {
      "cell_type": "code",
      "metadata": {
        "id": "ndgdODfY1Yi8",
        "colab_type": "code",
        "colab": {}
      },
      "source": [
        "def deduplicate_stats(query=None):\n",
        "    if query:\n",
        "        df_tmp = df.query(query)\n",
        "    else:\n",
        "        df_tmp = df\n",
        "    total_rows = len(df_tmp)\n",
        "    unique_rows = len(df_tmp.groupby(['DOCUMENTO', 'DESCRIÇÃODOPROCEDIMENTO']))\n",
        "    unique_rows_same_date = len(df_tmp.groupby(['DOCUMENTO', 'DESCRIÇÃODOPROCEDIMENTO', 'DATADASOLICITAÇÃO']))\n",
        "    reducao_fila = (total_rows - unique_rows) / total_rows\n",
        "    print('           registros na fila:', total_rows)\n",
        "    print('    registros únicos na fila:', unique_rows)\n",
        "    print('          duplicados (total):', total_rows - unique_rows)\n",
        "    print('duplicados (mesmo timestamp):', total_rows - unique_rows_same_date)\n",
        "    print('    redução com deduplicação:', int(100*reducao_fila), '%')\n"
      ],
      "execution_count": 0,
      "outputs": []
    },
    {
      "cell_type": "markdown",
      "metadata": {
        "id": "kU5wlslc1Yi9",
        "colab_type": "text"
      },
      "source": [
        "Ao executar a célula carregamos nossa função. Ela recebe um argumento, caso não tenha sido passado nada, None, você irá usar toda a base, caso contrário, criar um dataframe temporário para a contagem. Queremos saber o número de duplicados gerais e os particulares, com mesma data e hora. Assim veremos se é um erro manual, ou algo sistêmico."
      ]
    },
    {
      "cell_type": "code",
      "metadata": {
        "id": "C2tOY-Df1Yi-",
        "colab_type": "code",
        "outputId": "accc53b7-93b7-4b36-97f3-1bfc6b7f08c2",
        "colab": {
          "base_uri": "https://localhost:8080/",
          "height": 98
        }
      },
      "source": [
        "deduplicate_stats('MUNICÍPIODERESIDÊNCIA == \"PALHOCA\"')"
      ],
      "execution_count": 0,
      "outputs": [
        {
          "output_type": "stream",
          "text": [
            "           registros na fila: 384253\n",
            "    registros únicos na fila: 223579\n",
            "          duplicados (total): 160674\n",
            "duplicados (mesmo timestamp): 160305\n",
            "    redução com deduplicação: 41 %\n"
          ],
          "name": "stdout"
        }
      ]
    },
    {
      "cell_type": "code",
      "metadata": {
        "id": "_GOpD8_d1YjA",
        "colab_type": "code",
        "colab": {}
      },
      "source": [
        "deduplicate_stats()"
      ],
      "execution_count": 0,
      "outputs": []
    },
    {
      "cell_type": "markdown",
      "metadata": {
        "id": "eK1kvB8q1YjC",
        "colab_type": "text"
      },
      "source": [
        "**Exercício**\n",
        "\n",
        "Verifique os municípios de FLORIANOPOLIS e JOINVILLE"
      ]
    },
    {
      "cell_type": "code",
      "metadata": {
        "id": "b47_kzuG1YjE",
        "colab_type": "code",
        "colab": {}
      },
      "source": [
        ""
      ],
      "execution_count": 0,
      "outputs": []
    },
    {
      "cell_type": "code",
      "metadata": {
        "id": "9dKD7UFY1YjF",
        "colab_type": "code",
        "colab": {}
      },
      "source": [
        ""
      ],
      "execution_count": 0,
      "outputs": []
    },
    {
      "cell_type": "markdown",
      "metadata": {
        "id": "ccjZi6aU1YjI",
        "colab_type": "text"
      },
      "source": [
        "Vamos voltar aos Dados Públicos da Câmara, via Pandas\n",
        "---------------"
      ]
    },
    {
      "cell_type": "code",
      "metadata": {
        "id": "-m2X-fAw1YjJ",
        "colab_type": "code",
        "colab": {}
      },
      "source": [
        "import pandas as pd\n",
        "low_memory=False\n",
        "%matplotlib inline\n",
        "pd.options.display.max_columns = 80\n",
        "pd.options.display.max_rows = 90\n",
        "\n",
        "filename = 'Ano-2019.csv'\n",
        "columns = ['txNomeParlamentar', \n",
        "                   'ideCadastro', \n",
        "                   'nuCarteiraParlamentar',\n",
        "                   'nuLegislatura', \n",
        "                   'sgUF', \n",
        "                   'sgPartido', \n",
        "                   'codLegislatura', \n",
        "                   'numSubCota',\n",
        "                   'txtDescricao', \n",
        "                   'numEspecificacaoSubCota', \n",
        "                   'txtDescricaoEspecificacao', \n",
        "                   'txtFornecedor',\n",
        "                   'txtCNPJCPF', \n",
        "                   'txtNumero', \n",
        "                   'indTipoDocumento',\n",
        "                   'datEmissao', \n",
        "                   'vlrDocumento', \n",
        "                   'vlrGlosa', \n",
        "                   'vlrLiquido', \n",
        "                   'numMes', \n",
        "                   'numAno', \n",
        "                   'numParcela', \n",
        "                   'txtPassageiro', \n",
        "                   'txtTrecho',\n",
        "                   'numLote', \n",
        "                   'numRessarcimento', \n",
        "                   'vlrRestituicao', \n",
        "                   'nuDeputadoId', \n",
        "                   'ideDocumento']\n",
        "df = pd.read_csv(filename, encoding='utf-8', sep=';', names = columns, decimal=',')\n",
        "df.shape"
      ],
      "execution_count": 0,
      "outputs": []
    },
    {
      "cell_type": "code",
      "metadata": {
        "id": "SkjOIiGh1YjN",
        "colab_type": "code",
        "colab": {}
      },
      "source": [
        "df.rename(columns={'txNomeParlamentar': 'NOME_PARLAMENTAR', \n",
        "                   'ideCadastro': 'ID_CADASTRO', \n",
        "                   'nuCarteiraParlamentar': 'NUMERO_CARTEIRA_PARLAMENTAR',\n",
        "                   'nuLegislatura': 'NUMERO_LEGISLATURA', \n",
        "                   'sgUF': 'UF', \n",
        "                   'sgPartido': 'PARTIDO', \n",
        "                   'codLegislatura': 'COD_LEGISLATURA', \n",
        "                   'numSubCota': 'NUMERO_SUB_COTA',\n",
        "                   'txtDescricao': 'DESCRICAO', \n",
        "                   'numEspecificacaoSubCota': 'NUMERO_ESPECIFICACAO_SUB_COTA', \n",
        "                   'txtDescricaoEspecificacao': 'DESCRICAO_ESPECIFICACAO', \n",
        "                   'txtFornecedor': 'FORNECEDOR',\n",
        "                   'txtCNPJCPF': 'CPF_CNPJ', \n",
        "                   'txtNumero': 'NUMERO', \n",
        "                   'indTipoDocumento': 'IND_TIPO_DOCUMENTO',\n",
        "                   'datEmissao': 'DATA_EMISSAO', \n",
        "                   'vlrDocumento': 'VALOR_DOCUMENTO', \n",
        "                   'vlrGlosa': 'VALOR_GLOSA', \n",
        "                   'vlrLiquido': 'VALOR_LIQUIDO', \n",
        "                   'numMes': 'NUMERO_MES', \n",
        "                   'numAno': 'ANO', \n",
        "                   'numParcela': 'NUMERO_PARCELA', \n",
        "                   'txtPassageiro': 'PASSAGEIRO', \n",
        "                   'txtTrecho': 'TRECHO',\n",
        "                   'numLote': 'NUMERO_LOTE', \n",
        "                   'numRessarcimento': 'NUMERO_RESSASRCIMENTO', \n",
        "                   'vlrRestituicao': 'VALOR_RESTITUICAO', \n",
        "                   'nuDeputadoId': 'ID_DEPUTADO', \n",
        "                   'ideDocumento': 'ID_DOCUMENTO'}, inplace=True)"
      ],
      "execution_count": 0,
      "outputs": []
    },
    {
      "cell_type": "code",
      "metadata": {
        "id": "FPEn1y6y1YjQ",
        "colab_type": "code",
        "colab": {}
      },
      "source": [
        "df.sample(10)"
      ],
      "execution_count": 0,
      "outputs": []
    },
    {
      "cell_type": "code",
      "metadata": {
        "id": "WOzRUmSz1YjV",
        "colab_type": "code",
        "colab": {}
      },
      "source": [
        "df.groupby('PARTIDO').size().sort_values().tail(20).plot(kind='barh', figsize=(10,10))"
      ],
      "execution_count": 0,
      "outputs": []
    },
    {
      "cell_type": "code",
      "metadata": {
        "id": "S0mqNg--1YjX",
        "colab_type": "code",
        "colab": {}
      },
      "source": [
        "#Parlamentares que mais registraram gastos \n",
        "pd.value_counts(df['NOME_PARLAMENTAR'])"
      ],
      "execution_count": 0,
      "outputs": []
    },
    {
      "cell_type": "code",
      "metadata": {
        "id": "Nwox3SCo1YjZ",
        "colab_type": "code",
        "colab": {}
      },
      "source": [
        "df.query('NOME_PARLAMENTAR == \"EDUARDO BOLSONARO\"')['VALOR_LIQUIDO'].value_counts().head(30)"
      ],
      "execution_count": 0,
      "outputs": []
    },
    {
      "cell_type": "code",
      "metadata": {
        "id": "0kyW82at1Yjc",
        "colab_type": "code",
        "colab": {}
      },
      "source": [
        "#Tipos de gastos\n",
        "df.groupby('DESCRICAO').size().sort_values().tail(20).plot(kind='barh', figsize=(10,10))"
      ],
      "execution_count": 0,
      "outputs": []
    },
    {
      "cell_type": "code",
      "metadata": {
        "id": "6u3fUK-I1Yjd",
        "colab_type": "code",
        "colab": {}
      },
      "source": [
        "df.groupby('NOME_PARLAMENTAR').size().sort_values().tail(20).plot(kind='barh', figsize=(10,10))"
      ],
      "execution_count": 0,
      "outputs": []
    },
    {
      "cell_type": "markdown",
      "metadata": {
        "id": "Z4rBTTOE1Yjf",
        "colab_type": "text"
      },
      "source": [
        "Roubos de veículos em São José dos Campos\n",
        "-------------"
      ]
    },
    {
      "cell_type": "code",
      "metadata": {
        "id": "zitmr6691Yjf",
        "colab_type": "code",
        "colab": {}
      },
      "source": [
        "import pandas as pd\n",
        "import os\n",
        "import matplotlib.pyplot as plt\n",
        "import matplotlib.cbook as cbook\n",
        "import matplotlib.ticker as ticker\n",
        "from datetime import datetime\n",
        "import folium\n",
        "from folium import plugins\n",
        "from folium.plugins import HeatMap\n",
        "\n",
        "%matplotlib inline"
      ],
      "execution_count": 0,
      "outputs": []
    },
    {
      "cell_type": "code",
      "metadata": {
        "id": "Js3Ladlm1Yjh",
        "colab_type": "code",
        "colab": {}
      },
      "source": [
        "dados_roubo = pd.read_csv(r'13_Roubo_de_Veiculos_2018.csv', low_memory=False,delimiter=';', encoding='iso-8859-1', decimal=',')\n",
        "dados_roubo.info()"
      ],
      "execution_count": 0,
      "outputs": []
    },
    {
      "cell_type": "code",
      "metadata": {
        "id": "qTAZG4V31Yjj",
        "colab_type": "code",
        "colab": {}
      },
      "source": [
        "dados_roubo.rename(columns={'DATAOCORRENCIA': 'DATA_DE_OCORRENCIA','DESCR_MARCA_VEICULO': 'MARCA_DO_VEICULO',\n",
        "                            'PERIDOOCORRENCIA':'PERIODO_DE_OCORRENCIA','DATAELABORACAO': 'DATA_DE_ELABORACAO'}, inplace=True)\n",
        "dados_roubo.sample(10)"
      ],
      "execution_count": 0,
      "outputs": []
    },
    {
      "cell_type": "code",
      "metadata": {
        "id": "XF88JfUU1Yjk",
        "colab_type": "code",
        "colab": {}
      },
      "source": [
        "mapa = folium.Map([-23.208, -45.849], zoom_start=11)\n",
        "dados_roubo=dados_roubo.dropna(subset=['LATITUDE'])\n",
        "dados_roubo=dados_roubo.dropna(subset=['LONGITUDE'])\n",
        "local = dados_roubo[['LATITUDE', 'LONGITUDE']].values\n",
        "HeatMap(local).add_to(mapa)\n",
        "mapa"
      ],
      "execution_count": 0,
      "outputs": []
    },
    {
      "cell_type": "code",
      "metadata": {
        "id": "t_r1lTtK1Yjl",
        "colab_type": "code",
        "colab": {}
      },
      "source": [
        "dados_roubo['BAIRRO'].value_counts().head(10)"
      ],
      "execution_count": 0,
      "outputs": []
    },
    {
      "cell_type": "code",
      "metadata": {
        "id": "6KJHVfYi1Yjm",
        "colab_type": "code",
        "colab": {}
      },
      "source": [
        "dados_roubo.groupby('DESCR_COR_VEICULO').size().sort_values().tail(5).plot(kind='bar', figsize=(15,10), fontsize = 'medium')\n",
        "plt.title('CORES DE VEÍCULOS MAIS ROUBADOS - SJC (2018)')\n",
        "plt.ylabel('QUANTIDADE')\n",
        "plt.xlabel('CORES')\n",
        "plt.grid(True, which='major')"
      ],
      "execution_count": 0,
      "outputs": []
    },
    {
      "cell_type": "code",
      "metadata": {
        "id": "IT5yH7q91Yjn",
        "colab_type": "code",
        "colab": {}
      },
      "source": [
        ""
      ],
      "execution_count": 0,
      "outputs": []
    }
  ]
}