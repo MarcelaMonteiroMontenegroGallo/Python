{
  "nbformat": 4,
  "nbformat_minor": 0,
  "metadata": {
    "kernelspec": {
      "display_name": "Python 3",
      "language": "python",
      "name": "python3"
    },
    "language_info": {
      "codemirror_mode": {
        "name": "ipython",
        "version": 3
      },
      "file_extension": ".py",
      "mimetype": "text/x-python",
      "name": "python",
      "nbconvert_exporter": "python",
      "pygments_lexer": "ipython3",
      "version": "3.7.3"
    },
    "colab": {
      "name": "Curso Básico de Análise de Dados Públicos (1).ipynb",
      "version": "0.3.2",
      "provenance": [],
      "include_colab_link": true
    }
  },
  "cells": [
    {
      "cell_type": "markdown",
      "metadata": {
        "id": "view-in-github",
        "colab_type": "text"
      },
      "source": [
        "<a href=\"https://colab.research.google.com/github/MarcelaMonteiroMontenegroGallo/Python/blob/master/Curso_B%C3%A1sico_de_An%C3%A1lise_de_Dados_P%C3%BAblicos_(1).ipynb\" target=\"_parent\"><img src=\"https://colab.research.google.com/assets/colab-badge.svg\" alt=\"Open In Colab\"/></a>"
      ]
    },
    {
      "cell_type": "markdown",
      "metadata": {
        "id": "wrA1AFlYEPyH",
        "colab_type": "text"
      },
      "source": [
        "**Introdução**\n",
        "--------------------\n",
        "\n",
        "Créditos: Curso de Jornalismo Computacional, de Columbia, dado neste ano.\n",
        "\n",
        "Para instalação do Python e de todas as bibliotecas, siga [estes passos](bit.ly/pybrpandas)\n",
        "\n",
        "Estamos num ambiente chamado Jupyter Notebook, nele você pode trabalhar suas Análises. Podemos inserir textos em um formato chamado Markdown, ou também códigos, que são instruções para o computador, em alguma linguagem, como Python, R ou Julia. No help você poderá visualizar todas as teclas de atalho. Iremos usar Shift-Enter para executar códigos numa célula e Alt-Enter para criar uma nova embaixo"
      ]
    },
    {
      "cell_type": "code",
      "metadata": {
        "id": "LJWq8NnWEPyI",
        "colab_type": "code",
        "colab": {}
      },
      "source": [
        "12 + 30"
      ],
      "execution_count": 0,
      "outputs": []
    },
    {
      "cell_type": "code",
      "metadata": {
        "id": "6Ekig527EPyL",
        "colab_type": "code",
        "colab": {}
      },
      "source": [
        "resp = 42\n",
        "print (f'A resposta para tudo é {resp}')"
      ],
      "execution_count": 0,
      "outputs": []
    },
    {
      "cell_type": "markdown",
      "metadata": {
        "id": "ipMSxLaHEPyP",
        "colab_type": "text"
      },
      "source": [
        "Podemos associar um nome para um valor, colocando o nome à esquerda"
      ]
    },
    {
      "cell_type": "code",
      "metadata": {
        "id": "6_JjCIdiEPyQ",
        "colab_type": "code",
        "colab": {}
      },
      "source": [
        "type(42)"
      ],
      "execution_count": 0,
      "outputs": []
    },
    {
      "cell_type": "markdown",
      "metadata": {
        "id": "lFP3czoGEPyX",
        "colab_type": "text"
      },
      "source": [
        "O tipo mais básico de Dado é um número inteiro, como usamos para contar"
      ]
    },
    {
      "cell_type": "code",
      "metadata": {
        "id": "XhUFJ9PUEPyZ",
        "colab_type": "code",
        "colab": {}
      },
      "source": [
        "type(1/2)"
      ],
      "execution_count": 0,
      "outputs": []
    },
    {
      "cell_type": "markdown",
      "metadata": {
        "id": "YQsy4j9rEPyd",
        "colab_type": "text"
      },
      "source": [
        "O que significa **float**? O computador armazena e trabalha de forma diferente números inteiros e números que possuem casas decimais. Gastos da Câmara costumam ser números com casas decimais. O número de emendas votadas não. No notebook podemos inserir vídeos do YouTube. Abaixo uma explicação detalhada sobre o tipo float."
      ]
    },
    {
      "cell_type": "code",
      "metadata": {
        "id": "jb3dY4SPEPyd",
        "colab_type": "code",
        "colab": {}
      },
      "source": [
        "from IPython.display import YouTubeVideo\n",
        "YouTubeVideo('PZRI1IfStY0')"
      ],
      "execution_count": 0,
      "outputs": []
    },
    {
      "cell_type": "markdown",
      "metadata": {
        "id": "depW2UyCEPyh",
        "colab_type": "text"
      },
      "source": [
        "Números são usados nestas duas formas de Dados, outra forma são textos, como nome dos parlamentares, seus partidos."
      ]
    },
    {
      "cell_type": "code",
      "metadata": {
        "id": "PlzX92cWEPyj",
        "colab_type": "code",
        "colab": {}
      },
      "source": [
        "type ('Podemos ler os Tweets do nosso atual presidente?')"
      ],
      "execution_count": 0,
      "outputs": []
    },
    {
      "cell_type": "code",
      "metadata": {
        "id": "K_nS33psEPyp",
        "colab_type": "code",
        "colab": {}
      },
      "source": [
        "frase = 'Podemos ler os Tweets do nosso atual presidente?'\n",
        "frase + ' Sim, vamos fazer isso no curso, com ajuda do Python.'"
      ],
      "execution_count": 0,
      "outputs": []
    },
    {
      "cell_type": "markdown",
      "metadata": {
        "id": "My4M008BEPys",
        "colab_type": "text"
      },
      "source": [
        "Vemos aqui como a natureza de um Dado muda a operação. O operador adição soma dois números, porém concatena duas strings. E o que será de uma multiplicação?"
      ]
    },
    {
      "cell_type": "code",
      "metadata": {
        "id": "Qhejl4O4EPyu",
        "colab_type": "code",
        "colab": {}
      },
      "source": [
        "'Tweet ' * 3"
      ],
      "execution_count": 0,
      "outputs": []
    },
    {
      "cell_type": "markdown",
      "metadata": {
        "id": "aSBDaZA0EPyy",
        "colab_type": "text"
      },
      "source": [
        "Note que o espaço conta como um caracter na string, como qualquer outro."
      ]
    },
    {
      "cell_type": "markdown",
      "metadata": {
        "id": "VZt2MyASEPyz",
        "colab_type": "text"
      },
      "source": [
        "Cada tipo de Dado é como se fosse uma determinada criatura, que possui poderes mágicos próprios, chamados métodos. Nós acessamos esses 'poderes' usando o ponto, depois do dado. Que poderes você acha que uma string deveria ter? \n",
        "\n",
        "Observe que até agora, o notebook mostra o último resultado calculado, se quisermos mostrar mais de um, usamos o comando print."
      ]
    },
    {
      "cell_type": "code",
      "metadata": {
        "id": "p6lwz66EEPy1",
        "colab_type": "code",
        "colab": {}
      },
      "source": [
        "frase = 'Há décadas a esquerda se infiltrou em nossas instituições e passou a promover sua ideologia travestida de posicionamentos técnicos. O decreto que assinei hoje extingue vagas para órgãos aparelhados no Conselho Nacional sobre Drogas e acaba com o viés ideológico nas discussões.'\n",
        "print (frase.lower())\n",
        "print (frase.upper())\n",
        "print (frase.count('ideologia'))\n",
        "print (frase.replace('esquerda', 'direita'))"
      ],
      "execution_count": 0,
      "outputs": []
    },
    {
      "cell_type": "markdown",
      "metadata": {
        "id": "617QRc_UEPy4",
        "colab_type": "text"
      },
      "source": [
        "Os métodos são muito semelhantes às funções que conhecemos, algumas possuem parâmetros, outras não. Quando não vou passar nenhum parâmetro coloco ()"
      ]
    },
    {
      "cell_type": "markdown",
      "metadata": {
        "id": "cHyx2AJmEPy4",
        "colab_type": "text"
      },
      "source": [
        "Existem funções gerais, não associadas a nenhum tipo específico de dado. Por exemplo, quero saber todos os super poderes de uma string, como devo fazer?"
      ]
    },
    {
      "cell_type": "code",
      "metadata": {
        "id": "mwc46dQPEPy6",
        "colab_type": "code",
        "colab": {}
      },
      "source": [
        "dir(str)"
      ],
      "execution_count": 0,
      "outputs": []
    },
    {
      "cell_type": "markdown",
      "metadata": {
        "id": "uEBtUoYvEPy8",
        "colab_type": "text"
      },
      "source": [
        "Poderes que começam com underline são reservados, o Python usa duplo sublinhado add, por exemplo quando você faz uso do '+'. Os outros você pode usar logo depois do objeto string, no caso. Quero saber o que faz upper, como tenho alguma ajuda?"
      ]
    },
    {
      "cell_type": "code",
      "metadata": {
        "id": "mKB7F_C-EPy9",
        "colab_type": "code",
        "colab": {}
      },
      "source": [
        "help(str.upper)"
      ],
      "execution_count": 0,
      "outputs": []
    },
    {
      "cell_type": "markdown",
      "metadata": {
        "id": "zbl-XRq8EPzB",
        "colab_type": "text"
      },
      "source": [
        "Temos muitas bibliotecas dentro do Python. Chamamos de 'baterias inclusas', e existem milhares de outras bibliotecas que podemos acrescentar, via comando \"pip install nome_bib\", naquela tela preta, da linha de comando. Daqui a pouco iremos pegar os últimos Tweets do atual presidente. No momento existe um arquivo local, chamado 'bolsonaro.txt', com alguns Tweets na ocasião em que preparei o curso."
      ]
    },
    {
      "cell_type": "code",
      "metadata": {
        "id": "yFhW4BIWEPzC",
        "colab_type": "code",
        "colab": {}
      },
      "source": [
        "arquivo = open('bolsonaro.txt', encoding = 'utf-8')\n",
        "tweets = arquivo.read()\n",
        "\n",
        "tweets"
      ],
      "execution_count": 0,
      "outputs": []
    },
    {
      "cell_type": "markdown",
      "metadata": {
        "id": "5BV8Wt1EEPzE",
        "colab_type": "text"
      },
      "source": [
        "Nós usamos uma função `open()` para abrir o arquivo texto. Como temos caracteres especiais `encoding = 'utf-8'`, faz o tratamento. O método `read()` executa a leitura e atribui para a variável tweets. Apareceu um caracter especial `\\n`. Ele faz pular de linha, como quando você tecla \"enter\". Se eu utilizar print(tweets) irei ver os tweets separados. Está aí uma diferença ao usar o print."
      ]
    },
    {
      "cell_type": "code",
      "metadata": {
        "id": "dV7QcNsHEPzF",
        "colab_type": "code",
        "colab": {}
      },
      "source": [
        "print (tweets)"
      ],
      "execution_count": 0,
      "outputs": []
    },
    {
      "cell_type": "markdown",
      "metadata": {
        "id": "VXVnXmXUEPzI",
        "colab_type": "text"
      },
      "source": [
        "Existem várias informações adicionais, não apenas o texto do Tweet, como se foi um RT, se é uma figura apenas, uma citação, etc. Iremos ver adiante como verificar esses Dados. \n",
        "\n",
        "**Exercício**\n",
        "\n",
        "Sabendo que `tweets` é uma string (type `str`), escreva um código abaixo, mostrando quantas vezes Bolsonaro mencionou determinada palavra, por exemplo esquerda e educação. Se tiver dúvida existem monitoras para auxílio..."
      ]
    },
    {
      "cell_type": "code",
      "metadata": {
        "id": "FkaPJz4JEPzJ",
        "colab_type": "code",
        "colab": {}
      },
      "source": [
        ""
      ],
      "execution_count": 0,
      "outputs": []
    },
    {
      "cell_type": "markdown",
      "metadata": {
        "id": "wc56kxMnEPzL",
        "colab_type": "text"
      },
      "source": [
        "Como percebeu, existe uma diferença entre minúsculas e maiúsculas na busca.\n",
        "\n",
        "**Tente fazer outras contagens nos últimos tweets do presidente, preencha abaixo o código**"
      ]
    },
    {
      "cell_type": "code",
      "metadata": {
        "id": "msSEhhc_EPzM",
        "colab_type": "code",
        "colab": {}
      },
      "source": [
        ""
      ],
      "execution_count": 0,
      "outputs": []
    },
    {
      "cell_type": "markdown",
      "metadata": {
        "id": "pooR4EWKEPzP",
        "colab_type": "text"
      },
      "source": [
        "**Faça a sugestão de alguma outra análise, em cima da Base de Tweets recentes do presidente. Quais dificuldades você encontrou para entrevistar estes dados?**"
      ]
    },
    {
      "cell_type": "code",
      "metadata": {
        "id": "STTi6QAyEPzP",
        "colab_type": "code",
        "colab": {}
      },
      "source": [
        ""
      ],
      "execution_count": 0,
      "outputs": []
    },
    {
      "cell_type": "markdown",
      "metadata": {
        "id": "WpSMAS27EPzU",
        "colab_type": "text"
      },
      "source": [
        "Temos neste diretório um arquivo com os últimos Tweets da deputada Joice Hasselmann, chamado joice.txt\n",
        "\n",
        "**Execute uma Análise comparativa, entre os tweets do presidente e o da deputada. Não se esqueça de usar outra variável para guardar os tweets da deputada**"
      ]
    },
    {
      "cell_type": "code",
      "metadata": {
        "id": "fKymdSXYEPzW",
        "colab_type": "code",
        "colab": {}
      },
      "source": [
        ""
      ],
      "execution_count": 0,
      "outputs": []
    },
    {
      "cell_type": "markdown",
      "metadata": {
        "id": "62TXd91yEPza",
        "colab_type": "text"
      },
      "source": [
        "**Jupyter Notebook e programação com Python**\n",
        "-------------\n",
        "Escolhemos Python para enviar instruções ao computador, por ser uma linguagem **legível e com uma grande comunidade de apoio**. Python é uma linguagem de uso amplo, usado para construir o Instagram, filmes da Disney ou áudios, em empresas como Ableton. ou de tecnologia como SpaceX. Hoje também muito usado em Ciências de Dados. A maioria das grandes universidades americanas utiliza Python para ensinar programação. Isso não significa que Python é melhor ou pior que outras linguagens. A linguagem de programação é um **meio** para resolver um problema, algumas pessoas podem se sentir melhor com outra linguagem. Nosso material base, do Curso de Jornalismo Computacional de Columbia, usa Python, esse é outro motivo da nossa escolha. "
      ]
    },
    {
      "cell_type": "markdown",
      "metadata": {
        "id": "L4qI9WYzEPzb",
        "colab_type": "text"
      },
      "source": [
        "Como você percebeu, temos textos no Jupyter notebook, escritos em um formato chamado Markdown, [aqui uma referência para o formato Markdown](http://daringfireball.net/projects/markdown/) ou [aqui um Tutorial Markdown](http://markdowntutorial.com). Muitos veículos procuram fazer uma dupla publicação, no site oficial e também em formato markdown, num Jupyter Notebook:\n",
        "\n",
        "> [\"Peeling back the curtain -- How the Economist is opening the data behind our reporting.\"](https://medium.economist.com/peeling-back-the-curtain-487bd3be0c47) \"We published these calculations in a Jupyter notebook, a tidy format for breaking scripts into small blocks and annotating them.\"\n",
        "\n",
        ">[BuzzFeedNews/everything -- An index of all our open-source data, analysis, libraries, tools, and guides.](https://github.com/BuzzFeedNews/everything#data-and-analyses) Data and code for many of their major stories includeing [\"Shoot Someone In A Major US City, And Odds Are You’ll Get Away With It\"](https://www.buzzfeednews.com/article/sarahryley/police-unsolved-shootings?bftw=&utm_term=4ldqpfp#4ldqpfp) and [\"How Russia’s Online Trolls Engaged Unsuspecting American Voters — And Sometimes Duped The Media\"](https://www.buzzfeednews.com/article/peteraldhous/russia-online-trolls-viral-strategy).\n",
        "\n",
        ">[\"The Need for Openness in Data Journalism\"](http://nbviewer.jupyter.org/github/brianckeegan/Bechdel/blob/master/Bechdel_test.ipynb) by Brian Keegan. Little old, but Keegan makes good points about the benefits of working with a notebook.\n",
        "\n",
        ">[\"Why Jupyter is data scientists’ computational notebook of choice,\"](https://www.nature.com/articles/d41586-018-07196-1) a recent overview piece in Nature that marks the rise of notebooks this way -- \"One analysis of the code-sharing site GitHub counted more than 2.5 million public Jupyter notebooks in September 2018, up from 200,000 or so in 2015.\"  \n",
        "\n",
        ">[\"The Architecture of Jupyter -- Interactive by design.\"](http://scisoftdays.org/pdf/2016_slides/perez.pdf) Starting on page 23 of this PDF, Fernando Perez, one of the designers of the Jupyter describes how notebooks have been published alongside papers in journals like Nature and Science and Scientific American, to name a few."
      ]
    },
    {
      "cell_type": "markdown",
      "metadata": {
        "id": "O_m2fA6KEPzc",
        "colab_type": "text"
      },
      "source": [
        "**Mais código em Python**\n",
        "--------------------------\n",
        "Vale a pena lembrar: maiúsculas são diferentes de minúsculas aqui, com na busca dos termos, no exercício. O interpretador Python também não entenderá Print, com P maiúsculo. Além dos tipos básicos, int, float e str, temos outros tipos. Vamos usar os tweets lidos, do presidente, se você saiu do Notebook, basta executar a célula que lê os tweets novamente. Cada vez que você executa uma célula, o conteúdo ficará na memória. Ao sair do notebook, para continuar o trabalho, e chegar no mesmo ponto, podemos executar Kernel > Restart & Run All"
      ]
    },
    {
      "cell_type": "code",
      "metadata": {
        "id": "bcOsRoUmEPzd",
        "colab_type": "code",
        "colab": {}
      },
      "source": [
        "print ('palmeiras' in tweets.lower())\n",
        "print ('x' not in 'aeiou')"
      ],
      "execution_count": 0,
      "outputs": []
    },
    {
      "cell_type": "markdown",
      "metadata": {
        "id": "rYl-bSUBEPzg",
        "colab_type": "text"
      },
      "source": [
        "O operador **in** verifica se palmeiras pertence aos tweets e **not in** é uma negação, algumas vezes útil, como ver se uma letra é consoante, se não é vogal. Outras operações mais comuns, são as matemáticas."
      ]
    },
    {
      "cell_type": "code",
      "metadata": {
        "id": "nprgU3ytEPzh",
        "colab_type": "code",
        "colab": {}
      },
      "source": [
        "42 > 10"
      ],
      "execution_count": 0,
      "outputs": []
    },
    {
      "cell_type": "markdown",
      "metadata": {
        "id": "5NLxC7piEPzl",
        "colab_type": "text"
      },
      "source": [
        "**Exercício**\n",
        "\n",
        "Execute algumas expressões na célula abaixo, se tiver dúvida chame alguma monitora..."
      ]
    },
    {
      "cell_type": "code",
      "metadata": {
        "id": "98fZd4SGEPzm",
        "colab_type": "code",
        "colab": {}
      },
      "source": [
        ""
      ],
      "execution_count": 0,
      "outputs": []
    },
    {
      "cell_type": "markdown",
      "metadata": {
        "id": "ZH1zBXxhEPzp",
        "colab_type": "text"
      },
      "source": [
        "Na vida real não existe um único Dado, mas uma coleção deles. Nas linguagens de programação podemos usar uma variável para referenciar vários Dados de uma única vez. Para o nosso curso, os tipos mais importantes, que referenciam vários Dados, são as Listas, os Dicionários e os Dataframes.\n",
        "\n",
        "Uma lista é uma coleção de itens, onde referenciamos cada item entre colchetes. O primeiro item, por razões de conveniência é **zero**. "
      ]
    },
    {
      "cell_type": "code",
      "metadata": {
        "id": "13hKi_vuEPzq",
        "colab_type": "code",
        "colab": {}
      },
      "source": [
        "deputados = ['abílio santana', 'abou anni', 'acácio favacho', 'adolfo viana', 'adriana ventura', 'adriano do baldy', 'aécio neves', 'afonso florence', 'afonso hamm', 'afonso motta', 'aguinaldo ribeiro', 'airton faleiro', 'aj albuquerque', 'alan rick', 'alceu moreira', 'alcides rodrigues', 'alê silva', 'alencar santana braga', 'alessandro molon', 'alex manente', 'alex santana', 'alexandre frota', 'alexandre leite', 'alexandre padilha', 'alexandre serfiotis', 'alexis fonteyne', 'alice portugal', 'aliel machado', 'aline gurgel', 'aline sleutjes', 'altineu côrtes', 'aluisio mendes', 'amaro neto', 'andré abdon', 'andré de paula', 'andré ferreira', 'andré figueiredo', 'andré fufuca', 'andré janones', 'angela amin', 'aníbal gomes', 'antonio brito', 'arlindo chinaglia', 'arnaldo jardim', 'aroldo martins', 'arthur lira', 'arthur oliveira maia', 'assis carvalho', 'átila lins', 'átila lira', 'augusto coutinho', 'áurea carolina', 'aureo ribeiro', 'bacelar', 'baleia rossi', 'benedita da silva', 'benes leocádio', 'beto faro', 'beto pereira', 'beto rosado', 'bia cavassa', 'bia kicis', 'bibo nunes', 'bilac pinto', 'bira do pindaré', 'boca aberta', 'bohn gass', 'bosco costa', 'bosco saraiva', 'bruna furlan', 'cabo junio amaral', 'cacá leão', 'camilo capiberibe', 'capitão alberto neto', 'capitão augusto', 'capitão wagner', 'carla zambelli', 'carlos bezerra', 'carlos chiodini', 'carlos gomes', 'carlos henrique gaguim', 'carlos jordy', 'carlos sampaio', 'carlos veras', 'carlos zarattini', 'carmen zanotto', 'caroline de toni', 'cássio andrade', 'celina leão', 'célio moura', 'célio silveira', 'célio studart', 'celso maldaner', 'celso russomanno', 'celso sabino', 'cezinha de madureira', 'charles fernandes', 'charlles evangelista', \"chico d'angelo\", 'chiquinho brazão', 'chris tonietto', 'christiane de souza yared', 'christino aureo', 'clarissa garotinho', 'claudio cajado', 'cleber verde', 'coronel armando', 'coronel chrisóstomo', 'coronel tadeu', 'cristiano vale', 'da vitoria', 'dagoberto nogueira', 'damião feliciano', 'daniel almeida', 'daniel coelho', 'daniel freitas', 'daniel silveira', 'daniel trzeciak', 'daniela do waguinho', 'danilo cabral', 'danrlei de deus hinterholz', 'darci de matos', 'darcísio perondi', 'david miranda', 'david soares', 'delegado antônio furtado', 'delegado éder mauro', 'delegado marcelo freitas', 'delegado pablo', 'delegado waldir', 'denis bezerra', 'diego andrade', 'diego garcia', 'dimas fabiano', 'domingos neto', 'domingos sávio', 'dr. frederico', 'dr. jaziel', 'dr. leonardo', 'dr. luiz antonio teixeira jr.', 'dr. luiz ovando', 'dr. zacharias calil', 'dra. soraya manato', 'dra. vanda milani', 'dulce miranda', 'edilázio júnior', 'edio lopes', 'edmilson rodrigues', 'edna henrique', 'eduardo barbosa', 'eduardo bismarck', 'eduardo bolsonaro', 'eduardo braide', 'eduardo costa', 'eduardo cury', 'eduardo da fonte', 'efraim filho', 'elcione barbalho', 'eli borges', 'eli corrêa filho', 'elias vaz', 'elmar nascimento', 'emanuel pinheiro neto', 'emidinho madeira', 'enéias reis', 'enio verri', 'enrico misasi', 'erika kokay', 'eros biondini', 'euclydes pettersen', 'evair vieira de melo', 'evandro roman', 'expedito netto', 'fábio faria', 'fábio henrique', 'fábio mitidieri', 'fábio ramalho', 'fabio reis', 'fabio schiochet', 'fábio trad', 'fausto pinato', 'felício laterça', 'felipe carreras', 'felipe francischini', 'felipe rigoni', 'félix mendonça júnior', 'fernanda melchionna', 'fernando coelho filho', 'fernando monteiro', 'fernando rodolfo', 'filipe barros', 'flávia arruda', 'flávia morais', 'flaviano melo', 'flavio nogueira', 'flordelis', 'francisco jr.', 'franco cartafina', 'fred costa', 'frei anastacio ribeiro', 'gastão vieira', 'gelson azevedo', 'genecias noronha', 'general girão', 'general peternelli', 'geninho zuliani', 'geovania de sá', 'gervásio maia', 'giacobo', 'gil cutrim', 'gilberto abramo', 'gilberto nascimento', 'gilson marques', 'giovani cherini', 'giovani feltes', 'glauber braga', 'glaustin fokus', 'gleisi hoffmann', 'gonzaga patriota', 'greyce elias', 'guiga peixoto', 'guilherme derrite', 'guilherme mussi', 'gurgel', 'gustavo fruet', 'gustinho ribeiro', 'gutemberg reis', 'haroldo cathedral', 'heitor freire', 'heitor schuch', 'helder salomão', 'hélio costa', 'hélio leite', 'helio lopes', 'henrique fontana', 'hercílio coelho diniz', 'herculano passos', 'hermes parcianello', 'hildo rocha', 'hiran gonçalves', 'hugo leal', 'hugo motta', 'idilvan alencar', 'igor kannário', 'igor timo', 'iracema portella', 'isnaldo bulhões jr.', 'ivan valente', 'jandira feghali', 'jaqueline cassol', 'jefferson campos', 'jerônimo goergen', 'jéssica sales', 'jesus sérgio', 'jhc', 'jhonatan de jesus', 'joão campos', 'joão carlos bacelar', 'joão daniel', 'joão h. campos', 'joão maia', 'joão marcelo souza', 'joão roma', 'joaquim passarinho', 'joenia wapichana', 'joice hasselmann', 'jorge braz', 'jorge solla', 'josé airton félix cirilo', 'josé guimarães', 'jose mario schreiner', 'josé medeiros', 'josé nelto', 'josé nunes', 'josé priante', 'josé ricardo', 'josé rocha', 'joseildo ramos', 'josimar maranhãozinho', 'juarez costa', 'julian lemos', 'júlio cesar', 'julio cesar ribeiro', 'júlio delgado', 'juninho do pneu', 'júnior bozzella', 'júnior ferrari', 'junior lourenço', 'júnior mano', 'juscelino filho', 'kim kataguiri', 'laercio oliveira', 'lafayette de andrada', 'lauriete', 'leandre', 'leda sadala', 'léo moraes', 'léo motta', 'leonardo monteiro', 'leônidas cristino', 'leur lomanto júnior', 'lídice da mata', 'lincoln portela', 'liziane bayer', 'loester trutis', 'lourival gomes', 'lucas gonzalez', 'lucas redecker', 'lucas vergilio', 'luciano bivar', 'luciano ducci', 'lucio mosquini', 'luis miranda', 'luis tibé', 'luisa canziani', 'luiz antônio corrêa', 'luiz carlos', 'luiz carlos motta', 'luiz flávio gomes', 'luiz lima', 'luiz nishimori', 'luiz philippe de orleans e bragança', 'luiza erundina', 'luizão goulart', 'luizianne lins', 'magda mofatto', 'major fabiana', 'major vitor hugo', 'manuel marcos', 'mara rocha', 'marcel van hattem', 'marcelo aro', 'marcelo brum', 'marcelo calero', 'marcelo freixo', 'marcelo moraes', 'marcelo nilo', 'marcelo ramos', 'marcio alvino', 'márcio biolchi', 'márcio jerry', 'márcio labre', 'márcio marinho', 'marco bertaiolli', 'marcon', 'marcos aurélio sampaio', 'marcos pereira', 'margarete coelho', 'margarida salomão', 'maria do rosário', 'maria rosas', 'mariana carvalho', 'marília arraes', 'marina santos', 'mário heringer', 'mário negromonte jr.', 'marlon santos', 'marreca filho', 'marx beltrão', 'maurício dziedricki', 'mauro lopes', 'mauro nazif', 'miguel lombardi', 'milton vieira', 'misael varella', 'moses rodrigues', 'natália bonavides', 'nelson barbudo', 'nelson pellegrino', 'nereu crispim', 'neri geller', 'newton cardoso jr', 'nicoletti', 'nilson pinto', 'nilto tatto', 'nivaldo albuquerque', 'norma ayub', 'odair cunha', 'olival marques', 'orlando silva', 'osires damaso', 'ossesio silva', 'otaci nascimento', 'otoni de paula', 'otto alencar filho', 'padre joão', 'paes landim', 'pastor eurico', 'pastor gildenemyr', 'pastor sargento isidório', 'patrus ananias', 'paula belmonte', 'paulão', 'paulo abi-ackel', 'paulo azi', 'paulo bengtson', 'paulo eduardo martins', 'paulo freire costa', 'paulo ganime', 'paulo guedes', 'paulo magalhães', 'paulo pereira da silva', 'paulo pimenta', 'paulo ramos', 'paulo teixeira', 'pedro augusto bezerra', 'pedro cunha lima', 'pedro lucas fernandes', 'pedro lupion', 'pedro paulo', 'pedro uczai', 'pedro westphalen', 'perpétua almeida', 'pinheirinho', 'policial katia sastre', 'pompeo de mattos', 'pr. marco feliciano', 'professor alcides', 'professor israel batista', 'professor joziel', 'professora dayane pimentel', 'professora dorinha seabra rezende', 'professora marcivania', 'professora rosa neide', 'rafael motta', 'raimundo costa', 'raul henry', 'reginaldo lopes', 'reinhold stephanes junior', 'rejane dias', 'renata abreu', 'renildo calheiros', 'ricardo barros', 'ricardo guidi', 'ricardo izar', 'ricardo teobaldo', 'robério monteiro', 'roberto alves', 'roberto de lucena', 'roberto pessoa', 'rodrigo agostinho', 'rodrigo coelho', 'rodrigo de castro', 'rodrigo maia', 'rogério correia', 'rogério peninha mendonça', 'ronaldo carletto', 'rosana valle', 'rosangela gomes', 'rose modesto', 'rubens bueno', 'rubens otoni', 'rui falcão', 'ruy carneiro', 'sâmia bomfim', 'samuel moreira', 'sanderson', 'santini', 'sargento fahur', 'schiavinato', 'sebastião oliveira', 'sergio souza', 'sergio toledo', 'sergio vidigal', 'severino pessoa', 'shéridan', 'sidney leite', 'silas câmara', 'silvia cristina', 'silvio costa filho', 'soraya santos', 'sóstenes cavalcante', 'stefano aguiar', 'subtenente gonzaga', 'tabata amaral', 'tadeu alencar', 'talíria petrone', 'ted conti', 'tereza nelma', 'tiago dimas', 'tiago mitraud', 'tiririca', 'tito', 'toninho wandscheer', 'túlio gadêlha', 'uldurico junior', 'vaidon oliveira', 'valdevan noventa', 'valmir assunção', 'vander loubet', 'vanderlei macris', 'vavá martins', 'vermelho', 'vicentinho', 'vicentinho júnior', 'vilson da fetaemg', 'vinicius carvalho', 'vinicius farah', 'vinicius gurgel', 'vinicius poit', 'vitor lippi', 'waldenor pereira', 'walter alves', 'weliton prado', 'wellington roberto', 'wilson santiago', 'wladimir garotinho', 'wolney queiroz', 'zé carlos', 'zé neto', 'zé silva', 'zé vitor', 'zeca dirceu']\n",
        "print (deputados)"
      ],
      "execution_count": 0,
      "outputs": []
    },
    {
      "cell_type": "code",
      "metadata": {
        "id": "KBEmdI-rEPzr",
        "colab_type": "code",
        "colab": {}
      },
      "source": [
        "'tabata amaral' in deputados"
      ],
      "execution_count": 0,
      "outputs": []
    },
    {
      "cell_type": "code",
      "metadata": {
        "id": "TPMTJLMbEPzt",
        "colab_type": "code",
        "colab": {}
      },
      "source": [
        "print (len(deputados))"
      ],
      "execution_count": 0,
      "outputs": []
    },
    {
      "cell_type": "markdown",
      "metadata": {
        "id": "I8cc15dgEPzv",
        "colab_type": "text"
      },
      "source": [
        "Caso queira imprimir linha a linha cada deputado, posso usar um comando de repetição, chamado **for**"
      ]
    },
    {
      "cell_type": "code",
      "metadata": {
        "id": "UPMxCZ76EPzw",
        "colab_type": "code",
        "colab": {}
      },
      "source": [
        "for d in deputados:\n",
        "    print (d)"
      ],
      "execution_count": 0,
      "outputs": []
    },
    {
      "cell_type": "markdown",
      "metadata": {
        "id": "oQjzcuBLEPz0",
        "colab_type": "text"
      },
      "source": [
        "Existem mais informações de cada deputado: identificador, legislatura(s), UF, partido, sexo, etc. Daqui a pouco iremos acessá-las. \n",
        "\n",
        "Uma outra estrutura, muito utilizada, é o dicionário, onde temos vários Dados, acessíveis através de uma chave. Como no exemplo abaixo:"
      ]
    },
    {
      "cell_type": "code",
      "metadata": {
        "id": "_l4g6GRKEPz1",
        "colab_type": "code",
        "colab": {}
      },
      "source": [
        "dados = {'nome':'fernando', 'redes sociais':'@fmasanori', 'e-mails':['a', 'b', 'c']}\n",
        "print (dados['redes sociais'])\n",
        "print (dados['e-mails'])"
      ],
      "execution_count": 0,
      "outputs": []
    },
    {
      "cell_type": "code",
      "metadata": {
        "id": "JNig8udeEPz3",
        "colab_type": "code",
        "colab": {}
      },
      "source": [
        "dados['fruta'] = 'abacate'\n",
        "dados"
      ],
      "execution_count": 0,
      "outputs": []
    },
    {
      "cell_type": "markdown",
      "metadata": {
        "id": "DDCV_HlVEPz6",
        "colab_type": "text"
      },
      "source": [
        "**Exercício**\n",
        "\n",
        "Monte uma Lista com o nome de 3 pessoas próximas de você\n",
        "\n",
        "Com o comando **for**, imprima estes mesmos nomes\n",
        "\n",
        "Monte um Dicionário, com o nome, partido e estado de algum Deputado Federal\n",
        "\n",
        "Imprima logo depois apenas o nome e o partido"
      ]
    },
    {
      "cell_type": "code",
      "metadata": {
        "id": "G9S7KMnVEPz7",
        "colab_type": "code",
        "colab": {}
      },
      "source": [
        ""
      ],
      "execution_count": 0,
      "outputs": []
    },
    {
      "cell_type": "markdown",
      "metadata": {
        "id": "YmxNyEoQEPz9",
        "colab_type": "text"
      },
      "source": [
        "Podemos também executar um bloco de instruções apenas quando ocorre uma determinada condição"
      ]
    },
    {
      "cell_type": "code",
      "metadata": {
        "id": "9tI50PGAEPz9",
        "colab_type": "code",
        "colab": {}
      },
      "source": [
        "deputado = {'nome':'fulano', 'partido':'xyz', 'valor_gasto': 128000}\n",
        "if deputado['partido'] == 'xyz':\n",
        "    print (deputado['valor_gasto'])"
      ],
      "execution_count": 0,
      "outputs": []
    },
    {
      "cell_type": "code",
      "metadata": {
        "id": "tQluXWXnEP0A",
        "colab_type": "code",
        "colab": {}
      },
      "source": [
        "if deputado['partido'] == 'xyz':\n",
        "    print (deputado['valor_gasto'])\n",
        "else:\n",
        "    print ('Não irei contabilizar o', deputado['nome'])"
      ],
      "execution_count": 0,
      "outputs": []
    },
    {
      "cell_type": "markdown",
      "metadata": {
        "id": "GMikjz3XEP0C",
        "colab_type": "text"
      },
      "source": [
        "**Observações**\n",
        "--------------\n",
        "Em Python espaços em branco à esquerda são importantes, marcam um bloco de instruções\n",
        "\n",
        "Dois pontos são o caracter que mais um iniciante esquece\n",
        "\n",
        "**if** pergunta por alguma condição\n",
        "\n",
        "**else** executa um bloco, caso a condição seja falsa"
      ]
    },
    {
      "cell_type": "markdown",
      "metadata": {
        "id": "FUYOQTlKEP0C",
        "colab_type": "text"
      },
      "source": [
        "**Acessando Dados**\n",
        "--------------------------\n",
        "Existem várias formas de acessar Dados, orgãos públicos costumam disponibilizar, em vários formatos, estes Dados, para Download. Outras vezes é necessário fazer um programa, para acessar estes Dados. Existem várias formas de fazer isso. A mais fácil é utilizando uma API, Interface de Programação de Aplicações, que podemos entender como um balcão de padaria, onde alguém atende aos nossos pedidos."
      ]
    },
    {
      "cell_type": "code",
      "metadata": {
        "id": "zmM8lk4UEP0D",
        "colab_type": "code",
        "colab": {}
      },
      "source": [
        "import requests\n",
        "url = 'http://educacao.dadosabertosbr.com/api/escolas/buscaavancada?situacaoFuncionamento=1'\n",
        "situação = '&energiaInexistente=on&aguaInexistente=on&esgotoInexistente=on'\n",
        "resp = requests.get(url+situação).json()\n",
        "print ('Número de Escolas em funcionamento sem energia, água e esgoto:', resp[0])\n",
        "for x in resp[1]:\n",
        "  print (x['nome'], x['cod'])\n",
        "  print (x['cidade'], x['estado'], x['regiao'])\n",
        "  print ()\n"
      ],
      "execution_count": 0,
      "outputs": []
    },
    {
      "cell_type": "markdown",
      "metadata": {
        "id": "xJR61aKpEP0F",
        "colab_type": "text"
      },
      "source": [
        "Um portal, com dados antigos, fornece estas informações. Como conseguimos acessá-las? Usando a API descrita em [http://educacao.dadosabertosbr.com/api]. O endereço que acessamos é [http://educacao.dadosabertosbr.com/api/escolas/buscaavancada?situacaoFuncionamento=1&energiaInexistente=on&aguaInexistente=on&esgotoInexistente=on]. Talvez suas informações apareçam embaralhadas. Neste caso instale uma extensão no seu navegador, JSONView, e tente novamente. Peça ajuda para instalar a extensão à monitora. Nosso acesso retorna um JSON, formato muitíssimo utilizado para retorno de APIs atualmente. Conseguimos traduzir o JSON para um dicionário. O resultado é uma Lista, onde a posição zero dá o número de escolas, e na posição seguinte cada uma das escolas, com suas informações. Este site é meio instável, então, caso não consiga acessar vamos ao próximo passo. Algumas vezes não é trivial usar uma API, como no caso dos Tweets, por exemplo. Para acessar a API do Twitter é necessário registrar chaves de acesso, etc. Podemos fazer raspagem de dados, neste caso, scraping, em inglês."
      ]
    },
    {
      "cell_type": "code",
      "metadata": {
        "id": "F-n4XKiKEP0F",
        "colab_type": "code",
        "colab": {}
      },
      "source": [
        "from twitter_scraper import get_tweets\n",
        "for t in  get_tweets('jairbolsonaro'):\n",
        "    print (t)"
      ],
      "execution_count": 0,
      "outputs": []
    },
    {
      "cell_type": "markdown",
      "metadata": {
        "id": "1fQbndqtEP0I",
        "colab_type": "text"
      },
      "source": [
        "**Exercício**\n",
        "\n",
        "Faça um código que imprima apenas o texto, likes e retweets, das últimas mensagens do nosso presidente."
      ]
    },
    {
      "cell_type": "code",
      "metadata": {
        "id": "988Zm-GiEP0J",
        "colab_type": "code",
        "colab": {}
      },
      "source": [
        ""
      ],
      "execution_count": 0,
      "outputs": []
    },
    {
      "cell_type": "markdown",
      "metadata": {
        "id": "y4GGrsPpEP0L",
        "colab_type": "text"
      },
      "source": [
        "Ao invés de apenas imprimir, podemos guardar numa lista algumas informações. Começamos uma lista vazia atribuindo colchetes sem nada dentro. O comando append inclui no final da lista a informação desejada. Depois podemos colocar estes tweets em ordem descrescente, segundo algum critério. Por exemplo, quero os últimos tweets que tiveram mais likes. Até agora você usou funções do Python ou de suas bibliotecas, vamos criar uma função nossa."
      ]
    },
    {
      "cell_type": "code",
      "metadata": {
        "id": "lKl8Jz0uEP0M",
        "colab_type": "code",
        "colab": {}
      },
      "source": [
        "from twitter_scraper import get_tweets\n",
        "tweets = []\n",
        "for t in  get_tweets('jairbolsonaro'):\n",
        "    d = {'text':t['text'], 'likes':t['likes']}\n",
        "    tweets.append(d)\n",
        "    \n",
        "def criterio(tweet): return tweet['likes']\n",
        "tweets_ordenados = sorted(tweets, key=criterio, reverse=True)\n",
        "for t in tweets_ordenados:\n",
        "    print (t['text'], t['likes'])"
      ],
      "execution_count": 0,
      "outputs": []
    },
    {
      "cell_type": "markdown",
      "metadata": {
        "id": "hFT3clWnEP0P",
        "colab_type": "text"
      },
      "source": [
        "**Exercício**\n",
        "\n",
        "Faça um código que mostre os últimos textos, dos tweets do presidente, segundo o critério de **retweets** dados"
      ]
    },
    {
      "cell_type": "code",
      "metadata": {
        "id": "9Fgw5egMEP0Q",
        "colab_type": "code",
        "colab": {}
      },
      "source": [
        ""
      ],
      "execution_count": 0,
      "outputs": []
    },
    {
      "cell_type": "markdown",
      "metadata": {
        "id": "exe9iAtBEP0X",
        "colab_type": "text"
      },
      "source": [
        "São inúmeras as análises possíveis, de Tweets. A título de curiosidade, podemos usar cadeias de Markov, para prever um futuro tweet do nosso presidente, baseado em Tweets passados. Para isso precisamos de uma lista de frases já ditas pelo presidente. Note que é necessário uma base grande de tweets, para melhorarmos a probabilidade. Fazendo Raspagem com o twitter_scraper não conseguimos grandes volumes, seria necessário usar a API oficial."
      ]
    },
    {
      "cell_type": "code",
      "metadata": {
        "id": "kz9_44H9EP0Y",
        "colab_type": "code",
        "colab": {}
      },
      "source": [
        "from twitter_scraper import get_tweets\n",
        "import markovify\n",
        "textos = []\n",
        "for t in get_tweets('jairbolsonaro'):\n",
        "    textos.append(t['text'])\n",
        "text_model = markovify.Text(textos)\n",
        "print(text_model.make_short_sentence(140))"
      ],
      "execution_count": 0,
      "outputs": []
    },
    {
      "cell_type": "markdown",
      "metadata": {
        "id": "98GzH48QEP0c",
        "colab_type": "text"
      },
      "source": [
        "**Usando a nova API da Câmara dos Deputados**\n",
        "---------------------------\n",
        "\n",
        "Toda a documentação se encontra em [https://dadosabertos.camara.leg.br/swagger/api.html]\n",
        "\n",
        "Vamos inicialmente mostrar o nome e identificador de cada deputado"
      ]
    },
    {
      "cell_type": "code",
      "metadata": {
        "id": "R-1AsjseEP0d",
        "colab_type": "code",
        "colab": {}
      },
      "source": [
        "import requests\n",
        "url = 'https://dadosabertos.camara.leg.br/api/v2/deputados'\n",
        "resp = requests.get(url).json()\n",
        "for d in resp['dados']:\n",
        "  print (d['nome'], d['id'])"
      ],
      "execution_count": 0,
      "outputs": []
    },
    {
      "cell_type": "markdown",
      "metadata": {
        "id": "pjRNPpXoEP0g",
        "colab_type": "text"
      },
      "source": [
        "**Exercício**\n",
        "\n",
        "Além do nome e identificador, mostre também o partido e UF de cada Deputado"
      ]
    },
    {
      "cell_type": "code",
      "metadata": {
        "id": "QDwsjvsNEP0h",
        "colab_type": "code",
        "colab": {}
      },
      "source": [
        ""
      ],
      "execution_count": 0,
      "outputs": []
    },
    {
      "cell_type": "markdown",
      "metadata": {
        "id": "Do10_N0fEP0m",
        "colab_type": "text"
      },
      "source": [
        "Na url da Câmara, no bloco dos Deputados, coloque **aplication/json** no Response Content Type. Você irá notar que existem mais informações que as descritas inicialmente. Por exemplo, vamos baixar todas as fotos, no diretório onde você iniciou o jupyter notebook, dos deputados de São Paulo. Aqui começamos a suar uma condição **if** sendo que o bloco de instruções será executado apenas quando aquela condição resultar True"
      ]
    },
    {
      "cell_type": "code",
      "metadata": {
        "id": "PWOc4sXUEP0p",
        "colab_type": "code",
        "colab": {}
      },
      "source": [
        "import requests\n",
        "url = 'https://dadosabertos.camara.leg.br/api/v2/deputados'\n",
        "resp = requests.get(url).json()\n",
        "for d in resp['dados']:\n",
        "  if d['siglaUf'] == 'SP':\n",
        "    nome = d['nome'].lower()\n",
        "    print (f'Gravando: {nome}')\n",
        "    f = open(nome + '.jpg', 'wb')\n",
        "    foto = requests.get(d['urlFoto']).content\n",
        "    f.write(foto)\n",
        "    f.close()"
      ],
      "execution_count": 0,
      "outputs": []
    },
    {
      "cell_type": "markdown",
      "metadata": {
        "id": "v5qapGLqEP0s",
        "colab_type": "text"
      },
      "source": [
        "Note que o print tem uma string que começa com f. Quando fazemos isso, dentro da string, tudo o que aparece em chaves, é substituído pelo valor calculado"
      ]
    },
    {
      "cell_type": "markdown",
      "metadata": {
        "id": "KtIY4cwaEP0t",
        "colab_type": "text"
      },
      "source": [
        "Vamos acessar o valor total gasto por um Deputado Federal, com sua quota parlamentar, registrado na API da Câmara. A Deputada Tábata Amaral tem identificador 204534. Usando o link de descrição da API, podemos observar que são 26 páginas, de despesas comprovadas, onde cada página tem até no máximo 15 itens. Cada página tem uma URL de acesso, para seus itens. Existe um operador em Python, chamado range, que vai de um número até uma unidade a menos do segundo. Desta forma range(1, 27) nos gera o intervado de 1 até 26. No campo valorLiquido temos o gasto efetuado. Observe que a API nos retorna uma string, para poder somar, devemos converter o valor para float, antes de somar a uma variável total. Para imprimir com somente duas casas decimais, irei usar .2f "
      ]
    },
    {
      "cell_type": "code",
      "metadata": {
        "id": "o487jukrEP0v",
        "colab_type": "code",
        "colab": {}
      },
      "source": [
        "import requests\n",
        "url = 'https://dadosabertos.camara.leg.br/api/v2/deputados/204534/despesas?ano=2019&ordem=ASC&ordenarPor=ano'\n",
        "resp = requests.get(url).json()\n",
        "total = 0\n",
        "for pag in range(1, 27):\n",
        "  u = f'https://dadosabertos.camara.leg.br/api/v2/deputados/204534/despesas?ano=2019&ordem=ASC&ordenarPor=ano&pagina={pag}&itens=15'\n",
        "  r = requests.get(u).json()\n",
        "  for gasto in r['dados']:\n",
        "    total = total + float(gasto['valorLiquido'])\n",
        "\n",
        "print (f'R$ {total:.2f}')"
      ],
      "execution_count": 0,
      "outputs": []
    },
    {
      "cell_type": "markdown",
      "metadata": {
        "id": "sZK8a-GZEP0x",
        "colab_type": "text"
      },
      "source": [
        "**Exercício**\n",
        "\n",
        "Calcule o valor gasto por outros Deputados Federais, substituindo o identificador\n"
      ]
    },
    {
      "cell_type": "code",
      "metadata": {
        "id": "sEIWC4y4EP0x",
        "colab_type": "code",
        "colab": {}
      },
      "source": [
        ""
      ],
      "execution_count": 0,
      "outputs": []
    },
    {
      "cell_type": "markdown",
      "metadata": {
        "id": "dKhU923xEP00",
        "colab_type": "text"
      },
      "source": [
        "Outra análise interessante é saber quem são os fornecedores que mais receberam desta quota. Usamos um dicionário para guardar estes dados, se o fornecedor não está ainda na base, crio e inicializo com aquele valor, caso já exista somo com o total acumulado. Cada item de um dicionário é um par, quero colocar em ordem do segundo elemento, que referencio por um entre colchetes, lembre que o primeiro é zero. Abaixo os fornecedores da deputada Tábata Amaral em ordem descrescente de valor recebido acumulado, até o momento."
      ]
    },
    {
      "cell_type": "code",
      "metadata": {
        "id": "so1TaobrEP00",
        "colab_type": "code",
        "colab": {}
      },
      "source": [
        "import requests\n",
        "url = 'https://dadosabertos.camara.leg.br/api/v2/deputados/204534/despesas?ano=2019&ordem=ASC&ordenarPor=ano'\n",
        "resp = requests.get(url).json()\n",
        "total = 0\n",
        "fornecedores = {}\n",
        "for pag in range(1, 27):\n",
        "  u = f'https://dadosabertos.camara.leg.br/api/v2/deputados/204534/despesas?ano=2019&ordem=ASC&ordenarPor=ano&pagina={pag}&itens=15'\n",
        "  r = requests.get(u).json()\n",
        "  for gasto in r['dados']:\n",
        "    valor = float(gasto['valorLiquido'])\n",
        "    total = total + valor\n",
        "    nome = gasto['nomeFornecedor']\n",
        "    if nome not in fornecedores:\n",
        "      fornecedores[nome] = valor\n",
        "    else:\n",
        "      fornecedores[nome] = fornecedores[nome] + valor\n",
        "\n",
        "print (f'R$ {total:.2f}')\n",
        "def chave(f): return f[1]\n",
        "print (sorted(fornecedores.items(), key=chave, reverse=True))\n"
      ],
      "execution_count": 0,
      "outputs": []
    },
    {
      "cell_type": "markdown",
      "metadata": {
        "id": "l4xk7lj2EP02",
        "colab_type": "text"
      },
      "source": [
        "Observe que para totalizar corretamente temos que agrupar razões sociais. \n",
        "\n",
        "**Exercício**\n",
        "\n",
        "Verifique os maiores fornecedores de outros Deputados Federais"
      ]
    },
    {
      "cell_type": "code",
      "metadata": {
        "id": "fy7VZn2dEP03",
        "colab_type": "code",
        "colab": {}
      },
      "source": [
        ""
      ],
      "execution_count": 0,
      "outputs": []
    },
    {
      "cell_type": "markdown",
      "metadata": {
        "id": "SWsclfbJEP05",
        "colab_type": "text"
      },
      "source": [
        "Como podemos descobrir Dados de Deputados nas Legislaturas passadas? Por exemplo, do Deputado Jair Bolsonaro? Encontrando a Biografia do Deputado (https://www.camara.leg.br/deputados/74847/biografia), após pesquisar no Google, obtemos na URL o seu identificador. Como saber as Legislaturas? Pela biografia, sabemos as Datas de Início de sua atividade politica na Câmara, na API da Câmara chegamos que isso engloba as Legislaturas de 49 a 55. Na API podemos colocar como datas de início e final: 1990-01-01 e 2019-12-31. Podemos tentar trazer o máximo de itens por página, porém você irá descobrir, numa tentativa e erro, que o máximo é de 100 itens. No final do JSON de retorno, outra informação importante é de que temos páginas de 1 até 16, o que implica usar range(1, 17), pois range termina no número anterior ao segundo parâmetro fornecido. Pelo final do JSON retornado, você sabe como construir a requisição de cada página."
      ]
    },
    {
      "cell_type": "code",
      "metadata": {
        "id": "Cm4aKckdEP05",
        "colab_type": "code",
        "colab": {}
      },
      "source": [
        "import requests\n",
        "keywords = []\n",
        "sumarios = []\n",
        "for pag in range (1,17):\n",
        "  url = f'https://dadosabertos.camara.leg.br/api/v2/deputados/74847/discursos?idLegislatura=49&idLegislatura=50&idLegislatura=51&idLegislatura=52&idLegislatura=53&idLegislatura=54&idLegislatura=55&dataInicio=1990-01-01&dataFim=2019-12-31&ordenarPor=dataHoraInicio&ordem=ASC&pagina={pag}&itens=100'\n",
        "  resp = requests.get(url).json()\n",
        "  for d in resp['dados']:\n",
        "    s = d['sumario'].lower().replace('.', '').split()\n",
        "    s = [txt.strip() for txt in s]\n",
        "    sumarios.extend(s)\n",
        "    if not d['keywords']: continue\n",
        "    kws = d['keywords'].lower()\n",
        "    kws = kws.replace('\\r', '').replace('\\n', '').replace('.', '')\n",
        "    kws = kws.split(',')\n",
        "    kws = [txt.strip() for txt in kws]\n",
        "  \n",
        "    keywords.extend(kws)\n",
        "\n",
        "from collections import Counter\n",
        "keywords = Counter(keywords)\n",
        "sumarios = Counter(sumarios)\n",
        "\n",
        "def cont(k): return k[1]\n",
        "freq_keys = sorted(keywords.items(), key=cont, reverse=True)\n",
        "print (freq_keys[:50])\n",
        "\n",
        "freq_sum = sorted(sumarios.items(), key=cont, reverse=True)\n",
        "print (freq_sum[:50])"
      ],
      "execution_count": 0,
      "outputs": []
    },
    {
      "cell_type": "markdown",
      "metadata": {
        "id": "Tuyt4HcwEP07",
        "colab_type": "text"
      },
      "source": [
        "Explicações: estamos removendo sinais especiais, de pulo de linha ou '.', a função strip() remove espaços antes ou depois da palavra ou keyword, split() quebra a string pelo espaço ou sinal de pular linha, split(',') separa por vírgula, a função extend faz algo parecido com append, enquanto append inclui um único elemento no final da lista, extend inclui vários. A função Counter vai contabilizar o número de vezes em que aparece um elemento na lista, criando um dicionário. No final vamos mostrar os 50 termos que mais aparecem nas Keywords do nosso presidente e também nos sumários."
      ]
    },
    {
      "cell_type": "code",
      "metadata": {
        "id": "pHQXtWzgEP08",
        "colab_type": "code",
        "colab": {}
      },
      "source": [
        "texto = 'batatinha, quando, nasce, esparrama, pelo, chão'\n",
        "texto = texto.split(',')\n",
        "texto"
      ],
      "execution_count": 0,
      "outputs": []
    },
    {
      "cell_type": "code",
      "metadata": {
        "id": "TZCmVfV2EP09",
        "colab_type": "code",
        "colab": {}
      },
      "source": [
        "texto = [x.strip() for x in texto]\n",
        "texto"
      ],
      "execution_count": 0,
      "outputs": []
    },
    {
      "cell_type": "markdown",
      "metadata": {
        "id": "C-oDozxCEP1C",
        "colab_type": "text"
      },
      "source": [
        "Expressões entre colchetes criam novas listas segundo o critério que está dentro, no caso acima, vamos fazer x.strip() para todo x dentro da lista texto"
      ]
    },
    {
      "cell_type": "markdown",
      "metadata": {
        "id": "zaTNzvM_EP1C",
        "colab_type": "text"
      },
      "source": [
        "**Exercício**\n",
        "\n",
        "Repita o processo acima para outro Deputado Federal"
      ]
    },
    {
      "cell_type": "code",
      "metadata": {
        "id": "V0uIABPPEP1D",
        "colab_type": "code",
        "colab": {}
      },
      "source": [
        ""
      ],
      "execution_count": 0,
      "outputs": []
    },
    {
      "cell_type": "markdown",
      "metadata": {
        "id": "jcGHvXWpEP1F",
        "colab_type": "text"
      },
      "source": [
        "Existem inúmeras APIs, podemos ver o que o Google completaria, dada uma expressão inicial"
      ]
    },
    {
      "cell_type": "code",
      "metadata": {
        "id": "9XvbmZOPEP1G",
        "colab_type": "code",
        "colab": {}
      },
      "source": [
        "from requests import get\n",
        "url = \"http://suggestqueries.google.com/complete/search?client=firefox&q=Jair Bolsonaro é\"\n",
        "resp = get(url).json()\n",
        "resp"
      ],
      "execution_count": 0,
      "outputs": []
    },
    {
      "cell_type": "markdown",
      "metadata": {
        "id": "03UXbix5EP1I",
        "colab_type": "text"
      },
      "source": [
        "**Exercício**\n",
        "\n",
        "Coloque outras frases a serem completadas para testar"
      ]
    },
    {
      "cell_type": "code",
      "metadata": {
        "id": "VcH70_eFEP1I",
        "colab_type": "code",
        "colab": {}
      },
      "source": [
        ""
      ],
      "execution_count": 0,
      "outputs": []
    },
    {
      "cell_type": "markdown",
      "metadata": {
        "id": "teElh2YoEP1K",
        "colab_type": "text"
      },
      "source": [
        "**Pandas Dataframe**\n",
        "---------------\n",
        "Uma biblioteca muito utilizada em Ciência de Dados é o pandas. E a estrutura de dados mais útil é o dataframe. Vamos fazer uma Análise real, com Dados Públicos do SUS de Santa Catarina, créditos para a Larissa Lautert, do PyLadies Florianópolis, que me forneceu este notebook. O problema analisado é a excessiva demora na Fila do SUS, naquele dataset concreto de dados."
      ]
    },
    {
      "cell_type": "code",
      "metadata": {
        "id": "qdTAesAREP1L",
        "colab_type": "code",
        "colab": {}
      },
      "source": [
        "import pandas as pd\n",
        "low_memory=False\n",
        "%matplotlib inline\n",
        "pd.options.display.max_columns = 80\n",
        "pd.options.display.max_rows = 90"
      ],
      "execution_count": 0,
      "outputs": []
    },
    {
      "cell_type": "markdown",
      "metadata": {
        "id": "XC7dO82lEP1N",
        "colab_type": "text"
      },
      "source": [
        "Pandas é a biblioteca que carrego na memória com um apelido pd, low_memory normalmente é True, porém, para acelerar nossa carga colocaremos False, matplotlib permite visualizações básicas e faremos os gráficos diretamente nos dataframes, max_columns e max_rows apenas para diminuir a apresentação de conjuntos muito extensos de dados."
      ]
    },
    {
      "cell_type": "code",
      "metadata": {
        "id": "p4Bd_ZsCEP1O",
        "colab_type": "code",
        "colab": {}
      },
      "source": [
        "filename = 'fila-publica-2017-11-30.csv'\n",
        "df = pd.read_csv(filename)"
      ],
      "execution_count": 0,
      "outputs": []
    },
    {
      "cell_type": "markdown",
      "metadata": {
        "id": "wAuUSvJAEP1R",
        "colab_type": "text"
      },
      "source": [
        "Este arquivo deve estar na mesma pasta do seu notebook. Tivemos alguns avisos, que não irão afetar nossa Análise."
      ]
    },
    {
      "cell_type": "code",
      "metadata": {
        "id": "s8qqTkItEP1T",
        "colab_type": "code",
        "colab": {}
      },
      "source": [
        "df.shape"
      ],
      "execution_count": 0,
      "outputs": []
    },
    {
      "cell_type": "code",
      "metadata": {
        "id": "NyoL_xRfEP1U",
        "colab_type": "code",
        "colab": {}
      },
      "source": [
        "df.describe()"
      ],
      "execution_count": 0,
      "outputs": []
    },
    {
      "cell_type": "markdown",
      "metadata": {
        "id": "h3TBiAmGEP1X",
        "colab_type": "text"
      },
      "source": [
        "Visualizamos dados estatísticos das colunas que temos. Estamos entrevistando esta base focando o Tempo Médio de Espera, podemos ver que, na média, o tempo é de 194 dias. "
      ]
    },
    {
      "cell_type": "code",
      "metadata": {
        "id": "60HD74g1EP1Y",
        "colab_type": "code",
        "colab": {}
      },
      "source": [
        "df.info()"
      ],
      "execution_count": 0,
      "outputs": []
    },
    {
      "cell_type": "markdown",
      "metadata": {
        "id": "MV2RwdsHEP1a",
        "colab_type": "text"
      },
      "source": [
        "Por uma razão de conveniência iremos remover os espaços das colunas"
      ]
    },
    {
      "cell_type": "code",
      "metadata": {
        "id": "rvIsoE7NEP1b",
        "colab_type": "code",
        "colab": {}
      },
      "source": [
        "df.rename(columns={'MUNICÍPIO DE RESIDÊNCIA': 'MUNICÍPIODERESIDÊNCIA',\n",
        "                   'CENTRAL DE REGULAÇÃO/RESPONSÁVEL': 'CENTRALDEREGULAÇÃO/RESPONSÁVEL',\n",
        "                   'TEMPO MÉDIO DE ESPERA(DIAS)': 'TEMPOMÉDIODEESPERA(DIAS)',\n",
        "                   'DATA DA SOLICITAÇÃO': 'DATADASOLICITAÇÃO',\n",
        "                   'DESCRIÇÃO DO PROCEDIMENTO': 'DESCRIÇÃODOPROCEDIMENTO',\n",
        "                   'CNES DA CENTRAL EXECUTANTE': 'CNESDACENTRALEXECUTANTE',\n",
        "                   'CNES DA UNIDADE SOLICITANTE': 'CNESDAUNIDADESOLICITANTE'\n",
        "                  }, inplace=True)"
      ],
      "execution_count": 0,
      "outputs": []
    },
    {
      "cell_type": "code",
      "metadata": {
        "id": "ZBycxUryEP1d",
        "colab_type": "code",
        "colab": {}
      },
      "source": [
        "df.sample(10)"
      ],
      "execution_count": 0,
      "outputs": []
    },
    {
      "cell_type": "markdown",
      "metadata": {
        "id": "3D1r2VgcEP1e",
        "colab_type": "text"
      },
      "source": [
        "Amostra de 10 itens do nosso dataset. \n",
        "\n",
        "**Exercício**\n",
        "\n",
        "Clique na célula e tecle shift enter"
      ]
    },
    {
      "cell_type": "code",
      "metadata": {
        "id": "f475UgjbEP1f",
        "colab_type": "code",
        "colab": {}
      },
      "source": [
        "df.groupby('SERVIÇO').size().sort_values().plot(kind='barh')"
      ],
      "execution_count": 0,
      "outputs": []
    },
    {
      "cell_type": "markdown",
      "metadata": {
        "id": "5JvyJ12YEP1g",
        "colab_type": "text"
      },
      "source": [
        "Fizemos um agrupamento da base, em relação à coluna SERVIÇO, pegamos o tamanho do agrupamento, colocamos em ordem, e plotamos um gráfico do tipo barra horizontal"
      ]
    },
    {
      "cell_type": "code",
      "metadata": {
        "id": "2e_VyGkYEP1h",
        "colab_type": "code",
        "colab": {}
      },
      "source": [
        "df.groupby('MUNICÍPIODERESIDÊNCIA').size().sort_values().tail(20).plot(kind='barh', figsize=(10,10))"
      ],
      "execution_count": 0,
      "outputs": []
    },
    {
      "cell_type": "markdown",
      "metadata": {
        "id": "23rOx1YCEP1i",
        "colab_type": "text"
      },
      "source": [
        "Fizemos algo semelhante em relação aos municípios, como são muitos, pegamos os últimos 20, que são os maiores\n",
        "\n",
        "**Exercício**\n",
        "\n",
        "O que você percebe de errado neste gráfico?"
      ]
    },
    {
      "cell_type": "code",
      "metadata": {
        "id": "baVmHIIZEP1j",
        "colab_type": "code",
        "colab": {}
      },
      "source": [
        "df.query('SERVIÇO == \"Exame\"')['MUNICÍPIODERESIDÊNCIA'].value_counts().head().plot(kind='barh')"
      ],
      "execution_count": 0,
      "outputs": []
    },
    {
      "cell_type": "markdown",
      "metadata": {
        "id": "xIgy310qEP1k",
        "colab_type": "text"
      },
      "source": [
        "Vamos entrevistar um subconjunto de dados relativos à Exames, quando fizemos groupby, estamos ainda com a base inteira, agrupada segundo um critério. Query cria um recorte, no caso de Exames. Aqui estamos usando value_counts, para o resultado da query, note que antes usamos size, que é mais geral."
      ]
    },
    {
      "cell_type": "code",
      "metadata": {
        "id": "Vi-oUkL1EP1l",
        "colab_type": "code",
        "colab": {}
      },
      "source": [
        "df.query('SERVIÇO == \"Exame\"')['MUNICÍPIODERESIDÊNCIA'].value_counts().head()"
      ],
      "execution_count": 0,
      "outputs": []
    },
    {
      "cell_type": "markdown",
      "metadata": {
        "id": "wlZYcrAqEP1m",
        "colab_type": "text"
      },
      "source": [
        "Muitas vezes precisamos ver os dados, não apenas em gráficos\n",
        "\n",
        "Como são as Estatísticas em relação às pessoas que usam o SUS? Quantos exames cada uma realizou naquele mês de novembro, na média, qual o máximo de exames, etc"
      ]
    },
    {
      "cell_type": "code",
      "metadata": {
        "id": "8hwLg2HQEP1n",
        "colab_type": "code",
        "colab": {}
      },
      "source": [
        "df.query('SERVIÇO == \"Exame\" and MUNICÍPIODERESIDÊNCIA == \"PALHOCA\"').DOCUMENTO.value_counts().describe()"
      ],
      "execution_count": 0,
      "outputs": []
    },
    {
      "cell_type": "markdown",
      "metadata": {
        "id": "4Q5EyKpgEP1q",
        "colab_type": "text"
      },
      "source": [
        "**Exercício**\n",
        "\n",
        "O que você acha de muito diferente em relação aos dados acima"
      ]
    },
    {
      "cell_type": "code",
      "metadata": {
        "id": "leq671xNEP1q",
        "colab_type": "code",
        "colab": {}
      },
      "source": [
        "df.query('SERVIÇO == \"Exame\" and MUNICÍPIODERESIDÊNCIA == \"PALHOCA\"').DOCUMENTO.value_counts().head()"
      ],
      "execution_count": 0,
      "outputs": []
    },
    {
      "cell_type": "markdown",
      "metadata": {
        "id": "9Et3421KEP1t",
        "colab_type": "text"
      },
      "source": [
        "Quais são os exames concretos, associados a esses identificadores"
      ]
    },
    {
      "cell_type": "code",
      "metadata": {
        "id": "TiogXPalEP1u",
        "colab_type": "code",
        "colab": {}
      },
      "source": [
        "df.query('DOCUMENTO == 704207709501384')[['DESCRIÇÃODOPROCEDIMENTO','DATADASOLICITAÇÃO', 'CENTRALDEREGULAÇÃO/RESPONSÁVEL', 'POSIÇÃO', 'CNESDACENTRALEXECUTANTE', 'CNESDAUNIDADESOLICITANTE']].sort_values(by='DESCRIÇÃODOPROCEDIMENTO').head(10)"
      ],
      "execution_count": 0,
      "outputs": []
    },
    {
      "cell_type": "markdown",
      "metadata": {
        "id": "wzUdJItOEP1v",
        "colab_type": "text"
      },
      "source": [
        "**Exercício**\n",
        "\n",
        "Verifique os dados acima e elabore uma hipótese para o problema de Santa Catarina"
      ]
    },
    {
      "cell_type": "code",
      "metadata": {
        "id": "ZdtZejCREP1w",
        "colab_type": "code",
        "colab": {}
      },
      "source": [
        "df.query('DOCUMENTO == 700603418445267')[['DESCRIÇÃODOPROCEDIMENTO','DATADASOLICITAÇÃO', 'CENTRALDEREGULAÇÃO/RESPONSÁVEL', 'POSIÇÃO', 'CNESDACENTRALEXECUTANTE', 'CNESDAUNIDADESOLICITANTE']].sort_values(by='DESCRIÇÃODOPROCEDIMENTO').head(10)"
      ],
      "execution_count": 0,
      "outputs": []
    },
    {
      "cell_type": "markdown",
      "metadata": {
        "id": "uyrEdO-XEP1z",
        "colab_type": "text"
      },
      "source": [
        "Observamos que nossa hipótese é comprovada nas maiores contagens, precisamos validar a hipótese analisado o dataset inteiro"
      ]
    },
    {
      "cell_type": "code",
      "metadata": {
        "id": "poL90lAHEP1z",
        "colab_type": "code",
        "colab": {}
      },
      "source": [
        "def deduplicate_stats(query=None):\n",
        "    if query:\n",
        "        df_tmp = df.query(query)\n",
        "    else:\n",
        "        df_tmp = df\n",
        "    total_rows = len(df_tmp)\n",
        "    unique_rows = len(df_tmp.groupby(['DOCUMENTO', 'DESCRIÇÃODOPROCEDIMENTO']))\n",
        "    unique_rows_same_date = len(df_tmp.groupby(['DOCUMENTO', 'DESCRIÇÃODOPROCEDIMENTO', 'DATADASOLICITAÇÃO']))\n",
        "    reducao_fila = (total_rows - unique_rows) / total_rows\n",
        "    print('           registros na fila:', total_rows)\n",
        "    print('    registros únicos na fila:', unique_rows)\n",
        "    print('          duplicados (total):', total_rows - unique_rows)\n",
        "    print('duplicados (mesmo timestamp):', total_rows - unique_rows_same_date)\n",
        "    print('    redução com deduplicação:', int(100*reducao_fila), '%')\n"
      ],
      "execution_count": 0,
      "outputs": []
    },
    {
      "cell_type": "markdown",
      "metadata": {
        "id": "YlwG5b69EP11",
        "colab_type": "text"
      },
      "source": [
        "Ao executar a célula carregamos nossa função. Ela recebe um argumento, caso não tenha sido passado nada, None, você irá usar toda a base, caso contrário, criar um dataframe temporário para a contagem. Queremos saber o número de duplicados gerais e os particulares, com mesma data e hora. Assim veremos se é um erro manual, ou algo sistêmico."
      ]
    },
    {
      "cell_type": "code",
      "metadata": {
        "id": "0D5AmgzJEP11",
        "colab_type": "code",
        "colab": {}
      },
      "source": [
        "deduplicate_stats('MUNICÍPIODERESIDÊNCIA == \"PALHOCA\"')"
      ],
      "execution_count": 0,
      "outputs": []
    },
    {
      "cell_type": "code",
      "metadata": {
        "id": "uejjDTuXEP14",
        "colab_type": "code",
        "colab": {}
      },
      "source": [
        "deduplicate_stats()"
      ],
      "execution_count": 0,
      "outputs": []
    },
    {
      "cell_type": "markdown",
      "metadata": {
        "id": "znaeVQpuEP16",
        "colab_type": "text"
      },
      "source": [
        "**Exercício**\n",
        "\n",
        "Verifique os municípios de FLORIANOPOLIS e JOINVILLE"
      ]
    },
    {
      "cell_type": "code",
      "metadata": {
        "id": "ON5XbfJ_EP16",
        "colab_type": "code",
        "colab": {}
      },
      "source": [
        ""
      ],
      "execution_count": 0,
      "outputs": []
    },
    {
      "cell_type": "code",
      "metadata": {
        "id": "8IaMeR-_EP17",
        "colab_type": "code",
        "colab": {}
      },
      "source": [
        ""
      ],
      "execution_count": 0,
      "outputs": []
    },
    {
      "cell_type": "markdown",
      "metadata": {
        "id": "2a-u61GMEP19",
        "colab_type": "text"
      },
      "source": [
        "Vamos voltar aos Dados Públicos da Câmara, via Pandas\n",
        "---------------"
      ]
    },
    {
      "cell_type": "code",
      "metadata": {
        "id": "mqmq262IEP19",
        "colab_type": "code",
        "colab": {}
      },
      "source": [
        "import pandas as pd\n",
        "low_memory=False\n",
        "%matplotlib inline\n",
        "pd.options.display.max_columns = 80\n",
        "pd.options.display.max_rows = 90\n",
        "\n",
        "filename = 'Ano-2019.csv'\n",
        "columns = ['txNomeParlamentar', \n",
        "                   'ideCadastro', \n",
        "                   'nuCarteiraParlamentar',\n",
        "                   'nuLegislatura', \n",
        "                   'sgUF', \n",
        "                   'sgPartido', \n",
        "                   'codLegislatura', \n",
        "                   'numSubCota',\n",
        "                   'txtDescricao', \n",
        "                   'numEspecificacaoSubCota', \n",
        "                   'txtDescricaoEspecificacao', \n",
        "                   'txtFornecedor',\n",
        "                   'txtCNPJCPF', \n",
        "                   'txtNumero', \n",
        "                   'indTipoDocumento',\n",
        "                   'datEmissao', \n",
        "                   'vlrDocumento', \n",
        "                   'vlrGlosa', \n",
        "                   'vlrLiquido', \n",
        "                   'numMes', \n",
        "                   'numAno', \n",
        "                   'numParcela', \n",
        "                   'txtPassageiro', \n",
        "                   'txtTrecho',\n",
        "                   'numLote', \n",
        "                   'numRessarcimento', \n",
        "                   'vlrRestituicao', \n",
        "                   'nuDeputadoId', \n",
        "                   'ideDocumento']\n",
        "df = pd.read_csv(filename, encoding='utf-8', sep=';', names = columns, decimal=',')\n",
        "df.shape"
      ],
      "execution_count": 0,
      "outputs": []
    },
    {
      "cell_type": "code",
      "metadata": {
        "id": "Ddna9CnYEP1_",
        "colab_type": "code",
        "colab": {}
      },
      "source": [
        "df.rename(columns={'txNomeParlamentar': 'NOME_PARLAMENTAR', \n",
        "                   'ideCadastro': 'ID_CADASTRO', \n",
        "                   'nuCarteiraParlamentar': 'NUMERO_CARTEIRA_PARLAMENTAR',\n",
        "                   'nuLegislatura': 'NUMERO_LEGISLATURA', \n",
        "                   'sgUF': 'UF', \n",
        "                   'sgPartido': 'PARTIDO', \n",
        "                   'codLegislatura': 'COD_LEGISLATURA', \n",
        "                   'numSubCota': 'NUMERO_SUB_COTA',\n",
        "                   'txtDescricao': 'DESCRICAO', \n",
        "                   'numEspecificacaoSubCota': 'NUMERO_ESPECIFICACAO_SUB_COTA', \n",
        "                   'txtDescricaoEspecificacao': 'DESCRICAO_ESPECIFICACAO', \n",
        "                   'txtFornecedor': 'FORNECEDOR',\n",
        "                   'txtCNPJCPF': 'CPF_CNPJ', \n",
        "                   'txtNumero': 'NUMERO', \n",
        "                   'indTipoDocumento': 'IND_TIPO_DOCUMENTO',\n",
        "                   'datEmissao': 'DATA_EMISSAO', \n",
        "                   'vlrDocumento': 'VALOR_DOCUMENTO', \n",
        "                   'vlrGlosa': 'VALOR_GLOSA', \n",
        "                   'vlrLiquido': 'VALOR_LIQUIDO', \n",
        "                   'numMes': 'NUMERO_MES', \n",
        "                   'numAno': 'ANO', \n",
        "                   'numParcela': 'NUMERO_PARCELA', \n",
        "                   'txtPassageiro': 'PASSAGEIRO', \n",
        "                   'txtTrecho': 'TRECHO',\n",
        "                   'numLote': 'NUMERO_LOTE', \n",
        "                   'numRessarcimento': 'NUMERO_RESSASRCIMENTO', \n",
        "                   'vlrRestituicao': 'VALOR_RESTITUICAO', \n",
        "                   'nuDeputadoId': 'ID_DEPUTADO', \n",
        "                   'ideDocumento': 'ID_DOCUMENTO'}, inplace=True)"
      ],
      "execution_count": 0,
      "outputs": []
    },
    {
      "cell_type": "code",
      "metadata": {
        "id": "4S6Ih754EP2A",
        "colab_type": "code",
        "colab": {}
      },
      "source": [
        "df.sample(10)"
      ],
      "execution_count": 0,
      "outputs": []
    },
    {
      "cell_type": "code",
      "metadata": {
        "id": "ewD7EeY2EP2E",
        "colab_type": "code",
        "colab": {}
      },
      "source": [
        "df.groupby('PARTIDO').size().sort_values().tail(20).plot(kind='barh', figsize=(10,10))"
      ],
      "execution_count": 0,
      "outputs": []
    },
    {
      "cell_type": "code",
      "metadata": {
        "id": "zilXayinEP2G",
        "colab_type": "code",
        "colab": {}
      },
      "source": [
        "#Parlamentares que mais registraram gastos \n",
        "pd.value_counts(df['NOME_PARLAMENTAR'])"
      ],
      "execution_count": 0,
      "outputs": []
    },
    {
      "cell_type": "code",
      "metadata": {
        "id": "wK8e6IiqEP2H",
        "colab_type": "code",
        "colab": {}
      },
      "source": [
        "df.query('NOME_PARLAMENTAR == \"EDUARDO BOLSONARO\"')['VALOR_LIQUIDO'].value_counts().head(30)"
      ],
      "execution_count": 0,
      "outputs": []
    },
    {
      "cell_type": "code",
      "metadata": {
        "id": "iS7dwZ4REP2L",
        "colab_type": "code",
        "colab": {}
      },
      "source": [
        "#Tipos de gastos\n",
        "df.groupby('DESCRICAO').size().sort_values().tail(20).plot(kind='barh', figsize=(10,10))"
      ],
      "execution_count": 0,
      "outputs": []
    },
    {
      "cell_type": "code",
      "metadata": {
        "id": "iAkEzKc2EP2N",
        "colab_type": "code",
        "colab": {}
      },
      "source": [
        "df.groupby('NOME_PARLAMENTAR').size().sort_values().tail(20).plot(kind='barh', figsize=(10,10))"
      ],
      "execution_count": 0,
      "outputs": []
    },
    {
      "cell_type": "markdown",
      "metadata": {
        "id": "dp2PXbF-EP2P",
        "colab_type": "text"
      },
      "source": [
        "Roubos de veículos em São José dos Campos\n",
        "-------------"
      ]
    },
    {
      "cell_type": "code",
      "metadata": {
        "id": "lni-SKUZEP2P",
        "colab_type": "code",
        "colab": {}
      },
      "source": [
        "import pandas as pd\n",
        "import os\n",
        "import matplotlib.pyplot as plt\n",
        "import matplotlib.cbook as cbook\n",
        "import matplotlib.ticker as ticker\n",
        "from datetime import datetime\n",
        "import folium\n",
        "from folium import plugins\n",
        "from folium.plugins import HeatMap\n",
        "\n",
        "%matplotlib inline"
      ],
      "execution_count": 0,
      "outputs": []
    },
    {
      "cell_type": "code",
      "metadata": {
        "id": "mt0SYGSGEP2Q",
        "colab_type": "code",
        "colab": {}
      },
      "source": [
        "dados_roubo = pd.read_csv(r'13_Roubo_de_Veiculos_2018.csv', low_memory=False,delimiter=';', encoding='iso-8859-1', decimal=',')\n",
        "dados_roubo.info()"
      ],
      "execution_count": 0,
      "outputs": []
    },
    {
      "cell_type": "code",
      "metadata": {
        "id": "tmdqtXQzEP2R",
        "colab_type": "code",
        "colab": {}
      },
      "source": [
        "dados_roubo.rename(columns={'DATAOCORRENCIA': 'DATA_DE_OCORRENCIA','DESCR_MARCA_VEICULO': 'MARCA_DO_VEICULO',\n",
        "                            'PERIDOOCORRENCIA':'PERIODO_DE_OCORRENCIA','DATAELABORACAO': 'DATA_DE_ELABORACAO'}, inplace=True)\n",
        "dados_roubo.sample(10)"
      ],
      "execution_count": 0,
      "outputs": []
    },
    {
      "cell_type": "code",
      "metadata": {
        "id": "aepIHj5gEP2T",
        "colab_type": "code",
        "colab": {}
      },
      "source": [
        "mapa = folium.Map([-23.208, -45.849], zoom_start=11)\n",
        "dados_roubo=dados_roubo.dropna(subset=['LATITUDE'])\n",
        "dados_roubo=dados_roubo.dropna(subset=['LONGITUDE'])\n",
        "local = dados_roubo[['LATITUDE', 'LONGITUDE']].values\n",
        "HeatMap(local).add_to(mapa)\n",
        "mapa"
      ],
      "execution_count": 0,
      "outputs": []
    },
    {
      "cell_type": "code",
      "metadata": {
        "id": "irJIMmCHEP2U",
        "colab_type": "code",
        "colab": {}
      },
      "source": [
        "dados_roubo['BAIRRO'].value_counts().head(10)"
      ],
      "execution_count": 0,
      "outputs": []
    },
    {
      "cell_type": "code",
      "metadata": {
        "id": "T7q6wGteEP2V",
        "colab_type": "code",
        "colab": {}
      },
      "source": [
        "dados_roubo.groupby('DESCR_COR_VEICULO').size().sort_values().tail(5).plot(kind='bar', figsize=(15,10), fontsize = 'medium')\n",
        "plt.title('CORES DE VEÍCULOS MAIS ROUBADOS - SJC (2018)')\n",
        "plt.ylabel('QUANTIDADE')\n",
        "plt.xlabel('CORES')\n",
        "plt.grid(True, which='major')"
      ],
      "execution_count": 0,
      "outputs": []
    },
    {
      "cell_type": "code",
      "metadata": {
        "id": "7X_fGHhKEP2V",
        "colab_type": "code",
        "colab": {}
      },
      "source": [
        ""
      ],
      "execution_count": 0,
      "outputs": []
    }
  ]
}