{
  "nbformat": 4,
  "nbformat_minor": 0,
  "metadata": {
    "colab": {
      "name": "emrsexoeidade.ipynb",
      "provenance": [],
      "authorship_tag": "ABX9TyNo1QoXDT5Fxw/in00lkA0m",
      "include_colab_link": true
    },
    "kernelspec": {
      "name": "python3",
      "display_name": "Python 3"
    },
    "language_info": {
      "name": "python"
    }
  },
  "cells": [
    {
      "cell_type": "markdown",
      "metadata": {
        "id": "view-in-github",
        "colab_type": "text"
      },
      "source": [
        "<a href=\"https://colab.research.google.com/github/MarcelaMonteiroMontenegroGallo/Python/blob/master/emrsexoeidade.ipynb\" target=\"_parent\"><img src=\"https://colab.research.google.com/assets/colab-badge.svg\" alt=\"Open In Colab\"/></a>"
      ]
    },
    {
      "cell_type": "code",
      "metadata": {
        "id": "kvvsoNqXcseG"
      },
      "source": [
        "from pyspark import SparkConf, SparkContext\n",
        "from pyspark.sql import SparkSession\n"
      ],
      "execution_count": null,
      "outputs": []
    },
    {
      "cell_type": "code",
      "metadata": {
        "id": "KK0x1cnAc54e"
      },
      "source": [
        "\n",
        "spark = SparkSession.builder.master(\"local\")\n",
        "        .config(conf=SparkConf()).getOrCreate()"
      ],
      "execution_count": null,
      "outputs": []
    },
    {
      "cell_type": "code",
      "metadata": {
        "id": "S5STwnaec9hF"
      },
      "source": [
        "\n",
        "df = spark.read.format(\"csv\")\n",
        "        .option(\"header\", \"true\")\n",
        "        .load(\"hdfs:///user-data-acg/user-data-*.csv\")"
      ],
      "execution_count": null,
      "outputs": []
    },
    {
      "cell_type": "code",
      "metadata": {
        "id": "Af0jjFRyc-tF"
      },
      "source": [
        "\n",
        "results = df.groupBy(\"`dob.age`\",\"`gender`\")\n",
        "            .count()\n",
        "            .orderBy(\"count\", ascending=False)"
      ],
      "execution_count": null,
      "outputs": []
    },
    {
      "cell_type": "code",
      "metadata": {
        "id": "bYSCd1IQdDgc"
      },
      "source": [
        "results.show()"
      ],
      "execution_count": null,
      "outputs": []
    },
    {
      "cell_type": "code",
      "metadata": {
        "id": "4rr6LcXJdFWQ"
      },
      "source": [
        "results.coalesce(1).write.csv(\"hdfs:///results\", sep=\",\", header=\"true\")"
      ],
      "execution_count": null,
      "outputs": []
    }
  ]
}