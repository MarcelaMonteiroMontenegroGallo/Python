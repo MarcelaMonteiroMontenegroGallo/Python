{
  "nbformat": 4,
  "nbformat_minor": 0,
  "metadata": {
    "colab": {
      "name": "API.ipynb",
      "provenance": [],
      "collapsed_sections": [],
      "include_colab_link": true
    },
    "kernelspec": {
      "name": "python3",
      "display_name": "Python 3"
    }
  },
  "cells": [
    {
      "cell_type": "markdown",
      "metadata": {
        "id": "view-in-github",
        "colab_type": "text"
      },
      "source": [
        "<a href=\"https://colab.research.google.com/github/MarcelaMonteiroMontenegroGallo/Python/blob/master/API.ipynb\" target=\"_parent\"><img src=\"https://colab.research.google.com/assets/colab-badge.svg\" alt=\"Open In Colab\"/></a>"
      ]
    },
    {
      "cell_type": "code",
      "metadata": {
        "id": "pP5iIzTjSVSI",
        "colab_type": "code",
        "colab": {}
      },
      "source": [
        "import pandas as pd\n",
        "import requests \n",
        "import json\n",
        "import boto3\n",
        "from pprint import pprint\n",
        "\n"
      ],
      "execution_count": 0,
      "outputs": []
    },
    {
      "cell_type": "code",
      "metadata": {
        "id": "SgIt2-55fRqT",
        "colab_type": "code",
        "colab": {}
      },
      "source": [
        "pd.options.display.max_rows = None\n",
        "pd.options.display.max_columns = None"
      ],
      "execution_count": 0,
      "outputs": []
    },
    {
      "cell_type": "code",
      "metadata": {
        "colab_type": "code",
        "outputId": "ce84b30b-81fb-4ec1-a9a0-d389ba721550",
        "id": "smIAQMpt4wMd",
        "colab": {
          "base_uri": "https://localhost:8080/",
          "height": 35
        }
      },
      "source": [
        "\n",
        "headers = {\n",
        "    'accept': 'application/json',\n",
        "    'Authorization': 'Bearer xxxxxxxx',\n",
        "}\n",
        "\n",
        "params = (\n",
        "    ('page', 1),\n",
        ")\n",
        "\n",
        "response = requests.get('xxxxxxxxxxxxx', headers=headers, params=params)\n",
        "\n",
        "\n",
        "response"
      ],
      "execution_count": 0,
      "outputs": [
        {
          "output_type": "execute_result",
          "data": {
            "text/plain": [
              "<Response [200]>"
            ]
          },
          "metadata": {
            "tags": []
          },
          "execution_count": 38
        }
      ]
    },
    {
      "cell_type": "code",
      "metadata": {
        "colab_type": "code",
        "id": "aM6Z4wVAJRaY",
        "colab": {}
      },
      "source": [
        "total_pages = meta['total_pages']"
      ],
      "execution_count": 0,
      "outputs": []
    },
    {
      "cell_type": "code",
      "metadata": {
        "id": "TJvqhN5RIM64",
        "colab_type": "code",
        "colab": {}
      },
      "source": [
        "total_pages"
      ],
      "execution_count": 0,
      "outputs": []
    },
    {
      "cell_type": "code",
      "metadata": {
        "colab_type": "code",
        "id": "N-tfmjdNP-iH",
        "colab": {}
      },
      "source": [
        "def get_api():\n",
        "\n",
        "    url_address = 'xxxxxxx' \n",
        "    headers = {\n",
        "    'accept': 'application/json',\n",
        "    'Authorization': 'Bearer xxxxxxxx',\n",
        "     }\n",
        "\n",
        "\n",
        "    # criar uma lista \n",
        "    api = []\n",
        "\n",
        "    # laço\n",
        "    for page in range(1, total_pages):\n",
        "\n",
        "        url = 'xxxxxxxxxx' \n",
        "        params = (\n",
        "        ('page', page),\n",
        "        )\n",
        "        response = requests.get(url=url, headers=headers , params=params).json()        \n",
        "        api.append(response)       \n",
        "        page += 1\n",
        "\n",
        "    # criar json\n",
        "    data = json.dumps(api, sort_keys=True, indent=4)\n",
        "\n",
        "    return data\n",
        "\n",
        "print(get_api())"
      ],
      "execution_count": 0,
      "outputs": []
    }
  ]
}