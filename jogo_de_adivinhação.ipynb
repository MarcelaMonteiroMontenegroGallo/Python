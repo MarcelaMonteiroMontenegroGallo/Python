{
  "nbformat": 4,
  "nbformat_minor": 0,
  "metadata": {
    "colab": {
      "name": "jogo de adivinhação.ipynb",
      "provenance": [],
      "include_colab_link": true
    },
    "kernelspec": {
      "name": "python3",
      "display_name": "Python 3"
    }
  },
  "cells": [
    {
      "cell_type": "markdown",
      "metadata": {
        "id": "view-in-github",
        "colab_type": "text"
      },
      "source": [
        "<a href=\"https://colab.research.google.com/github/MarcelaMonteiroMontenegroGallo/Python/blob/master/jogo_de_adivinha%C3%A7%C3%A3o.ipynb\" target=\"_parent\"><img src=\"https://colab.research.google.com/assets/colab-badge.svg\" alt=\"Open In Colab\"/></a>"
      ]
    },
    {
      "cell_type": "code",
      "metadata": {
        "id": "0X0s35_5SOW4",
        "colab_type": "code",
        "colab": {}
      },
      "source": [
        "import random \n"
      ],
      "execution_count": 0,
      "outputs": []
    },
    {
      "cell_type": "code",
      "metadata": {
        "id": "gTniziuUUGXi",
        "colab_type": "code",
        "colab": {}
      },
      "source": [
        "secretNumber =random.randint(1,20)"
      ],
      "execution_count": 0,
      "outputs": []
    },
    {
      "cell_type": "code",
      "metadata": {
        "id": "v98wFNRiUXPa",
        "colab_type": "code",
        "colab": {
          "base_uri": "https://localhost:8080/",
          "height": 34
        },
        "outputId": "6e46c182-809d-4332-a50e-a26ee05e651f"
      },
      "source": [
        "print('I am trinking of a number between 1 and 20')"
      ],
      "execution_count": 16,
      "outputs": [
        {
          "output_type": "stream",
          "text": [
            "I am trinking of a number between 1 and 20\n"
          ],
          "name": "stdout"
        }
      ]
    },
    {
      "cell_type": "markdown",
      "metadata": {
        "id": "Ud56qcu-UnMr",
        "colab_type": "text"
      },
      "source": [
        "Peça para o jogador adivinhar 6 vezes"
      ]
    },
    {
      "cell_type": "code",
      "metadata": {
        "id": "33Z0sfCSUvkx",
        "colab_type": "code",
        "colab": {
          "base_uri": "https://localhost:8080/",
          "height": 221
        },
        "outputId": "142cfd5c-b228-434a-878c-2d360247a110"
      },
      "source": [
        "for guessesTaken in range(1,7):\n",
        "  print('Take a guess')\n",
        "  guess = int(input())"
      ],
      "execution_count": 17,
      "outputs": [
        {
          "output_type": "stream",
          "text": [
            "Take a guess\n",
            "14\n",
            "Take a guess\n",
            "15\n",
            "Take a guess\n",
            "16\n",
            "Take a guess\n",
            "17\n",
            "Take a guess\n",
            "1\n",
            "Take a guess\n",
            "5\n"
          ],
          "name": "stdout"
        }
      ]
    },
    {
      "cell_type": "code",
      "metadata": {
        "id": "5DPNMgTIVT54",
        "colab_type": "code",
        "colab": {
          "base_uri": "https://localhost:8080/",
          "height": 34
        },
        "outputId": "d473953c-5298-40ac-d1c5-d9c85643f2a9"
      },
      "source": [
        "if guess == secretNumber:\n",
        "  print('Good job!You guessed my number in'+ str(guessesTaken)+ 'guesses!')\n",
        "else:\n",
        "  print('Nope. The number I was thinking of was '+ str(secretNumber))"
      ],
      "execution_count": 18,
      "outputs": [
        {
          "output_type": "stream",
          "text": [
            "Nope. The number I was thinking of was 6\n"
          ],
          "name": "stdout"
        }
      ]
    },
    {
      "cell_type": "markdown",
      "metadata": {
        "id": "N9LtDYOlUupx",
        "colab_type": "text"
      },
      "source": [
        ""
      ]
    }
  ]
}