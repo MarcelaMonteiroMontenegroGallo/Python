{
  "nbformat": 4,
  "nbformat_minor": 0,
  "metadata": {
    "colab": {
      "name": "Kinesis.ipynb",
      "provenance": [],
      "collapsed_sections": [],
      "include_colab_link": true
    },
    "kernelspec": {
      "display_name": "Python 3",
      "name": "python3"
    }
  },
  "cells": [
    {
      "cell_type": "markdown",
      "metadata": {
        "id": "view-in-github",
        "colab_type": "text"
      },
      "source": [
        "<a href=\"https://colab.research.google.com/github/MarcelaMonteiroMontenegroGallo/Python/blob/master/Kinesis.ipynb\" target=\"_parent\"><img src=\"https://colab.research.google.com/assets/colab-badge.svg\" alt=\"Open In Colab\"/></a>"
      ]
    },
    {
      "cell_type": "markdown",
      "metadata": {
        "id": "TCUb9HIugUF2"
      },
      "source": [
        "# Load a dataframe From File "
      ]
    },
    {
      "cell_type": "code",
      "metadata": {
        "id": "dM_7PzlGcPpg",
        "colab": {
          "base_uri": "https://localhost:8080/"
        },
        "outputId": "8b9734b4-2f2a-4cc1-e43b-73e0e2fb8345"
      },
      "source": [
        "\n",
        "!apt-get install openjdk-8-jdk-headless -qq > /dev/null\n",
        "!wget -q http://www-eu.apache.org/dist/spark/spark-2.4.8/spark-2.4.8-bin-hadoop2.7.tgz\n",
        "!tar xf spark-2.4.8-bin-hadoop2.7.tgz\n",
        "!pip install -q findspark\n",
        "!pip install -q pyspark"
      ],
      "execution_count": null,
      "outputs": [
        {
          "output_type": "stream",
          "text": [
            "\u001b[K     |████████████████████████████████| 212.4 MB 58 kB/s \n",
            "\u001b[K     |████████████████████████████████| 198 kB 35.9 MB/s \n",
            "\u001b[?25h  Building wheel for pyspark (setup.py) ... \u001b[?25l\u001b[?25hdone\n"
          ],
          "name": "stdout"
        }
      ]
    },
    {
      "cell_type": "code",
      "metadata": {
        "id": "lH_kYmAVZ3D3"
      },
      "source": [
        "import io\n"
      ],
      "execution_count": null,
      "outputs": []
    },
    {
      "cell_type": "code",
      "metadata": {
        "id": "WZrj_xkedMwD"
      },
      "source": [
        "import os\n",
        "os.environ[\"JAVA_HOME\"] = \"/usr/lib/jvm/java-8-openjdk-amd64\"\n",
        "os.environ[\"SPARK_HOME\"] = \"/content/spark-2.4.8-bin-hadoop2.7\""
      ],
      "execution_count": null,
      "outputs": []
    },
    {
      "cell_type": "code",
      "metadata": {
        "id": "fZqWthEncHfK"
      },
      "source": [
        "import findspark\n",
        "findspark.init()\n",
        "from pyspark.sql import SparkSession\n",
        "spark = SparkSession.builder.master(\"local[*]\").getOrCreate()"
      ],
      "execution_count": null,
      "outputs": []
    },
    {
      "cell_type": "code",
      "metadata": {
        "id": "ruhr3jjF8UA1"
      },
      "source": [
        "from pyspark.sql.types import * "
      ],
      "execution_count": null,
      "outputs": []
    },
    {
      "cell_type": "markdown",
      "metadata": {
        "id": "FygDHXSt-boJ"
      },
      "source": [
        "**Definir o schema**"
      ]
    },
    {
      "cell_type": "code",
      "metadata": {
        "id": "lyTVmFgU8afd"
      },
      "source": [
        "emp_schema = StructType([\n",
        "StructField('firstname', StringType()),   \n",
        "StructField('lastname', StringType()),\n",
        "StructField('personal_email', StringType()),             \n",
        "StructField('ssn', StringType()),\n",
        "StructField('office', StringType()),\n",
        "StructField('title', StringType()),\n",
        "StructField('gender', StringType()),\n",
        "StructField('org', StringType()),\n",
        "StructField('accrued_holidays', IntegerType()),\n",
        "StructField('salary', IntegerType()),\n",
        "StructField('bonus', IntegerType()),\n",
        "StructField('event_time', TimestampType())\n",
        "])"
      ],
      "execution_count": null,
      "outputs": []
    },
    {
      "cell_type": "markdown",
      "metadata": {
        "id": "TopamlMM-UOj"
      },
      "source": [
        "**Ler o fluxo do Kinesis Streams**"
      ]
    },
    {
      "cell_type": "code",
      "metadata": {
        "id": "S-4cQUVN-T_W"
      },
      "source": [
        "kinesisDf = spark\\\n",
        "  .readStream \\\n",
        "  .format(\"kinesis\")\\\n",
        "  .option(\"streamName\", \"Kinesis-Spark-Streaming-Analytics\")\\\n",
        "  .option(\"initialPosition\",\"earliest\")\\\n",
        "  .option(\"region\", \"us-east-1\") \\\n",
        "  .option(\"awsAccesskey\",\"\") \n",
        "  .option(\"awsSecretKey\",\"\")\n",
        "  .load()        \n",
        "            )\n"
      ],
      "execution_count": null,
      "outputs": []
    },
    {
      "cell_type": "markdown",
      "metadata": {
        "id": "6ablsTo9Pj1p"
      },
      "source": [
        "**Extraia dados e aplique o esquema**"
      ]
    },
    {
      "cell_type": "code",
      "metadata": {
        "id": "9TA_CTmSPdCT"
      },
      "source": [
        "from pyspark.sql.functions import * "
      ],
      "execution_count": null,
      "outputs": []
    },
    {
      "cell_type": "code",
      "metadata": {
        "id": "79BkIHAoP5d6"
      },
      "source": [
        "empdf =kinesisDF \\\n",
        "  .selectExpr(\"cast(data as STRING) jsonData\") \\\n",
        "  .select(from_json(\"jsonData\",emp_schema).alias(\"emp\")) \\\n",
        "  .select(\"emp.*\")\\"
      ],
      "execution_count": null,
      "outputs": []
    },
    {
      "cell_type": "markdown",
      "metadata": {
        "id": "Nz7gFrDZQnvR"
      },
      "source": [
        "**Definir função da janela**"
      ]
    },
    {
      "cell_type": "code",
      "metadata": {
        "id": "vWS4qpT3QmZ4"
      },
      "source": [
        "empcountsdf = (\n",
        "  empdf\n",
        "    .groupBy(\n",
        "      empdf.org,\n",
        "      window(empdf.event_time,\"1 minute\"))\n",
        "    .count()  \n",
        "    )"
      ],
      "execution_count": null,
      "outputs": []
    },
    {
      "cell_type": "markdown",
      "metadata": {
        "id": "qHr-z_WiTEwO"
      },
      "source": [
        "**Iniciar Spark Stream**\n",
        "\n",
        "\n"
      ]
    },
    {
      "cell_type": "code",
      "metadata": {
        "id": "-gGJl3QKTEg4"
      },
      "source": [
        "spark.conf.set(\"spark.sql.shuffle.partitions\". \"2\")\n",
        "\n",
        "query =(\n",
        "    empcountsdf\n",
        "      .writeStream\n",
        "      .format(\"memory\")\n",
        "      .queryname(\"counts\")\n",
        "      .outputMode(\"complete\")\n",
        "      .start()\n",
        ")"
      ],
      "execution_count": null,
      "outputs": []
    },
    {
      "cell_type": "markdown",
      "metadata": {
        "id": "a10pTPPsUaM8"
      },
      "source": [
        "**Resultados da Consulta**"
      ]
    },
    {
      "cell_type": "code",
      "metadata": {
        "id": "Jrvdf43KUXgO"
      },
      "source": [
        "spark.sql('select * fromn counts order by desc').show()"
      ],
      "execution_count": null,
      "outputs": []
    }
  ]
}