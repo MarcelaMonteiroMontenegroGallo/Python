{
  "nbformat": 4,
  "nbformat_minor": 0,
  "metadata": {
    "colab": {
      "name": "Reading multiple data files.ipynb",
      "version": "0.3.2",
      "provenance": [],
      "collapsed_sections": [],
      "include_colab_link": true
    },
    "kernelspec": {
      "name": "python3",
      "display_name": "Python 3"
    }
  },
  "cells": [
    {
      "cell_type": "markdown",
      "metadata": {
        "id": "view-in-github",
        "colab_type": "text"
      },
      "source": [
        "<a href=\"https://colab.research.google.com/github/MarcelaMonteiroMontenegroGallo/Python/blob/master/Reading_multiple_data_files.ipynb\" target=\"_parent\"><img src=\"https://colab.research.google.com/assets/colab-badge.svg\" alt=\"Open In Colab\"/></a>"
      ]
    },
    {
      "cell_type": "markdown",
      "metadata": {
        "id": "ReFY-xq_ZYdU",
        "colab_type": "text"
      },
      "source": [
        "**Loading separate Files**"
      ]
    },
    {
      "cell_type": "code",
      "metadata": {
        "id": "f1pBDVpxYo4b",
        "colab_type": "code",
        "colab": {}
      },
      "source": [
        "import pandas as pd \n",
        "\n",
        "dataframe0 =  pd.read_csv('sales_1.csv')\n",
        "\n",
        "dataframe0 =  pd.read_csv('sales_2.csv')"
      ],
      "execution_count": 0,
      "outputs": []
    },
    {
      "cell_type": "markdown",
      "metadata": {
        "id": "AjCkEBO7Z2SX",
        "colab_type": "text"
      },
      "source": [
        "**Using a loop**"
      ]
    },
    {
      "cell_type": "code",
      "metadata": {
        "id": "lUC-lq1lZ1tq",
        "colab_type": "code",
        "colab": {}
      },
      "source": [
        "filesnames =['sales_1.csv' , 'sales_2.csv']\n",
        "for f in filenames:\n",
        "dataframes.append(pd.read_csv(f))"
      ],
      "execution_count": 0,
      "outputs": []
    },
    {
      "cell_type": "markdown",
      "metadata": {
        "id": "zf94pIdwkcI0",
        "colab_type": "text"
      },
      "source": [
        "**Make a copy of gold: medals**"
      ]
    },
    {
      "cell_type": "code",
      "metadata": {
        "id": "soX-jGqPkYel",
        "colab_type": "code",
        "colab": {}
      },
      "source": [
        "\n",
        "medals =gold.copy()"
      ],
      "execution_count": 0,
      "outputs": []
    },
    {
      "cell_type": "markdown",
      "metadata": {
        "id": "BOC9YPeQd68S",
        "colab_type": "text"
      },
      "source": [
        "**Using a comprehension**"
      ]
    },
    {
      "cell_type": "code",
      "metadata": {
        "id": "PPmCWi47eDV3",
        "colab_type": "code",
        "colab": {}
      },
      "source": [
        "dataframes = [pd.read_csv(f) in filenames]"
      ],
      "execution_count": 0,
      "outputs": []
    },
    {
      "cell_type": "markdown",
      "metadata": {
        "colab_type": "text",
        "id": "7bIuqdFWewgR"
      },
      "source": [
        "**Using glob**"
      ]
    },
    {
      "cell_type": "code",
      "metadata": {
        "id": "kaqloaSxeiKn",
        "colab_type": "code",
        "colab": {}
      },
      "source": [
        "from glob import glob \n",
        "filenames = glob ('sales*.csv')"
      ],
      "execution_count": 0,
      "outputs": []
    },
    {
      "cell_type": "markdown",
      "metadata": {
        "id": "z9gVcowrevf3",
        "colab_type": "text"
      },
      "source": [
        "**Rename a colunas de acordo com outro dataset**\n",
        "\n",
        "\n",
        "\n"
      ]
    },
    {
      "cell_type": "code",
      "metadata": {
        "id": "viCILp26sBeE",
        "colab_type": "code",
        "colab": {}
      },
      "source": [
        "medals.columns = new_labels"
      ],
      "execution_count": 0,
      "outputs": []
    },
    {
      "cell_type": "markdown",
      "metadata": {
        "id": "i3erpEi7sIVW",
        "colab_type": "text"
      },
      "source": [
        "**Add columns 'Coluna' to dataframe**"
      ]
    },
    {
      "cell_type": "code",
      "metadata": {
        "id": "Tm4QcGkvsH_F",
        "colab_type": "code",
        "colab": {}
      },
      "source": [
        "medals['Bronze'] = bronze['Total']"
      ],
      "execution_count": 0,
      "outputs": []
    },
    {
      "cell_type": "markdown",
      "metadata": {
        "id": "Qg0ell2Fv6DA",
        "colab_type": "text"
      },
      "source": [
        "## **Medalhas nos jogos Olímpicos de verão**"
      ]
    },
    {
      "cell_type": "code",
      "metadata": {
        "id": "q0z1Wu81weNx",
        "colab_type": "code",
        "colab": {}
      },
      "source": [
        "# Import pandas\n",
        "import pandas as pd\n",
        "\n",
        "# Create file path: file_path\n",
        "file_path = 'Summer Olympic medallists 1896 to 2008 - EDITIONS.tsv'\n",
        "\n",
        "# Load DataFrame from file_path: editions\n",
        "editions = pd.read_csv(file_path, sep='\\t')\n",
        "\n",
        "# Extract the relevant columns: editions\n",
        "editions = editions[['Edition', 'Grand Total', 'City', 'Country']]\n",
        "\n",
        "# Print editions DataFrame\n",
        "print(editions)"
      ],
      "execution_count": 0,
      "outputs": []
    },
    {
      "cell_type": "code",
      "metadata": {
        "id": "MWBQ3D1X6_QC",
        "colab_type": "code",
        "colab": {}
      },
      "source": [
        "# Import pandas\n",
        "import pandas as pd\n",
        "\n",
        "# Create empty dictionary: medals_dict\n",
        "medals_dict = {}\n",
        "\n",
        "for year in editions['Edition']:\n",
        "\n",
        "    # Create the file path: file_path\n",
        "    file_path = 'summer_{:d}.csv'.format(year)\n",
        "    \n",
        "    # Load file_path into a DataFrame: medals_dict[year]\n",
        "    medals_dict[year] = pd.read_csv(file_path)\n",
        "    \n",
        "    # Extract relevant columns: medals_dict[year]\n",
        "    medals_dict[year] = medals_dict[year][['Athlete', 'NOC', 'Medal']]\n",
        "    \n",
        "    # Assign year to column 'Edition' of medals_dict\n",
        "    medals_dict[year]['Edition'] = year\n",
        "    \n",
        "# Concatenate medals_dict: medals\n",
        "medals = pd.concat(medals_dict, ignore_index=True)\n",
        "\n",
        "# Print first and last 5 rows of medals\n",
        "print(medals.head())\n",
        "print(medals.tail())"
      ],
      "execution_count": 0,
      "outputs": []
    },
    {
      "cell_type": "markdown",
      "metadata": {
        "id": "2XnyMSNa_uxX",
        "colab_type": "text"
      },
      "source": [
        "## **Pivot**\n",
        "\n",
        "\n"
      ]
    },
    {
      "cell_type": "code",
      "metadata": {
        "id": "lgoCR72M_26T",
        "colab_type": "code",
        "colab": {}
      },
      "source": [
        "# Create the DataFrame with the appropriate pivot table: by_city_day\n",
        "by_city_day = users.pivot_table(index='weekday',columns='city')"
      ],
      "execution_count": 0,
      "outputs": []
    }
  ]
}