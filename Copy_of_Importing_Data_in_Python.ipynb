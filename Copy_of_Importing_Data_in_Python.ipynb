{
  "nbformat": 4,
  "nbformat_minor": 0,
  "metadata": {
    "colab": {
      "name": "Copy of Importing Data in Python.ipynb",
      "version": "0.3.2",
      "provenance": [],
      "collapsed_sections": [],
      "include_colab_link": true
    },
    "kernelspec": {
      "name": "python3",
      "display_name": "Python 3"
    }
  },
  "cells": [
    {
      "cell_type": "markdown",
      "metadata": {
        "id": "view-in-github",
        "colab_type": "text"
      },
      "source": [
        "<a href=\"https://colab.research.google.com/github/MarcelaMonteiroMontenegroGallo/Python/blob/master/Copy_of_Importing_Data_in_Python.ipynb\" target=\"_parent\"><img src=\"https://colab.research.google.com/assets/colab-badge.svg\" alt=\"Open In Colab\"/></a>"
      ]
    },
    {
      "cell_type": "markdown",
      "metadata": {
        "id": "9qPPhL0OmNvm",
        "colab_type": "text"
      },
      "source": [
        "\n",
        " **Importing data from the Internet**\n",
        " "
      ]
    },
    {
      "cell_type": "code",
      "metadata": {
        "id": "AJsi5WVpmCMF",
        "colab_type": "code",
        "colab": {}
      },
      "source": [
        "from urllib.request import urlretrieve\n",
        "import pandas as pd"
      ],
      "execution_count": 0,
      "outputs": []
    },
    {
      "cell_type": "code",
      "metadata": {
        "id": "O5Y96nh7nnfp",
        "colab_type": "code",
        "colab": {}
      },
      "source": [
        "url = 'http://archive.ics.uci.edu/ml/machine-learning-databases/wine-quality/winequality-white.csv'"
      ],
      "execution_count": 0,
      "outputs": []
    },
    {
      "cell_type": "code",
      "metadata": {
        "id": "uPqVehjZn9Ee",
        "colab_type": "code",
        "outputId": "d794b424-9dda-44cd-9821-78f73947dfe4",
        "colab": {
          "base_uri": "https://localhost:8080/",
          "height": 34
        }
      },
      "source": [
        "urlretrieve(url , 'winequality-white.csv')"
      ],
      "execution_count": 0,
      "outputs": [
        {
          "output_type": "execute_result",
          "data": {
            "text/plain": [
              "('winequality-white.csv', <http.client.HTTPMessage at 0x7f3edf9be908>)"
            ]
          },
          "metadata": {
            "tags": []
          },
          "execution_count": 4
        }
      ]
    },
    {
      "cell_type": "code",
      "metadata": {
        "id": "X4QJNwMhoyZs",
        "colab_type": "code",
        "colab": {}
      },
      "source": [
        "df = pd.read_csv('winequality-whitte.csv', sep=';')\n",
        "print(df.head())"
      ],
      "execution_count": 0,
      "outputs": []
    },
    {
      "cell_type": "code",
      "metadata": {
        "id": "7qupdu8krQcW",
        "colab_type": "code",
        "colab": {}
      },
      "source": [
        "# Import package\n",
        "import pandas as pd\n",
        "\n",
        "# Assign url of file: url\n",
        "url='http://s3.amazonaws.com/assets.datacamp.com/course/importing_data_into_r/latitude.xls'\n",
        "\n",
        "# Read in all sheets of Excel file: xl\n",
        "xl= pd.read_excel(url ,sheetname =None)\n",
        "\n",
        "# Print the sheetnames to the shell\n",
        "print(xl.keys())\n",
        "\n",
        "# Print the head of the first sheet (using its name, NOT its index)\n",
        "print(xl['1700'].head())"
      ],
      "execution_count": 0,
      "outputs": []
    },
    {
      "cell_type": "markdown",
      "metadata": {
        "id": "vVIf-E9Zrl1r",
        "colab_type": "text"
      },
      "source": [
        "**HTTP requests to import files from the web**\n",
        "\n"
      ]
    },
    {
      "cell_type": "code",
      "metadata": {
        "id": "mQ_p2SSysWFD",
        "colab_type": "code",
        "colab": {}
      },
      "source": [
        "from urllib.request import urlopen , Request"
      ],
      "execution_count": 0,
      "outputs": []
    },
    {
      "cell_type": "code",
      "metadata": {
        "id": "H-rbFAT1shR7",
        "colab_type": "code",
        "colab": {}
      },
      "source": [
        "url = \"https://www.wikipedia.org/\"\n"
      ],
      "execution_count": 0,
      "outputs": []
    },
    {
      "cell_type": "code",
      "metadata": {
        "id": "DG1Bvluqsrb7",
        "colab_type": "code",
        "colab": {}
      },
      "source": [
        "request = Request(url)"
      ],
      "execution_count": 0,
      "outputs": []
    },
    {
      "cell_type": "code",
      "metadata": {
        "id": "vPFjWUwKs2KK",
        "colab_type": "code",
        "colab": {}
      },
      "source": [
        "response =urlopen(request)"
      ],
      "execution_count": 0,
      "outputs": []
    },
    {
      "cell_type": "code",
      "metadata": {
        "id": "-V4UbxaRs-MI",
        "colab_type": "code",
        "colab": {}
      },
      "source": [
        "html =response.read()\n"
      ],
      "execution_count": 0,
      "outputs": []
    },
    {
      "cell_type": "code",
      "metadata": {
        "id": "grPesw_ytJT6",
        "colab_type": "code",
        "colab": {}
      },
      "source": [
        "response.close()"
      ],
      "execution_count": 0,
      "outputs": []
    },
    {
      "cell_type": "markdown",
      "metadata": {
        "id": "02_6MGgftkXT",
        "colab_type": "text"
      },
      "source": [
        "**Get request using requests**"
      ]
    },
    {
      "cell_type": "code",
      "metadata": {
        "id": "AqzdgxmKtw2V",
        "colab_type": "code",
        "colab": {}
      },
      "source": [
        "import requests"
      ],
      "execution_count": 0,
      "outputs": []
    },
    {
      "cell_type": "code",
      "metadata": {
        "id": "oD4FgX6xt0_Z",
        "colab_type": "code",
        "colab": {}
      },
      "source": [
        "url = \"https://www.wikipedia.org/\""
      ],
      "execution_count": 0,
      "outputs": []
    },
    {
      "cell_type": "code",
      "metadata": {
        "id": "kaTQjgKjt7sp",
        "colab_type": "code",
        "colab": {}
      },
      "source": [
        "r= requests.get(url)"
      ],
      "execution_count": 0,
      "outputs": []
    },
    {
      "cell_type": "code",
      "metadata": {
        "id": "lADBUB9AuEaL",
        "colab_type": "code",
        "colab": {}
      },
      "source": [
        "text =r.text"
      ],
      "execution_count": 0,
      "outputs": []
    },
    {
      "cell_type": "code",
      "metadata": {
        "id": "1Rfoam1Nu6az",
        "colab_type": "code",
        "colab": {}
      },
      "source": [
        "# Import packages\n",
        "import requests\n",
        "from urllib.request import urlopen , Request\n",
        "\n",
        "# Specify the url\n",
        "url = \"http://www.datacamp.com/teach/documentation\"\n",
        "\n",
        "# This packages the request: request\n",
        "request = Request(url)\n",
        "\n",
        "# Sends the request and catches the response: response\n",
        "response =urlopen(request)\n",
        "\n",
        "# Print the datatype of response\n",
        "print(type(response))\n",
        "\n",
        "# Be polite and close the response!\n",
        "response.close()"
      ],
      "execution_count": 0,
      "outputs": []
    },
    {
      "cell_type": "code",
      "metadata": {
        "id": "ougjRkIMvgFf",
        "colab_type": "code",
        "colab": {}
      },
      "source": [
        "# Import packages\n",
        "from urllib.request import urlopen, Request\n",
        "\n",
        "# Specify the url\n",
        "url = \"http://www.datacamp.com/teach/documentation\"\n",
        "\n",
        "# This packages the request\n",
        "request = Request(url)\n",
        "\n",
        "# Sends the request and catches the response: response\n",
        "response =urlopen(request)\n",
        "\n",
        "# Extract the response: html\n",
        "\n",
        "html =response.read()\n",
        "# Print the html\n",
        "print(html)\n",
        "\n",
        "# Be polite and close the response!\n",
        "response.close()"
      ],
      "execution_count": 0,
      "outputs": []
    },
    {
      "cell_type": "markdown",
      "metadata": {
        "id": "bHldQ4q1s9fy",
        "colab_type": "text"
      },
      "source": [
        "**Scraping the web in Python**\n",
        "\n"
      ]
    },
    {
      "cell_type": "code",
      "metadata": {
        "id": "vQz515O_xwQa",
        "colab_type": "code",
        "colab": {}
      },
      "source": [
        "from bs4 importBeautifulSoup "
      ],
      "execution_count": 0,
      "outputs": []
    },
    {
      "cell_type": "code",
      "metadata": {
        "id": "PupodnzLx3S4",
        "colab_type": "code",
        "colab": {}
      },
      "source": [
        "import requests"
      ],
      "execution_count": 0,
      "outputs": []
    },
    {
      "cell_type": "code",
      "metadata": {
        "id": "eCgHXrsuyQTP",
        "colab_type": "code",
        "colab": {}
      },
      "source": [
        "url = 'https://www.crummy.com/software/BeautifulSoup'"
      ],
      "execution_count": 0,
      "outputs": []
    },
    {
      "cell_type": "code",
      "metadata": {
        "id": "xltUe_DLyiBq",
        "colab_type": "code",
        "colab": {}
      },
      "source": [
        "r = requests.get(url)"
      ],
      "execution_count": 0,
      "outputs": []
    },
    {
      "cell_type": "code",
      "metadata": {
        "id": "_4AyCJRFyoe3",
        "colab_type": "code",
        "colab": {}
      },
      "source": [
        "html_doc =r.text"
      ],
      "execution_count": 0,
      "outputs": []
    },
    {
      "cell_type": "code",
      "metadata": {
        "id": "gKDMraJ5ysoJ",
        "colab_type": "code",
        "colab": {}
      },
      "source": [
        "soup =Beaut"
      ],
      "execution_count": 0,
      "outputs": []
    },
    {
      "cell_type": "markdown",
      "metadata": {
        "id": "GpcRsjl8tvf4",
        "colab_type": "text"
      },
      "source": [
        ""
      ]
    },
    {
      "cell_type": "code",
      "metadata": {
        "id": "g_IHdK0JynzI",
        "colab_type": "code",
        "colab": {}
      },
      "source": [
        "# Import packages\n",
        "import requests\n",
        "from bs4 import BeautifulSoup\n",
        "\n",
        "# Specify url: url\n",
        "url = 'https://www.python.org/~guido/'\n",
        "\n",
        "\n",
        "# Package the request, send the request and catch the response: r\n",
        "\n",
        "r = requests.get(url)\n",
        "# Extracts the response as html: html_doc\n",
        "html_doc =r.text\n",
        "\n",
        "# Create a BeautifulSoup object from the HTML: soup\n",
        "soup =BeautifulSoup(html_doc)\n",
        "\n",
        "# Prettify the BeautifulSoup object: pretty_soup\n",
        "pretty_soup = soup.prettify()\n",
        "\n",
        "# Print the response\n",
        "print(pretty_soup)"
      ],
      "execution_count": 0,
      "outputs": []
    },
    {
      "cell_type": "code",
      "metadata": {
        "id": "071SSyPa16xc",
        "colab_type": "code",
        "colab": {}
      },
      "source": [
        "# Import packages\n",
        "import requests\n",
        "from bs4 import BeautifulSoup\n",
        "\n",
        "# Specify url: url\n",
        "url = 'https://www.python.org/~guido/'\n",
        "\n",
        "# Package the request, send the request and catch the response: r\n",
        "r = requests.get(url)\n",
        "\n",
        "# Extract the response as html: html_doc\n",
        "html_doc = r.text\n",
        "\n",
        "# Create a BeautifulSoup object from the HTML: soup\n",
        "\n",
        "soup =BeautifulSoup(html_doc)\n",
        "\n",
        "# Get the title of Guido's webpage: guido_title\n",
        "guido_title = soup.title\n",
        "\n",
        "# Print the title of Guido's webpage to the shell\n",
        "print(guido_title)\n",
        "\n",
        "# Get Guido's text: guido_text\n",
        "guido_text =soup. so\n",
        "\n",
        "# Print Guido's text to the shell\n",
        "print(guido_text)"
      ],
      "execution_count": 0,
      "outputs": []
    },
    {
      "cell_type": "code",
      "metadata": {
        "id": "OkIBGHFg24y_",
        "colab_type": "code",
        "colab": {}
      },
      "source": [
        "# Import packages\n",
        "import requests\n",
        "from bs4 import BeautifulSoup\n",
        "\n",
        "# Specify url\n",
        "url = 'https://www.python.org/~guido/'\n",
        "\n",
        "# Package the request, send the request and catch the response: r\n",
        "r = requests.get(url)\n",
        "\n",
        "# Extracts the response as html: html_doc\n",
        "html_doc = r.text\n",
        "\n",
        "# create a BeautifulSoup object from the HTML: soup\n",
        "soup = BeautifulSoup(html_doc)\n",
        "\n",
        "# Print the title of Guido's webpage\n",
        "print(soup.title)\n",
        "\n",
        "# Find all 'a' tags (which define hyperlinks): a_tags\n",
        "a_tags = soup.find_all('a')\n",
        "\n",
        "# Print the URLs to the shell\n",
        "for link in a_tags:\n",
        "    print(link.get('href'))"
      ],
      "execution_count": 0,
      "outputs": []
    },
    {
      "cell_type": "markdown",
      "metadata": {
        "id": "P1BvRuXg7bU8",
        "colab_type": "text"
      },
      "source": [
        "**Introduction to APIs and JSONs**\n"
      ]
    },
    {
      "cell_type": "code",
      "metadata": {
        "id": "TWQqiy-t7i8M",
        "colab_type": "code",
        "colab": {}
      },
      "source": [
        "import json\n",
        "with open('snakes.json', r) as json_file:\n",
        "     json_data =json.load(json_file)\n",
        "    \n",
        "    type(json_data)\n",
        "    dict\n",
        "    \n",
        "    \n",
        "    for key, value in json_data.items():\n",
        "        print(key+ ';', value)"
      ],
      "execution_count": 0,
      "outputs": []
    },
    {
      "cell_type": "code",
      "metadata": {
        "id": "oq_w42jp9m4S",
        "colab_type": "code",
        "colab": {}
      },
      "source": [
        "# Load JSON: json_data\n",
        "with open(\"a_movie.json\") as json_file:\n",
        "    json_data = json.load(json_file)\n",
        "\n",
        "# Print each key-value pair in json_data\n",
        "for k in json_data.keys():\n",
        "    print(k + ': ', json_data[k])"
      ],
      "execution_count": 0,
      "outputs": []
    },
    {
      "cell_type": "code",
      "metadata": {
        "id": "onS0J49n-Rnt",
        "colab_type": "code",
        "colab": {}
      },
      "source": [
        "for k in json_data.keys():\n",
        "    print('Title', 'Year' + ': ', json_data[k])"
      ],
      "execution_count": 0,
      "outputs": []
    },
    {
      "cell_type": "markdown",
      "metadata": {
        "id": "4z8wYjqM-sZc",
        "colab_type": "text"
      },
      "source": [
        "**APIs and interacting with the world wide web**\n"
      ]
    },
    {
      "cell_type": "code",
      "metadata": {
        "id": "I_De1go4CugE",
        "colab_type": "code",
        "colab": {
          "base_uri": "https://localhost:8080/",
          "height": 54
        },
        "outputId": "9122b7fa-2130-4b3f-f994-9ba414a88151"
      },
      "source": [
        "# Import requests package\n",
        "import requests\n",
        "\n",
        "# Assign URL to variable: url\n",
        "url ='http://www.omdbapi.com/?apikey=72bc447a&t=the+social+network'\n",
        "\n",
        "# Package the request, send the request and catch the response: r\n",
        "r= requests.get(url)\n",
        "\n",
        "# Print the text of the response\n",
        "print(r.text)\n"
      ],
      "execution_count": 9,
      "outputs": [
        {
          "output_type": "stream",
          "text": [
            "{\"Title\":\"The Social Network\",\"Year\":\"2010\",\"Rated\":\"PG-13\",\"Released\":\"01 Oct 2010\",\"Runtime\":\"120 min\",\"Genre\":\"Biography, Drama\",\"Director\":\"David Fincher\",\"Writer\":\"Aaron Sorkin (screenplay), Ben Mezrich (book)\",\"Actors\":\"Jesse Eisenberg, Rooney Mara, Bryan Barter, Dustin Fitzsimons\",\"Plot\":\"As Harvard student Mark Zuckerberg creates the social networking site that would become known as Facebook, he is sued by the twins who claimed he stole their idea, and by the co-founder who was later squeezed out of the business.\",\"Language\":\"English, French\",\"Country\":\"USA\",\"Awards\":\"Won 3 Oscars. Another 165 wins & 168 nominations.\",\"Poster\":\"https://m.media-amazon.com/images/M/MV5BOGUyZDUxZjEtMmIzMC00MzlmLTg4MGItZWJmMzBhZjE0Mjc1XkEyXkFqcGdeQXVyMTMxODk2OTU@._V1_SX300.jpg\",\"Ratings\":[{\"Source\":\"Internet Movie Database\",\"Value\":\"7.7/10\"},{\"Source\":\"Rotten Tomatoes\",\"Value\":\"96%\"},{\"Source\":\"Metacritic\",\"Value\":\"95/100\"}],\"Metascore\":\"95\",\"imdbRating\":\"7.7\",\"imdbVotes\":\"574,061\",\"imdbID\":\"tt1285016\",\"Type\":\"movie\",\"DVD\":\"11 Jan 2011\",\"BoxOffice\":\"$96,400,000\",\"Production\":\"Columbia Pictures\",\"Website\":\"http://www.thesocialnetwork-movie.com/\",\"Response\":\"True\"}\n"
          ],
          "name": "stdout"
        }
      ]
    },
    {
      "cell_type": "code",
      "metadata": {
        "id": "hZgOvBqTDUQV",
        "colab_type": "code",
        "colab": {
          "base_uri": "https://localhost:8080/",
          "height": 462
        },
        "outputId": "b18bc018-9f72-4b1b-9c94-31f40f7150f6"
      },
      "source": [
        "# Import package\n",
        "import requests\n",
        "\n",
        "# Assign URL to variable: url\n",
        "url = 'http://www.omdbapi.com/?apikey=72bc447a&t=social+network'\n",
        "\n",
        "# Package the request, send the request and catch the response: r\n",
        "r = requests.get(url)\n",
        "\n",
        "# Decode the JSON data into a dictionary: json_data\n",
        "json_data = r.json()\n",
        "\n",
        "# Print each key-value pair in json_data\n",
        "for k in json_data.keys():\n",
        "    print(k + ': ', json_data[k])\n"
      ],
      "execution_count": 8,
      "outputs": [
        {
          "output_type": "stream",
          "text": [
            "Title:  The Social Network\n",
            "Year:  2010\n",
            "Rated:  PG-13\n",
            "Released:  01 Oct 2010\n",
            "Runtime:  120 min\n",
            "Genre:  Biography, Drama\n",
            "Director:  David Fincher\n",
            "Writer:  Aaron Sorkin (screenplay), Ben Mezrich (book)\n",
            "Actors:  Jesse Eisenberg, Rooney Mara, Bryan Barter, Dustin Fitzsimons\n",
            "Plot:  As Harvard student Mark Zuckerberg creates the social networking site that would become known as Facebook, he is sued by the twins who claimed he stole their idea, and by the co-founder who was later squeezed out of the business.\n",
            "Language:  English, French\n",
            "Country:  USA\n",
            "Awards:  Won 3 Oscars. Another 165 wins & 168 nominations.\n",
            "Poster:  https://m.media-amazon.com/images/M/MV5BOGUyZDUxZjEtMmIzMC00MzlmLTg4MGItZWJmMzBhZjE0Mjc1XkEyXkFqcGdeQXVyMTMxODk2OTU@._V1_SX300.jpg\n",
            "Ratings:  [{'Source': 'Internet Movie Database', 'Value': '7.7/10'}, {'Source': 'Rotten Tomatoes', 'Value': '96%'}, {'Source': 'Metacritic', 'Value': '95/100'}]\n",
            "Metascore:  95\n",
            "imdbRating:  7.7\n",
            "imdbVotes:  574,061\n",
            "imdbID:  tt1285016\n",
            "Type:  movie\n",
            "DVD:  11 Jan 2011\n",
            "BoxOffice:  $96,400,000\n",
            "Production:  Columbia Pictures\n",
            "Website:  http://www.thesocialnetwork-movie.com/\n",
            "Response:  True\n"
          ],
          "name": "stdout"
        }
      ]
    },
    {
      "cell_type": "code",
      "metadata": {
        "id": "065pd5x1FvbU",
        "colab_type": "code",
        "colab": {
          "base_uri": "https://localhost:8080/",
          "height": 139
        },
        "outputId": "7c45b3a0-0593-4d58-e729-509ccef3b567"
      },
      "source": [
        "# Import package\n",
        "import requests\n",
        "\n",
        "# Assign URL to variable: url\n",
        "url = 'https://en.wikipedia.org/w/api.php?action=query&prop=extracts&format=json&exintro=&titles=pizza'\n",
        "\n",
        "# Package the request, send the request and catch the response: r\n",
        "r = requests.get(url)\n",
        "\n",
        "# Decode the JSON data into a dictionary: json_data\n",
        "json_data = r.json()\n",
        "\n",
        "# Print the Wikipedia page extract\n",
        "pizza_extract = json_data['query']['pages']['24768']['extract']\n",
        "print(pizza_extract)\n"
      ],
      "execution_count": 10,
      "outputs": [
        {
          "output_type": "stream",
          "text": [
            "<p class=\"mw-empty-elt\">\n",
            "</p>\n",
            "\n",
            "<p><b>Pizza</b> (<small>Italian: </small><span title=\"Representation in the International Phonetic Alphabet (IPA)\">[ˈpittsa]</span>, <small>Neapolitan: </small><span title=\"Representation in the International Phonetic Alphabet (IPA)\">[ˈpittsə]</span>) is a savory dish of Italian origin, consisting of a usually round, flattened base of leavened wheat-based dough topped with tomatoes, cheese, and various other ingredients (anchovies, olives, meat, etc.) baked at a high temperature, traditionally in a wood-fired oven. In formal settings, like a restaurant, pizza is eaten with knife and fork, but in casual settings it is cut into wedges to be eaten while held in the hand. Small pizzas are sometimes called pizzettas.\n",
            "</p><p>The term <i>pizza</i> was first recorded in the 10th century in a Latin manuscript from the Southern Italian town of Gaeta in Lazio, on the border with Campania. Modern pizza was invented in Naples, and the dish and its variants have since become popular in many countries. It has become one of the most popular foods in the world and a common fast food item in Europe and North America, available at pizzerias (restaurants specializing in pizza),  restaurants offering Mediterranean cuisine, and via pizza delivery. Many companies sell ready-baked frozen pizzas to be reheated in an ordinary home oven.\n",
            "</p><p>The <i>Associazione Verace Pizza Napoletana</i> (lit. True Neapolitan Pizza Association) is a non-profit organization founded in 1984 with headquarters in Naples that aims to promote traditional Neapolitan pizza. In 2009, upon Italy's request, Neapolitan pizza was registered with the European Union as a Traditional Speciality Guaranteed dish, and in 2017 the art of its making was included on UNESCO's list of intangible cultural heritage.</p>\n"
          ],
          "name": "stdout"
        }
      ]
    }
  ]
}