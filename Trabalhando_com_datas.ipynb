{
  "nbformat": 4,
  "nbformat_minor": 0,
  "metadata": {
    "colab": {
      "name": "Trabalhando com datas.ipynb",
      "provenance": [],
      "include_colab_link": true
    },
    "kernelspec": {
      "name": "python3",
      "display_name": "Python 3"
    }
  },
  "cells": [
    {
      "cell_type": "markdown",
      "metadata": {
        "id": "view-in-github",
        "colab_type": "text"
      },
      "source": [
        "<a href=\"https://colab.research.google.com/github/MarcelaMonteiroMontenegroGallo/Python/blob/master/Trabalhando_com_datas.ipynb\" target=\"_parent\"><img src=\"https://colab.research.google.com/assets/colab-badge.svg\" alt=\"Open In Colab\"/></a>"
      ]
    },
    {
      "cell_type": "code",
      "metadata": {
        "id": "B7H-y6UCGFrj",
        "colab_type": "code",
        "colab": {}
      },
      "source": [
        "# Import date from datetime\n",
        "from datetime import date\n",
        "\n",
        "# Create a date object\n",
        "hurricane_andrew = date(1992, 8, 26)\n",
        "\n",
        "# Which day of the week is the date?\n",
        "print(hurricane_andrew.weekday())"
      ],
      "execution_count": 0,
      "outputs": []
    }
  ]
}