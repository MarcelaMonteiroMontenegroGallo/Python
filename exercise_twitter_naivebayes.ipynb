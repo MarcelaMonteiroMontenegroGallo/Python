{
  "nbformat": 4,
  "nbformat_minor": 0,
  "metadata": {
    "colab": {
      "name": "exercise-twitter-naivebayes.ipynb",
      "provenance": [],
      "collapsed_sections": [],
      "include_colab_link": true
    },
    "kernelspec": {
      "name": "python3",
      "display_name": "Python 3"
    }
  },
  "cells": [
    {
      "cell_type": "markdown",
      "metadata": {
        "id": "view-in-github",
        "colab_type": "text"
      },
      "source": [
        "<a href=\"https://colab.research.google.com/github/MarcelaMonteiroMontenegroGallo/Python/blob/master/exercise_twitter_naivebayes.ipynb\" target=\"_parent\"><img src=\"https://colab.research.google.com/assets/colab-badge.svg\" alt=\"Open In Colab\"/></a>"
      ]
    },
    {
      "cell_type": "code",
      "metadata": {
        "id": "mrcygyxjakoq",
        "colab_type": "code",
        "colab": {}
      },
      "source": [
        "# Install dependencies\n",
        "!pip3 install -q numpy scipy \n",
        "!pip3 install --upgrade -q gspread"
      ],
      "execution_count": 0,
      "outputs": []
    },
    {
      "cell_type": "code",
      "metadata": {
        "id": "02IkCsuJnHNR",
        "colab_type": "code",
        "colab": {}
      },
      "source": [
        "import pandas as pd\n",
        "from sklearn.feature_extraction.text import CountVectorizer, TfidfTransformer\n"
      ],
      "execution_count": 0,
      "outputs": []
    },
    {
      "cell_type": "code",
      "metadata": {
        "id": "5FYB5VCplUdM",
        "colab_type": "code",
        "colab": {}
      },
      "source": [
        "# Auth GDrive\n",
        "from google.colab import auth\n",
        "auth.authenticate_user()\n",
        "\n",
        "import gspread\n",
        "from oauth2client.client import GoogleCredentials\n",
        "\n",
        "gc = gspread.authorize(GoogleCredentials.get_application_default())"
      ],
      "execution_count": 0,
      "outputs": []
    },
    {
      "cell_type": "code",
      "metadata": {
        "id": "ebwA197tSSps",
        "colab_type": "code",
        "colab": {}
      },
      "source": [
        "# Load data to DF.\n",
        "sh = gc.open('twitter')\n",
        "natal_sheet = sh.get_worksheet(0)\n",
        "halloween_sheet = sh.get_worksheet(1)\n",
        "\n",
        "# get_all_values gives a list of rows.\n",
        "dict_ = {'text': [], 'label': []}\n",
        "for row in natal_sheet.get_all_values():\n",
        "  dict_['text'].append(row[0])\n",
        "  dict_['label'].append(0)\n",
        "\n",
        "for row in halloween_sheet.get_all_values():\n",
        "  dict_['text'].append(row[0])\n",
        "  dict_['label'].append(1)\n",
        "\n",
        "  \n",
        "df = pd.DataFrame(dict_)\n",
        "\n",
        "df"
      ],
      "execution_count": 0,
      "outputs": []
    },
    {
      "cell_type": "code",
      "metadata": {
        "id": "KXclSfDMSm9M",
        "colab_type": "code",
        "colab": {}
      },
      "source": [
        "# Creating TDIDF Matrix\n",
        "count_vect = CountVectorizer()\n",
        "\n",
        "X_TF = count_vect.fit_transform(df['text'])\n",
        "\n",
        "tfidf_transformer = TfidfTransformer()\n",
        "X = tfidf_transformer.fit_transform(X_TF)\n",
        "print(type(X))\n",
        "print(X.shape)\n",
        "print(X)\n"
      ],
      "execution_count": 0,
      "outputs": []
    },
    {
      "cell_type": "code",
      "metadata": {
        "id": "qUJ0YpUGe67z",
        "colab_type": "code",
        "colab": {}
      },
      "source": [
        "# Train ML\n",
        "from sklearn.naive_bayes import MultinomialNB\n",
        "clf = MultinomialNB().fit(X_TF, df['label'])"
      ],
      "execution_count": 0,
      "outputs": []
    },
    {
      "cell_type": "code",
      "metadata": {
        "id": "TVJcpUaLhqUz",
        "colab_type": "code",
        "outputId": "0d93ec69-828d-4a76-eed7-08a2c643d057",
        "colab": {
          "base_uri": "https://localhost:8080/",
          "height": 68
        }
      },
      "source": [
        "# Predict\n",
        "docs_new = ['christmas is the best holiday ever', 'santa claus is real', 'people die in halloween']\n",
        "X_new_counts = count_vect.transform(docs_new)\n",
        "X_new_tfidf = tfidf_transformer.transform(X_new_counts)\n",
        "\n",
        "predicted = clf.predict(X_new_tfidf)\n",
        "\n",
        "for doc, category in zip(docs_new, predicted):\n",
        "   print('%r => %s' % (doc, (\"natal\" if category == 0 else \"halloween\")))"
      ],
      "execution_count": 0,
      "outputs": [
        {
          "output_type": "stream",
          "text": [
            "'christmas is the best holiday ever' => natal\n",
            "'santa claus is real' => natal\n",
            "'people die in halloween' => halloween\n"
          ],
          "name": "stdout"
        }
      ]
    },
    {
      "cell_type": "markdown",
      "metadata": {
        "id": "Ew8iYqkqWuVE",
        "colab_type": "text"
      },
      "source": [
        "# New Section"
      ]
    }
  ]
}