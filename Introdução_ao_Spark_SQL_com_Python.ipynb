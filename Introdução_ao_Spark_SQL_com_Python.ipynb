{
  "nbformat": 4,
  "nbformat_minor": 0,
  "metadata": {
    "colab": {
      "name": "Introdução ao Spark SQL com Python.ipynb",
      "version": "0.3.2",
      "provenance": [],
      "collapsed_sections": [],
      "include_colab_link": true
    },
    "kernelspec": {
      "name": "python3",
      "display_name": "Python 3"
    }
  },
  "cells": [
    {
      "cell_type": "markdown",
      "metadata": {
        "id": "view-in-github",
        "colab_type": "text"
      },
      "source": [
        "<a href=\"https://colab.research.google.com/github/MarcelaMonteiroMontenegroGallo/Python/blob/master/Introdu%C3%A7%C3%A3o_ao_Spark_SQL_com_Python.ipynb\" target=\"_parent\"><img src=\"https://colab.research.google.com/assets/colab-badge.svg\" alt=\"Open In Colab\"/></a>"
      ]
    },
    {
      "cell_type": "markdown",
      "metadata": {
        "id": "TCUb9HIugUF2",
        "colab_type": "text"
      },
      "source": [
        "# Load a dataframe From File "
      ]
    },
    {
      "cell_type": "markdown",
      "metadata": {
        "id": "4IKS0f4_f1mH",
        "colab_type": "text"
      },
      "source": [
        "**Criando e consultando uma tabela SQL no Spark**\n"
      ]
    },
    {
      "cell_type": "code",
      "metadata": {
        "id": "qapX2k0nfsWG",
        "colab_type": "code",
        "colab": {}
      },
      "source": [
        "df= spark.read.csv(filename , head = True)"
      ],
      "execution_count": 0,
      "outputs": []
    },
    {
      "cell_type": "markdown",
      "metadata": {
        "id": "tGHmjVq2gwQb",
        "colab_type": "text"
      },
      "source": [
        " **Create SQL table and query it**"
      ]
    },
    {
      "cell_type": "code",
      "metadata": {
        "id": "tUoUNaBXgYYk",
        "colab_type": "code",
        "colab": {}
      },
      "source": [
        "df.createOrReplaceTempView(\"schedule\")\n",
        "spark.sql(\"Select * FROM schedule where station = 'San Jose'\").show"
      ],
      "execution_count": 0,
      "outputs": []
    },
    {
      "cell_type": "markdown",
      "metadata": {
        "id": "38-D0ULQhxqI",
        "colab_type": "text"
      },
      "source": [
        " **Inspecting table schemat**"
      ]
    },
    {
      "cell_type": "code",
      "metadata": {
        "id": "5XS7YafqguXf",
        "colab_type": "code",
        "colab": {}
      },
      "source": [
        "result =spark.sql(\"Show Columns from Tablename\")\n",
        "result.show()"
      ],
      "execution_count": 0,
      "outputs": []
    },
    {
      "cell_type": "markdown",
      "metadata": {
        "id": "9EDqLTJhkPjA",
        "colab_type": "text"
      },
      "source": [
        "**Over clause and Order By Clause**"
      ]
    },
    {
      "cell_type": "code",
      "metadata": {
        "id": "0oj_9-v1rA4J",
        "colab_type": "code",
        "colab": {}
      },
      "source": [
        "query = \"\"\"\n",
        "SELECT train_id, station, time, diff_min,\n",
        "SUM(diff_min) OVER (PARTITION BY train_id ORDER BY time) AS running_total\n",
        "FROM schedule\n",
        "\"\"\"\n",
        "spark.sql(query).show()"
      ],
      "execution_count": 0,
      "outputs": []
    },
    {
      "cell_type": "markdown",
      "metadata": {
        "id": "_KDgMpjkrceQ",
        "colab_type": "text"
      },
      "source": [
        " **Two ways to rename a column**"
      ]
    },
    {
      "cell_type": "code",
      "metadata": {
        "id": "IzoxVvJqxY9q",
        "colab_type": "code",
        "colab": {}
      },
      "source": [
        "df.select('train_id','station')\n",
        ".withColumnRenamed('train_id','station')\n",
        ".show(5)"
      ],
      "execution_count": 0,
      "outputs": []
    },
    {
      "cell_type": "markdown",
      "metadata": {
        "id": "fWHKmG2srAix",
        "colab_type": "text"
      },
      "source": [
        ""
      ]
    },
    {
      "cell_type": "code",
      "metadata": {
        "id": "oDTlv7Y-xVVh",
        "colab_type": "code",
        "colab": {}
      },
      "source": [
        ""
      ],
      "execution_count": 0,
      "outputs": []
    },
    {
      "cell_type": "markdown",
      "metadata": {
        "id": "CmgRPYa4ik9A",
        "colab_type": "text"
      },
      "source": [
        ""
      ]
    },
    {
      "cell_type": "markdown",
      "metadata": {
        "id": "o5n-P8X1ia23",
        "colab_type": "text"
      },
      "source": [
        ""
      ]
    },
    {
      "cell_type": "code",
      "metadata": {
        "id": "Af4wMzahf1KH",
        "colab_type": "code",
        "colab": {}
      },
      "source": [
        ""
      ],
      "execution_count": 0,
      "outputs": []
    },
    {
      "cell_type": "code",
      "metadata": {
        "id": "rpOYEH9Pq_0c",
        "colab_type": "code",
        "colab": {}
      },
      "source": [
        ""
      ],
      "execution_count": 0,
      "outputs": []
    }
  ]
}