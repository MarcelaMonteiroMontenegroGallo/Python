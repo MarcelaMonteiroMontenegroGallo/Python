{
  "nbformat": 4,
  "nbformat_minor": 0,
  "metadata": {
    "colab": {
      "name": "exercise-cosine-similarity.ipynb",
      "provenance": [],
      "collapsed_sections": [],
      "include_colab_link": true
    },
    "kernelspec": {
      "name": "python3",
      "display_name": "Python 3"
    }
  },
  "cells": [
    {
      "cell_type": "markdown",
      "metadata": {
        "id": "view-in-github",
        "colab_type": "text"
      },
      "source": [
        "<a href=\"https://colab.research.google.com/github/MarcelaMonteiroMontenegroGallo/Python/blob/master/exercise_cosine_similarity.ipynb\" target=\"_parent\"><img src=\"https://colab.research.google.com/assets/colab-badge.svg\" alt=\"Open In Colab\"/></a>"
      ]
    },
    {
      "cell_type": "code",
      "metadata": {
        "id": "mrcygyxjakoq",
        "colab_type": "code",
        "colab": {}
      },
      "source": [
        "# Install dependencies\n",
        "!pip3 install -q numpy scipy nltk"
      ],
      "execution_count": 0,
      "outputs": []
    },
    {
      "cell_type": "code",
      "metadata": {
        "id": "ARIEsBcOhnbt",
        "colab_type": "code",
        "outputId": "8269434b-6bca-4d5a-c4b6-eb11b1c3853c",
        "colab": {
          "base_uri": "https://localhost:8080/",
          "height": 69
        }
      },
      "source": [
        "# Train ML\n",
        "from sklearn.metrics.pairwise import cosine_similarity\n",
        "from sklearn.feature_extraction.text import TfidfVectorizer\n",
        "from nltk.corpus import stopwords\n",
        "\n",
        "import nltk\n",
        "nltk.download('stopwords')"
      ],
      "execution_count": 0,
      "outputs": [
        {
          "output_type": "stream",
          "text": [
            "[nltk_data] Downloading package stopwords to /root/nltk_data...\n",
            "[nltk_data]   Package stopwords is already up-to-date!\n"
          ],
          "name": "stdout"
        },
        {
          "output_type": "execute_result",
          "data": {
            "text/plain": [
              "True"
            ]
          },
          "metadata": {
            "tags": []
          },
          "execution_count": 28
        }
      ]
    },
    {
      "cell_type": "code",
      "metadata": {
        "id": "pmtXw9XVIRm_",
        "colab_type": "code",
        "outputId": "75f61f44-d1d5-47f2-a138-02f4a876ecd1",
        "colab": {
          "base_uri": "https://localhost:8080/",
          "height": 105
        }
      },
      "source": [
        "# Bring in standard stopwords\n",
        "stopWords = stopwords.words('portuguese')\n",
        "\n",
        "print (\"\\nCalculating document similarity scores...\")\n",
        "\n",
        "# Open and read a bunch of files \n",
        "doc1 = \"O Corinthians é o melhor time do mundo!\"\n",
        "doc2 = \"O Corinthians foi campeão do mundo\"\n",
        "doc3 = \"O Corinthians foi campeão com um ótimo time!\" \n",
        "\n",
        "# Create a string to use to test the similarity scoring\n",
        "#test_string = \"Palmeiras não tem mundial\"\n",
        "test_string = \"O Corinthians campeão mundo\"\n",
        "\n",
        "# Construct the training set as a list\n",
        "train_set = [test_string, doc1, doc2, doc3]\n",
        "\n",
        "# Set up the vectoriser, passing in the stop words\n",
        "tfidf_vectorizer = TfidfVectorizer(stop_words=stopWords)\n",
        "\n",
        "# Apply the vectoriser to the training set\n",
        "tfidf_matrix_train = tfidf_vectorizer.fit_transform(train_set)\n",
        "\n",
        "# Print the score\n",
        "result = cosine_similarity(tfidf_matrix_train[0:1], tfidf_matrix_train)\n",
        "print (\"\\nSimilarity Score [*] \", result)"
      ],
      "execution_count": 0,
      "outputs": [
        {
          "output_type": "stream",
          "text": [
            "\n",
            "Calculating document similarity scores...\n",
            "\n",
            "Similarity Score [*]  [[1.         0.42973872 1.         0.42973872]]\n",
            "<class 'scipy.sparse.csr.csr_matrix'>\n"
          ],
          "name": "stdout"
        }
      ]
    }
  ]
}