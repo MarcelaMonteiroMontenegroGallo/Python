{
  "nbformat": 4,
  "nbformat_minor": 0,
  "metadata": {
    "colab": {
      "name": "Airflow.ipynb",
      "provenance": [],
      "authorship_tag": "ABX9TyP9womHVLQ7l+Uzw4xTMWxS",
      "include_colab_link": true
    },
    "kernelspec": {
      "display_name": "Python 3",
      "name": "python3"
    }
  },
  "cells": [
    {
      "cell_type": "markdown",
      "metadata": {
        "id": "view-in-github",
        "colab_type": "text"
      },
      "source": [
        "<a href=\"https://colab.research.google.com/github/MarcelaMonteiroMontenegroGallo/Python/blob/master/Airflow.ipynb\" target=\"_parent\"><img src=\"https://colab.research.google.com/assets/colab-badge.svg\" alt=\"Open In Colab\"/></a>"
      ]
    },
    {
      "cell_type": "code",
      "metadata": {
        "id": "HZPdsQBuhhxv"
      },
      "source": [
        "from airflow.models import DAG\r\n",
        "from datetime import datetime"
      ],
      "execution_count": null,
      "outputs": []
    },
    {
      "cell_type": "markdown",
      "metadata": {
        "id": "7DsrkXwKwdkW"
      },
      "source": [
        "Simple DAG definition"
      ]
    },
    {
      "cell_type": "code",
      "metadata": {
        "id": "LVhNuKT8agNk"
      },
      "source": [
        "etl_dag = DAG(\r\n",
        "    dag_id = 'etl_pipeline',\r\n",
        "    default_args={\"start_date\":2020-01-08\"}\r\n",
        ")"
      ],
      "execution_count": null,
      "outputs": []
    },
    {
      "cell_type": "code",
      "metadata": {
        "id": "GLIWxqyjiv8g"
      },
      "source": [
        "# Define the default_args dictionary\r\n",
        "default_args = {\r\n",
        "  'owner': 'dsmith',\r\n",
        "  'start_date': datetime(2020, 1, 14),\r\n",
        "  'retries': 2\r\n",
        "}\r\n"
      ],
      "execution_count": null,
      "outputs": []
    },
    {
      "cell_type": "markdown",
      "metadata": {
        "id": "jZll2HPvry69"
      },
      "source": [
        ""
      ]
    },
    {
      "cell_type": "markdown",
      "metadata": {
        "id": "RjEZXz8xq4Xz"
      },
      "source": [
        "BashOperator\r\n"
      ]
    },
    {
      "cell_type": "code",
      "metadata": {
        "id": "-nmxLC00rkKu"
      },
      "source": [
        "from airflow.operators.bash_operator import BashOperator"
      ],
      "execution_count": null,
      "outputs": []
    },
    {
      "cell_type": "code",
      "metadata": {
        "id": "uWKwkXvbq3K9"
      },
      "source": [
        "BashOperator(\r\n",
        "    task_id='bash_exemaplo',\r\n",
        "    bash_command ='runcleanup.sh',\r\n",
        "    dag=ml_dag\r\n",
        ")"
      ],
      "execution_count": null,
      "outputs": []
    },
    {
      "cell_type": "code",
      "metadata": {
        "colab": {
          "background_save": true
        },
        "id": "IOTfqmV6abbw"
      },
      "source": [
        ""
      ],
      "execution_count": null,
      "outputs": []
    },
    {
      "cell_type": "code",
      "metadata": {
        "id": "V9JevxWsgD1G"
      },
      "source": [
        ""
      ],
      "execution_count": null,
      "outputs": []
    }
  ]
}