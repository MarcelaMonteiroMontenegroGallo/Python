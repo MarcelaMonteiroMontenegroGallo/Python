{
  "nbformat": 4,
  "nbformat_minor": 0,
  "metadata": {
    "colab": {
      "name": "Airflow.ipynb",
      "provenance": [],
      "collapsed_sections": [],
      "authorship_tag": "ABX9TyOJ7un0+rZKa+93JUQRq93V",
      "include_colab_link": true
    },
    "kernelspec": {
      "display_name": "Python 3",
      "name": "python3"
    }
  },
  "cells": [
    {
      "cell_type": "markdown",
      "metadata": {
        "id": "view-in-github",
        "colab_type": "text"
      },
      "source": [
        "<a href=\"https://colab.research.google.com/github/MarcelaMonteiroMontenegroGallo/Python/blob/master/Airflow.ipynb\" target=\"_parent\"><img src=\"https://colab.research.google.com/assets/colab-badge.svg\" alt=\"Open In Colab\"/></a>"
      ]
    },
    {
      "cell_type": "code",
      "metadata": {
        "id": "HZPdsQBuhhxv"
      },
      "source": [
        "from airflow.models import DAG\n",
        "from datetime import datetime"
      ],
      "execution_count": null,
      "outputs": []
    },
    {
      "cell_type": "markdown",
      "metadata": {
        "id": "7DsrkXwKwdkW"
      },
      "source": [
        "Simple DAG definition"
      ]
    },
    {
      "cell_type": "code",
      "metadata": {
        "id": "LVhNuKT8agNk"
      },
      "source": [
        "etl_dag = DAG(\n",
        "    dag_id = 'etl_pipeline',\n",
        "    default_args={\"start_date\":2020-01-08\"}\n",
        ")"
      ],
      "execution_count": null,
      "outputs": []
    },
    {
      "cell_type": "code",
      "metadata": {
        "id": "GLIWxqyjiv8g"
      },
      "source": [
        "# Define the default_args dictionary\n",
        "default_args = {\n",
        "  'owner': 'dsmith',\n",
        "  'start_date': datetime(2020, 1, 14),\n",
        "  'retries': 2\n",
        "}\n"
      ],
      "execution_count": null,
      "outputs": []
    },
    {
      "cell_type": "markdown",
      "metadata": {
        "id": "jZll2HPvry69"
      },
      "source": [
        ""
      ]
    },
    {
      "cell_type": "markdown",
      "metadata": {
        "id": "RjEZXz8xq4Xz"
      },
      "source": [
        "BashOperator\n"
      ]
    },
    {
      "cell_type": "code",
      "metadata": {
        "id": "-nmxLC00rkKu"
      },
      "source": [
        "from airflow.operators.bash_operator import BashOperator"
      ],
      "execution_count": null,
      "outputs": []
    },
    {
      "cell_type": "code",
      "metadata": {
        "id": "uWKwkXvbq3K9"
      },
      "source": [
        "BashOperator(\n",
        "    task_id='bash_exemaplo',\n",
        "    bash_command ='runcleanup.sh',\n",
        "    dag=ml_dag\n",
        ")"
      ],
      "execution_count": null,
      "outputs": []
    },
    {
      "cell_type": "code",
      "metadata": {
        "colab": {
          "background_save": true
        },
        "id": "IOTfqmV6abbw"
      },
      "source": [
        "bash_task = BashOperator (task_id= 'clean_addresses',\n",
        "                          bash_command= 'cat addresses.txt'| awk =\"NF==10\" > cleaned.txt, \n",
        "                          dag=dag)"
      ],
      "execution_count": null,
      "outputs": []
    },
    {
      "cell_type": "code",
      "metadata": {
        "id": "hlrgEr1suGXl"
      },
      "source": [
        "# Import the BashOperator\n",
        "from airflow.operators.bash_operator import BashOperator\n",
        "\n",
        "# Define the BashOperator \n",
        "cleanup = BashOperator(\n",
        "    task_id='cleanup_task',\n",
        "    # Define the bash_command\n",
        "    bash_command='cleanup.sh',\n",
        "    # Add the task to the dag\n",
        "    dag=analytics_dag\n",
        ")\n"
      ],
      "execution_count": null,
      "outputs": []
    },
    {
      "cell_type": "code",
      "metadata": {
        "id": "zEKOJjkyKBMi"
      },
      "source": [
        "# Define a second operator to run the `consolidate_data.sh` script\n",
        "consolidate = BashOperator(\n",
        "    task_id='consolidate_task',\n",
        "    bash_command='consolidate_data.sh',\n",
        "    dag=analytics_dag)\n",
        "\n",
        "# Define a final operator to execute the `push_data.sh` script\n",
        "push_data = BashOperator(\n",
        "    task_id='pushdata_task',\n",
        "    bash_command='push_data.sh',\n",
        "    dag=analytics_dag)\n"
      ],
      "execution_count": null,
      "outputs": []
    },
    {
      "cell_type": "code",
      "metadata": {
        "id": "qXlujRIQ20d7"
      },
      "source": [
        "from airflow.operators.python_operator import PythonOperator"
      ],
      "execution_count": null,
      "outputs": []
    },
    {
      "cell_type": "code",
      "metadata": {
        "id": "V9JevxWsgD1G"
      },
      "source": [
        "def printme():\n",
        "  print(\"This goes in the logs!\")"
      ],
      "execution_count": null,
      "outputs": []
    },
    {
      "cell_type": "markdown",
      "metadata": {
        "id": "5iewk1yh3fML"
      },
      "source": [
        "op_kwargs example\n"
      ]
    },
    {
      "cell_type": "code",
      "metadata": {
        "id": "VZADtiHv3c96"
      },
      "source": [
        "def sleep(length_of_time):\n",
        "  time.sleep(length_of_time)"
      ],
      "execution_count": null,
      "outputs": []
    },
    {
      "cell_type": "code",
      "metadata": {
        "id": "QRiKX6jk34kx"
      },
      "source": [
        "sleep_task = PythonOperator(\n",
        "    task_id='sleep',\n",
        "    python_callable= sleep,\n",
        "    op_kwargs={'length_of_time':5}\n",
        "    dag=example_dag\n",
        ")"
      ],
      "execution_count": null,
      "outputs": []
    },
    {
      "cell_type": "markdown",
      "metadata": {
        "id": "EaBuWG4U4jKM"
      },
      "source": [
        "Email Operator\n"
      ]
    },
    {
      "cell_type": "code",
      "metadata": {
        "id": "7MI3Zdsu4ng2"
      },
      "source": [
        "from airflow.operators.email_operator import EmailOperator\n"
      ],
      "execution_count": null,
      "outputs": []
    },
    {
      "cell_type": "code",
      "metadata": {
        "id": "LYibb4yx42xB"
      },
      "source": [
        "email_task =EmailOperator (\n",
        "    task_id ='email_sales_report',\n",
        "    to='sales_manager@example.com',\n",
        "    subject ='Automated Sales Report',\n",
        "    html_content ='Attached is lastest sales report',\n",
        "    files ='latest_sales.xlsx',\n",
        "    dag= example_dag\n",
        ")"
      ],
      "execution_count": null,
      "outputs": []
    },
    {
      "cell_type": "code",
      "metadata": {
        "id": "jEJhDcjL74YB"
      },
      "source": [
        "def pull_file(URL, savepath):\n",
        "    r = requests.get(URL)\n",
        "    with open(savepath, 'wb') as f:\n",
        "        f.write(r.content)   \n",
        "    # Use the print method for logging\n",
        "    print(f\"File pulled from {URL} and saved to {savepath}\")\n",
        "\n",
        "from airflow.operators.python_operator import PythonOperator\n",
        "\n",
        "# Create the task\n",
        "pull_file_task = PythonOperator(\n",
        "    task_id='pull_file',\n",
        "    # Add the callable\n",
        "    python_callable=pull_file,\n",
        "    # Define the arguments\n",
        "    op_kwargs={'URL':'http://dataserver/sales.json', 'savepath':'latestsales.json'},\n",
        "    dag=process_sales_dag\n",
        ")"
      ],
      "execution_count": null,
      "outputs": []
    }
  ]
}