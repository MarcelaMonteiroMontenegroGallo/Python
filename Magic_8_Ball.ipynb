{
  "nbformat": 4,
  "nbformat_minor": 0,
  "metadata": {
    "colab": {
      "name": "Magic 8 Ball.ipynb",
      "provenance": [],
      "include_colab_link": true
    },
    "kernelspec": {
      "name": "python3",
      "display_name": "Python 3"
    }
  },
  "cells": [
    {
      "cell_type": "markdown",
      "metadata": {
        "id": "view-in-github",
        "colab_type": "text"
      },
      "source": [
        "<a href=\"https://colab.research.google.com/github/MarcelaMonteiroMontenegroGallo/Python/blob/master/Magic_8_Ball.ipynb\" target=\"_parent\"><img src=\"https://colab.research.google.com/assets/colab-badge.svg\" alt=\"Open In Colab\"/></a>"
      ]
    },
    {
      "cell_type": "code",
      "metadata": {
        "id": "23Fi65CfYFcM",
        "colab_type": "code",
        "colab": {}
      },
      "source": [
        "import random \n"
      ],
      "execution_count": 0,
      "outputs": []
    },
    {
      "cell_type": "code",
      "metadata": {
        "id": "uuXhqXFTihYx",
        "colab_type": "code",
        "colab": {}
      },
      "source": [
        "messages =['it is certain', 'It is decidedly so', 'Yes definitely',\n",
        "'Reply hazy try again',\n",
        "'Ask again later',\n",
        "'Concentrate and ask again',\n",
        "'My reply is no',\n",
        "'Outlook not so good',\n",
        "'Very doubtful']"
      ],
      "execution_count": 0,
      "outputs": []
    },
    {
      "cell_type": "code",
      "metadata": {
        "id": "825bpslMvlGH",
        "colab_type": "code",
        "colab": {
          "base_uri": "https://localhost:8080/",
          "height": 34
        },
        "outputId": "b04aa4e6-8502-47dc-a64c-9f00b4504b80"
      },
      "source": [
        "print(messages[random.randint(0,len(messages)-1)])"
      ],
      "execution_count": 13,
      "outputs": [
        {
          "output_type": "stream",
          "text": [
            "it is certain\n"
          ],
          "name": "stdout"
        }
      ]
    }
  ]
}