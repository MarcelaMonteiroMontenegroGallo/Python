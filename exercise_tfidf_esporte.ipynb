{
  "nbformat": 4,
  "nbformat_minor": 0,
  "metadata": {
    "colab": {
      "name": "exercise_tfidf_esporte.ipynb",
      "provenance": [],
      "collapsed_sections": [],
      "include_colab_link": true
    },
    "kernelspec": {
      "name": "python3",
      "display_name": "Python 3"
    }
  },
  "cells": [
    {
      "cell_type": "markdown",
      "metadata": {
        "id": "view-in-github",
        "colab_type": "text"
      },
      "source": [
        "<a href=\"https://colab.research.google.com/github/MarcelaMonteiroMontenegroGallo/Python/blob/master/exercise_tfidf_esporte.ipynb\" target=\"_parent\"><img src=\"https://colab.research.google.com/assets/colab-badge.svg\" alt=\"Open In Colab\"/></a>"
      ]
    },
    {
      "cell_type": "code",
      "metadata": {
        "id": "mrcygyxjakoq",
        "colab_type": "code",
        "colab": {}
      },
      "source": [
        "# Install dependencies\n",
        "!pip3 install -q numpy scipy\n",
        "!pip3 install --upgrade -q gspread"
      ],
      "execution_count": 0,
      "outputs": []
    },
    {
      "cell_type": "code",
      "metadata": {
        "id": "ebwA197tSSps",
        "colab_type": "code",
        "colab": {}
      },
      "source": [
        "# Auth GDrive\n",
        "from google.colab import auth\n",
        "auth.authenticate_user()\n",
        "\n",
        "import gspread\n",
        "from oauth2client.client import GoogleCredentials\n",
        "\n",
        "gc = gspread.authorize(GoogleCredentials.get_application_default())"
      ],
      "execution_count": 0,
      "outputs": []
    },
    {
      "cell_type": "code",
      "metadata": {
        "id": "-RgiIBtQ4F7d",
        "colab_type": "code",
        "outputId": "77e92a08-9e90-423b-a4ec-a3d71129d214",
        "colab": {
          "base_uri": "https://localhost:8080/",
          "height": 54
        }
      },
      "source": [
        "# Open our new sheet and read some data.\n",
        "worksheet = gc.open('esportes').sheet1\n",
        "\n",
        "# get_all_values gives a list of rows.\n",
        "rows = worksheet.get_all_values()\n",
        "print(rows)"
      ],
      "execution_count": 0,
      "outputs": [
        {
          "output_type": "stream",
          "text": [
            "[['esporte', 'esporte ID', 'texto'], ['futebol', '1', 'O futebol é mais do que uma paixão nacional: é uma paixão mundial! Ainda que nós, brasileiros, quiséssemos que o futebol fosse uma invenção nacional, o mérito de sua criação é da Inglaterra. Esse esporte ganhou suas formas modernas no final do século XIX.'], ['futebol', '1', 'O comentarista Walter Casagrande Jr, da TV Globo, se posicionou nesta terça-feira (8 de maio), no programa Globo Esporte SP, sobre a questão que gera tanto debate entre torcedores do Palmeiras e dos rivais: afinal, o Palmeiras tem ou não tem Mundial?'], ['basquete', '2', 'O basquete, como é conhecido no Brasil, é um esporte criado em 1891 pelo pastor canadense presbiteriano e também professor de educação física da Associação Cristã de Moços, James Naismith. O nome em inglês, basketball, significa bola no cesto. É um dos esportes mais populares do mundo.'], ['basquete', '2', 'O jogo é disputado por duas equipes de cinco jogadores que tem por objetivo passar a bola por dentro do cesto disposto nas extremidades do campo. Os cestos ficam a uma altura de três metros e cinco centímetros. Os jogadores batem a bola contra o chão caminhando dentro do campo, podendo repassá-la a um jogador da equipe.'], ['tenis', '3', 'Tênis é um esporte praticado entre dois oponentes ou duas duplas de oponentes em uma quadra dividida por uma rede, onde os jogadores usam raquetes para rebater uma pequena bola de um lado para o outro. '], ['tenis', '3', 'O tênis possui uma pontuação que o subdivide em games/jogos e sets/partidas. Um game é um conjunto de pontos e um set é um conjunto de games.']]\n"
          ],
          "name": "stdout"
        }
      ]
    },
    {
      "cell_type": "code",
      "metadata": {
        "id": "fYHV49EG4Sb2",
        "colab_type": "code",
        "outputId": "79e241d1-70e7-4f30-b76c-9608aa39ab5b",
        "colab": {
          "base_uri": "https://localhost:8080/",
          "height": 235
        }
      },
      "source": [
        "# Convert to a DataFrame and render.\n",
        "import pandas as pd\n",
        "cols = ['esporte', 'esporte ID', 'texto']\n",
        "df = pd.DataFrame.from_records(rows, columns = cols)\n",
        "\n",
        "# Remove header\n",
        "df = df.iloc[1:]\n",
        "\n",
        "df"
      ],
      "execution_count": 0,
      "outputs": [
        {
          "output_type": "execute_result",
          "data": {
            "text/html": [
              "<div>\n",
              "<style scoped>\n",
              "    .dataframe tbody tr th:only-of-type {\n",
              "        vertical-align: middle;\n",
              "    }\n",
              "\n",
              "    .dataframe tbody tr th {\n",
              "        vertical-align: top;\n",
              "    }\n",
              "\n",
              "    .dataframe thead th {\n",
              "        text-align: right;\n",
              "    }\n",
              "</style>\n",
              "<table border=\"1\" class=\"dataframe\">\n",
              "  <thead>\n",
              "    <tr style=\"text-align: right;\">\n",
              "      <th></th>\n",
              "      <th>esporte</th>\n",
              "      <th>esporte ID</th>\n",
              "      <th>texto</th>\n",
              "    </tr>\n",
              "  </thead>\n",
              "  <tbody>\n",
              "    <tr>\n",
              "      <th>1</th>\n",
              "      <td>futebol</td>\n",
              "      <td>1</td>\n",
              "      <td>O futebol é mais do que uma paixão nacional: é...</td>\n",
              "    </tr>\n",
              "    <tr>\n",
              "      <th>2</th>\n",
              "      <td>futebol</td>\n",
              "      <td>1</td>\n",
              "      <td>O comentarista Walter Casagrande Jr, da TV Glo...</td>\n",
              "    </tr>\n",
              "    <tr>\n",
              "      <th>3</th>\n",
              "      <td>basquete</td>\n",
              "      <td>2</td>\n",
              "      <td>O basquete, como é conhecido no Brasil, é um e...</td>\n",
              "    </tr>\n",
              "    <tr>\n",
              "      <th>4</th>\n",
              "      <td>basquete</td>\n",
              "      <td>2</td>\n",
              "      <td>O jogo é disputado por duas equipes de cinco j...</td>\n",
              "    </tr>\n",
              "    <tr>\n",
              "      <th>5</th>\n",
              "      <td>tenis</td>\n",
              "      <td>3</td>\n",
              "      <td>Tênis é um esporte praticado entre dois oponen...</td>\n",
              "    </tr>\n",
              "    <tr>\n",
              "      <th>6</th>\n",
              "      <td>tenis</td>\n",
              "      <td>3</td>\n",
              "      <td>O tênis possui uma pontuação que o subdivide e...</td>\n",
              "    </tr>\n",
              "  </tbody>\n",
              "</table>\n",
              "</div>"
            ],
            "text/plain": [
              "    esporte esporte ID                                              texto\n",
              "1   futebol          1  O futebol é mais do que uma paixão nacional: é...\n",
              "2   futebol          1  O comentarista Walter Casagrande Jr, da TV Glo...\n",
              "3  basquete          2  O basquete, como é conhecido no Brasil, é um e...\n",
              "4  basquete          2  O jogo é disputado por duas equipes de cinco j...\n",
              "5     tenis          3  Tênis é um esporte praticado entre dois oponen...\n",
              "6     tenis          3  O tênis possui uma pontuação que o subdivide e..."
            ]
          },
          "metadata": {
            "tags": []
          },
          "execution_count": 13
        }
      ]
    },
    {
      "cell_type": "code",
      "metadata": {
        "id": "gpflI08QhlUY",
        "colab_type": "code",
        "outputId": "ec80647f-14a4-4887-c07d-81a1d4b0a9c0",
        "colab": {
          "base_uri": "https://localhost:8080/",
          "height": 918
        }
      },
      "source": [
        "# Tokenization\n",
        "\n",
        "# CountVectorizer builds a dictionary of features and transforms documents \n",
        "# to feature vectors:\n",
        "\n",
        "from sklearn.feature_extraction.text import CountVectorizer\n",
        "count_vect = CountVectorizer()\n",
        "X_train_counts = count_vect.fit_transform(df['texto'].astype(str).values.tolist())\n",
        "print(type(X_train_counts))\n",
        "print(X_train_counts.shape)\n",
        "print(X_train_counts)"
      ],
      "execution_count": 0,
      "outputs": [
        {
          "output_type": "stream",
          "text": [
            "<class 'scipy.sparse.csr.csr_matrix'>\n",
            "(6, 145)\n",
            "  (0, 144)\t1\n",
            "  (0, 131)\t1\n",
            "  (0, 51)\t1\n",
            "  (0, 84)\t1\n",
            "  (0, 75)\t1\n",
            "  (0, 52)\t1\n",
            "  (0, 129)\t1\n",
            "  (0, 58)\t1\n",
            "  (0, 45)\t1\n",
            "  (0, 47)\t1\n",
            "  (0, 61)\t1\n",
            "  (0, 28)\t1\n",
            "  (0, 26)\t1\n",
            "  (0, 128)\t1\n",
            "  (0, 29)\t1\n",
            "  (0, 79)\t1\n",
            "  (0, 63)\t1\n",
            "  (0, 53)\t1\n",
            "  (0, 116)\t1\n",
            "  (0, 10)\t1\n",
            "  (0, 87)\t1\n",
            "  (0, 2)\t1\n",
            "  (0, 77)\t1\n",
            "  (0, 80)\t2\n",
            "  (0, 94)\t2\n",
            "  :\t:\n",
            "  (4, 8)\t1\n",
            "  (4, 41)\t1\n",
            "  (4, 140)\t2\n",
            "  (4, 92)\t1\n",
            "  (4, 42)\t1\n",
            "  (4, 45)\t1\n",
            "  (4, 29)\t2\n",
            "  (4, 141)\t3\n",
            "  (5, 123)\t1\n",
            "  (5, 103)\t1\n",
            "  (5, 23)\t2\n",
            "  (5, 56)\t1\n",
            "  (5, 97)\t1\n",
            "  (5, 124)\t1\n",
            "  (5, 68)\t1\n",
            "  (5, 57)\t2\n",
            "  (5, 130)\t1\n",
            "  (5, 104)\t1\n",
            "  (5, 108)\t1\n",
            "  (5, 139)\t1\n",
            "  (5, 41)\t1\n",
            "  (5, 140)\t4\n",
            "  (5, 29)\t2\n",
            "  (5, 141)\t1\n",
            "  (5, 114)\t1\n"
          ],
          "name": "stdout"
        }
      ]
    },
    {
      "cell_type": "code",
      "metadata": {
        "id": "qsJjYZpK95kE",
        "colab_type": "code",
        "outputId": "0e00e282-1740-490d-986b-6efbd4f288c6",
        "colab": {
          "base_uri": "https://localhost:8080/",
          "height": 935
        }
      },
      "source": [
        "# TFIDF\n",
        "\n",
        "# We firstly use the fit(..) method to fit our estimator to the data and \n",
        "# secondly the transform(..) method to transform our count-matrix to a tf-idf\n",
        "# representation. \n",
        "from sklearn.feature_extraction.text import TfidfTransformer\n",
        "tf_transformer = TfidfTransformer(use_idf=False).fit(X_train_counts)\n",
        "X_train_tf = tf_transformer.transform(X_train_counts)\n",
        "print(X_train_tf.shape)\n",
        "\n",
        "# These two steps can be combined to achieve the same end \n",
        "# result faster by skipping redundant processing. This is done through using \n",
        "# the fit_transform(..) method as shown below\n",
        "tfidf_transformer = TfidfTransformer()\n",
        "X_train_tfidf = tfidf_transformer.fit_transform(X_train_counts)\n",
        "print(type(X_train_tfidf))\n",
        "print(X_train_tfidf.shape)\n",
        "print(X_train_tfidf)\n"
      ],
      "execution_count": 0,
      "outputs": [
        {
          "output_type": "stream",
          "text": [
            "(6, 145)\n",
            "<class 'scipy.sparse.csr.csr_matrix'>\n",
            "(6, 145)\n",
            "  (0, 54)\t0.3143933506945337\n",
            "  (0, 73)\t0.1289035225143728\n",
            "  (0, 35)\t0.1865167309910993\n",
            "  (0, 114)\t0.27977509648664894\n",
            "  (0, 141)\t0.27977509648664894\n",
            "  (0, 94)\t0.3143933506945337\n",
            "  (0, 80)\t0.3143933506945337\n",
            "  (0, 77)\t0.1289035225143728\n",
            "  (0, 2)\t0.15719667534726686\n",
            "  (0, 87)\t0.15719667534726686\n",
            "  (0, 10)\t0.15719667534726686\n",
            "  (0, 116)\t0.15719667534726686\n",
            "  (0, 53)\t0.15719667534726686\n",
            "  (0, 63)\t0.15719667534726686\n",
            "  (0, 79)\t0.15719667534726686\n",
            "  (0, 29)\t0.06977950079331219\n",
            "  (0, 128)\t0.15719667534726686\n",
            "  (0, 26)\t0.15719667534726686\n",
            "  (0, 28)\t0.09325836549554965\n",
            "  (0, 61)\t0.15719667534726686\n",
            "  (0, 47)\t0.15719667534726686\n",
            "  (0, 45)\t0.09325836549554965\n",
            "  (0, 58)\t0.15719667534726686\n",
            "  (0, 129)\t0.15719667534726686\n",
            "  (0, 52)\t0.15719667534726686\n",
            "  :\t:\n",
            "  (4, 89)\t0.17573326430387815\n",
            "  (4, 142)\t0.17573326430387815\n",
            "  (4, 117)\t0.17573326430387815\n",
            "  (4, 96)\t0.3514665286077563\n",
            "  (4, 118)\t0.17573326430387815\n",
            "  (4, 101)\t0.17573326430387815\n",
            "  (4, 71)\t0.17573326430387815\n",
            "  (4, 93)\t0.17573326430387815\n",
            "  (5, 114)\t0.11800429460922832\n",
            "  (5, 141)\t0.11800429460922832\n",
            "  (5, 29)\t0.176590716029477\n",
            "  (5, 140)\t0.47201717843691327\n",
            "  (5, 41)\t0.13770683436119663\n",
            "  (5, 139)\t0.16310782594274859\n",
            "  (5, 108)\t0.19890851282564362\n",
            "  (5, 104)\t0.19890851282564362\n",
            "  (5, 130)\t0.19890851282564362\n",
            "  (5, 57)\t0.39781702565128724\n",
            "  (5, 68)\t0.19890851282564362\n",
            "  (5, 124)\t0.19890851282564362\n",
            "  (5, 97)\t0.19890851282564362\n",
            "  (5, 56)\t0.19890851282564362\n",
            "  (5, 23)\t0.39781702565128724\n",
            "  (5, 103)\t0.19890851282564362\n",
            "  (5, 123)\t0.19890851282564362\n"
          ],
          "name": "stdout"
        }
      ]
    },
    {
      "cell_type": "code",
      "metadata": {
        "id": "ARIEsBcOhnbt",
        "colab_type": "code",
        "colab": {}
      },
      "source": [
        "# Train ML\n",
        "from sklearn.naive_bayes import MultinomialNB\n",
        "clf = MultinomialNB().fit(X_train_tfidf, df['esporte ID'].astype(int).values.tolist())\n"
      ],
      "execution_count": 0,
      "outputs": []
    },
    {
      "cell_type": "code",
      "metadata": {
        "id": "TVJcpUaLhqUz",
        "colab_type": "code",
        "outputId": "e7ee0854-163e-4a67-e46f-2d212775c5a7",
        "colab": {
          "base_uri": "https://localhost:8080/",
          "height": 68
        }
      },
      "source": [
        "# Predict\n",
        "docs_new = ['Futebol é legal', 'Basquete é muito melhor', 'tênis é bom demais']\n",
        "X_new_counts = count_vect.transform(docs_new)\n",
        "X_new_tfidf = tfidf_transformer.transform(X_new_counts)\n",
        "\n",
        "predicted = clf.predict(X_new_tfidf)\n",
        "\n",
        "for doc, category in zip(docs_new, predicted):\n",
        "   print('%r => %s' % (doc, category))\n"
      ],
      "execution_count": 0,
      "outputs": [
        {
          "output_type": "stream",
          "text": [
            "'Futebol é legal' => 1\n",
            "'Basquete é muito melhor' => 2\n",
            "'tênis é bom demais' => 3\n"
          ],
          "name": "stdout"
        }
      ]
    },
    {
      "cell_type": "code",
      "metadata": {
        "id": "tNEq7M-oWrg0",
        "colab_type": "code",
        "colab": {}
      },
      "source": [
        ""
      ],
      "execution_count": 0,
      "outputs": []
    },
    {
      "cell_type": "code",
      "metadata": {
        "id": "BvAEnQanWsTO",
        "colab_type": "code",
        "colab": {}
      },
      "source": [
        ""
      ],
      "execution_count": 0,
      "outputs": []
    },
    {
      "cell_type": "code",
      "metadata": {
        "id": "t1eb1TPMWsU3",
        "colab_type": "code",
        "colab": {}
      },
      "source": [
        ""
      ],
      "execution_count": 0,
      "outputs": []
    },
    {
      "cell_type": "markdown",
      "metadata": {
        "id": "Ew8iYqkqWuVE",
        "colab_type": "text"
      },
      "source": [
        "# New Section"
      ]
    }
  ]
}