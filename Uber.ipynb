{
  "nbformat": 4,
  "nbformat_minor": 0,
  "metadata": {
    "colab": {
      "name": "Uber.ipynb",
      "provenance": [],
      "include_colab_link": true
    },
    "kernelspec": {
      "name": "python3",
      "display_name": "Python 3"
    }
  },
  "cells": [
    {
      "cell_type": "markdown",
      "metadata": {
        "id": "view-in-github",
        "colab_type": "text"
      },
      "source": [
        "<a href=\"https://colab.research.google.com/github/MarcelaMonteiroMontenegroGallo/Python/blob/master/Uber.ipynb\" target=\"_parent\"><img src=\"https://colab.research.google.com/assets/colab-badge.svg\" alt=\"Open In Colab\"/></a>"
      ]
    },
    {
      "cell_type": "markdown",
      "metadata": {
        "id": "q_3Y1XnSIvjJ"
      },
      "source": [
        "**Configurar Colab para rodar Spark**\n"
      ]
    },
    {
      "cell_type": "code",
      "metadata": {
        "id": "Oz_8sWI7PKEl"
      },
      "source": [
        "# instalar as dependências\n",
        "!apt-get install openjdk-8-jdk-headless -qq > /dev/null\n",
        "!wget -q https://archive.apache.org/dist/spark/spark-2.4.4/spark-2.4.4-bin-hadoop2.7.tgz\n",
        "!tar xf spark-2.4.4-bin-hadoop2.7.tgz\n",
        "!pip install -q findspark"
      ],
      "execution_count": 1,
      "outputs": []
    },
    {
      "cell_type": "code",
      "metadata": {
        "id": "RkpG11RQPbRf"
      },
      "source": [
        "# configurar as variáveis de ambiente\n",
        "import os\n",
        "os.environ[\"JAVA_HOME\"] = \"/usr/lib/jvm/java-8-openjdk-amd64\"\n",
        "os.environ[\"SPARK_HOME\"] = \"/content/spark-2.4.4-bin-hadoop2.7\"\n",
        "\n",
        "# tornar o pyspark \"importável\"\n",
        "import findspark\n",
        "findspark.init('spark-2.4.4-bin-hadoop2.7')"
      ],
      "execution_count": 2,
      "outputs": []
    },
    {
      "cell_type": "code",
      "metadata": {
        "id": "gpJqWggpPKXO"
      },
      "source": [
        "# iniciar uma sessão local \n",
        "from pyspark.sql import SparkSession\n",
        "from pyspark import SparkConf\n",
        "from pyspark.sql import SQLContext\n",
        "sc = SparkSession.builder.master('local[*]').getOrCreate()"
      ],
      "execution_count": 19,
      "outputs": []
    },
    {
      "cell_type": "code",
      "metadata": {
        "id": "DGtZ7_GmHl64"
      },
      "source": [
        "sqlContext = SQLContext(sc)"
      ],
      "execution_count": 21,
      "outputs": []
    },
    {
      "cell_type": "code",
      "metadata": {
        "id": "nBxhkdIZKGCO"
      },
      "source": [
        "get_uber_file = '/content/uber.csv'"
      ],
      "execution_count": 35,
      "outputs": []
    },
    {
      "cell_type": "markdown",
      "metadata": {
        "id": "ScHaIsrjJRej"
      },
      "source": [
        "**init session**\n"
      ]
    },
    {
      "cell_type": "code",
      "metadata": {
        "id": "lwqESazhI_rO"
      },
      "source": [
        "spark = SparkSession \\\n",
        "            .builder \\\n",
        "            .appName(\"etl-uber-py\") \\\n",
        "            .config(\"spark.sql.warehouse.dir\") \\\n",
        "            .enableHiveSupport() \\\n",
        "            .getOrCreate()"
      ],
      "execution_count": 32,
      "outputs": []
    },
    {
      "cell_type": "code",
      "metadata": {
        "colab": {
          "base_uri": "https://localhost:8080/"
        },
        "id": "HAB4Nc_AJVpt",
        "outputId": "ebe631f3-0c47-48c6-854a-5dbb6fdba34f"
      },
      "source": [
        " # show configured parameters\n",
        " print(SparkConf().getAll())"
      ],
      "execution_count": 33,
      "outputs": [
        {
          "output_type": "stream",
          "text": [
            "[('spark.master', 'local[*]'), ('spark.submit.deployMode', 'client'), ('spark.ui.showConsoleProgress', 'true'), ('spark.app.name', 'pyspark-shell')]\n"
          ],
          "name": "stdout"
        }
      ]
    },
    {
      "cell_type": "code",
      "metadata": {
        "id": "McCzZmMAJkmR"
      },
      "source": [
        " # set log level\n",
        "spark.sparkContext.setLogLevel(\"INFO\")"
      ],
      "execution_count": 34,
      "outputs": []
    },
    {
      "cell_type": "code",
      "metadata": {
        "id": "PXcUNFrWJpg1"
      },
      "source": [
        "df_uber = spark.read \\\n",
        "        .format(\"csv\") \\\n",
        "        .option(\"inferSchema\", \"true\") \\\n",
        "        .option(\"header\", \"true\") \\\n",
        "        .csv(get_uber_file)"
      ],
      "execution_count": 36,
      "outputs": []
    },
    {
      "cell_type": "code",
      "metadata": {
        "colab": {
          "base_uri": "https://localhost:8080/"
        },
        "id": "dVNSjFWXKVcM",
        "outputId": "f656275a-3e75-4fe8-b262-3d1879abe6d4"
      },
      "source": [
        "#print schema of dataframe\n",
        "df_uber.printSchema()"
      ],
      "execution_count": 37,
      "outputs": [
        {
          "output_type": "stream",
          "text": [
            "root\n",
            " |-- dispatching_base_number: string (nullable = true)\n",
            " |-- date: string (nullable = true)\n",
            " |-- active_vehicles: integer (nullable = true)\n",
            " |-- trips: integer (nullable = true)\n",
            "\n"
          ],
          "name": "stdout"
        }
      ]
    },
    {
      "cell_type": "code",
      "metadata": {
        "colab": {
          "base_uri": "https://localhost:8080/"
        },
        "id": "vNQBKlzRKoyE",
        "outputId": "2e88fea6-2963-4be4-c5e4-ad7de0bf26db"
      },
      "source": [
        "  # display data\n",
        "  df_uber.show()"
      ],
      "execution_count": 39,
      "outputs": [
        {
          "output_type": "stream",
          "text": [
            "+-----------------------+--------+---------------+-----+\n",
            "|dispatching_base_number|    date|active_vehicles|trips|\n",
            "+-----------------------+--------+---------------+-----+\n",
            "|                 B02512|1/1/2015|            190| 1132|\n",
            "|                 B02765|1/1/2015|            225| 1765|\n",
            "|                 B02764|1/1/2015|           3427|29421|\n",
            "|                 B02682|1/1/2015|            945| 7679|\n",
            "|                 B02617|1/1/2015|           1228| 9537|\n",
            "|                 B02598|1/1/2015|            870| 6903|\n",
            "|                 B02598|1/2/2015|            785| 4768|\n",
            "|                 B02617|1/2/2015|           1137| 7065|\n",
            "|                 B02512|1/2/2015|            175|  875|\n",
            "|                 B02682|1/2/2015|            890| 5506|\n",
            "|                 B02765|1/2/2015|            196| 1001|\n",
            "|                 B02764|1/2/2015|           3147|19974|\n",
            "|                 B02765|1/3/2015|            201| 1526|\n",
            "|                 B02617|1/3/2015|           1188|10664|\n",
            "|                 B02598|1/3/2015|            818| 7432|\n",
            "|                 B02682|1/3/2015|            915| 8010|\n",
            "|                 B02512|1/3/2015|            173| 1088|\n",
            "|                 B02764|1/3/2015|           3215|29729|\n",
            "|                 B02512|1/4/2015|            147|  791|\n",
            "|                 B02682|1/4/2015|            812| 5621|\n",
            "+-----------------------+--------+---------------+-----+\n",
            "only showing top 20 rows\n",
            "\n"
          ],
          "name": "stdout"
        }
      ]
    },
    {
      "cell_type": "code",
      "metadata": {
        "id": "3xTLwZC4K7Hc"
      },
      "source": [
        " # register df into sql engine\n",
        " df_uber.createOrReplaceTempView(\"uber\")"
      ],
      "execution_count": 41,
      "outputs": []
    },
    {
      "cell_type": "markdown",
      "metadata": {
        "id": "gBXXb7T-LSK5"
      },
      "source": [
        "Quantos são e quais são as bases de carro do Uber?\n"
      ]
    },
    {
      "cell_type": "code",
      "metadata": {
        "id": "7lbgQMVnL7-N"
      },
      "source": [
        "# RESPOSTA 1\n",
        "df_rp1 = spark.sql(\"\"\"SELECT DISTINCT dispatching_base_number\n",
        "FROM uber\"\"\")"
      ],
      "execution_count": 43,
      "outputs": []
    },
    {
      "cell_type": "code",
      "metadata": {
        "colab": {
          "base_uri": "https://localhost:8080/"
        },
        "id": "wBfOtXpLNHHS",
        "outputId": "e6733121-7efc-4fae-c181-c81234370746"
      },
      "source": [
        "#Número de bases de carros do Uber\n",
        "df_rp1.count()"
      ],
      "execution_count": 65,
      "outputs": [
        {
          "output_type": "execute_result",
          "data": {
            "text/plain": [
              "6"
            ]
          },
          "metadata": {
            "tags": []
          },
          "execution_count": 65
        }
      ]
    },
    {
      "cell_type": "code",
      "metadata": {
        "colab": {
          "base_uri": "https://localhost:8080/"
        },
        "id": "8EhbRgN6M3RE",
        "outputId": "eefd9508-fa53-484f-9359-e3fe4543ad6c"
      },
      "source": [
        "#Bases de carros do Uber \n",
        "df_rp1.show()"
      ],
      "execution_count": 45,
      "outputs": [
        {
          "output_type": "stream",
          "text": [
            "+-----------------------+\n",
            "|dispatching_base_number|\n",
            "+-----------------------+\n",
            "|                 B02512|\n",
            "|                 B02598|\n",
            "|                 B02682|\n",
            "|                 B02765|\n",
            "|                 B02617|\n",
            "|                 B02764|\n",
            "+-----------------------+\n",
            "\n"
          ],
          "name": "stdout"
        }
      ]
    },
    {
      "cell_type": "markdown",
      "metadata": {
        "id": "kx7_O7AxLSDi"
      },
      "source": [
        "Qual o total de veículos que passaram pela base B02617?\n"
      ]
    },
    {
      "cell_type": "code",
      "metadata": {
        "id": "8bY4Ed4CMEer"
      },
      "source": [
        "# RESPOSTA 2\n",
        "df_rp2 = spark.sql(\"\"\"SELECT count(active_vehicles) AS total_veiculos\n",
        "FROM uber\n",
        "WHERE dispatching_base_number = 'B02617' \"\"\")"
      ],
      "execution_count": 66,
      "outputs": []
    },
    {
      "cell_type": "code",
      "metadata": {
        "colab": {
          "base_uri": "https://localhost:8080/"
        },
        "id": "fnobMhGoNjSC",
        "outputId": "a36d0cc2-1134-4402-9ded-a3bbb8e4f933"
      },
      "source": [
        "# Total de veículos que passaram pela base B02617\n",
        "df_rp2.show()"
      ],
      "execution_count": 67,
      "outputs": [
        {
          "output_type": "stream",
          "text": [
            "+--------------+\n",
            "|total_veiculos|\n",
            "+--------------+\n",
            "|            59|\n",
            "+--------------+\n",
            "\n"
          ],
          "name": "stdout"
        }
      ]
    },
    {
      "cell_type": "markdown",
      "metadata": {
        "id": "rtu_nAZHL0ZM"
      },
      "source": [
        "Qual o total de corridas por bases? descrecente"
      ]
    },
    {
      "cell_type": "code",
      "metadata": {
        "id": "t4YT2oiOMH5C"
      },
      "source": [
        "# RESPOSTA 3\n",
        "df_rp3 = spark.sql(\"\"\" SELECT dispatching_base_number,\n",
        "       sum(trips)\n",
        "FROM uber\n",
        "GROUP BY 1\n",
        "ORDER BY sum(trips) DESC\n",
        "  \"\"\")"
      ],
      "execution_count": 63,
      "outputs": []
    },
    {
      "cell_type": "code",
      "metadata": {
        "colab": {
          "base_uri": "https://localhost:8080/"
        },
        "id": "EB4lpyT7OfqD",
        "outputId": "d4121926-909f-4182-940b-8d64172e8982"
      },
      "source": [
        "df_rp3.show()"
      ],
      "execution_count": 64,
      "outputs": [
        {
          "output_type": "stream",
          "text": [
            "+-----------------------+----------+\n",
            "|dispatching_base_number|sum(trips)|\n",
            "+-----------------------+----------+\n",
            "|                 B02764|   1914449|\n",
            "|                 B02617|    725025|\n",
            "|                 B02682|    662509|\n",
            "|                 B02598|    540791|\n",
            "|                 B02765|    193670|\n",
            "|                 B02512|     93786|\n",
            "+-----------------------+----------+\n",
            "\n"
          ],
          "name": "stdout"
        }
      ]
    }
  ]
}